{
  "nbformat": 4,
  "nbformat_minor": 0,
  "metadata": {
    "colab": {
      "name": "Day_10_PT03-Callable-Class-Attributes.ipynb",
      "provenance": [],
      "collapsed_sections": [],
      "authorship_tag": "ABX9TyMQLOdmIlwGzBAeISdCrxcW",
      "include_colab_link": true
    },
    "kernelspec": {
      "name": "python3",
      "display_name": "Python 3"
    },
    "language_info": {
      "name": "python"
    },
    "gpuClass": "standard"
  },
  "cells": [
    {
      "cell_type": "markdown",
      "metadata": {
        "id": "view-in-github",
        "colab_type": "text"
      },
      "source": [
        "<a href=\"https://colab.research.google.com/github/kinshuk-code-1729/Python-Training-Notebooks/blob/main/Day_10_PT03_Callable_Class_Attributes.ipynb\" target=\"_parent\"><img src=\"https://colab.research.google.com/assets/colab-badge.svg\" alt=\"Open In Colab\"/></a>"
      ]
    },
    {
      "cell_type": "markdown",
      "source": [
        "# **Day 10 Notebook 3**\n",
        "## ***Callable Class Attributes***"
      ],
      "metadata": {
        "id": "LF1WAWpfYXPm"
      }
    },
    {
      "cell_type": "code",
      "execution_count": 1,
      "metadata": {
        "id": "R7Gwcwu0bWe9"
      },
      "outputs": [],
      "source": [
        "class cls1 :\n",
        "  lang = 'HTML'\n",
        "\n",
        "  def hello():\n",
        "    print(\"Hello !!!\")"
      ]
    },
    {
      "cell_type": "code",
      "source": [
        "cls1.__dict__"
      ],
      "metadata": {
        "colab": {
          "base_uri": "https://localhost:8080/"
        },
        "id": "BfP1w6zCZa6D",
        "outputId": "bb4f1a77-b92f-4651-ec52-e2b824fbb7c6"
      },
      "execution_count": 2,
      "outputs": [
        {
          "output_type": "execute_result",
          "data": {
            "text/plain": [
              "mappingproxy({'__dict__': <attribute '__dict__' of 'cls1' objects>,\n",
              "              '__doc__': None,\n",
              "              '__module__': '__main__',\n",
              "              '__weakref__': <attribute '__weakref__' of 'cls1' objects>,\n",
              "              'hello': <function __main__.cls1.hello>,\n",
              "              'lang': 'HTML'})"
            ]
          },
          "metadata": {},
          "execution_count": 2
        }
      ]
    },
    {
      "cell_type": "code",
      "source": [
        "func = cls1.__dict__['hello']\n",
        "func # function call through a class becomes a function"
      ],
      "metadata": {
        "colab": {
          "base_uri": "https://localhost:8080/"
        },
        "id": "Udk2W-GdZx1b",
        "outputId": "3f9b3086-b435-4b23-e1cc-f4add7dff586"
      },
      "execution_count": 4,
      "outputs": [
        {
          "output_type": "execute_result",
          "data": {
            "text/plain": [
              "<function __main__.cls1.hello>"
            ]
          },
          "metadata": {},
          "execution_count": 4
        }
      ]
    },
    {
      "cell_type": "code",
      "source": [
        "cls1.__dict__['hello']()"
      ],
      "metadata": {
        "colab": {
          "base_uri": "https://localhost:8080/"
        },
        "id": "hL6Lu1K6Z9bC",
        "outputId": "bdad4b0c-e68a-433d-ee0b-eecf36efa1e4"
      },
      "execution_count": 6,
      "outputs": [
        {
          "output_type": "stream",
          "name": "stdout",
          "text": [
            "Hello !!!\n"
          ]
        }
      ]
    },
    {
      "cell_type": "code",
      "source": [
        "getattr(cls1,'hello')()"
      ],
      "metadata": {
        "colab": {
          "base_uri": "https://localhost:8080/"
        },
        "id": "jMx9HajFaT3_",
        "outputId": "d5b90419-18bf-43bb-ef4b-e4ee73b8f278"
      },
      "execution_count": 7,
      "outputs": [
        {
          "output_type": "stream",
          "name": "stdout",
          "text": [
            "Hello !!!\n"
          ]
        }
      ]
    },
    {
      "cell_type": "code",
      "source": [
        "cls1.hello()"
      ],
      "metadata": {
        "colab": {
          "base_uri": "https://localhost:8080/"
        },
        "id": "6YnkppBnafaK",
        "outputId": "e78027cf-7e09-43fe-ea03-fce4d447bb96"
      },
      "execution_count": 8,
      "outputs": [
        {
          "output_type": "stream",
          "name": "stdout",
          "text": [
            "Hello !!!\n"
          ]
        }
      ]
    },
    {
      "cell_type": "code",
      "source": [
        "# Accessing class attribute into a function\n",
        "class code :\n",
        "  lang = 'Cobol'\n",
        "\n",
        "  def hello():\n",
        "    print(f'Hello from {code.lang}')"
      ],
      "metadata": {
        "id": "x78aKRtMav6v"
      },
      "execution_count": 9,
      "outputs": []
    },
    {
      "cell_type": "code",
      "source": [
        "code.hello()"
      ],
      "metadata": {
        "colab": {
          "base_uri": "https://localhost:8080/"
        },
        "id": "fyQ4iMsbbCPC",
        "outputId": "ae34aa07-aa80-449a-a92e-38d4deb1ea98"
      },
      "execution_count": 10,
      "outputs": [
        {
          "output_type": "stream",
          "name": "stdout",
          "text": [
            "Hello from Cobol\n"
          ]
        }
      ]
    },
    {
      "cell_type": "code",
      "source": [
        "getattr(code,'hello')()"
      ],
      "metadata": {
        "colab": {
          "base_uri": "https://localhost:8080/"
        },
        "id": "zoYKW5_sbREU",
        "outputId": "2da853c4-1f89-4a55-cad3-a79dce821a8b"
      },
      "execution_count": 11,
      "outputs": [
        {
          "output_type": "stream",
          "name": "stdout",
          "text": [
            "Hello from Cobol\n"
          ]
        }
      ]
    },
    {
      "cell_type": "code",
      "source": [
        "code.__dict__['hello']()"
      ],
      "metadata": {
        "colab": {
          "base_uri": "https://localhost:8080/"
        },
        "id": "UI9UsIpcba19",
        "outputId": "0c068523-e98c-4c1c-abbe-9911a6045f05"
      },
      "execution_count": 12,
      "outputs": [
        {
          "output_type": "stream",
          "name": "stdout",
          "text": [
            "Hello from Cobol\n"
          ]
        }
      ]
    },
    {
      "cell_type": "code",
      "source": [
        "class Person:\n",
        "  def set_name(instance_obj, new_name):\n",
        "    instance_obj.name = new_name"
      ],
      "metadata": {
        "id": "g3HoWj9jb5rq"
      },
      "execution_count": 13,
      "outputs": []
    },
    {
      "cell_type": "code",
      "source": [
        "man = Person()"
      ],
      "metadata": {
        "id": "i0vJQtywcWN-"
      },
      "execution_count": 14,
      "outputs": []
    },
    {
      "cell_type": "code",
      "source": [
        "man.set_name('SQL')"
      ],
      "metadata": {
        "id": "hRzSqjXtccNt"
      },
      "execution_count": 15,
      "outputs": []
    },
    {
      "cell_type": "code",
      "source": [
        "man.__dict__"
      ],
      "metadata": {
        "colab": {
          "base_uri": "https://localhost:8080/"
        },
        "id": "d6I839gMc0cK",
        "outputId": "60d77cb4-0d12-45ca-8233-28f5ff4ed51f"
      },
      "execution_count": 16,
      "outputs": [
        {
          "output_type": "execute_result",
          "data": {
            "text/plain": [
              "{'name': 'SQL'}"
            ]
          },
          "metadata": {},
          "execution_count": 16
        }
      ]
    },
    {
      "cell_type": "code",
      "source": [
        "class X():\n",
        "  def print_hi():\n",
        "    print(\"Hi There.......\")"
      ],
      "metadata": {
        "id": "7iZP9iF8c_A5"
      },
      "execution_count": 17,
      "outputs": []
    },
    {
      "cell_type": "code",
      "source": [
        "X.print_hi()"
      ],
      "metadata": {
        "colab": {
          "base_uri": "https://localhost:8080/"
        },
        "id": "uqDXaoyKdRe1",
        "outputId": "a0510cb5-e9d3-40e4-b7e3-6bf8a7844000"
      },
      "execution_count": 18,
      "outputs": [
        {
          "output_type": "stream",
          "name": "stdout",
          "text": [
            "Hi There.......\n"
          ]
        }
      ]
    },
    {
      "cell_type": "code",
      "source": [
        "k = X()\n",
        "k.print_hi # function call through an object becomes a method"
      ],
      "metadata": {
        "colab": {
          "base_uri": "https://localhost:8080/"
        },
        "id": "mzd7aockdapE",
        "outputId": "0f7ea55c-f0de-4466-cf71-2b2f96ff61d8"
      },
      "execution_count": 20,
      "outputs": [
        {
          "output_type": "execute_result",
          "data": {
            "text/plain": [
              "<bound method X.print_hi of <__main__.X object at 0x7f576f60aed0>>"
            ]
          },
          "metadata": {},
          "execution_count": 20
        }
      ]
    },
    {
      "cell_type": "code",
      "source": [
        "type(k.print_hi) is type(X.print_hi) # 'method' and 'function' are not the same."
      ],
      "metadata": {
        "colab": {
          "base_uri": "https://localhost:8080/"
        },
        "id": "iFAvB8OLeDsV",
        "outputId": "b769b114-b6c6-4c1c-c5a3-cc9d092e9ddb"
      },
      "execution_count": 21,
      "outputs": [
        {
          "output_type": "execute_result",
          "data": {
            "text/plain": [
              "False"
            ]
          },
          "metadata": {},
          "execution_count": 21
        }
      ]
    },
    {
      "cell_type": "code",
      "source": [
        "k.print_hi() # by default one parameter is being passed to 'print_hi()'"
      ],
      "metadata": {
        "colab": {
          "base_uri": "https://localhost:8080/",
          "height": 165
        },
        "id": "qvnRQfeVewG-",
        "outputId": "f682922d-400c-464a-e39b-b0d8204738c5"
      },
      "execution_count": 22,
      "outputs": [
        {
          "output_type": "error",
          "ename": "TypeError",
          "evalue": "ignored",
          "traceback": [
            "\u001b[0;31m---------------------------------------------------------------------------\u001b[0m",
            "\u001b[0;31mTypeError\u001b[0m                                 Traceback (most recent call last)",
            "\u001b[0;32m<ipython-input-22-e320caefbc46>\u001b[0m in \u001b[0;36m<module>\u001b[0;34m()\u001b[0m\n\u001b[0;32m----> 1\u001b[0;31m \u001b[0mk\u001b[0m\u001b[0;34m.\u001b[0m\u001b[0mprint_hi\u001b[0m\u001b[0;34m(\u001b[0m\u001b[0;34m)\u001b[0m\u001b[0;34m\u001b[0m\u001b[0;34m\u001b[0m\u001b[0m\n\u001b[0m",
            "\u001b[0;31mTypeError\u001b[0m: print_hi() takes 0 positional arguments but 1 was given"
          ]
        }
      ]
    },
    {
      "cell_type": "code",
      "source": [
        "class King():\n",
        "  def greet(*args): # By default parameter is passed and so now no error occured\n",
        "    print(\"Good Morning\",args)"
      ],
      "metadata": {
        "id": "bjXQdJCsfMbn"
      },
      "execution_count": 23,
      "outputs": []
    },
    {
      "cell_type": "code",
      "source": [
        "King.greet()"
      ],
      "metadata": {
        "colab": {
          "base_uri": "https://localhost:8080/"
        },
        "id": "mk6uE4tFf0DW",
        "outputId": "48b18bab-ce3f-4562-d749-10a3a28595a3"
      },
      "execution_count": 24,
      "outputs": [
        {
          "output_type": "stream",
          "name": "stdout",
          "text": [
            "Good Morning ()\n"
          ]
        }
      ]
    },
    {
      "cell_type": "code",
      "source": [
        "k = King()\n",
        "k.greet"
      ],
      "metadata": {
        "colab": {
          "base_uri": "https://localhost:8080/"
        },
        "id": "hGXGBYHVgF-e",
        "outputId": "29babff0-5455-4bf9-d409-828b74bb4fee"
      },
      "execution_count": 25,
      "outputs": [
        {
          "output_type": "execute_result",
          "data": {
            "text/plain": [
              "<bound method King.greet of <__main__.King object at 0x7f576f60ae50>>"
            ]
          },
          "metadata": {},
          "execution_count": 25
        }
      ]
    },
    {
      "cell_type": "code",
      "source": [
        "hex(id(k))"
      ],
      "metadata": {
        "colab": {
          "base_uri": "https://localhost:8080/",
          "height": 36
        },
        "id": "DkSqSmQugQcQ",
        "outputId": "8f353c87-8ce1-4393-b6b9-e5c6ed88e1dd"
      },
      "execution_count": 26,
      "outputs": [
        {
          "output_type": "execute_result",
          "data": {
            "text/plain": [
              "'0x7f576f60ae50'"
            ],
            "application/vnd.google.colaboratory.intrinsic+json": {
              "type": "string"
            }
          },
          "metadata": {},
          "execution_count": 26
        }
      ]
    },
    {
      "cell_type": "code",
      "source": [
        "k.greet()"
      ],
      "metadata": {
        "colab": {
          "base_uri": "https://localhost:8080/"
        },
        "id": "n1foaeKkgYlg",
        "outputId": "d2da0cdc-f220-411a-aa60-fbe0b7f85c15"
      },
      "execution_count": 27,
      "outputs": [
        {
          "output_type": "stream",
          "name": "stdout",
          "text": [
            "Good Morning (<__main__.King object at 0x7f576f60ae50>,)\n"
          ]
        }
      ]
    },
    {
      "cell_type": "code",
      "source": [
        "class Person:\n",
        "  def hello(self,name):\n",
        "    self.name = name"
      ],
      "metadata": {
        "id": "s0wmca-Egm6C"
      },
      "execution_count": 30,
      "outputs": []
    },
    {
      "cell_type": "code",
      "source": [
        "R = Person()\n",
        "R"
      ],
      "metadata": {
        "colab": {
          "base_uri": "https://localhost:8080/"
        },
        "id": "-86lgCZZhIfx",
        "outputId": "51367e7c-4951-4c3c-ad46-8f6cc5a2d1cc"
      },
      "execution_count": 31,
      "outputs": [
        {
          "output_type": "execute_result",
          "data": {
            "text/plain": [
              "<__main__.Person at 0x7f576f567f10>"
            ]
          },
          "metadata": {},
          "execution_count": 31
        }
      ]
    },
    {
      "cell_type": "code",
      "source": [
        "R.hello('Java')"
      ],
      "metadata": {
        "id": "gb7tZ0unhYeX"
      },
      "execution_count": 32,
      "outputs": []
    },
    {
      "cell_type": "code",
      "source": [
        "R.__dict__"
      ],
      "metadata": {
        "colab": {
          "base_uri": "https://localhost:8080/"
        },
        "id": "fe_ces0vhwAH",
        "outputId": "328fe018-dbcf-43a2-8688-1dfdaee3a172"
      },
      "execution_count": 33,
      "outputs": [
        {
          "output_type": "execute_result",
          "data": {
            "text/plain": [
              "{'name': 'Java'}"
            ]
          },
          "metadata": {},
          "execution_count": 33
        }
      ]
    },
    {
      "cell_type": "code",
      "source": [
        "class Friends:\n",
        "  def __init__(self, name):\n",
        "    self.name = name"
      ],
      "metadata": {
        "id": "azoaOGobiB5K"
      },
      "execution_count": 34,
      "outputs": []
    },
    {
      "cell_type": "code",
      "source": [
        "F = Friends('JavaScript')"
      ],
      "metadata": {
        "id": "t4fhPJMLiLts"
      },
      "execution_count": 35,
      "outputs": []
    },
    {
      "cell_type": "code",
      "source": [
        "F.__dict__"
      ],
      "metadata": {
        "colab": {
          "base_uri": "https://localhost:8080/"
        },
        "id": "mtgkie3XibKm",
        "outputId": "6acf545b-c3cb-4f6c-e0b6-9f1d71901a2f"
      },
      "execution_count": 36,
      "outputs": [
        {
          "output_type": "execute_result",
          "data": {
            "text/plain": [
              "{'name': 'JavaScript'}"
            ]
          },
          "metadata": {},
          "execution_count": 36
        }
      ]
    },
    {
      "cell_type": "code",
      "source": [
        "class Human:\n",
        "  def __init__(self,name,job):\n",
        "    self.name = name\n",
        "    self.job = job\n",
        "\n",
        "  def do_job(self):\n",
        "    if self.job == 'player':\n",
        "      print(self.name,'plays cricket')\n",
        "    elif self.job == 'actor':\n",
        "      print(self.name,'shoots movie')\n",
        "    elif self.job == 'teacher':\n",
        "      print(self.name,'teaches students')\n",
        "\n",
        "  def speaks(self):\n",
        "    print(self.name,'Says hi')"
      ],
      "metadata": {
        "id": "SwtHE236cBT8"
      },
      "execution_count": 37,
      "outputs": []
    },
    {
      "cell_type": "code",
      "source": [
        "H1 = Human('Kohli','player')\n",
        "H2 = Human('Akshay','actor')\n",
        "H3 = Human('Nazir','teacher')\n",
        "H1.do_job()\n",
        "H2.do_job()\n",
        "H3.do_job()"
      ],
      "metadata": {
        "colab": {
          "base_uri": "https://localhost:8080/"
        },
        "id": "vccp0EIDeDdA",
        "outputId": "5e624e25-bdaf-4a2f-dd19-d7934e6f5a1a"
      },
      "execution_count": 39,
      "outputs": [
        {
          "output_type": "stream",
          "name": "stdout",
          "text": [
            "Kohli plays cricket\n",
            "Akshay shoots movie\n",
            "Nazir teaches students\n"
          ]
        }
      ]
    }
  ]
}