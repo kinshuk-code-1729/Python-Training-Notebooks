{
  "nbformat": 4,
  "nbformat_minor": 0,
  "metadata": {
    "colab": {
      "name": "Day_05_PT.ipynb",
      "provenance": [],
      "authorship_tag": "ABX9TyM2Pmkm5nm1+GtBT/RDgp0V",
      "include_colab_link": true
    },
    "kernelspec": {
      "name": "python3",
      "display_name": "Python 3"
    },
    "language_info": {
      "name": "python"
    },
    "gpuClass": "standard"
  },
  "cells": [
    {
      "cell_type": "markdown",
      "metadata": {
        "id": "view-in-github",
        "colab_type": "text"
      },
      "source": [
        "<a href=\"https://colab.research.google.com/github/kinshuk-code-1729/Python-Training-Notebooks/blob/main/Day_05_PT.ipynb\" target=\"_parent\"><img src=\"https://colab.research.google.com/assets/colab-badge.svg\" alt=\"Open In Colab\"/></a>"
      ]
    },
    {
      "cell_type": "markdown",
      "source": [
        "# ***Day 5 Notebook***"
      ],
      "metadata": {
        "id": "Afrl8CLdXotM"
      }
    },
    {
      "cell_type": "markdown",
      "source": [
        "**Dictionaries in Python**"
      ],
      "metadata": {
        "id": "t6I6VsYuXu8a"
      }
    },
    {
      "cell_type": "markdown",
      "source": [
        "*Dictionary is an unordered dataset having a key-value pair.*\n",
        "*Keys and Values can be string or of int type.*"
      ],
      "metadata": {
        "id": "CJWahubvERWj"
      }
    },
    {
      "cell_type": "code",
      "source": [
        "# Creation of an empty dictionary\n",
        "mydict = {}\n",
        "print(mydict)\n",
        "print(type(mydict))"
      ],
      "metadata": {
        "colab": {
          "base_uri": "https://localhost:8080/"
        },
        "id": "hlqWKrRFY0A0",
        "outputId": "900a4529-5992-4839-f852-06bcfe50d33a"
      },
      "execution_count": 1,
      "outputs": [
        {
          "output_type": "stream",
          "name": "stdout",
          "text": [
            "{}\n",
            "<class 'dict'>\n"
          ]
        }
      ]
    },
    {
      "cell_type": "code",
      "source": [
        "mydict['C++'] = 'Hard Language'\n",
        "mydict['Python'] = 'Easy Language'\n",
        "print(mydict)"
      ],
      "metadata": {
        "colab": {
          "base_uri": "https://localhost:8080/"
        },
        "id": "eIgS-ux4DBEE",
        "outputId": "ee413eb2-dcda-49d6-a1cb-eff636fa08a2"
      },
      "execution_count": 2,
      "outputs": [
        {
          "output_type": "stream",
          "name": "stdout",
          "text": [
            "{'C++': 'Hard Language', 'Python': 'Easy Language'}\n"
          ]
        }
      ]
    },
    {
      "cell_type": "code",
      "source": [
        "mydict = {'C++':'Hard Language','Python':'Easy Language'}\n",
        "print(mydict)\n",
        "print(type(mydict))"
      ],
      "metadata": {
        "colab": {
          "base_uri": "https://localhost:8080/"
        },
        "id": "a0VQtGugFKg5",
        "outputId": "076d6281-d5a1-4e0c-b063-83248a963ea0"
      },
      "execution_count": 3,
      "outputs": [
        {
          "output_type": "stream",
          "name": "stdout",
          "text": [
            "{'C++': 'Hard Language', 'Python': 'Easy Language'}\n",
            "<class 'dict'>\n"
          ]
        }
      ]
    },
    {
      "cell_type": "code",
      "source": [
        "mydict['C++'] # we can access the values using keys"
      ],
      "metadata": {
        "colab": {
          "base_uri": "https://localhost:8080/",
          "height": 36
        },
        "id": "M0_46j56Fp8z",
        "outputId": "37639a5e-4785-41d9-9f60-5b8cd2e40ac3"
      },
      "execution_count": 4,
      "outputs": [
        {
          "output_type": "execute_result",
          "data": {
            "text/plain": [
              "'Hard Language'"
            ],
            "application/vnd.google.colaboratory.intrinsic+json": {
              "type": "string"
            }
          },
          "metadata": {},
          "execution_count": 4
        }
      ]
    },
    {
      "cell_type": "code",
      "source": [
        "mydict['Hard Language'] # we can't access keys using values"
      ],
      "metadata": {
        "colab": {
          "base_uri": "https://localhost:8080/",
          "height": 165
        },
        "id": "-7RhuLKmF7aC",
        "outputId": "7536be16-ce36-4a8d-dadb-826466aeaa37"
      },
      "execution_count": 5,
      "outputs": [
        {
          "output_type": "error",
          "ename": "KeyError",
          "evalue": "ignored",
          "traceback": [
            "\u001b[0;31m---------------------------------------------------------------------------\u001b[0m",
            "\u001b[0;31mKeyError\u001b[0m                                  Traceback (most recent call last)",
            "\u001b[0;32m<ipython-input-5-0bf057bc682d>\u001b[0m in \u001b[0;36m<module>\u001b[0;34m()\u001b[0m\n\u001b[0;32m----> 1\u001b[0;31m \u001b[0mmydict\u001b[0m\u001b[0;34m[\u001b[0m\u001b[0;34m'Hard Language'\u001b[0m\u001b[0;34m]\u001b[0m \u001b[0;31m# we can't access keys using values\u001b[0m\u001b[0;34m\u001b[0m\u001b[0;34m\u001b[0m\u001b[0m\n\u001b[0m",
            "\u001b[0;31mKeyError\u001b[0m: 'Hard Language'"
          ]
        }
      ]
    },
    {
      "cell_type": "code",
      "source": [
        "Mus_Inst = {'1':'Tabla','2':'Sitar','3':'Guitar'}\n",
        "Mus_Inst"
      ],
      "metadata": {
        "colab": {
          "base_uri": "https://localhost:8080/"
        },
        "id": "QJDlreMGGChA",
        "outputId": "910a5542-33b5-4753-be48-0147cc851506"
      },
      "execution_count": 6,
      "outputs": [
        {
          "output_type": "execute_result",
          "data": {
            "text/plain": [
              "{'1': 'Tabla', '2': 'Sitar', '3': 'Guitar'}"
            ]
          },
          "metadata": {},
          "execution_count": 6
        }
      ]
    },
    {
      "cell_type": "markdown",
      "source": [
        "### Dictionary Functions"
      ],
      "metadata": {
        "id": "7G16sDbTG7AI"
      }
    },
    {
      "cell_type": "code",
      "source": [
        "#1. whenever multiple values assigned to single key then it stores latest value\n",
        "Mus_Inst = {'1':'Tabla','2':'Sitar','3':'Guitar','2':'Santoor'} # latest value of '2' will be taken\n",
        "Mus_Inst"
      ],
      "metadata": {
        "colab": {
          "base_uri": "https://localhost:8080/"
        },
        "outputId": "e1a0a1f3-e040-487b-8d2f-e594fd8c08f9",
        "id": "in7UahuVHFHY"
      },
      "execution_count": 7,
      "outputs": [
        {
          "output_type": "execute_result",
          "data": {
            "text/plain": [
              "{'1': 'Tabla', '2': 'Santoor', '3': 'Guitar'}"
            ]
          },
          "metadata": {},
          "execution_count": 7
        }
      ]
    },
    {
      "cell_type": "code",
      "source": [
        "#2. delete one particular key\n",
        "Mus_Inst = {'1':'Tabla','2':'Sitar','3':'Guitar'}\n",
        "del Mus_Inst['2'] # all same keys will be deleted having this value\n",
        "print(Mus_Inst)"
      ],
      "metadata": {
        "colab": {
          "base_uri": "https://localhost:8080/"
        },
        "outputId": "1d559a80-92e6-4b3e-a99b-dc011b786001",
        "id": "JQAc6IMFH4GM"
      },
      "execution_count": 8,
      "outputs": [
        {
          "output_type": "stream",
          "name": "stdout",
          "text": [
            "{'1': 'Tabla', '3': 'Guitar'}\n"
          ]
        }
      ]
    },
    {
      "cell_type": "code",
      "source": [
        "#3. Finding length of our dictionary\n",
        "print(\"Length of dictionary :\",len(Mus_Inst))"
      ],
      "metadata": {
        "colab": {
          "base_uri": "https://localhost:8080/"
        },
        "id": "jvO0eoUTG184",
        "outputId": "f0c63ed5-b521-4e8f-8867-f2bb48ab87e5"
      },
      "execution_count": 9,
      "outputs": [
        {
          "output_type": "stream",
          "name": "stdout",
          "text": [
            "Length of dictionary : 2\n"
          ]
        }
      ]
    },
    {
      "cell_type": "markdown",
      "source": [
        "# Dictionary Methods"
      ],
      "metadata": {
        "id": "ZUFZpmUZJObK"
      }
    },
    {
      "cell_type": "markdown",
      "source": [
        "*We can access values from keys only and there's no concept of accessing values using index-position in dictionary.*"
      ],
      "metadata": {
        "id": "PUXX-Se9SeQ8"
      }
    },
    {
      "cell_type": "code",
      "source": [
        "# Mapping of each key into corresponding values\n",
        "Mus_Inst = {1:'Tabla',2:'Sitar',3:'Guitar',4:'Santoor'}\n",
        "for i in Mus_Inst.keys():\n",
        "  print(\"The key\",i,\"maps to\",Mus_Inst[i])\n",
        "Ins_lst = list(Mus_Inst.keys()) # Converts the keys into a list of keys\n",
        "print(\"Keys List :\",Ins_lst)"
      ],
      "metadata": {
        "colab": {
          "base_uri": "https://localhost:8080/"
        },
        "outputId": "ce31bd38-0434-4bde-c293-b48a3d825177",
        "id": "4gSUD7U7JWc2"
      },
      "execution_count": 10,
      "outputs": [
        {
          "output_type": "stream",
          "name": "stdout",
          "text": [
            "The key 1 maps to Tabla\n",
            "The key 2 maps to Sitar\n",
            "The key 3 maps to Guitar\n",
            "The key 4 maps to Santoor\n",
            "Keys List : [1, 2, 3, 4]\n"
          ]
        }
      ]
    },
    {
      "cell_type": "code",
      "source": [
        "print(Mus_Inst.keys()) # '.keys()' returns all the keys in form of a list"
      ],
      "metadata": {
        "colab": {
          "base_uri": "https://localhost:8080/"
        },
        "id": "jJ8tswQzI2mD",
        "outputId": "0f571bed-effc-4c88-8f71-bf2473bb121a"
      },
      "execution_count": 11,
      "outputs": [
        {
          "output_type": "stream",
          "name": "stdout",
          "text": [
            "dict_keys([1, 2, 3, 4])\n"
          ]
        }
      ]
    },
    {
      "cell_type": "code",
      "source": [
        "print(Mus_Inst.values()) # '.values()' returns all the values of keys in form of a list"
      ],
      "metadata": {
        "colab": {
          "base_uri": "https://localhost:8080/"
        },
        "id": "L9ufdW5_8Drz",
        "outputId": "bea8fa94-4849-4582-cb0f-44edc0ccc3ff"
      },
      "execution_count": 12,
      "outputs": [
        {
          "output_type": "stream",
          "name": "stdout",
          "text": [
            "dict_values(['Tabla', 'Sitar', 'Guitar', 'Santoor'])\n"
          ]
        }
      ]
    },
    {
      "cell_type": "code",
      "source": [
        "print(Mus_Inst.items()) # '.items()' returns all the key-value pairs in form of a list of pairs of tuples of key-value pair"
      ],
      "metadata": {
        "colab": {
          "base_uri": "https://localhost:8080/"
        },
        "id": "39Gj0aCr8dHl",
        "outputId": "92ce6868-2e47-4ca4-e537-d5fa59dba619"
      },
      "execution_count": 13,
      "outputs": [
        {
          "output_type": "stream",
          "name": "stdout",
          "text": [
            "dict_items([(1, 'Tabla'), (2, 'Sitar'), (3, 'Guitar'), (4, 'Santoor')])\n"
          ]
        }
      ]
    },
    {
      "cell_type": "markdown",
      "source": [
        "***Check whether a key exists in dictionary or not***"
      ],
      "metadata": {
        "id": "Hau2cfE39c1H"
      }
    },
    {
      "cell_type": "code",
      "source": [
        "print(1 in Mus_Inst)"
      ],
      "metadata": {
        "colab": {
          "base_uri": "https://localhost:8080/"
        },
        "id": "FwPF-bWB8slr",
        "outputId": "36155cce-f1b7-494b-8086-3a957abcaece"
      },
      "execution_count": 14,
      "outputs": [
        {
          "output_type": "stream",
          "name": "stdout",
          "text": [
            "True\n"
          ]
        }
      ]
    },
    {
      "cell_type": "code",
      "source": [
        "print(7 in Mus_Inst)"
      ],
      "metadata": {
        "colab": {
          "base_uri": "https://localhost:8080/"
        },
        "id": "BVm4BINQ9t8U",
        "outputId": "c23c2efe-8e16-47d6-a0d6-d80f46da0257"
      },
      "execution_count": 15,
      "outputs": [
        {
          "output_type": "stream",
          "name": "stdout",
          "text": [
            "False\n"
          ]
        }
      ]
    },
    {
      "cell_type": "code",
      "source": [
        "Mus_Inst.has_key(1) # 'has_key()' function was supported before python ver.3.0 but now we're using ver.3.7 here"
      ],
      "metadata": {
        "colab": {
          "base_uri": "https://localhost:8080/",
          "height": 165
        },
        "id": "eEcRgfzr9zqr",
        "outputId": "3436c17b-4215-4080-caf8-4e79f87648b0"
      },
      "execution_count": 16,
      "outputs": [
        {
          "output_type": "error",
          "ename": "AttributeError",
          "evalue": "ignored",
          "traceback": [
            "\u001b[0;31m---------------------------------------------------------------------------\u001b[0m",
            "\u001b[0;31mAttributeError\u001b[0m                            Traceback (most recent call last)",
            "\u001b[0;32m<ipython-input-16-8828493d0aa4>\u001b[0m in \u001b[0;36m<module>\u001b[0;34m()\u001b[0m\n\u001b[0;32m----> 1\u001b[0;31m \u001b[0mMus_Inst\u001b[0m\u001b[0;34m.\u001b[0m\u001b[0mhas_key\u001b[0m\u001b[0;34m(\u001b[0m\u001b[0;36m1\u001b[0m\u001b[0;34m)\u001b[0m \u001b[0;31m# 'has_key()' function was supported before python ver.3.0 but now we're using ver.3.7 here\u001b[0m\u001b[0;34m\u001b[0m\u001b[0;34m\u001b[0m\u001b[0m\n\u001b[0m",
            "\u001b[0;31mAttributeError\u001b[0m: 'dict' object has no attribute 'has_key'"
          ]
        }
      ]
    },
    {
      "cell_type": "code",
      "source": [
        "Mus_Inst[7]"
      ],
      "metadata": {
        "colab": {
          "base_uri": "https://localhost:8080/",
          "height": 165
        },
        "id": "KHBgDdt4-ALt",
        "outputId": "43ab3dba-a279-45f3-de6d-bac99989d5d6"
      },
      "execution_count": 17,
      "outputs": [
        {
          "output_type": "error",
          "ename": "KeyError",
          "evalue": "ignored",
          "traceback": [
            "\u001b[0;31m---------------------------------------------------------------------------\u001b[0m",
            "\u001b[0;31mKeyError\u001b[0m                                  Traceback (most recent call last)",
            "\u001b[0;32m<ipython-input-17-38148922fe30>\u001b[0m in \u001b[0;36m<module>\u001b[0;34m()\u001b[0m\n\u001b[0;32m----> 1\u001b[0;31m \u001b[0mMus_Inst\u001b[0m\u001b[0;34m[\u001b[0m\u001b[0;36m7\u001b[0m\u001b[0;34m]\u001b[0m\u001b[0;34m\u001b[0m\u001b[0;34m\u001b[0m\u001b[0m\n\u001b[0m",
            "\u001b[0;31mKeyError\u001b[0m: 7"
          ]
        }
      ]
    },
    {
      "cell_type": "markdown",
      "source": [
        "***Default Dictionary***"
      ],
      "metadata": {
        "id": "sPSOy3WPIdJX"
      }
    },
    {
      "cell_type": "code",
      "source": [
        "# using 'defaultdict' we can make our code elegant when errors like 'KeyError' are present in our dictionary\n",
        "from collections import defaultdict\n",
        "Music_Inst = defaultdict(lambda:'Not a musical instrument')\n",
        "Music_Inst[1] = 'Tabla'\n",
        "Music_Inst[2] = 'Mridangam'\n",
        "Music_Inst[3] = 'Flute'\n",
        "print(Music_Inst[1])\n",
        "print(Music_Inst[7]) # key '7' not present and defaultdict we've used here"
      ],
      "metadata": {
        "colab": {
          "base_uri": "https://localhost:8080/"
        },
        "id": "-9tPog6EIcFb",
        "outputId": "2ec541e3-a80c-46c4-9454-8f77fff3e149"
      },
      "execution_count": 18,
      "outputs": [
        {
          "output_type": "stream",
          "name": "stdout",
          "text": [
            "Tabla\n",
            "Not a musical instrument\n"
          ]
        }
      ]
    },
    {
      "cell_type": "code",
      "source": [
        "print(Mus_Inst.get(2)) # 'get()' is another way to fetch a value from a key"
      ],
      "metadata": {
        "colab": {
          "base_uri": "https://localhost:8080/"
        },
        "id": "upFGR2AJICuu",
        "outputId": "5586f6f3-dbbc-434a-ce27-77b7452b2572"
      },
      "execution_count": 20,
      "outputs": [
        {
          "output_type": "stream",
          "name": "stdout",
          "text": [
            "Sitar\n"
          ]
        }
      ]
    },
    {
      "cell_type": "code",
      "source": [
        "print(Mus_Inst.get(7,'Sarod')) # at runtime we can generate a new key value pair in existing dictionary\n",
        "# although original dictionary will not get affected\n",
        "print(Mus_Inst) # so key '7' goes to garbage"
      ],
      "metadata": {
        "colab": {
          "base_uri": "https://localhost:8080/"
        },
        "id": "R4dJDlDwL_Fu",
        "outputId": "a6610e0a-b2a3-4347-827d-32225ac9651f"
      },
      "execution_count": 22,
      "outputs": [
        {
          "output_type": "stream",
          "name": "stdout",
          "text": [
            "Sarod\n",
            "{1: 'Tabla', 2: 'Sitar', 3: 'Guitar', 4: 'Santoor'}\n"
          ]
        }
      ]
    },
    {
      "cell_type": "markdown",
      "source": [
        "**Updating a Dictionary**"
      ],
      "metadata": {
        "id": "v4dbEVbYNR_1"
      }
    },
    {
      "cell_type": "code",
      "source": [
        "#1. Adding Single Values\n",
        "Mus_Inst.update({5:'Flute'}) # we pass a key-value pair in 'update()' as an attribute to modify existing dictionary\n",
        "Mus_Inst"
      ],
      "metadata": {
        "colab": {
          "base_uri": "https://localhost:8080/"
        },
        "id": "OPJJ6yBEMj90",
        "outputId": "b93f718c-1bc0-4ac7-e885-f57e3ec8f01b"
      },
      "execution_count": 23,
      "outputs": [
        {
          "output_type": "execute_result",
          "data": {
            "text/plain": [
              "{1: 'Tabla', 2: 'Sitar', 3: 'Guitar', 4: 'Santoor', 5: 'Flute'}"
            ]
          },
          "metadata": {},
          "execution_count": 23
        }
      ]
    },
    {
      "cell_type": "code",
      "source": [
        "Mus_Inst.update({6:'Harmonium'})\n",
        "Mus_Inst"
      ],
      "metadata": {
        "colab": {
          "base_uri": "https://localhost:8080/"
        },
        "id": "tWnw0jbtNkhF",
        "outputId": "07c04ba8-64e1-4ce0-95e0-57629f490cd5"
      },
      "execution_count": 24,
      "outputs": [
        {
          "output_type": "execute_result",
          "data": {
            "text/plain": [
              "{1: 'Tabla', 2: 'Sitar', 3: 'Guitar', 4: 'Santoor', 5: 'Flute', 6: 'Harmonium'}"
            ]
          },
          "metadata": {},
          "execution_count": 24
        }
      ]
    },
    {
      "cell_type": "code",
      "source": [
        "#2. Updating with Multiple Values\n",
        "Mus_Inst.update({7:'Pakhawaj',0:'Tanpura'}) # Method 1 : passing key-value pairs\n",
        "Mus_Inst"
      ],
      "metadata": {
        "colab": {
          "base_uri": "https://localhost:8080/"
        },
        "id": "xwUWnBe6N_DB",
        "outputId": "d8f25d27-4938-4882-f5fc-bb772ade7bd8"
      },
      "execution_count": 25,
      "outputs": [
        {
          "output_type": "execute_result",
          "data": {
            "text/plain": [
              "{0: 'Tanpura',\n",
              " 1: 'Tabla',\n",
              " 2: 'Sitar',\n",
              " 3: 'Guitar',\n",
              " 4: 'Santoor',\n",
              " 5: 'Flute',\n",
              " 6: 'Harmonium',\n",
              " 7: 'Pakhawaj'}"
            ]
          },
          "metadata": {},
          "execution_count": 25
        }
      ]
    },
    {
      "cell_type": "code",
      "source": [
        "Mus_Inst.update([(8,'Ghatam'),(9,'Veena')]) # Method 2 : passing tuples of key values into a list\n",
        "print(Mus_Inst) # order may be or may not be according to the keys"
      ],
      "metadata": {
        "colab": {
          "base_uri": "https://localhost:8080/"
        },
        "id": "QCYR2yeGO2k-",
        "outputId": "97f9cd08-a612-41b6-81ee-6b5373d0d945"
      },
      "execution_count": 26,
      "outputs": [
        {
          "output_type": "stream",
          "name": "stdout",
          "text": [
            "{1: 'Tabla', 2: 'Sitar', 3: 'Guitar', 4: 'Santoor', 5: 'Flute', 6: 'Harmonium', 7: 'Pakhawaj', 0: 'Tanpura', 8: 'Ghatam', 9: 'Veena'}\n"
          ]
        }
      ]
    },
    {
      "cell_type": "markdown",
      "source": [
        "***Removing elements from a dictionary***"
      ],
      "metadata": {
        "id": "JSs6vaoaTCXV"
      }
    },
    {
      "cell_type": "code",
      "source": [
        "# Method 1 : delete a particular key-value pair using 'del'\n",
        "del Mus_Inst[9]\n",
        "Mus_Inst"
      ],
      "metadata": {
        "colab": {
          "base_uri": "https://localhost:8080/"
        },
        "id": "XR6YXeV1QHeY",
        "outputId": "060fcdc3-c423-427b-8607-36923c033bc0"
      },
      "execution_count": 28,
      "outputs": [
        {
          "output_type": "execute_result",
          "data": {
            "text/plain": [
              "{0: 'Tanpura',\n",
              " 1: 'Tabla',\n",
              " 2: 'Sitar',\n",
              " 3: 'Guitar',\n",
              " 4: 'Santoor',\n",
              " 5: 'Flute',\n",
              " 6: 'Harmonium',\n",
              " 7: 'Pakhawaj',\n",
              " 8: 'Ghatam'}"
            ]
          },
          "metadata": {},
          "execution_count": 28
        }
      ]
    },
    {
      "cell_type": "code",
      "source": [
        "# Method 2 : remove a pair by passing key as a attribute in 'pop()' method \n",
        "Mus_Inst.pop(8)\n",
        "Mus_Inst"
      ],
      "metadata": {
        "colab": {
          "base_uri": "https://localhost:8080/"
        },
        "id": "eArsFpIUTYbT",
        "outputId": "9bdfd3b7-1254-4d67-bcb1-429e408e7a95"
      },
      "execution_count": 29,
      "outputs": [
        {
          "output_type": "execute_result",
          "data": {
            "text/plain": [
              "{0: 'Tanpura',\n",
              " 1: 'Tabla',\n",
              " 2: 'Sitar',\n",
              " 3: 'Guitar',\n",
              " 4: 'Santoor',\n",
              " 5: 'Flute',\n",
              " 6: 'Harmonium',\n",
              " 7: 'Pakhawaj'}"
            ]
          },
          "metadata": {},
          "execution_count": 29
        }
      ]
    },
    {
      "cell_type": "code",
      "source": [
        "Mus_Inst.pop() # at least one parameter is necessary inside 'pop()' and so always we need to pass a key\n",
        "Mus_Inst"
      ],
      "metadata": {
        "colab": {
          "base_uri": "https://localhost:8080/",
          "height": 182
        },
        "id": "on7lzzmUT6vB",
        "outputId": "33783162-7704-4633-83f9-d403b6c3f8fc"
      },
      "execution_count": 30,
      "outputs": [
        {
          "output_type": "error",
          "ename": "TypeError",
          "evalue": "ignored",
          "traceback": [
            "\u001b[0;31m---------------------------------------------------------------------------\u001b[0m",
            "\u001b[0;31mTypeError\u001b[0m                                 Traceback (most recent call last)",
            "\u001b[0;32m<ipython-input-30-8dd02eedeb27>\u001b[0m in \u001b[0;36m<module>\u001b[0;34m()\u001b[0m\n\u001b[0;32m----> 1\u001b[0;31m \u001b[0mMus_Inst\u001b[0m\u001b[0;34m.\u001b[0m\u001b[0mpop\u001b[0m\u001b[0;34m(\u001b[0m\u001b[0;34m)\u001b[0m\u001b[0;34m\u001b[0m\u001b[0;34m\u001b[0m\u001b[0m\n\u001b[0m\u001b[1;32m      2\u001b[0m \u001b[0mMus_Inst\u001b[0m\u001b[0;34m\u001b[0m\u001b[0;34m\u001b[0m\u001b[0m\n",
            "\u001b[0;31mTypeError\u001b[0m: pop expected at least 1 arguments, got 0"
          ]
        }
      ]
    },
    {
      "cell_type": "code",
      "source": [
        "Mus_Inst.pop(8)\n",
        "Mus_Inst"
      ],
      "metadata": {
        "colab": {
          "base_uri": "https://localhost:8080/",
          "height": 182
        },
        "id": "OyZFunLhUdnj",
        "outputId": "71d0a991-8395-46f5-8266-0d757da32111"
      },
      "execution_count": 31,
      "outputs": [
        {
          "output_type": "error",
          "ename": "KeyError",
          "evalue": "ignored",
          "traceback": [
            "\u001b[0;31m---------------------------------------------------------------------------\u001b[0m",
            "\u001b[0;31mKeyError\u001b[0m                                  Traceback (most recent call last)",
            "\u001b[0;32m<ipython-input-31-0b1885d1d6d5>\u001b[0m in \u001b[0;36m<module>\u001b[0;34m()\u001b[0m\n\u001b[0;32m----> 1\u001b[0;31m \u001b[0mMus_Inst\u001b[0m\u001b[0;34m.\u001b[0m\u001b[0mpop\u001b[0m\u001b[0;34m(\u001b[0m\u001b[0;36m8\u001b[0m\u001b[0;34m)\u001b[0m\u001b[0;34m\u001b[0m\u001b[0;34m\u001b[0m\u001b[0m\n\u001b[0m\u001b[1;32m      2\u001b[0m \u001b[0mMus_Inst\u001b[0m\u001b[0;34m\u001b[0m\u001b[0;34m\u001b[0m\u001b[0m\n",
            "\u001b[0;31mKeyError\u001b[0m: 8"
          ]
        }
      ]
    },
    {
      "cell_type": "code",
      "source": [
        "Mus_Inst.pop(8,None) # We can pass a default value to a key at runtime if the key doesn't exists in dictionary to avoid errors\n",
        "Mus_Inst"
      ],
      "metadata": {
        "colab": {
          "base_uri": "https://localhost:8080/"
        },
        "id": "5hqL_LH6VfqO",
        "outputId": "e96a634d-24b6-4878-de90-9b6c5810fbd7"
      },
      "execution_count": 32,
      "outputs": [
        {
          "output_type": "execute_result",
          "data": {
            "text/plain": [
              "{0: 'Tanpura',\n",
              " 1: 'Tabla',\n",
              " 2: 'Sitar',\n",
              " 3: 'Guitar',\n",
              " 4: 'Santoor',\n",
              " 5: 'Flute',\n",
              " 6: 'Harmonium',\n",
              " 7: 'Pakhawaj'}"
            ]
          },
          "metadata": {},
          "execution_count": 32
        }
      ]
    },
    {
      "cell_type": "code",
      "source": [
        "# Sorting keys\n",
        "sorted(Mus_Inst.keys()) # sorts the keys / values in ascending order(by default) in form of a list"
      ],
      "metadata": {
        "colab": {
          "base_uri": "https://localhost:8080/"
        },
        "id": "62965Uh8V33O",
        "outputId": "f6f7a8b3-eb80-4ade-fa6d-6d4e3a352a27"
      },
      "execution_count": 33,
      "outputs": [
        {
          "output_type": "execute_result",
          "data": {
            "text/plain": [
              "[0, 1, 2, 3, 4, 5, 6, 7]"
            ]
          },
          "metadata": {},
          "execution_count": 33
        }
      ]
    },
    {
      "cell_type": "code",
      "source": [
        "# Sorting Key-Value Pairs\n",
        "sorted(Mus_Inst.items()) # returns a list of tuples of key-value pairs"
      ],
      "metadata": {
        "colab": {
          "base_uri": "https://localhost:8080/"
        },
        "id": "WQBrXufEWpgu",
        "outputId": "6645d469-7a81-4a3c-d076-925b557ac145"
      },
      "execution_count": 35,
      "outputs": [
        {
          "output_type": "execute_result",
          "data": {
            "text/plain": [
              "[(0, 'Tanpura'),\n",
              " (1, 'Tabla'),\n",
              " (2, 'Sitar'),\n",
              " (3, 'Guitar'),\n",
              " (4, 'Santoor'),\n",
              " (5, 'Flute'),\n",
              " (6, 'Harmonium'),\n",
              " (7, 'Pakhawaj')]"
            ]
          },
          "metadata": {},
          "execution_count": 35
        }
      ]
    },
    {
      "cell_type": "code",
      "source": [
        "sorted(Mus_Inst.items(),reverse = True) # sorts items in reverse i.e. descending order"
      ],
      "metadata": {
        "colab": {
          "base_uri": "https://localhost:8080/"
        },
        "id": "0oSln1InXBXs",
        "outputId": "f86a28e7-07c6-42a0-de24-ba560d9df161"
      },
      "execution_count": 36,
      "outputs": [
        {
          "output_type": "execute_result",
          "data": {
            "text/plain": [
              "[(7, 'Pakhawaj'),\n",
              " (6, 'Harmonium'),\n",
              " (5, 'Flute'),\n",
              " (4, 'Santoor'),\n",
              " (3, 'Guitar'),\n",
              " (2, 'Sitar'),\n",
              " (1, 'Tabla'),\n",
              " (0, 'Tanpura')]"
            ]
          },
          "metadata": {},
          "execution_count": 36
        }
      ]
    },
    {
      "cell_type": "markdown",
      "source": [
        "**Conversion of a *list* into a *dictionary*.**"
      ],
      "metadata": {
        "id": "DFYF5dInYEsQ"
      }
    },
    {
      "cell_type": "code",
      "source": [
        "mydict = ['Zakir', 'Tabla']\n",
        "print(mydict)"
      ],
      "metadata": {
        "colab": {
          "base_uri": "https://localhost:8080/"
        },
        "id": "LW_labWSX280",
        "outputId": "6c82797c-5f9a-48be-90e0-6cc62758db7d"
      },
      "execution_count": 38,
      "outputs": [
        {
          "output_type": "stream",
          "name": "stdout",
          "text": [
            "['Zakir', 'Tabla']\n"
          ]
        }
      ]
    },
    {
      "cell_type": "code",
      "source": [
        "# zipping using 'zip()' and passing into list\n",
        "list(zip(mydict)) # zip is used for packing operation"
      ],
      "metadata": {
        "colab": {
          "base_uri": "https://localhost:8080/"
        },
        "id": "nCoy-gUxZQ54",
        "outputId": "1da8201d-4c33-4db7-b8e3-18d993ec6e2c"
      },
      "execution_count": 39,
      "outputs": [
        {
          "output_type": "execute_result",
          "data": {
            "text/plain": [
              "[('Zakir',), ('Tabla',)]"
            ]
          },
          "metadata": {},
          "execution_count": 39
        }
      ]
    },
    {
      "cell_type": "code",
      "source": [
        "name = ['Zakir','Hari','Amjad']\n",
        "inst = ['Tabla','Flute','Sarod']\n",
        "Ms_Mi = zip(name,inst)\n",
        "print(Ms_Mi) # created a zip object"
      ],
      "metadata": {
        "colab": {
          "base_uri": "https://localhost:8080/"
        },
        "id": "62lvAFLaZjyL",
        "outputId": "4b5e5901-9e97-499b-b9a6-420fac189c61"
      },
      "execution_count": 41,
      "outputs": [
        {
          "output_type": "stream",
          "name": "stdout",
          "text": [
            "<zip object at 0x7f3ddb19d0f0>\n"
          ]
        }
      ]
    },
    {
      "cell_type": "code",
      "source": [
        "list(zip(Ms_Mi)) # passing tuples in a list"
      ],
      "metadata": {
        "colab": {
          "base_uri": "https://localhost:8080/"
        },
        "id": "Kt_Sb7tyaSAw",
        "outputId": "17eae776-a62a-4434-ab3a-9508886b3a99"
      },
      "execution_count": 42,
      "outputs": [
        {
          "output_type": "execute_result",
          "data": {
            "text/plain": [
              "[(('Zakir', 'Tabla'),), (('Hari', 'Flute'),), (('Amjad', 'Sarod'),)]"
            ]
          },
          "metadata": {},
          "execution_count": 42
        }
      ]
    },
    {
      "cell_type": "code",
      "source": [
        "# Passing the list of tuples into a traditional dictionary format.\n",
        "name = ['Zakir','Hari','Amjad']\n",
        "inst = ['Tabla','Flute','Sarod']\n",
        "Ms_Mi = dict(zip(name,inst)) # created a dictionary with zip-object\n",
        "print(Ms_Mi)"
      ],
      "metadata": {
        "colab": {
          "base_uri": "https://localhost:8080/"
        },
        "id": "Zh0o1a9pagpd",
        "outputId": "6cb75f48-6019-4d30-adc6-7c9ec5d73331"
      },
      "execution_count": 43,
      "outputs": [
        {
          "output_type": "stream",
          "name": "stdout",
          "text": [
            "{'Zakir': 'Tabla', 'Hari': 'Flute', 'Amjad': 'Sarod'}\n"
          ]
        }
      ]
    },
    {
      "cell_type": "code",
      "source": [
        "Ms_Mi.keys()"
      ],
      "metadata": {
        "colab": {
          "base_uri": "https://localhost:8080/"
        },
        "id": "vXW43WPRbiyI",
        "outputId": "aa22c3a8-10bc-4637-e124-586020ad5d23"
      },
      "execution_count": 44,
      "outputs": [
        {
          "output_type": "execute_result",
          "data": {
            "text/plain": [
              "dict_keys(['Zakir', 'Hari', 'Amjad'])"
            ]
          },
          "metadata": {},
          "execution_count": 44
        }
      ]
    },
    {
      "cell_type": "code",
      "source": [
        "sorted(Ms_Mi.keys())"
      ],
      "metadata": {
        "colab": {
          "base_uri": "https://localhost:8080/"
        },
        "id": "ST22AfwYcKb7",
        "outputId": "e3ba4574-4394-4047-9d62-d5a696aa3e7f"
      },
      "execution_count": 45,
      "outputs": [
        {
          "output_type": "execute_result",
          "data": {
            "text/plain": [
              "['Amjad', 'Hari', 'Zakir']"
            ]
          },
          "metadata": {},
          "execution_count": 45
        }
      ]
    },
    {
      "cell_type": "code",
      "source": [
        "mydict = ['Zakir', 'Tabla']\n",
        "print(mydict[0])\n",
        "print(mydict[1])\n",
        "print(mydict[0:1])\n",
        "print(mydict[0::2])\n",
        "print(mydict[1::2])"
      ],
      "metadata": {
        "colab": {
          "base_uri": "https://localhost:8080/"
        },
        "id": "wZ1TWSZwdW3N",
        "outputId": "3c9b3da0-fd05-4c35-d391-55cf3758ce95"
      },
      "execution_count": 49,
      "outputs": [
        {
          "output_type": "stream",
          "name": "stdout",
          "text": [
            "Zakir\n",
            "Tabla\n",
            "['Zakir']\n",
            "['Zakir']\n",
            "['Tabla']\n"
          ]
        }
      ]
    },
    {
      "cell_type": "code",
      "source": [
        "# creates a dictionary from a single list\n",
        "mydict = ['Zakir', 'Tabla']\n",
        "print(dict(zip(mydict[0::2],mydict[1::2]))) # zips element[0] and element[1] creates a dictionary"
      ],
      "metadata": {
        "colab": {
          "base_uri": "https://localhost:8080/"
        },
        "id": "XZGgFNCgcSql",
        "outputId": "b404e589-59e7-47d8-e609-11b1149c1fd5"
      },
      "execution_count": 51,
      "outputs": [
        {
          "output_type": "stream",
          "name": "stdout",
          "text": [
            "{'Zakir': 'Tabla'}\n"
          ]
        }
      ]
    },
    {
      "cell_type": "markdown",
      "source": [
        "*Unzipping a Dictionary*"
      ],
      "metadata": {
        "id": "6zZCF0HTfI91"
      }
    },
    {
      "cell_type": "code",
      "source": [
        "Music = [('Zakir', 'Tabla'),\n",
        "             ('Hari', 'Flute'),\n",
        "             ('Amjad', 'Sarod')]\n",
        "Musician , Instrument = zip(*Music) # '*' is used for unpacking\n",
        "print(Musician) "
      ],
      "metadata": {
        "colab": {
          "base_uri": "https://localhost:8080/"
        },
        "id": "WC-XgoBPdfLO",
        "outputId": "b4b31e44-9fff-41f5-c3d5-499486243385"
      },
      "execution_count": 52,
      "outputs": [
        {
          "output_type": "stream",
          "name": "stdout",
          "text": [
            "('Zakir', 'Hari', 'Amjad')\n"
          ]
        }
      ]
    },
    {
      "cell_type": "code",
      "source": [
        "print(Instrument)"
      ],
      "metadata": {
        "colab": {
          "base_uri": "https://localhost:8080/"
        },
        "id": "uQKD3AQlhP0H",
        "outputId": "8738b415-8fb9-41bf-d947-130f8c8084f4"
      },
      "execution_count": 53,
      "outputs": [
        {
          "output_type": "stream",
          "name": "stdout",
          "text": [
            "('Tabla', 'Flute', 'Sarod')\n"
          ]
        }
      ]
    },
    {
      "cell_type": "markdown",
      "source": [
        "# Dictionary Comprehension"
      ],
      "metadata": {
        "id": "9lOxD2XahsKI"
      }
    },
    {
      "cell_type": "code",
      "source": [
        "name = ['Zakir','Hari','Amjad']\n",
        "inst = ['Tabla','Flute','Sarod']\n",
        "mus = {k:v for k,v in zip(name,inst)} # packing two lists and making a dictionary using dictionary-comprehension\n",
        "print(mus)"
      ],
      "metadata": {
        "colab": {
          "base_uri": "https://localhost:8080/"
        },
        "id": "mcV-GfrchXMI",
        "outputId": "14eb956e-55f2-4797-9fb5-d2ff1ccb2450"
      },
      "execution_count": 54,
      "outputs": [
        {
          "output_type": "stream",
          "name": "stdout",
          "text": [
            "{'Zakir': 'Tabla', 'Hari': 'Flute', 'Amjad': 'Sarod'}\n"
          ]
        }
      ]
    },
    {
      "cell_type": "markdown",
      "source": [
        "***Program to print the contents of the dictionary whose key is greater than 3 and key when divided by 3 has remainder zero, using dictionary comprehension.***"
      ],
      "metadata": {
        "id": "iiP1NMjJih1K"
      }
    },
    {
      "cell_type": "code",
      "source": [
        "mydct = {1:'P', 2:'Q', 3:'R', 4:'S', 5:'T', 6:'U'}\n",
        "sdict = {x:y for x, y in mydct.items() if x > 3 if x % 3 == 0}\n",
        "print(sdict)"
      ],
      "metadata": {
        "colab": {
          "base_uri": "https://localhost:8080/"
        },
        "id": "XCN7215hieh2",
        "outputId": "cb59a0ae-2035-4a3a-88e7-d01a24f14442"
      },
      "execution_count": 56,
      "outputs": [
        {
          "output_type": "stream",
          "name": "stdout",
          "text": [
            "{6: 'U'}\n"
          ]
        }
      ]
    }
  ]
}