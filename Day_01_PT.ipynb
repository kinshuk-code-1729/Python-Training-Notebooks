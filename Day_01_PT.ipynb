{
  "nbformat": 4,
  "nbformat_minor": 0,
  "metadata": {
    "colab": {
      "name": "Day_01_PT.ipynb",
      "private_outputs": true,
      "provenance": [],
      "collapsed_sections": [],
      "authorship_tag": "ABX9TyN1i8V2CUgCFGJSR72eHDUD",
      "include_colab_link": true
    },
    "kernelspec": {
      "name": "python3",
      "display_name": "Python 3"
    },
    "language_info": {
      "name": "python"
    },
    "gpuClass": "standard"
  },
  "cells": [
    {
      "cell_type": "markdown",
      "metadata": {
        "id": "view-in-github",
        "colab_type": "text"
      },
      "source": [
        "<a href=\"https://colab.research.google.com/github/kinshuk-code-1729/Python-Training-Notebooks/blob/main/Day_01_PT.ipynb\" target=\"_parent\"><img src=\"https://colab.research.google.com/assets/colab-badge.svg\" alt=\"Open In Colab\"/></a>"
      ]
    },
    {
      "cell_type": "markdown",
      "source": [
        "**Checking installed version**"
      ],
      "metadata": {
        "id": "PAwFT3D6t8C2"
      }
    },
    {
      "cell_type": "code",
      "execution_count": null,
      "metadata": {
        "id": "DoyupW1Co7tM"
      },
      "outputs": [],
      "source": [
        "from platform import python_version as ver\n",
        "print(ver())"
      ]
    },
    {
      "cell_type": "code",
      "source": [
        "m = 420\n",
        "print(\"m =\",m)"
      ],
      "metadata": {
        "id": "47yZmmo_qR1l"
      },
      "execution_count": null,
      "outputs": []
    },
    {
      "cell_type": "markdown",
      "source": [
        "**Checking address of variable in memory**"
      ],
      "metadata": {
        "id": "G07VOjBKuKWl"
      }
    },
    {
      "cell_type": "code",
      "source": [
        "print(\"Address of m : \",id(m))"
      ],
      "metadata": {
        "id": "SAScoaK9qqGo"
      },
      "execution_count": null,
      "outputs": []
    },
    {
      "cell_type": "markdown",
      "source": [
        "**Same values have same address**"
      ],
      "metadata": {
        "id": "xpixu4v3ubs1"
      }
    },
    {
      "cell_type": "code",
      "source": [
        "x = 45\n",
        "y = 37 + 8 \n",
        "print(\"address of x : \",id(x))\n",
        "print(\"address of y : \",id(y))"
      ],
      "metadata": {
        "id": "2uTY_fyerXfk"
      },
      "execution_count": null,
      "outputs": []
    },
    {
      "cell_type": "code",
      "source": [
        "p = 112\n",
        "q = 109 + 2\n",
        "print(\"address of p : \",id(p))\n",
        "print(\"address of q : \",id(q))"
      ],
      "metadata": {
        "id": "AEtmGzDor5Km"
      },
      "execution_count": null,
      "outputs": []
    },
    {
      "cell_type": "code",
      "source": [
        "u = 257\n",
        "v = 248 + 9 #upto 256 is true in ver. 3.7  \n",
        "print(\"address of x : \",id(u))\n",
        "print(\"address of y : \",id(v))\n",
        "print(u == v) # '==' is equality operator\n",
        "print(u is v) # 'is' acts as equality operator but is relational"
      ],
      "metadata": {
        "id": "wh6Xh6mJsLgl"
      },
      "execution_count": null,
      "outputs": []
    },
    {
      "cell_type": "markdown",
      "source": [
        "**Orphan Object**"
      ],
      "metadata": {
        "id": "zwCMIrQ6tXm2"
      }
    },
    {
      "cell_type": "code",
      "source": [
        "k = 154\n",
        "print(\"Firstly k =\",k)\n",
        "k = 646\n",
        "print(\"Now k =\",k) #Now 'k' points to 646 and previous value 154 is an orphan object"
      ],
      "metadata": {
        "id": "uXO49vJlteD1"
      },
      "execution_count": null,
      "outputs": []
    },
    {
      "cell_type": "markdown",
      "source": [
        "*Taking input from user*"
      ],
      "metadata": {
        "id": "GMm0pBTYvXEV"
      }
    },
    {
      "cell_type": "code",
      "source": [
        "h = int(input(\"Enter a num : \"))\n",
        "print(\"h = \",h)\n",
        "f = 120 #This is hard-code\n",
        "print(\"val of f is = \",f)\n"
      ],
      "metadata": {
        "id": "EVgIPRrOvbok"
      },
      "execution_count": null,
      "outputs": []
    },
    {
      "cell_type": "markdown",
      "source": [
        "##Multiplication Code"
      ],
      "metadata": {
        "id": "weJg4hR5wlvL"
      }
    },
    {
      "cell_type": "code",
      "source": [
        "num1 = int(input(\"Enter val1 : \")) \n",
        "num2 = int(input(\"Enter val2 : \"))\n",
        "print(\"Product =\",num1*num2) "
      ],
      "metadata": {
        "id": "5aqgpbSewkUN"
      },
      "execution_count": null,
      "outputs": []
    },
    {
      "cell_type": "markdown",
      "source": [
        "###If 'int' not specified in 'input' then by default input behaves as string"
      ],
      "metadata": {
        "id": "vMCNxTlaxcKL"
      }
    },
    {
      "cell_type": "code",
      "source": [
        "name = \"Kinshuk\"\n",
        "mssg = input(\"Enter Greeting Message... : \")\n",
        "print(mssg + name,\"!!!!!\")"
      ],
      "metadata": {
        "id": "viw0RIpMx3jB"
      },
      "execution_count": null,
      "outputs": []
    },
    {
      "cell_type": "markdown",
      "source": [
        "**Declare & Assign Multiple variables in single-line**"
      ],
      "metadata": {
        "id": "9SiFU2J4yYTF"
      }
    },
    {
      "cell_type": "code",
      "source": [
        "x,y,z = 15,65,68\n",
        "print(\"x =\",x,\"y =\",y,\"z =\",z)"
      ],
      "metadata": {
        "id": "5Cvo9Dzsyl4y"
      },
      "execution_count": null,
      "outputs": []
    },
    {
      "cell_type": "markdown",
      "source": [
        "*We use underscore in place of empty variable*"
      ],
      "metadata": {
        "id": "6SF6Hxb5zD9T"
      }
    },
    {
      "cell_type": "code",
      "source": [
        "p,q,_ = 45,47,55\n",
        "print(\"p =\",p,\"q =\",q,\"last =\",_)"
      ],
      "metadata": {
        "id": "3ocu_oapzbAJ"
      },
      "execution_count": null,
      "outputs": []
    },
    {
      "cell_type": "markdown",
      "source": [
        "using asterisk(*) we can assign multiple vals to a variable"
      ],
      "metadata": {
        "id": "_-6jgo7O0Arc"
      }
    },
    {
      "cell_type": "code",
      "source": [
        "d,*e = 41,36,44,98,76\n",
        "print(d,e)"
      ],
      "metadata": {
        "id": "DEjm1e4M0hpd"
      },
      "execution_count": null,
      "outputs": []
    },
    {
      "cell_type": "markdown",
      "source": [
        "**Taking input using separator**"
      ],
      "metadata": {
        "id": "9zqWC8xk02xG"
      }
    },
    {
      "cell_type": "code",
      "source": [
        "r,k,rs= input().split() # 'split' takes an argument by default as a single space\n",
        "print(r,k,rs)\n",
        "# we can also add split value using single quote string values"
      ],
      "metadata": {
        "id": "CNKbVLBS1Bcr"
      },
      "execution_count": null,
      "outputs": []
    },
    {
      "cell_type": "markdown",
      "source": [
        "**Finding greater value among two vals**"
      ],
      "metadata": {
        "id": "HNoKF7Ep4USY"
      }
    },
    {
      "cell_type": "code",
      "source": [
        "x = int(input(\"Enter num 1 : \"))\n",
        "y = int(input(\"Enter num 2 : \"))\n",
        "if x>y :\n",
        "  print(\"Larger value is \",x)\n",
        "else :\n",
        "  print(\"Larger value is \",y)"
      ],
      "metadata": {
        "id": "ZSE4IjJ74ZfR"
      },
      "execution_count": null,
      "outputs": []
    },
    {
      "cell_type": "markdown",
      "source": [
        "**elif** statement b/w **if** & **else** blocks"
      ],
      "metadata": {
        "id": "3v4wiTvt8kZT"
      }
    },
    {
      "cell_type": "code",
      "source": [
        "m = int(input(\"Enter num 1 : \"))\n",
        "n = int(input(\"Enter num 2 : \"))\n",
        "if m>n :\n",
        "  print(\"Larger value is \",m)\n",
        "elif m==n:\n",
        "  print(\"Both numbers are equal\")  # elif is short-form of 'else-if' statements\n",
        "else :\n",
        "  print(\"Larger value is \",n)"
      ],
      "metadata": {
        "id": "q981LkRi8Nqt"
      },
      "execution_count": null,
      "outputs": []
    },
    {
      "cell_type": "markdown",
      "source": [
        "# Swapping two values based after checking a condition"
      ],
      "metadata": {
        "id": "xxCzxTsBVTmv"
      }
    },
    {
      "cell_type": "code",
      "source": [
        "n1 = int(input(\"Enter val 1 : \"))\n",
        "n2 = int(input(\"Enter val 2 : \"))\n",
        "if n1>n2 :\n",
        "  n1,n2 = n2,n1\n",
        "  print(\"Swapped values are n1 =\",n1,\"and n2 =\",n2)\n",
        "else:\n",
        "  print(\"Unswapped values are n1 =\",n1,\"and n2 =\",n2)"
      ],
      "metadata": {
        "id": "bzQ0MGFdTyfx"
      },
      "execution_count": null,
      "outputs": []
    },
    {
      "cell_type": "code",
      "source": [
        "n1 = int(input(\"Enter val 1 : \"))\n",
        "n2 = int(input(\"Enter val 2 : \"))\n",
        "if n1>n2 :\n",
        "  if n1> 15 :   #nested if-else block\n",
        "    n1,n2 = n2,n1\n",
        "    print(\"Swapped values are n1 =\",n1,\"and n2 =\",n2)\n",
        "  else:\n",
        "    print(\"Unswapped values are n1 =\",n1,\"and n2 =\",n2)\n",
        "else:\n",
        "  print(\"Unswapped values are n1 =\",n1,\"and n2 =\",n2)"
      ],
      "metadata": {
        "id": "vUMRN0ZdWA5d"
      },
      "execution_count": null,
      "outputs": []
    },
    {
      "cell_type": "code",
      "source": [
        "n1 = int(input(\"Enter val 1 : \"))\n",
        "n2 = int(input(\"Enter val 2 : \"))\n",
        "if n1>n2 and n1>10 :\n",
        "  n1,n2 = n2,n1\n",
        "  print(\"Swapped values are n1 =\",n1,\"and n2 =\",n2)\n",
        "else:\n",
        "  print(\"Unswapped values are n1 =\",n1,\"and n2 =\",n2)"
      ],
      "metadata": {
        "id": "pA-9ru-AWX8P"
      },
      "execution_count": null,
      "outputs": []
    },
    {
      "cell_type": "markdown",
      "source": [
        "**Leap Year or not**"
      ],
      "metadata": {
        "id": "4pazrLk2Ye7Q"
      }
    },
    {
      "cell_type": "code",
      "source": [
        "y = int(input(\"Enter an year : \"))\n",
        "if ((y % 4 == 0 and y % 100 != 0) or (y % 400 == 0)) : \n",
        "    print(y,\"is a leap year\")\n",
        "else :\n",
        "  print(y,\"is not a leap year\")"
      ],
      "metadata": {
        "id": "9s4nNhTtYnZf"
      },
      "execution_count": null,
      "outputs": []
    },
    {
      "cell_type": "markdown",
      "source": [
        "#Loops in Python"
      ],
      "metadata": {
        "id": "tJ9XdD8Ka0Xs"
      }
    },
    {
      "cell_type": "markdown",
      "source": [
        "**For loop**"
      ],
      "metadata": {
        "id": "MDwQJoVqa8IF"
      }
    },
    {
      "cell_type": "code",
      "source": [
        "''' for <variable> in range (start , stop , step) :\n",
        "1. start val is included\n",
        "2. stop val is not included\n",
        "3. step is optional if its +1 '''\n",
        "for i in range(5):\n",
        "  print(i)\n",
        "\n",
        "x = int(input(\"Enter a val. ---> \"))\n",
        "for j in range(1,x):\n",
        "  print(j)\n",
        "\n",
        "y = int(input(\"Enter another val .......  \"))\n",
        "for k in range(3,y,4):\n",
        "  print(k)"
      ],
      "metadata": {
        "id": "Ce5zmTcrbLJt"
      },
      "execution_count": null,
      "outputs": []
    },
    {
      "cell_type": "markdown",
      "source": [
        "**Factorial of a number**"
      ],
      "metadata": {
        "id": "sT8VGTiehk-5"
      }
    },
    {
      "cell_type": "code",
      "source": [
        "num = int(input(\"Enter any number : \"))\n",
        "fact = 1\n",
        "if num < 0:\n",
        "  print(\"Sorry !!!, factorial for -ve values do not exist....\")\n",
        "  print(\"Try again with positive value.....\")\n",
        "else :\n",
        "  for i in range(1,num+1):\n",
        "    fact *= i  # short-cut operator for 'fact = fact*i'\n",
        "    print(\"for i =\",i,\"fact =\",fact)\n",
        "  print(\"Finally\",num,\"! =\",fact)"
      ],
      "metadata": {
        "id": "xkJFjmYOdZdd"
      },
      "execution_count": null,
      "outputs": []
    },
    {
      "cell_type": "markdown",
      "source": [
        "**Prime no. or not**"
      ],
      "metadata": {
        "id": "9M2DpW_8hpoD"
      }
    },
    {
      "cell_type": "code",
      "source": [
        "# Logic 1\n",
        "n = int(input(\"Enter a number : \"))\n",
        "for i in range(2,n) :\n",
        "  if n % i == 0 :\n",
        "    print(n,\"is not prime\")\n",
        "    break\n",
        "else :\n",
        "  print(n,\"is prime\")"
      ],
      "metadata": {
        "id": "sY0QU2ffkU3P"
      },
      "execution_count": null,
      "outputs": []
    },
    {
      "cell_type": "code",
      "source": [
        "# Logic 2\n",
        "n = int(input(\"Enter a number : \"))\n",
        "k = 0\n",
        "m = n//2\n",
        "for i in range(2,m+1) :\n",
        "  if n % i == 0 :\n",
        "    k = 1\n",
        "\n",
        "if k == 1 :\n",
        "  print(n,\"is not prime\")\n",
        "else :\n",
        "  print(n,\"is prime\")"
      ],
      "metadata": {
        "id": "FFghsZvlhwBn"
      },
      "execution_count": null,
      "outputs": []
    },
    {
      "cell_type": "markdown",
      "source": [
        "**Installing a library in jupyter via internet**"
      ],
      "metadata": {
        "id": "w23zWxjZ0dFH"
      }
    },
    {
      "cell_type": "code",
      "source": [
        "!pip install abhiprime # we use 'pip' command to install any library in python \n",
        "# '!' is used to run the statement as a cmd command in jupyter notebook"
      ],
      "metadata": {
        "id": "2XEO00SeoXHL"
      },
      "execution_count": null,
      "outputs": []
    },
    {
      "cell_type": "code",
      "source": [
        "from abhiprime import *\n",
        "num = int(input(\"Enter a number : \"))\n",
        "chk = test_prime(n)\n",
        "if chk :\n",
        "  print(num,\"is prime\")\n",
        "else :\n",
        "  print(num,\"is not prime\")"
      ],
      "metadata": {
        "id": "fz2KCS0ios6T"
      },
      "execution_count": null,
      "outputs": []
    },
    {
      "cell_type": "code",
      "source": [
        "prev_prime(100)"
      ],
      "metadata": {
        "id": "BHZnreQuo2eK"
      },
      "execution_count": null,
      "outputs": []
    },
    {
      "cell_type": "code",
      "source": [
        "next_prime(100)"
      ],
      "metadata": {
        "id": "0uF_gmNRqz1q"
      },
      "execution_count": null,
      "outputs": []
    },
    {
      "cell_type": "code",
      "source": [
        "range_prime(10,100)"
      ],
      "metadata": {
        "id": "EtrmfUcKq2QC"
      },
      "execution_count": null,
      "outputs": []
    },
    {
      "cell_type": "code",
      "source": [
        "fib_prime(17)"
      ],
      "metadata": {
        "id": "W5DIHV8gq5iS"
      },
      "execution_count": null,
      "outputs": []
    },
    {
      "cell_type": "code",
      "source": [
        "sqrt(400)"
      ],
      "metadata": {
        "id": "8bCJUb15rFZi"
      },
      "execution_count": null,
      "outputs": []
    },
    {
      "cell_type": "code",
      "source": [
        "prime_factor(56)"
      ],
      "metadata": {
        "id": "dW3yKjCXsDF0"
      },
      "execution_count": null,
      "outputs": []
    },
    {
      "cell_type": "code",
      "source": [
        "prime_upto(12)"
      ],
      "metadata": {
        "id": "NIkgphjes2oC"
      },
      "execution_count": null,
      "outputs": []
    },
    {
      "cell_type": "markdown",
      "source": [
        "**Program to print the following**\n",
        "\n",
        "*5 X 4 = 20*\n",
        "\n",
        "*4 X 3 = 12*\n",
        "\n",
        "*3 X 2 = 6*\n",
        "\n",
        "*2 X 1 = 1*"
      ],
      "metadata": {
        "id": "_UrIcN83tBLh"
      }
    },
    {
      "cell_type": "code",
      "source": [
        "val1  = int(input(\"Enter 1st value : \"))\n",
        "val2  = int(input(\"Enter 2nd value : \"))\n",
        "while (val1 and val2) != 0:\n",
        "  val3 = val1 * val2\n",
        "  print(val1,'X',val2,'=',val3)\n",
        "  val1 -= 1\n",
        "  val2 -= 1"
      ],
      "metadata": {
        "id": "xdTnIjCftZeZ"
      },
      "execution_count": null,
      "outputs": []
    }
  ]
}