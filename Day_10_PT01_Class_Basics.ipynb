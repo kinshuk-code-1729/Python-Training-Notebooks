{
  "nbformat": 4,
  "nbformat_minor": 0,
  "metadata": {
    "colab": {
      "name": "Day_10_PT01-Class-Basics.ipynb",
      "provenance": [],
      "collapsed_sections": [],
      "authorship_tag": "ABX9TyOcAb39ANnXv6UY1FL2uoPS",
      "include_colab_link": true
    },
    "kernelspec": {
      "name": "python3",
      "display_name": "Python 3"
    },
    "language_info": {
      "name": "python"
    },
    "gpuClass": "standard"
  },
  "cells": [
    {
      "cell_type": "markdown",
      "metadata": {
        "id": "view-in-github",
        "colab_type": "text"
      },
      "source": [
        "<a href=\"https://colab.research.google.com/github/kinshuk-code-1729/Python-Training-Notebooks/blob/main/Day_10_PT01_Class_Basics.ipynb\" target=\"_parent\"><img src=\"https://colab.research.google.com/assets/colab-badge.svg\" alt=\"Open In Colab\"/></a>"
      ]
    },
    {
      "cell_type": "markdown",
      "source": [
        "# **Day 10 Notebook 1**\n",
        "## ***Object-Oriented-Programming (OOPS) Concepts in Python.***"
      ],
      "metadata": {
        "id": "eE8rP97_sdxi"
      }
    },
    {
      "cell_type": "markdown",
      "source": [
        "**Object :** It's a container which contains **Data** and **Functionality**.\n",
        "* **Data :** Something which has **state** and **attributes**.\n",
        "* **Functionality :** Something which has **behaviour** and **methods**."
      ],
      "metadata": {
        "id": "wdkTEwIJ4wZR"
      }
    },
    {
      "cell_type": "markdown",
      "source": [
        "*Let's take an example of a **car**.......*\n",
        "\n",
        "So a **car object** may have following **states** :\n",
        "* Brand : Lamborghini\n",
        "* Model : Urus\n",
        "* Year : 2017\n",
        "\n",
        "And the **car object** will have the following **behaviour** :\n",
        "* Accelerator\n",
        "* Brakes\n",
        "* Steering Wheel"
      ],
      "metadata": {
        "id": "P7GC50LL3qdF"
      }
    },
    {
      "cell_type": "markdown",
      "source": [
        "### **How to Create Objects ???**\n",
        "* A *class* is like a ***template*** used to create ***objects***.\n",
        "* Objects created from that class are called ***instances***."
      ],
      "metadata": {
        "id": "uYQC9EcG7KOB"
      }
    },
    {
      "cell_type": "markdown",
      "source": [
        "#### ***Properties of a Class :***\n",
        "* *Classes are themselve objects*.\n",
        "* *Classes have **attributes (states)**.*\n",
        "* *Classes have **behavior**.*\n",
        "* *Classes are **callable**.*"
      ],
      "metadata": {
        "id": "hXnJyT58C-EX"
      }
    },
    {
      "cell_type": "code",
      "source": [
        "class Myclass : # creating a class\n",
        "  pass\n",
        "\n",
        "obj = Myclass() # creating an instance"
      ],
      "metadata": {
        "id": "8G6hhje1sbBD"
      },
      "execution_count": 1,
      "outputs": []
    },
    {
      "cell_type": "code",
      "source": [
        "type(Myclass)"
      ],
      "metadata": {
        "colab": {
          "base_uri": "https://localhost:8080/"
        },
        "id": "aXJtUwRCFC9f",
        "outputId": "0b4f22c4-9d15-4635-9007-50db525a5782"
      },
      "execution_count": 2,
      "outputs": [
        {
          "output_type": "execute_result",
          "data": {
            "text/plain": [
              "type"
            ]
          },
          "metadata": {},
          "execution_count": 2
        }
      ]
    },
    {
      "cell_type": "code",
      "source": [
        "type(obj) # Object of class 'Myclass' is returned instead of string."
      ],
      "metadata": {
        "colab": {
          "base_uri": "https://localhost:8080/"
        },
        "id": "fo3XgPmYFJxI",
        "outputId": "4c2fe00d-d3d0-42c0-9cc6-8636e91a6ce3"
      },
      "execution_count": 3,
      "outputs": [
        {
          "output_type": "execute_result",
          "data": {
            "text/plain": [
              "__main__.Myclass"
            ]
          },
          "metadata": {},
          "execution_count": 3
        }
      ]
    },
    {
      "cell_type": "code",
      "source": [
        "isinstance(obj,Myclass) # Checking whether instance exists or not"
      ],
      "metadata": {
        "colab": {
          "base_uri": "https://localhost:8080/"
        },
        "id": "Fc-U2GmPFQdu",
        "outputId": "1dd64508-212b-4491-9415-4f25af760127"
      },
      "execution_count": 4,
      "outputs": [
        {
          "output_type": "execute_result",
          "data": {
            "text/plain": [
              "True"
            ]
          },
          "metadata": {},
          "execution_count": 4
        }
      ]
    },
    {
      "cell_type": "markdown",
      "source": [
        "#### ***Certain Attributes and Methods which Python supports Automatically :***"
      ],
      "metadata": {
        "id": "th6IoNKpGAI4"
      }
    },
    {
      "cell_type": "code",
      "source": [
        "Myclass.__name__ # returns \"name (state)\" of a class"
      ],
      "metadata": {
        "colab": {
          "base_uri": "https://localhost:8080/",
          "height": 36
        },
        "id": "wg69rKc5Fnnn",
        "outputId": "b5e6517b-1272-4ea8-e774-d0238cb0b4bf"
      },
      "execution_count": 5,
      "outputs": [
        {
          "output_type": "execute_result",
          "data": {
            "text/plain": [
              "'Myclass'"
            ],
            "application/vnd.google.colaboratory.intrinsic+json": {
              "type": "string"
            }
          },
          "metadata": {},
          "execution_count": 5
        }
      ]
    },
    {
      "cell_type": "code",
      "source": [
        "Myclass() # returns an instance (behaviour) of class"
      ],
      "metadata": {
        "colab": {
          "base_uri": "https://localhost:8080/"
        },
        "id": "VeNkfolGGj-u",
        "outputId": "769964f1-91bd-4dc3-f8d9-75cb322adca9"
      },
      "execution_count": 6,
      "outputs": [
        {
          "output_type": "execute_result",
          "data": {
            "text/plain": [
              "<__main__.Myclass at 0x7f40490097d0>"
            ]
          },
          "metadata": {},
          "execution_count": 6
        }
      ]
    },
    {
      "cell_type": "code",
      "source": [
        "obj.__class__ # returns class of the given instance"
      ],
      "metadata": {
        "colab": {
          "base_uri": "https://localhost:8080/"
        },
        "id": "uaZow3D-G9wO",
        "outputId": "5994c92b-bf2a-4809-b4f9-67522798f9fd"
      },
      "execution_count": 7,
      "outputs": [
        {
          "output_type": "execute_result",
          "data": {
            "text/plain": [
              "__main__.Myclass"
            ]
          },
          "metadata": {},
          "execution_count": 7
        }
      ]
    },
    {
      "cell_type": "code",
      "source": [
        "# Class Dictionary\n",
        "Myclass.__dict__ # A read-only dictionary"
      ],
      "metadata": {
        "colab": {
          "base_uri": "https://localhost:8080/"
        },
        "id": "jLlEglHkHZQ0",
        "outputId": "7e8f3c01-246e-404e-c956-1be6c0977b2b"
      },
      "execution_count": 8,
      "outputs": [
        {
          "output_type": "execute_result",
          "data": {
            "text/plain": [
              "mappingproxy({'__dict__': <attribute '__dict__' of 'Myclass' objects>,\n",
              "              '__doc__': None,\n",
              "              '__module__': '__main__',\n",
              "              '__weakref__': <attribute '__weakref__' of 'Myclass' objects>})"
            ]
          },
          "metadata": {},
          "execution_count": 8
        }
      ]
    },
    {
      "cell_type": "code",
      "source": [
        "# Object Dictionary\n",
        "obj.__dict__ # An Empty Dictionary and can be modified"
      ],
      "metadata": {
        "colab": {
          "base_uri": "https://localhost:8080/"
        },
        "id": "LtUsDIgsHkfS",
        "outputId": "bc60ea5b-b8c4-45ad-94b4-a7bbd12524b2"
      },
      "execution_count": 9,
      "outputs": [
        {
          "output_type": "execute_result",
          "data": {
            "text/plain": [
              "{}"
            ]
          },
          "metadata": {},
          "execution_count": 9
        }
      ]
    }
  ]
}