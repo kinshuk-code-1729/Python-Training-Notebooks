{
  "cells": [
    {
      "cell_type": "markdown",
      "metadata": {
        "id": "view-in-github",
        "colab_type": "text"
      },
      "source": [
        "<a href=\"https://colab.research.google.com/github/kinshuk-code-1729/Python-Training-Notebooks/blob/main/Day_08_PT04_Strings.ipynb\" target=\"_parent\"><img src=\"https://colab.research.google.com/assets/colab-badge.svg\" alt=\"Open In Colab\"/></a>"
      ]
    },
    {
      "cell_type": "markdown",
      "id": "76fd1a4f",
      "metadata": {
        "id": "76fd1a4f"
      },
      "source": [
        "# **Day 8 Notebook 4**\n",
        "## ***Strings***"
      ]
    },
    {
      "cell_type": "code",
      "execution_count": 1,
      "id": "99e78537",
      "metadata": {
        "colab": {
          "base_uri": "https://localhost:8080/"
        },
        "id": "99e78537",
        "outputId": "389764f0-336c-443d-f584-d9985a7c4f32"
      },
      "outputs": [
        {
          "output_type": "stream",
          "name": "stdout",
          "text": [
            "<class 'str'>\n",
            "<class 'str'>\n",
            "<class 'str'>\n",
            "<class 'str'>\n"
          ]
        }
      ],
      "source": [
        "mystr = 'Java'\n",
        "print(type(mystr))\n",
        "str2 = \"C++\"\n",
        "print(type(str2))\n",
        "str3 = '''JavaScript'''\n",
        "print(type(str3))\n",
        "str4 = \"\"\"Python\"\"\"\n",
        "print(type(str4))"
      ]
    },
    {
      "cell_type": "code",
      "execution_count": 2,
      "id": "0f818b02",
      "metadata": {
        "colab": {
          "base_uri": "https://localhost:8080/"
        },
        "id": "0f818b02",
        "outputId": "12492a88-4f84-4920-ba63-76bb1ffd9dfe"
      },
      "outputs": [
        {
          "output_type": "stream",
          "name": "stdout",
          "text": [
            "It's my book\n"
          ]
        }
      ],
      "source": [
        "mystr = '''It's my book'''\n",
        "print(mystr)"
      ]
    },
    {
      "cell_type": "code",
      "execution_count": 3,
      "id": "71a86da4",
      "metadata": {
        "colab": {
          "base_uri": "https://localhost:8080/"
        },
        "id": "71a86da4",
        "outputId": "28a5eeb1-8e51-42be-9363-7cd888178423"
      },
      "outputs": [
        {
          "output_type": "stream",
          "name": "stdout",
          "text": [
            "\"It's my book\"\n"
          ]
        }
      ],
      "source": [
        "mystr = '''\"It's my book\"'''\n",
        "print(mystr)"
      ]
    },
    {
      "cell_type": "code",
      "execution_count": 4,
      "id": "51da1010",
      "metadata": {
        "colab": {
          "base_uri": "https://localhost:8080/"
        },
        "id": "51da1010",
        "outputId": "fb231995-5f49-4cf8-b305-8c1086d0ed7e"
      },
      "outputs": [
        {
          "output_type": "stream",
          "name": "stdout",
          "text": [
            "'It's my book'\n"
          ]
        }
      ],
      "source": [
        "mystr = \"\"\"'It's my book'\"\"\"\n",
        "print(mystr)"
      ]
    },
    {
      "cell_type": "code",
      "execution_count": 5,
      "id": "25894bc3",
      "metadata": {
        "colab": {
          "base_uri": "https://localhost:8080/"
        },
        "id": "25894bc3",
        "outputId": "c2ec45a9-e620-45bf-daf5-f254f21f2f2c"
      },
      "outputs": [
        {
          "output_type": "stream",
          "name": "stdout",
          "text": [
            "It's my book\n"
          ]
        }
      ],
      "source": [
        "mystr = \"\"\"It's my book\"\"\"\n",
        "print(mystr)"
      ]
    },
    {
      "cell_type": "code",
      "execution_count": 6,
      "id": "ffe0e763",
      "metadata": {
        "colab": {
          "base_uri": "https://localhost:8080/",
          "height": 36
        },
        "id": "ffe0e763",
        "outputId": "e4eeedc3-a747-4747-da47-47bc1f68077a"
      },
      "outputs": [
        {
          "output_type": "execute_result",
          "data": {
            "text/plain": [
              "' Hey this\\n  is a \\n  Muliline\\n  Comment\\n'"
            ],
            "application/vnd.google.colaboratory.intrinsic+json": {
              "type": "string"
            }
          },
          "metadata": {},
          "execution_count": 6
        }
      ],
      "source": [
        "# I'm single line comment\n",
        "\n",
        "''' Hey this\n",
        "  is a \n",
        "  Muliline\n",
        "  Comment\n",
        "'''"
      ]
    },
    {
      "cell_type": "code",
      "execution_count": 7,
      "id": "2186d62b",
      "metadata": {
        "colab": {
          "base_uri": "https://localhost:8080/"
        },
        "id": "2186d62b",
        "outputId": "d7d1d547-cba2-4fe9-fe1e-6ed78e0428df"
      },
      "outputs": [
        {
          "output_type": "stream",
          "name": "stdout",
          "text": [
            "Python's my language\n"
          ]
        }
      ],
      "source": [
        "'''Docstring: It is a docstring'''\n",
        "str1 = \"\"\"Python's my language\"\"\"\n",
        "print(str1)"
      ]
    },
    {
      "cell_type": "code",
      "execution_count": 8,
      "id": "e407237f",
      "metadata": {
        "colab": {
          "base_uri": "https://localhost:8080/"
        },
        "id": "e407237f",
        "outputId": "dc9dc006-c34e-4e11-be42-b71860d69ad4"
      },
      "outputs": [
        {
          "output_type": "stream",
          "name": "stdout",
          "text": [
            "20\n"
          ]
        }
      ],
      "source": [
        "print(len(str1)) # Length of a string"
      ]
    },
    {
      "cell_type": "code",
      "execution_count": 9,
      "id": "65b909bd",
      "metadata": {
        "colab": {
          "base_uri": "https://localhost:8080/"
        },
        "id": "65b909bd",
        "outputId": "ca45a428-264e-4fd2-e52e-1aaa1dc8a5c6"
      },
      "outputs": [
        {
          "output_type": "stream",
          "name": "stdout",
          "text": [
            "PYTHON'S MY LANGUAGE\n"
          ]
        }
      ],
      "source": [
        "print(str1.upper()) # changes to uppercase"
      ]
    },
    {
      "cell_type": "code",
      "execution_count": 10,
      "id": "177720d6",
      "metadata": {
        "colab": {
          "base_uri": "https://localhost:8080/"
        },
        "id": "177720d6",
        "outputId": "3d756796-a4be-4943-f66a-1eb27fb99b82"
      },
      "outputs": [
        {
          "output_type": "stream",
          "name": "stdout",
          "text": [
            "python's my language\n"
          ]
        }
      ],
      "source": [
        "str4 = '''PYTHON'S MY LANGUAGE'''\n",
        "print(str4.lower()) # changes to lowercase"
      ]
    },
    {
      "cell_type": "code",
      "execution_count": 11,
      "id": "e116239f",
      "metadata": {
        "colab": {
          "base_uri": "https://localhost:8080/",
          "height": 36
        },
        "id": "e116239f",
        "outputId": "ba29bf36-35ae-4a7f-d815-2970145038fb"
      },
      "outputs": [
        {
          "output_type": "execute_result",
          "data": {
            "text/plain": [
              "\"Python's my language\""
            ],
            "application/vnd.google.colaboratory.intrinsic+json": {
              "type": "string"
            }
          },
          "metadata": {},
          "execution_count": 11
        }
      ],
      "source": [
        "str1.capitalize() # capitalizes 1st letter of of the first word in given string"
      ]
    },
    {
      "cell_type": "code",
      "execution_count": 12,
      "id": "0ff2007e",
      "metadata": {
        "colab": {
          "base_uri": "https://localhost:8080/",
          "height": 36
        },
        "id": "0ff2007e",
        "outputId": "a5ee7244-aff8-4000-80ce-5d5bf86a8fc4"
      },
      "outputs": [
        {
          "output_type": "execute_result",
          "data": {
            "text/plain": [
              "\"Python'S My Language\""
            ],
            "application/vnd.google.colaboratory.intrinsic+json": {
              "type": "string"
            }
          },
          "metadata": {},
          "execution_count": 12
        }
      ],
      "source": [
        "str4.title() # # capitalizes 1st letter of of the each word in given string"
      ]
    },
    {
      "cell_type": "code",
      "execution_count": 13,
      "id": "9216e467",
      "metadata": {
        "colab": {
          "base_uri": "https://localhost:8080/",
          "height": 36
        },
        "id": "9216e467",
        "outputId": "1b100c73-4b6b-4ffa-8bbe-0122e4f0fa47"
      },
      "outputs": [
        {
          "output_type": "execute_result",
          "data": {
            "text/plain": [
              "\"pYtHOn'S mY LANgUaGe\""
            ],
            "application/vnd.google.colaboratory.intrinsic+json": {
              "type": "string"
            }
          },
          "metadata": {},
          "execution_count": 13
        }
      ],
      "source": [
        "str2 = '''PyThoN's My lanGuAgE'''\n",
        "str2.swapcase() # swaps/inverts the case of each letter"
      ]
    },
    {
      "cell_type": "code",
      "execution_count": 14,
      "id": "bc4538c3",
      "metadata": {
        "colab": {
          "base_uri": "https://localhost:8080/"
        },
        "id": "bc4538c3",
        "outputId": "99b1fa51-ef59-4d49-f7e0-9a597a0a3f6c"
      },
      "outputs": [
        {
          "output_type": "stream",
          "name": "stdout",
          "text": [
            "False\n"
          ]
        }
      ],
      "source": [
        "s1 = 'Python is beautiful progamming language'\n",
        "print(s1.isdigit()) # check whether a digit is present in given string"
      ]
    },
    {
      "cell_type": "code",
      "execution_count": 15,
      "id": "8871294a",
      "metadata": {
        "colab": {
          "base_uri": "https://localhost:8080/"
        },
        "id": "8871294a",
        "outputId": "10a39b82-e52a-4fc9-a81c-f557104dbe05"
      },
      "outputs": [
        {
          "output_type": "stream",
          "name": "stdout",
          "text": [
            "True\n"
          ]
        }
      ],
      "source": [
        "s2 = '998' # purely numeric\n",
        "print(s2.isdigit())"
      ]
    },
    {
      "cell_type": "code",
      "execution_count": 16,
      "id": "bda70c36",
      "metadata": {
        "colab": {
          "base_uri": "https://localhost:8080/"
        },
        "id": "bda70c36",
        "outputId": "59150c98-3076-4f8a-bc17-750a4dc8d4a6"
      },
      "outputs": [
        {
          "output_type": "stream",
          "name": "stdout",
          "text": [
            "False\n"
          ]
        }
      ],
      "source": [
        "s2 = 'King998' # not purely numeric (text also present)\n",
        "print(s2.isdigit())"
      ]
    },
    {
      "cell_type": "code",
      "execution_count": 17,
      "id": "272e6cde",
      "metadata": {
        "colab": {
          "base_uri": "https://localhost:8080/"
        },
        "id": "272e6cde",
        "outputId": "eea67a16-9aac-4368-a7a5-8606d6b4504c"
      },
      "outputs": [
        {
          "output_type": "stream",
          "name": "stdout",
          "text": [
            "True\n"
          ]
        }
      ],
      "source": [
        "s2 = 'King'\n",
        "print(s2.isalpha()) # purely alphabetic"
      ]
    },
    {
      "cell_type": "code",
      "execution_count": 18,
      "id": "e64ea20d",
      "metadata": {
        "colab": {
          "base_uri": "https://localhost:8080/"
        },
        "id": "e64ea20d",
        "outputId": "d5d09ac9-46de-45b9-bfe1-433338c6fa94"
      },
      "outputs": [
        {
          "output_type": "stream",
          "name": "stdout",
          "text": [
            "True\n"
          ]
        }
      ],
      "source": [
        "s2 = 'King998'\n",
        "print(s2.isalnum()) # checks that both alphabets & digits are present in the string"
      ]
    },
    {
      "cell_type": "code",
      "execution_count": 19,
      "id": "e83a4f54",
      "metadata": {
        "colab": {
          "base_uri": "https://localhost:8080/"
        },
        "id": "e83a4f54",
        "outputId": "735294a8-a62e-4db3-af80-4dfcf4382a76"
      },
      "outputs": [
        {
          "output_type": "stream",
          "name": "stdout",
          "text": [
            "True\n"
          ]
        }
      ],
      "source": [
        "kstr = ' '\n",
        "print(kstr.isspace()) # checks if space present in between the strings"
      ]
    },
    {
      "cell_type": "code",
      "execution_count": 20,
      "id": "14ae535e",
      "metadata": {
        "colab": {
          "base_uri": "https://localhost:8080/"
        },
        "id": "14ae535e",
        "outputId": "6b220caa-6e7c-4214-dc37-293424dc8888"
      },
      "outputs": [
        {
          "output_type": "stream",
          "name": "stdout",
          "text": [
            "False\n"
          ]
        }
      ],
      "source": [
        "kstr = ''\n",
        "print(kstr.isspace())"
      ]
    },
    {
      "cell_type": "code",
      "execution_count": 21,
      "id": "e54beac7",
      "metadata": {
        "colab": {
          "base_uri": "https://localhost:8080/"
        },
        "id": "e54beac7",
        "outputId": "6e32e495-734e-4397-fbcd-731fde09fabc"
      },
      "outputs": [
        {
          "output_type": "stream",
          "name": "stdout",
          "text": [
            "True\n"
          ]
        }
      ],
      "source": [
        "st1 = 'Python235'\n",
        "print(st1.startswith('P')) # checks for first letter of string"
      ]
    },
    {
      "cell_type": "code",
      "execution_count": 22,
      "id": "36a63584",
      "metadata": {
        "colab": {
          "base_uri": "https://localhost:8080/"
        },
        "id": "36a63584",
        "outputId": "29e6abad-5a4e-468e-ae46-c6b0b020f88d"
      },
      "outputs": [
        {
          "output_type": "stream",
          "name": "stdout",
          "text": [
            "False\n"
          ]
        }
      ],
      "source": [
        "st1 = 'Python235'\n",
        "print(st1.startswith('J'))"
      ]
    },
    {
      "cell_type": "code",
      "execution_count": 23,
      "id": "ddc404de",
      "metadata": {
        "colab": {
          "base_uri": "https://localhost:8080/"
        },
        "id": "ddc404de",
        "outputId": "b00294c9-e683-45dc-86d5-86a94b0de3b2"
      },
      "outputs": [
        {
          "output_type": "stream",
          "name": "stdout",
          "text": [
            "True\n"
          ]
        }
      ],
      "source": [
        "st1 = 'Python235'\n",
        "print(st1.endswith('235')) # checks for last letter of string"
      ]
    },
    {
      "cell_type": "code",
      "execution_count": 24,
      "id": "77e14263",
      "metadata": {
        "colab": {
          "base_uri": "https://localhost:8080/"
        },
        "id": "77e14263",
        "outputId": "dc7b5e7f-ba9b-4998-bcab-423ddea9754b"
      },
      "outputs": [
        {
          "output_type": "stream",
          "name": "stdout",
          "text": [
            "False\n"
          ]
        }
      ],
      "source": [
        "st1 = 'Python235'\n",
        "print(st1.endswith('2354'))"
      ]
    },
    {
      "cell_type": "code",
      "execution_count": 25,
      "id": "adf69dc3",
      "metadata": {
        "colab": {
          "base_uri": "https://localhost:8080/"
        },
        "id": "adf69dc3",
        "outputId": "1200600d-cb21-4275-e3e1-e3951dc797e2"
      },
      "outputs": [
        {
          "output_type": "stream",
          "name": "stdout",
          "text": [
            "15\n"
          ]
        }
      ],
      "source": [
        "st1 = 'Python is very awesome'\n",
        "print(st1.find('awesome')) # finds a particular portion (substring) in given string"
      ]
    },
    {
      "cell_type": "code",
      "execution_count": 26,
      "id": "9a564ad5",
      "metadata": {
        "colab": {
          "base_uri": "https://localhost:8080/"
        },
        "id": "9a564ad5",
        "outputId": "7c01120d-5dcc-4dc6-b1ab-10ed3e43b16c"
      },
      "outputs": [
        {
          "output_type": "stream",
          "name": "stdout",
          "text": [
            "Python is very awesome\n",
            "Python is very easy\n"
          ]
        }
      ],
      "source": [
        "st1 = 'Python is very awesome'\n",
        "print(st1)\n",
        "print(st1.replace('awesome','easy')) # replaces a substring with new substring"
      ]
    },
    {
      "cell_type": "code",
      "execution_count": 27,
      "id": "9cb94360",
      "metadata": {
        "colab": {
          "base_uri": "https://localhost:8080/"
        },
        "id": "9cb94360",
        "outputId": "2293e827-06e7-435e-9716-67fd249ed4de"
      },
      "outputs": [
        {
          "output_type": "stream",
          "name": "stdout",
          "text": [
            "Python is very awesome\n",
            "python is very easy\n"
          ]
        }
      ],
      "source": [
        "st1 = 'Python is very awesome'\n",
        "print(st1)\n",
        "print(st1.replace('awesome','easy').lower())"
      ]
    },
    {
      "cell_type": "code",
      "execution_count": 28,
      "id": "8e674396",
      "metadata": {
        "colab": {
          "base_uri": "https://localhost:8080/"
        },
        "id": "8e674396",
        "outputId": "5a968473-c0d1-474b-a2b3-8a52609bff34"
      },
      "outputs": [
        {
          "output_type": "stream",
          "name": "stdout",
          "text": [
            "Python is very awesome\n",
            "['Python', 'is', 'very', 'awesome']\n"
          ]
        }
      ],
      "source": [
        "st1 = 'Python is very awesome'\n",
        "print(st1)\n",
        "print(st1.split()) # creates a list of words of string"
      ]
    },
    {
      "cell_type": "code",
      "execution_count": 29,
      "id": "03ee1d12",
      "metadata": {
        "colab": {
          "base_uri": "https://localhost:8080/"
        },
        "id": "03ee1d12",
        "outputId": "c5cf9dd2-3fec-4aa2-d528-9c2561729d8c"
      },
      "outputs": [
        {
          "output_type": "stream",
          "name": "stdout",
          "text": [
            "C++\n",
            "['C++']\n"
          ]
        }
      ],
      "source": [
        "st1 = 'C++'\n",
        "print(st1)\n",
        "print(st1.split()) # if single word present then list will contain that word as a single element"
      ]
    },
    {
      "cell_type": "code",
      "execution_count": 30,
      "id": "f71457d9",
      "metadata": {
        "colab": {
          "base_uri": "https://localhost:8080/"
        },
        "id": "f71457d9",
        "outputId": "2b1d7a8a-0360-4e51-f865-af0f5aaf6f87"
      },
      "outputs": [
        {
          "output_type": "stream",
          "name": "stdout",
          "text": [
            "Python is very awesome\n",
            "P~y~t~h~o~n~ ~i~s~ ~v~e~r~y~ ~a~w~e~s~o~m~e\n"
          ]
        }
      ],
      "source": [
        "st1 = 'Python is very awesome'\n",
        "print(st1)\n",
        "print('~'.join(st1)) # joins the string elements using join parameter"
      ]
    },
    {
      "cell_type": "markdown",
      "id": "628b45b1",
      "metadata": {
        "id": "628b45b1"
      },
      "source": [
        "### ***Program to create a random list of numbers from 1 to 50. Prompt the user to select a number at runtime. Check how many numbers in the list are divisible by this user selected number.***"
      ]
    },
    {
      "cell_type": "code",
      "execution_count": 31,
      "id": "e20fd9cd",
      "metadata": {
        "colab": {
          "base_uri": "https://localhost:8080/"
        },
        "id": "e20fd9cd",
        "outputId": "fb4ae4fa-0574-4745-8be7-7d17838994bd"
      },
      "outputs": [
        {
          "output_type": "stream",
          "name": "stdout",
          "text": [
            "Enter any number :7\n",
            "List of elements divisible by 7 : [7, 14, 21, 28, 35, 42, 49]\n",
            "Upto 50 Total 7 numbers are divisible by 7\n"
          ]
        }
      ],
      "source": [
        "lst = list(range(1,51))\n",
        "num = int(input(\"Enter any number :\"))\n",
        "k = 0\n",
        "lst2 = []\n",
        "for elt in lst:\n",
        "    if elt % num == 0:\n",
        "        lst2.append(elt)\n",
        "        k += 1\n",
        "print(\"List of elements divisible by\",num,\":\",lst2)\n",
        "print(\"Upto 50 Total\",k,\"numbers are divisible by\",num)"
      ]
    },
    {
      "cell_type": "code",
      "execution_count": 32,
      "id": "6cc50cce",
      "metadata": {
        "colab": {
          "base_uri": "https://localhost:8080/"
        },
        "id": "6cc50cce",
        "outputId": "77eed29d-2e1a-4883-f7f0-5d6231efc6cb"
      },
      "outputs": [
        {
          "output_type": "stream",
          "name": "stdout",
          "text": [
            "[1, 2, 3, 4, 5, 6, 7, 8, 9, 10, 11, 12, 13, 14, 15, 16, 17, 18, 19, 20, 21, 22, 23, 24, 25, 26, 27, 28, 29, 30, 31, 32, 33, 34, 35, 36, 37, 38, 39, 40, 41, 42, 43, 44, 45, 46, 47, 48, 49, 50]\n"
          ]
        }
      ],
      "source": [
        "print(list(range(1,51)))"
      ]
    },
    {
      "cell_type": "markdown",
      "id": "e384ccad",
      "metadata": {
        "id": "e384ccad"
      },
      "source": [
        "### ***Program to add all the digits from a given string.***"
      ]
    },
    {
      "cell_type": "code",
      "execution_count": 33,
      "id": "b1db031d",
      "metadata": {
        "colab": {
          "base_uri": "https://localhost:8080/"
        },
        "id": "b1db031d",
        "outputId": "0dd6bcf0-7087-4ec4-bf9e-9f83c999a809"
      },
      "outputs": [
        {
          "output_type": "stream",
          "name": "stdout",
          "text": [
            "['Python', 'was', 'introduced', 'in', '1989', 'but', 'was', 'officially', 'released', 'in', '1991']\n"
          ]
        }
      ],
      "source": [
        "pg = 'Python was introduced in 1989 but was officially released in 1991'\n",
        "print(pg.split())"
      ]
    },
    {
      "cell_type": "code",
      "execution_count": 34,
      "id": "d22f7100",
      "metadata": {
        "colab": {
          "base_uri": "https://localhost:8080/"
        },
        "id": "d22f7100",
        "outputId": "67fb6190-255d-469a-dfc3-457b936f2124"
      },
      "outputs": [
        {
          "output_type": "stream",
          "name": "stdout",
          "text": [
            "[1989, 1991]\n"
          ]
        }
      ],
      "source": [
        "ds = [int(j) for j in pg.split() if j.isdigit()]\n",
        "print(ds)"
      ]
    },
    {
      "cell_type": "code",
      "execution_count": 35,
      "id": "2cc201a1",
      "metadata": {
        "colab": {
          "base_uri": "https://localhost:8080/"
        },
        "id": "2cc201a1",
        "outputId": "2fcbf628-f3c9-42e7-b27a-b6bb78811bdc"
      },
      "outputs": [
        {
          "output_type": "stream",
          "name": "stdout",
          "text": [
            "3980\n"
          ]
        }
      ],
      "source": [
        "print(sum(ds))"
      ]
    },
    {
      "cell_type": "markdown",
      "id": "cbd83a94",
      "metadata": {
        "id": "cbd83a94"
      },
      "source": [
        "## Python String Formatters"
      ]
    },
    {
      "cell_type": "code",
      "execution_count": 36,
      "id": "3138c51d",
      "metadata": {
        "colab": {
          "base_uri": "https://localhost:8080/"
        },
        "id": "3138c51d",
        "outputId": "cdd883b8-71a9-4965-d5dc-76764c347cfc"
      },
      "outputs": [
        {
          "output_type": "stream",
          "name": "stdout",
          "text": [
            "I am Kinshuk . I am from Bengal\n"
          ]
        }
      ],
      "source": [
        "name = 'Kinshuk'\n",
        "place = 'Bengal'\n",
        "print('I am',name,'. I am from',place)"
      ]
    },
    {
      "cell_type": "code",
      "execution_count": 37,
      "id": "67e6f54c",
      "metadata": {
        "colab": {
          "base_uri": "https://localhost:8080/"
        },
        "id": "67e6f54c",
        "outputId": "6688ef12-ac4d-4939-f8f1-ec355c084d7d"
      },
      "outputs": [
        {
          "output_type": "stream",
          "name": "stdout",
          "text": [
            "I am Kinshuk and I am from Bengal\n"
          ]
        }
      ],
      "source": [
        "print(f'I am {name} and I am from {place}') # 'f' is string formatter"
      ]
    },
    {
      "cell_type": "code",
      "execution_count": 38,
      "id": "d78b390e",
      "metadata": {
        "colab": {
          "base_uri": "https://localhost:8080/"
        },
        "id": "d78b390e",
        "outputId": "8d30e109-8429-4a3c-fb32-3b27332235fa"
      },
      "outputs": [
        {
          "output_type": "stream",
          "name": "stdout",
          "text": [
            "I am Bengal and I am from Kinshuk\n"
          ]
        }
      ],
      "source": [
        "print(f'I am {place} and I am from {name}')"
      ]
    },
    {
      "cell_type": "code",
      "execution_count": 39,
      "id": "32c3874e",
      "metadata": {
        "colab": {
          "base_uri": "https://localhost:8080/",
          "height": 130
        },
        "id": "32c3874e",
        "outputId": "b174b118-c593-48c9-9d49-15de3ca71e2f"
      },
      "outputs": [
        {
          "output_type": "error",
          "ename": "SyntaxError",
          "evalue": "ignored",
          "traceback": [
            "\u001b[0;36m  File \u001b[0;32m\"<ipython-input-39-b45527cd76f2>\"\u001b[0;36m, line \u001b[0;32m1\u001b[0m\n\u001b[0;31m    print(f 'I am {name} and I am from {place}') # extra space between 'f' and string gives error\u001b[0m\n\u001b[0m                                              ^\u001b[0m\n\u001b[0;31mSyntaxError\u001b[0m\u001b[0;31m:\u001b[0m invalid syntax\n"
          ]
        }
      ],
      "source": [
        "print(f 'I am {name} and I am from {place}') # extra space between 'f' and string gives error"
      ]
    },
    {
      "cell_type": "code",
      "execution_count": 40,
      "id": "f73672dc",
      "metadata": {
        "colab": {
          "base_uri": "https://localhost:8080/"
        },
        "id": "f73672dc",
        "outputId": "54f1b728-b29e-4832-9017-1f19d116fe1f"
      },
      "outputs": [
        {
          "output_type": "stream",
          "name": "stdout",
          "text": [
            "I am Kinshuk and I am from Bengal\n"
          ]
        }
      ],
      "source": [
        "print('I am %s and I am from %s'%(name, place)) # C-style formatting"
      ]
    },
    {
      "cell_type": "code",
      "execution_count": 41,
      "id": "eaf8cefe",
      "metadata": {
        "colab": {
          "base_uri": "https://localhost:8080/"
        },
        "id": "eaf8cefe",
        "outputId": "9753c097-6b03-4cea-99cd-e183f41009b5"
      },
      "outputs": [
        {
          "output_type": "stream",
          "name": "stdout",
          "text": [
            "I am Kinshuk and I am from Bengal\n"
          ]
        }
      ],
      "source": [
        "print('I am {0} and I am from {1}'.format(name, place)) # index-formatting"
      ]
    },
    {
      "cell_type": "code",
      "execution_count": 42,
      "id": "6287167e",
      "metadata": {
        "colab": {
          "base_uri": "https://localhost:8080/"
        },
        "id": "6287167e",
        "outputId": "e29ba9e4-801b-415d-b6d5-9b5a85c61f03"
      },
      "outputs": [
        {
          "output_type": "stream",
          "name": "stdout",
          "text": [
            "I am Bengal and I am from Kinshuk\n"
          ]
        }
      ],
      "source": [
        "print('I am {0} and I am from {1}'.format(place, name))"
      ]
    },
    {
      "cell_type": "code",
      "execution_count": 43,
      "id": "9657af39",
      "metadata": {
        "colab": {
          "base_uri": "https://localhost:8080/"
        },
        "id": "9657af39",
        "outputId": "6abdf731-c8e3-4c54-f52a-e9139a236761"
      },
      "outputs": [
        {
          "output_type": "stream",
          "name": "stdout",
          "text": [
            "I am Bengal and I am from Kinshuk\n"
          ]
        }
      ],
      "source": [
        "print('I am {1} and I am from {0}'.format(name, place))"
      ]
    },
    {
      "cell_type": "code",
      "execution_count": 44,
      "id": "6b3d2857",
      "metadata": {
        "colab": {
          "base_uri": "https://localhost:8080/"
        },
        "id": "6b3d2857",
        "outputId": "c1dd1ce8-fa2f-497a-e128-03500836d974"
      },
      "outputs": [
        {
          "output_type": "stream",
          "name": "stdout",
          "text": [
            "I am Kinshuk and I am from Bengal\n"
          ]
        }
      ],
      "source": [
        "print('I am {} and I am from {}'.format(name, place)) # by default indices are in order : 0,1."
      ]
    },
    {
      "cell_type": "code",
      "execution_count": 45,
      "id": "0d81f510",
      "metadata": {
        "colab": {
          "base_uri": "https://localhost:8080/",
          "height": 165
        },
        "id": "0d81f510",
        "outputId": "49bc9869-97e5-4a76-8404-4cb7f091f1b4"
      },
      "outputs": [
        {
          "output_type": "error",
          "ename": "IndexError",
          "evalue": "ignored",
          "traceback": [
            "\u001b[0;31m---------------------------------------------------------------------------\u001b[0m",
            "\u001b[0;31mIndexError\u001b[0m                                Traceback (most recent call last)",
            "\u001b[0;32m<ipython-input-45-7200499b5a28>\u001b[0m in \u001b[0;36m<module>\u001b[0;34m()\u001b[0m\n\u001b[0;32m----> 1\u001b[0;31m \u001b[0mprint\u001b[0m\u001b[0;34m(\u001b[0m\u001b[0;34m'I am {1} and I am from {2}'\u001b[0m\u001b[0;34m.\u001b[0m\u001b[0mformat\u001b[0m\u001b[0;34m(\u001b[0m\u001b[0mname\u001b[0m\u001b[0;34m,\u001b[0m \u001b[0mplace\u001b[0m\u001b[0;34m)\u001b[0m\u001b[0;34m)\u001b[0m \u001b[0;31m# index starts from ero only and ends at 'n-1'.\u001b[0m\u001b[0;34m\u001b[0m\u001b[0;34m\u001b[0m\u001b[0m\n\u001b[0m",
            "\u001b[0;31mIndexError\u001b[0m: tuple index out of range"
          ]
        }
      ],
      "source": [
        "print('I am {1} and I am from {2}'.format(name, place)) # index starts from ero only and ends at 'n-1'."
      ]
    },
    {
      "cell_type": "code",
      "execution_count": 46,
      "id": "34587887",
      "metadata": {
        "colab": {
          "base_uri": "https://localhost:8080/"
        },
        "id": "34587887",
        "outputId": "d111bef8-39a7-4c78-a9d4-fc5a29fa5c02"
      },
      "outputs": [
        {
          "output_type": "stream",
          "name": "stdout",
          "text": [
            "000Kinshuk\n"
          ]
        }
      ],
      "source": [
        "name = 'Kinshuk'\n",
        "print(name.zfill(10)) # zfill --> zero fill"
      ]
    },
    {
      "cell_type": "code",
      "execution_count": 47,
      "id": "3d6eccd8",
      "metadata": {
        "colab": {
          "base_uri": "https://localhost:8080/"
        },
        "id": "3d6eccd8",
        "outputId": "97c29fdb-3ce2-4af2-975b-69ffa7384d75"
      },
      "outputs": [
        {
          "output_type": "stream",
          "name": "stdout",
          "text": [
            "00000000Kinshuk\n"
          ]
        }
      ],
      "source": [
        "name = 'Kinshuk'\n",
        "print(name.zfill(15))"
      ]
    },
    {
      "cell_type": "code",
      "execution_count": 48,
      "id": "e164732b",
      "metadata": {
        "colab": {
          "base_uri": "https://localhost:8080/"
        },
        "id": "e164732b",
        "outputId": "30bb581c-cbc2-4a7d-edef-f4cb1f3463b8"
      },
      "outputs": [
        {
          "output_type": "stream",
          "name": "stdout",
          "text": [
            "0000Haward\n"
          ]
        }
      ],
      "source": [
        "name = 'Haward'\n",
        "print(name.zfill(10))"
      ]
    },
    {
      "cell_type": "code",
      "execution_count": 49,
      "id": "74646ffb",
      "metadata": {
        "colab": {
          "base_uri": "https://localhost:8080/"
        },
        "id": "74646ffb",
        "outputId": "9bd144d2-ce31-4c9c-fdd9-6849d53f946d"
      },
      "outputs": [
        {
          "output_type": "stream",
          "name": "stdout",
          "text": [
            "    Upadhyay   \n"
          ]
        }
      ],
      "source": [
        "name = 'Upadhyay'\n",
        "print(name.center(15)) # center alignment"
      ]
    },
    {
      "cell_type": "code",
      "execution_count": 50,
      "id": "0e27493f",
      "metadata": {
        "colab": {
          "base_uri": "https://localhost:8080/"
        },
        "id": "0e27493f",
        "outputId": "4967fdb4-64be-4285-8eb1-55d8db9ab08a"
      },
      "outputs": [
        {
          "output_type": "stream",
          "name": "stdout",
          "text": [
            "****Upadhyay***\n"
          ]
        }
      ],
      "source": [
        "name = 'Upadhyay'\n",
        "print(name.center(15,'*')) # center alignment with argument"
      ]
    },
    {
      "cell_type": "code",
      "execution_count": 51,
      "id": "d7dd4453",
      "metadata": {
        "colab": {
          "base_uri": "https://localhost:8080/"
        },
        "id": "d7dd4453",
        "outputId": "099da41f-2658-43af-ee24-2d9ad1165e3c"
      },
      "outputs": [
        {
          "output_type": "stream",
          "name": "stdout",
          "text": [
            "*******Upadhyay\n"
          ]
        }
      ],
      "source": [
        "name = 'Upadhyay'\n",
        "print(name.rjust(15,'*')) # right justification"
      ]
    },
    {
      "cell_type": "code",
      "execution_count": 52,
      "id": "3928aa32",
      "metadata": {
        "colab": {
          "base_uri": "https://localhost:8080/"
        },
        "id": "3928aa32",
        "outputId": "61f13b56-3d2c-490c-9d6e-6b908af6e4aa"
      },
      "outputs": [
        {
          "output_type": "stream",
          "name": "stdout",
          "text": [
            "Upadhyay*******\n"
          ]
        }
      ],
      "source": [
        "name = 'Upadhyay'\n",
        "print(name.ljust(15,'*')) # left justification"
      ]
    },
    {
      "cell_type": "code",
      "execution_count": 53,
      "id": "ba7fc31d",
      "metadata": {
        "colab": {
          "base_uri": "https://localhost:8080/"
        },
        "id": "ba7fc31d",
        "outputId": "d4f1803b-37f9-4769-c766-ea5ce31b84f9"
      },
      "outputs": [
        {
          "output_type": "stream",
          "name": "stdout",
          "text": [
            "  Sudesh  \n",
            "Sudesh\n"
          ]
        }
      ],
      "source": [
        "mystr = '  Sudesh  '\n",
        "print(mystr)\n",
        "print(mystr.strip()) # removes spaces from both left and right positions"
      ]
    },
    {
      "cell_type": "code",
      "execution_count": 54,
      "id": "c630d8a7",
      "metadata": {
        "colab": {
          "base_uri": "https://localhost:8080/"
        },
        "id": "c630d8a7",
        "outputId": "01bc6de4-357c-42fa-f731-342b67328fa2"
      },
      "outputs": [
        {
          "output_type": "stream",
          "name": "stdout",
          "text": [
            "  Sudesh  \n",
            "Sudesh  \n"
          ]
        }
      ],
      "source": [
        "mystr = '  Sudesh  '\n",
        "print(mystr)\n",
        "print(mystr.lstrip()) # removes spaces from left side"
      ]
    },
    {
      "cell_type": "code",
      "execution_count": 55,
      "id": "81b9c232",
      "metadata": {
        "colab": {
          "base_uri": "https://localhost:8080/"
        },
        "id": "81b9c232",
        "outputId": "ac0d7861-053d-4a17-fb5a-3d81a26a129e"
      },
      "outputs": [
        {
          "output_type": "stream",
          "name": "stdout",
          "text": [
            "  Sudesh  \n",
            "  Sudesh\n"
          ]
        }
      ],
      "source": [
        "mystr = '  Sudesh  '\n",
        "print(mystr)\n",
        "print(mystr.rstrip()) # removes spaces from left side"
      ]
    },
    {
      "cell_type": "markdown",
      "id": "ac68d051",
      "metadata": {
        "id": "ac68d051"
      },
      "source": [
        "## **Concatenation** "
      ]
    },
    {
      "cell_type": "code",
      "execution_count": 56,
      "id": "c64471b8",
      "metadata": {
        "colab": {
          "base_uri": "https://localhost:8080/"
        },
        "id": "c64471b8",
        "outputId": "1611c618-9ed8-4c05-982d-656269e59505"
      },
      "outputs": [
        {
          "output_type": "stream",
          "name": "stdout",
          "text": [
            "KinshukBanerjee\n"
          ]
        }
      ],
      "source": [
        "fname = 'Kinshuk'\n",
        "lname = 'Banerjee'\n",
        "print(fname + lname)"
      ]
    },
    {
      "cell_type": "code",
      "execution_count": 57,
      "id": "9d8f9fb8",
      "metadata": {
        "colab": {
          "base_uri": "https://localhost:8080/"
        },
        "id": "9d8f9fb8",
        "outputId": "1280b1f2-e23e-434f-fdb2-8f51cd53a17c"
      },
      "outputs": [
        {
          "output_type": "stream",
          "name": "stdout",
          "text": [
            "Kinshuk Banerjee\n"
          ]
        }
      ],
      "source": [
        "fname = 'Kinshuk'\n",
        "lname = ' Banerjee' # adding space\n",
        "print(fname + lname)"
      ]
    },
    {
      "cell_type": "code",
      "execution_count": 58,
      "id": "0478f59e",
      "metadata": {
        "colab": {
          "base_uri": "https://localhost:8080/"
        },
        "id": "0478f59e",
        "outputId": "92018a60-aaf3-4f64-b778-a2a702a08004"
      },
      "outputs": [
        {
          "output_type": "stream",
          "name": "stdout",
          "text": [
            "Kinshuk Banerjee\n"
          ]
        }
      ],
      "source": [
        "fname = 'Kinshuk ' # adding space\n",
        "lname = 'Banerjee'\n",
        "print(fname + lname)"
      ]
    },
    {
      "cell_type": "code",
      "execution_count": 59,
      "id": "1a865a56",
      "metadata": {
        "colab": {
          "base_uri": "https://localhost:8080/"
        },
        "id": "1a865a56",
        "outputId": "f3a49ce8-176d-45fc-a2ae-00334c6eb956"
      },
      "outputs": [
        {
          "output_type": "stream",
          "name": "stdout",
          "text": [
            "KinshukBanerjee\n"
          ]
        }
      ],
      "source": [
        "name = 'Kinshuk' 'Banerjee' # auto concatenation\n",
        "print(name)"
      ]
    },
    {
      "cell_type": "code",
      "execution_count": 60,
      "id": "8e7065c7",
      "metadata": {
        "colab": {
          "base_uri": "https://localhost:8080/"
        },
        "id": "8e7065c7",
        "outputId": "8ebe03b8-99e8-4d32-d6fe-80b410af8fa6"
      },
      "outputs": [
        {
          "output_type": "stream",
          "name": "stdout",
          "text": [
            "False\n"
          ]
        }
      ],
      "source": [
        "print('Kinshuk'<'Ishan') # comparing ASCII Values"
      ]
    },
    {
      "cell_type": "code",
      "execution_count": 61,
      "id": "dcee34ac",
      "metadata": {
        "colab": {
          "base_uri": "https://localhost:8080/"
        },
        "id": "dcee34ac",
        "outputId": "70ec6781-3a81-4317-8bc1-6cc3b18619ca"
      },
      "outputs": [
        {
          "output_type": "stream",
          "name": "stdout",
          "text": [
            "True\n"
          ]
        }
      ],
      "source": [
        "print('Kinshuk'<'Pranav') # comparing ASCII Values"
      ]
    },
    {
      "cell_type": "code",
      "execution_count": 62,
      "id": "26c0de5b",
      "metadata": {
        "colab": {
          "base_uri": "https://localhost:8080/"
        },
        "id": "26c0de5b",
        "outputId": "17ec0498-aed7-4da5-822a-6757af0bc78d"
      },
      "outputs": [
        {
          "output_type": "stream",
          "name": "stdout",
          "text": [
            "False\n"
          ]
        }
      ],
      "source": [
        "str1 = 'I am a tablist'\n",
        "print('guitarist' in str1) # membership operators in strings"
      ]
    },
    {
      "cell_type": "code",
      "execution_count": 63,
      "id": "ec21c051",
      "metadata": {
        "colab": {
          "base_uri": "https://localhost:8080/"
        },
        "id": "ec21c051",
        "outputId": "6a490719-867e-4747-e0da-24966c453ddd"
      },
      "outputs": [
        {
          "output_type": "stream",
          "name": "stdout",
          "text": [
            "True\n"
          ]
        }
      ],
      "source": [
        "str1 = 'I am a tablist'\n",
        "print('tablist' in str1) # membership operators in strings"
      ]
    },
    {
      "cell_type": "markdown",
      "id": "f917a1d0",
      "metadata": {
        "id": "f917a1d0"
      },
      "source": [
        "## **String Slicing**"
      ]
    },
    {
      "cell_type": "code",
      "execution_count": 64,
      "id": "2fa4e453",
      "metadata": {
        "colab": {
          "base_uri": "https://localhost:8080/"
        },
        "id": "2fa4e453",
        "outputId": "e40cccea-e6d5-474a-9d27-670a79be3cfb"
      },
      "outputs": [
        {
          "output_type": "stream",
          "name": "stdout",
          "text": [
            "m\n"
          ]
        }
      ],
      "source": [
        "str1 = 'I am a tablist'\n",
        "print(str1[3]) # positive indexing"
      ]
    },
    {
      "cell_type": "code",
      "execution_count": 65,
      "id": "b5a25d45",
      "metadata": {
        "colab": {
          "base_uri": "https://localhost:8080/"
        },
        "id": "b5a25d45",
        "outputId": "f681bd7e-b96e-409f-be06-9b0a55b6eca5"
      },
      "outputs": [
        {
          "output_type": "stream",
          "name": "stdout",
          "text": [
            "I am a\n"
          ]
        }
      ],
      "source": [
        "str1 = 'I am a tablist'\n",
        "print(str1[0:6]) # start & stop values"
      ]
    },
    {
      "cell_type": "code",
      "execution_count": 66,
      "id": "246be0da",
      "metadata": {
        "colab": {
          "base_uri": "https://localhost:8080/"
        },
        "id": "246be0da",
        "outputId": "b4d103e6-46da-48a0-c2f4-a2cbbcc25095"
      },
      "outputs": [
        {
          "output_type": "stream",
          "name": "stdout",
          "text": [
            "b\n"
          ]
        }
      ],
      "source": [
        "str1 = 'I am a tablist'\n",
        "print(str1[-5]) # negative indexing"
      ]
    },
    {
      "cell_type": "code",
      "execution_count": 67,
      "id": "3045ee38",
      "metadata": {
        "colab": {
          "base_uri": "https://localhost:8080/",
          "height": 182
        },
        "id": "3045ee38",
        "outputId": "73d016c2-61f8-4ec6-b319-d6c38b870bd6"
      },
      "outputs": [
        {
          "output_type": "error",
          "ename": "TypeError",
          "evalue": "ignored",
          "traceback": [
            "\u001b[0;31m---------------------------------------------------------------------------\u001b[0m",
            "\u001b[0;31mTypeError\u001b[0m                                 Traceback (most recent call last)",
            "\u001b[0;32m<ipython-input-67-54ec0f5d6340>\u001b[0m in \u001b[0;36m<module>\u001b[0;34m()\u001b[0m\n\u001b[0;32m----> 1\u001b[0;31m \u001b[0mstr1\u001b[0m\u001b[0;34m[\u001b[0m\u001b[0;36m4\u001b[0m\u001b[0;34m]\u001b[0m \u001b[0;34m=\u001b[0m \u001b[0;34m'King'\u001b[0m\u001b[0;34m\u001b[0m\u001b[0;34m\u001b[0m\u001b[0m\n\u001b[0m\u001b[1;32m      2\u001b[0m \u001b[0mprint\u001b[0m\u001b[0;34m(\u001b[0m\u001b[0mstr1\u001b[0m\u001b[0;34m)\u001b[0m \u001b[0;31m# 'str' object does not support item assignment\u001b[0m\u001b[0;34m\u001b[0m\u001b[0;34m\u001b[0m\u001b[0m\n",
            "\u001b[0;31mTypeError\u001b[0m: 'str' object does not support item assignment"
          ]
        }
      ],
      "source": [
        "str1[4] = 'King'\n",
        "print(str1) # 'str' object does not support item assignment"
      ]
    }
  ],
  "metadata": {
    "kernelspec": {
      "display_name": "Python 3 (ipykernel)",
      "language": "python",
      "name": "python3"
    },
    "language_info": {
      "codemirror_mode": {
        "name": "ipython",
        "version": 3
      },
      "file_extension": ".py",
      "mimetype": "text/x-python",
      "name": "python",
      "nbconvert_exporter": "python",
      "pygments_lexer": "ipython3",
      "version": "3.10.0"
    },
    "colab": {
      "name": "Day_08_PT04-Strings.ipynb",
      "provenance": [],
      "include_colab_link": true
    }
  },
  "nbformat": 4,
  "nbformat_minor": 5
}