{
  "nbformat": 4,
  "nbformat_minor": 0,
  "metadata": {
    "colab": {
      "name": "Day_03_PT.ipynb",
      "private_outputs": true,
      "provenance": [],
      "collapsed_sections": [],
      "authorship_tag": "ABX9TyMGgHdbUW2UHo0sMYEcrk8U",
      "include_colab_link": true
    },
    "kernelspec": {
      "name": "python3",
      "display_name": "Python 3"
    },
    "language_info": {
      "name": "python"
    }
  },
  "cells": [
    {
      "cell_type": "markdown",
      "metadata": {
        "id": "view-in-github",
        "colab_type": "text"
      },
      "source": [
        "<a href=\"https://colab.research.google.com/github/kinshuk-code-1729/Python-Training-Notebooks/blob/main/Day_03_PT.ipynb\" target=\"_parent\"><img src=\"https://colab.research.google.com/assets/colab-badge.svg\" alt=\"Open In Colab\"/></a>"
      ]
    },
    {
      "cell_type": "markdown",
      "source": [
        "# ***DAY 3 Notebook***"
      ],
      "metadata": {
        "id": "wmpBVIAT175g"
      }
    },
    {
      "cell_type": "markdown",
      "source": [
        "***Strings in Python***"
      ],
      "metadata": {
        "id": "G1Rd7FIt2G0K"
      }
    },
    {
      "cell_type": "code",
      "source": [
        "str1 = 'Pearl' # A string encoded in single-quotes\n",
        "print(str1)\n",
        "print(type(str1))"
      ],
      "metadata": {
        "id": "zTDr2XhbYz7k"
      },
      "execution_count": null,
      "outputs": []
    },
    {
      "cell_type": "code",
      "source": [
        "str1 = \"Pearl\" # A string encoded in double-quotes\n",
        "print(str1)\n",
        "print(type(str1))"
      ],
      "metadata": {
        "id": "y4l9baYxY_jD"
      },
      "execution_count": null,
      "outputs": []
    },
    {
      "cell_type": "code",
      "source": [
        "str1 = '''Pearl''' # A string encoded in triple-quotes\n",
        "print(str1)\n",
        "print(type(str1))"
      ],
      "metadata": {
        "id": "zcTamEVwZdtX"
      },
      "execution_count": null,
      "outputs": []
    },
    {
      "cell_type": "code",
      "source": [
        "str1 = \"\"\"Pearl\"\"\" # A string encoded in multiple double-quotes\n",
        "print(str1)\n",
        "print(type(str1))"
      ],
      "metadata": {
        "id": "7LkD7w8cZUMH"
      },
      "execution_count": null,
      "outputs": []
    },
    {
      "cell_type": "code",
      "source": [
        "mystr = \"My Favourite language is Python\"\n",
        "print(mystr)"
      ],
      "metadata": {
        "id": "2AC-Q-4_ZoCj"
      },
      "execution_count": null,
      "outputs": []
    },
    {
      "cell_type": "code",
      "source": [
        "mystr = '''\"My Favourite language is Python\"'''\n",
        "print(mystr)"
      ],
      "metadata": {
        "id": "a5DVC6dpZ9Tu"
      },
      "execution_count": null,
      "outputs": []
    },
    {
      "cell_type": "markdown",
      "source": [
        "**Traversing a String in Python**"
      ],
      "metadata": {
        "id": "idfe_Kvh6hOj"
      }
    },
    {
      "cell_type": "code",
      "source": [
        "mystr2 = 'Spyder'\n",
        "for k in mystr2 : # Each element of string is printed on separate line\n",
        "  print(k)"
      ],
      "metadata": {
        "id": "sujjWZUraGkr"
      },
      "execution_count": null,
      "outputs": []
    },
    {
      "cell_type": "code",
      "source": [
        "mystr3 = 'Jupyter'\n",
        "print(mystr3[0])  # Accessing a specific String Element through indexing"
      ],
      "metadata": {
        "id": "ZxwwWzkMaPcL"
      },
      "execution_count": null,
      "outputs": []
    },
    {
      "cell_type": "markdown",
      "source": [
        "*Omit the comma at the last iteration on finding factorial of a number.*"
      ],
      "metadata": {
        "id": "EGxXrnVL4Uhu"
      }
    },
    {
      "cell_type": "code",
      "execution_count": null,
      "metadata": {
        "id": "Uw9yaNmT12td"
      },
      "outputs": [],
      "source": [
        "num = int(input(\"Enter any number : \"))\n",
        "fact = 1\n",
        "for i in range(1,num+1):\n",
        "    fact *= i\n",
        "    if i != num :\n",
        "      print(fact,end=',')\n",
        "    else :\n",
        "      print(fact,end='')"
      ]
    },
    {
      "cell_type": "markdown",
      "source": [
        "*Fibonacci Series from any two user defined numbers*"
      ],
      "metadata": {
        "id": "WUnUAZlG7Miy"
      }
    },
    {
      "cell_type": "code",
      "source": [
        "t1 = int(input(\"Enter first term : \"))\n",
        "t2 = int(input(\"Enter second term : \"))\n",
        "nt = int(input(\"Enter number upto which Fibonacci Series is to be find : \"))\n",
        "for j in range(1,nt+1):\n",
        "  t1,t2 = t2,t1+t2\n",
        "  print(t1,end=' ')"
      ],
      "metadata": {
        "id": "bEid201s5SWZ"
      },
      "execution_count": null,
      "outputs": []
    },
    {
      "cell_type": "markdown",
      "source": [
        "**Creating a list of strings**"
      ],
      "metadata": {
        "id": "sak_LWRM8kVi"
      }
    },
    {
      "cell_type": "code",
      "source": [
        "lst = 'Anaconda'\n",
        "print(\"List is :\",list(lst))"
      ],
      "metadata": {
        "id": "8_R4W7mk788a"
      },
      "execution_count": null,
      "outputs": []
    },
    {
      "cell_type": "markdown",
      "source": [
        "# *Various String-Manipulation Methods (String Attributes)*"
      ],
      "metadata": {
        "id": "TFNULJML9yuY"
      }
    },
    {
      "cell_type": "markdown",
      "source": [
        "✴ *Setting attributes follows series connection*"
      ],
      "metadata": {
        "id": "uh1GLruNaoTj"
      }
    },
    {
      "cell_type": "code",
      "source": [
        "# UPPER-CASE\n",
        "str1 = 'python is my programming language'\n",
        "print(str1.upper())"
      ],
      "metadata": {
        "id": "fVH7T7vS80pt"
      },
      "execution_count": null,
      "outputs": []
    },
    {
      "cell_type": "code",
      "source": [
        "# LOWER-CASE\n",
        "str1 = 'PYTHON IS MY PROGRAMMING LANGUAGE'\n",
        "print(str1.lower())"
      ],
      "metadata": {
        "id": "LKljkiwx9Xt0"
      },
      "execution_count": null,
      "outputs": []
    },
    {
      "cell_type": "code",
      "source": [
        "# TITLE-CASE\n",
        "str1 = 'python is my programming language'\n",
        "print(str1.title()) #changes 1st letter of each word with uppercase value"
      ],
      "metadata": {
        "id": "SXeRX_1H-QNE"
      },
      "execution_count": null,
      "outputs": []
    },
    {
      "cell_type": "code",
      "source": [
        "# SENTENCE-CASE\n",
        "str1 = 'python is my programming language'\n",
        "print(str1.capitalize()) #changes 1st letter of 1st word with uppercase value"
      ],
      "metadata": {
        "id": "z4uSwJuq9YBe"
      },
      "execution_count": null,
      "outputs": []
    },
    {
      "cell_type": "code",
      "source": [
        "# SWAP-CASE\n",
        "str1 = 'pYtHoN iS My pRoGraMmiNg LaNgUaGe'\n",
        "print(str1.swapcase()) #changes uppercase letters to lowercase & vice-versa"
      ],
      "metadata": {
        "id": "uXySmP2u9YV_"
      },
      "execution_count": null,
      "outputs": []
    },
    {
      "cell_type": "code",
      "source": [
        "# Combined use of both 'upper()' and 'title()' attribute\n",
        "str1 = 'python is my programming language'\n",
        "print(str1.title().upper())"
      ],
      "metadata": {
        "id": "vrx8oikiavAv"
      },
      "execution_count": null,
      "outputs": []
    },
    {
      "cell_type": "code",
      "source": [
        "# Updating a existing portion of string with some another string value\n",
        "str1 = 'python is my programming language'\n",
        "print(str1.replace('python','C++')) # 'replace' method updates the sub-string with new sub-string"
      ],
      "metadata": {
        "id": "kO9QiyDYbDwy"
      },
      "execution_count": null,
      "outputs": []
    },
    {
      "cell_type": "markdown",
      "source": [
        "**Program to check whether input string is a *Palindrome* string or not**"
      ],
      "metadata": {
        "id": "D1VUYFGqC8vg"
      }
    },
    {
      "cell_type": "code",
      "source": [
        "# PALINDROME CODE\n",
        "string = input(\"Enter your string :\")\n",
        "string = string.upper() # we can also use 'lower()' function.\n",
        "strrev = reversed(string)\n",
        "if list(string) == list(strrev):\n",
        "  print(string,\"is a palindrome\")\n",
        "else:\n",
        "  print(string,\"is not a palindrome\")"
      ],
      "metadata": {
        "id": "DLRbOY2pArgp"
      },
      "execution_count": null,
      "outputs": []
    },
    {
      "cell_type": "markdown",
      "source": [
        "**Program to store the sum of digits of all elements of a list as elements in another empty-list**"
      ],
      "metadata": {
        "id": "c54RcbmX7J2u"
      }
    },
    {
      "cell_type": "code",
      "source": [
        "# Logic-1 :---> For 2-digit values\n",
        "mylst = [23,56,48,62,37]\n",
        "ds_lst = []\n",
        "for k in mylst :\n",
        "  s = str(k)\n",
        "  ds = int(s[0])+int(s[1])\n",
        "  ds_lst.append(ds)\n",
        "print(ds_lst)"
      ],
      "metadata": {
        "id": "gph38z5HCm0m"
      },
      "execution_count": null,
      "outputs": []
    },
    {
      "cell_type": "code",
      "source": [
        "# Logic-2 :---> For any digit number (Generalised-Form)\n",
        "mylst = [23,5,451518,62,37]\n",
        "ds_lst = []\n",
        "for k in mylst :\n",
        "  s = 0\n",
        "  for dig in str(k):\n",
        "    s += int(dig)\n",
        "  ds_lst.append(s)\n",
        "print(ds_lst)"
      ],
      "metadata": {
        "id": "PwgRy_3hJPnJ"
      },
      "execution_count": null,
      "outputs": []
    },
    {
      "cell_type": "markdown",
      "source": [
        "**Program to remove duplicate elements from a list and insert unique elements in the new list.**"
      ],
      "metadata": {
        "id": "ZnRBgMc--RH1"
      }
    },
    {
      "cell_type": "code",
      "source": [
        "# List with distinct-elements\n",
        "mylist2 = [12,65,78,65,35,65,12]\n",
        "dist_list = []\n",
        "for j in mylist2 :\n",
        "  if j not in dist_list :\n",
        "    dist_list.append(j)\n",
        "print(dist_list)"
      ],
      "metadata": {
        "id": "rzaKBThnEcOh"
      },
      "execution_count": null,
      "outputs": []
    },
    {
      "cell_type": "markdown",
      "source": [
        "**Program to find the sum of digits of a number until we get a single-digit number at last.**\n",
        "\n",
        "For example if user inputs **7868** then answer will be .............................................................\n",
        "\n",
        "*   *7 + 8 + 6 + 8 = 29*\n",
        "*   *2 + 9 = 11*\n",
        "*   *1 + 1 = 2*\n",
        "\n",
        "**Final Sum = 2**"
      ],
      "metadata": {
        "id": "IMFmDFkr_7s0"
      }
    },
    {
      "cell_type": "code",
      "source": [
        "# Logic-1\n",
        "num = int(input(\"Enter a number : \"))\n",
        "while num // 10 != 0 : # Check until sum is single digit\n",
        "  sum = 0\n",
        "  while num != 0 : # Finding sum of digits until last digit is reached\n",
        "    rem = num % 10\n",
        "    sum += rem\n",
        "    num //= 10\n",
        "  print(\"Sum =\",sum)\n",
        "  num = sum\n",
        "print(\"Final Sum =\",sum)"
      ],
      "metadata": {
        "id": "zwBp51NGLnXm"
      },
      "execution_count": null,
      "outputs": []
    },
    {
      "cell_type": "code",
      "source": [
        "# Logic 2\n",
        "num = int(input(\"Enter a number : \"))\n",
        "ds = 0\n",
        "while num != 0:\n",
        "  rem = num % 10\n",
        "  ds += rem\n",
        "  num //= 10\n",
        "if ds == 0:\n",
        "  print(\"Sum of Digits = 0\")\n",
        "if ds % 9 == 0:\n",
        "  print(\"Sum of Digits = 9\") \n",
        "else:\n",
        "  ds %= 9\n",
        "print(\"Sum of Digits =\",ds)"
      ],
      "metadata": {
        "id": "btiYkgetQ0BW"
      },
      "execution_count": null,
      "outputs": []
    }
  ]
}