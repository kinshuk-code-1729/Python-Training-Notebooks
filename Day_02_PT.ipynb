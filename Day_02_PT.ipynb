{
  "nbformat": 4,
  "nbformat_minor": 0,
  "metadata": {
    "colab": {
      "name": "Day_02_PT.ipynb",
      "provenance": [],
      "collapsed_sections": [],
      "authorship_tag": "ABX9TyPdgN+a1UM74Yd1RnS5Ig+8",
      "include_colab_link": true
    },
    "kernelspec": {
      "name": "python3",
      "display_name": "Python 3"
    },
    "language_info": {
      "name": "python"
    },
    "gpuClass": "standard"
  },
  "cells": [
    {
      "cell_type": "markdown",
      "metadata": {
        "id": "view-in-github",
        "colab_type": "text"
      },
      "source": [
        "<a href=\"https://colab.research.google.com/github/kinshuk-code-1729/Python-Training-Notebooks/blob/main/Day_02_PT.ipynb\" target=\"_parent\"><img src=\"https://colab.research.google.com/assets/colab-badge.svg\" alt=\"Open In Colab\"/></a>"
      ]
    },
    {
      "cell_type": "markdown",
      "source": [
        "# **Day 2 Notebook**"
      ],
      "metadata": {
        "id": "cJFGQIFurQXF"
      }
    },
    {
      "cell_type": "markdown",
      "source": [
        "**Find LCM of two numbers**"
      ],
      "metadata": {
        "id": "LtOA1L0PsOBl"
      }
    },
    {
      "cell_type": "code",
      "execution_count": 1,
      "metadata": {
        "id": "8dErortIqkVQ",
        "colab": {
          "base_uri": "https://localhost:8080/"
        },
        "outputId": "714efd10-ea2e-45b5-aeaf-5bfc67f986bc"
      },
      "outputs": [
        {
          "output_type": "stream",
          "name": "stdout",
          "text": [
            "Enter 1st number : 12\n",
            "Enter 2nd number : 15\n",
            "LCM of 15 and 12 is : 60\n"
          ]
        }
      ],
      "source": [
        "x = int(input(\"Enter 1st number : \"))\n",
        "y = int(input(\"Enter 2nd number : \"))\n",
        "if y > x :\n",
        "  y,x = x,y\n",
        "for k in range(y, 1+(y*x),y) :\n",
        "  if k % x == 0:\n",
        "    print(\"LCM of\",x,\"and\",y,\"is :\",k)\n",
        "    break"
      ]
    },
    {
      "cell_type": "markdown",
      "source": [
        "**Find HCF of two numbers**"
      ],
      "metadata": {
        "id": "nOgHzQFMyP5e"
      }
    },
    {
      "cell_type": "code",
      "source": [
        "p = int(input(\"Enter 1st num : \"))\n",
        "q = int(input(\"Enter 2nd num : \"))\n",
        "j = 1\n",
        "while (j <= p and j <= q) :\n",
        "  if q % j == 0 and p % j == 0 :\n",
        "    GCD = j\n",
        "  j +=1\n",
        "print(\"HCF of\",p,\"and\",q,\"is :\",GCD)"
      ],
      "metadata": {
        "id": "83s9ptQNyVmq",
        "colab": {
          "base_uri": "https://localhost:8080/"
        },
        "outputId": "6f348bae-dd3c-40a1-8125-b441a579915b"
      },
      "execution_count": 2,
      "outputs": [
        {
          "output_type": "stream",
          "name": "stdout",
          "text": [
            "Enter 1st num : 12\n",
            "Enter 2nd num : 15\n",
            "HCF of 12 and 15 is : 3\n"
          ]
        }
      ]
    },
    {
      "cell_type": "markdown",
      "source": [
        "**Nested-Loop Patterns**"
      ],
      "metadata": {
        "id": "bQtT5KGd6lQh"
      }
    },
    {
      "cell_type": "code",
      "source": [
        "for i in range(10):\n",
        "  print(1729)"
      ],
      "metadata": {
        "id": "GbMR-jDh1_Dr",
        "colab": {
          "base_uri": "https://localhost:8080/"
        },
        "outputId": "cd267db8-5c3d-4b82-a679-337820448a63"
      },
      "execution_count": 3,
      "outputs": [
        {
          "output_type": "stream",
          "name": "stdout",
          "text": [
            "1729\n",
            "1729\n",
            "1729\n",
            "1729\n",
            "1729\n",
            "1729\n",
            "1729\n",
            "1729\n",
            "1729\n",
            "1729\n"
          ]
        }
      ]
    },
    {
      "cell_type": "code",
      "source": [
        "for i in range(10):\n",
        "  print(1729,end=' ')"
      ],
      "metadata": {
        "id": "TeXIZ6lI2SVI",
        "colab": {
          "base_uri": "https://localhost:8080/"
        },
        "outputId": "a81835fb-e813-468f-bd3e-35d8ea6faf0b"
      },
      "execution_count": 4,
      "outputs": [
        {
          "output_type": "stream",
          "name": "stdout",
          "text": [
            "1729 1729 1729 1729 1729 1729 1729 1729 1729 1729 "
          ]
        }
      ]
    },
    {
      "cell_type": "code",
      "source": [
        "for j in range(10):\n",
        "  for i in range(10):\n",
        "    print(1729,end=' ')\n",
        "  print()"
      ],
      "metadata": {
        "id": "iJ8_N5Dn2dJy",
        "colab": {
          "base_uri": "https://localhost:8080/"
        },
        "outputId": "4a8132d9-48f6-4e5e-8a19-db3f6b8f0728"
      },
      "execution_count": 5,
      "outputs": [
        {
          "output_type": "stream",
          "name": "stdout",
          "text": [
            "1729 1729 1729 1729 1729 1729 1729 1729 1729 1729 \n",
            "1729 1729 1729 1729 1729 1729 1729 1729 1729 1729 \n",
            "1729 1729 1729 1729 1729 1729 1729 1729 1729 1729 \n",
            "1729 1729 1729 1729 1729 1729 1729 1729 1729 1729 \n",
            "1729 1729 1729 1729 1729 1729 1729 1729 1729 1729 \n",
            "1729 1729 1729 1729 1729 1729 1729 1729 1729 1729 \n",
            "1729 1729 1729 1729 1729 1729 1729 1729 1729 1729 \n",
            "1729 1729 1729 1729 1729 1729 1729 1729 1729 1729 \n",
            "1729 1729 1729 1729 1729 1729 1729 1729 1729 1729 \n",
            "1729 1729 1729 1729 1729 1729 1729 1729 1729 1729 \n"
          ]
        }
      ]
    },
    {
      "cell_type": "code",
      "source": [
        "# Square-Pattern\n",
        "num = int(input(\"Enter a num : \"))\n",
        "for j in range(num):\n",
        "  for i in range(num):\n",
        "    print('@',end=' ')\n",
        "  print()"
      ],
      "metadata": {
        "id": "2gDqu2fV5zEI",
        "colab": {
          "base_uri": "https://localhost:8080/"
        },
        "outputId": "de3a3f10-52b7-48e4-c00f-a8187b2efcaa"
      },
      "execution_count": 6,
      "outputs": [
        {
          "output_type": "stream",
          "name": "stdout",
          "text": [
            "Enter a num : 5\n",
            "@ @ @ @ @ \n",
            "@ @ @ @ @ \n",
            "@ @ @ @ @ \n",
            "@ @ @ @ @ \n",
            "@ @ @ @ @ \n"
          ]
        }
      ]
    },
    {
      "cell_type": "code",
      "source": [
        "# Triangle-Pattern\n",
        "num = int(input(\"Enter a num : \"))\n",
        "for j in range(num):\n",
        "  for i in range(num-j):\n",
        "    print('*',end=' ')\n",
        "  print()"
      ],
      "metadata": {
        "id": "Kd_2_XZz44EC",
        "colab": {
          "base_uri": "https://localhost:8080/"
        },
        "outputId": "a2b02cf7-43b6-4dfb-f81f-e7c62c60a190"
      },
      "execution_count": 7,
      "outputs": [
        {
          "output_type": "stream",
          "name": "stdout",
          "text": [
            "Enter a num : 5\n",
            "* * * * * \n",
            "* * * * \n",
            "* * * \n",
            "* * \n",
            "* \n"
          ]
        }
      ]
    },
    {
      "cell_type": "markdown",
      "source": [
        "# **Lists in Python**"
      ],
      "metadata": {
        "id": "fHfetT7I8NHv"
      }
    },
    {
      "cell_type": "code",
      "source": [
        "l = [] # lists are mutable i.e. values can be changed in place\n",
        "print(\"l =\",l)\n",
        "print(type(l))"
      ],
      "metadata": {
        "id": "IyR_7Y4G70fQ",
        "colab": {
          "base_uri": "https://localhost:8080/"
        },
        "outputId": "0765a935-db1e-4f1b-fd13-752f9b1fcbf4"
      },
      "execution_count": 8,
      "outputs": [
        {
          "output_type": "stream",
          "name": "stdout",
          "text": [
            "l = []\n",
            "<class 'list'>\n"
          ]
        }
      ]
    },
    {
      "cell_type": "markdown",
      "source": [
        "**Inserting into lists**"
      ],
      "metadata": {
        "id": "HXcvBdrpAWFY"
      }
    },
    {
      "cell_type": "code",
      "source": [
        "l.append(20) # append adds single value at the last position of the existing list\n",
        "print(\"l =\",l)"
      ],
      "metadata": {
        "id": "ZtEj83Or8o3i",
        "colab": {
          "base_uri": "https://localhost:8080/"
        },
        "outputId": "673e878c-7634-4343-fdb6-6840baac061a"
      },
      "execution_count": 9,
      "outputs": [
        {
          "output_type": "stream",
          "name": "stdout",
          "text": [
            "l = [20]\n"
          ]
        }
      ]
    },
    {
      "cell_type": "code",
      "source": [
        "l.append(14)\n",
        "l.append(10)\n",
        "print(\"l =\",l)"
      ],
      "metadata": {
        "id": "nHAfs8dr9cdC",
        "colab": {
          "base_uri": "https://localhost:8080/"
        },
        "outputId": "8bed219c-61b0-439c-c6c2-a8a38344432a"
      },
      "execution_count": 10,
      "outputs": [
        {
          "output_type": "stream",
          "name": "stdout",
          "text": [
            "l = [20, 14, 10]\n"
          ]
        }
      ]
    },
    {
      "cell_type": "code",
      "source": [
        "l.append(-5)\n",
        "print(\"l =\",l)"
      ],
      "metadata": {
        "id": "y1Q4v0y49lYF",
        "colab": {
          "base_uri": "https://localhost:8080/"
        },
        "outputId": "a5554789-9d69-49f9-8f04-57297857e7ee"
      },
      "execution_count": 11,
      "outputs": [
        {
          "output_type": "stream",
          "name": "stdout",
          "text": [
            "l = [20, 14, 10, -5]\n"
          ]
        }
      ]
    },
    {
      "cell_type": "code",
      "source": [
        "l.append('Kinshuk')\n",
        "print(\"l =\",l)"
      ],
      "metadata": {
        "id": "gSh40OrH9tb8",
        "colab": {
          "base_uri": "https://localhost:8080/"
        },
        "outputId": "21379c70-0a01-45e8-c38c-35140539aa55"
      },
      "execution_count": 12,
      "outputs": [
        {
          "output_type": "stream",
          "name": "stdout",
          "text": [
            "l = [20, 14, 10, -5, 'Kinshuk']\n"
          ]
        }
      ]
    },
    {
      "cell_type": "code",
      "source": [
        "l.append([45,34,21])\n",
        "print(\"l =\",l)"
      ],
      "metadata": {
        "id": "hiBVGJIq-Apw",
        "colab": {
          "base_uri": "https://localhost:8080/"
        },
        "outputId": "b2f98063-0198-48fb-daf7-305a4c451790"
      },
      "execution_count": 13,
      "outputs": [
        {
          "output_type": "stream",
          "name": "stdout",
          "text": [
            "l = [20, 14, 10, -5, 'Kinshuk', [45, 34, 21]]\n"
          ]
        }
      ]
    },
    {
      "cell_type": "code",
      "source": [
        "l.append(True)\n",
        "print(\"l =\",l)"
      ],
      "metadata": {
        "id": "YjVkp_ov-NTN",
        "colab": {
          "base_uri": "https://localhost:8080/"
        },
        "outputId": "f90edb3d-701c-4528-934b-b6fe7c9bb5b1"
      },
      "execution_count": 14,
      "outputs": [
        {
          "output_type": "stream",
          "name": "stdout",
          "text": [
            "l = [20, 14, 10, -5, 'Kinshuk', [45, 34, 21], True]\n"
          ]
        }
      ]
    },
    {
      "cell_type": "code",
      "source": [
        "l.append(6+5j)\n",
        "print(\"l =\",l)"
      ],
      "metadata": {
        "id": "k_LeTymO-UQA",
        "colab": {
          "base_uri": "https://localhost:8080/"
        },
        "outputId": "88791197-f8a3-4cac-898b-2f2b55ee7bf9"
      },
      "execution_count": 15,
      "outputs": [
        {
          "output_type": "stream",
          "name": "stdout",
          "text": [
            "l = [20, 14, 10, -5, 'Kinshuk', [45, 34, 21], True, (6+5j)]\n"
          ]
        }
      ]
    },
    {
      "cell_type": "code",
      "source": [
        "l.append(3.67)\n",
        "print(\"l =\",l)"
      ],
      "metadata": {
        "id": "J9PcfXrT-eYT",
        "colab": {
          "base_uri": "https://localhost:8080/"
        },
        "outputId": "898854a3-36f1-4bad-98b9-fec7a37b4683"
      },
      "execution_count": 16,
      "outputs": [
        {
          "output_type": "stream",
          "name": "stdout",
          "text": [
            "l = [20, 14, 10, -5, 'Kinshuk', [45, 34, 21], True, (6+5j), 3.67]\n"
          ]
        }
      ]
    },
    {
      "cell_type": "code",
      "source": [
        "l2 = [34,78,14]\n",
        "l2.extend([31,98,33]) # extend adds a list at the last of existing list and doesn't creates new list\n",
        "print(\"l2 =\",l2)"
      ],
      "metadata": {
        "id": "qCdFw5jV-sAh",
        "colab": {
          "base_uri": "https://localhost:8080/"
        },
        "outputId": "670e6b52-e401-46fa-caff-a477632d287c"
      },
      "execution_count": 17,
      "outputs": [
        {
          "output_type": "stream",
          "name": "stdout",
          "text": [
            "l2 = [34, 78, 14, 31, 98, 33]\n"
          ]
        }
      ]
    },
    {
      "cell_type": "code",
      "source": [
        "l2.insert(3,None) # add element at the specified index without overwriting existing element previously on that index\n",
        "print(\"l2 =\",l2)"
      ],
      "metadata": {
        "id": "xMQxn-MVEJXP",
        "colab": {
          "base_uri": "https://localhost:8080/"
        },
        "outputId": "31f7a3d2-b8e8-473d-cb98-1852e20b75a2"
      },
      "execution_count": 18,
      "outputs": [
        {
          "output_type": "stream",
          "name": "stdout",
          "text": [
            "l2 = [34, 78, 14, None, 31, 98, 33]\n"
          ]
        }
      ]
    },
    {
      "cell_type": "code",
      "source": [
        "print(l[3])\n",
        "print(l[4:8]) # List-Slicing"
      ],
      "metadata": {
        "id": "pBNq6DlK_ekY",
        "colab": {
          "base_uri": "https://localhost:8080/"
        },
        "outputId": "08af2d86-f798-420e-ecf4-3b0af7bfaf7d"
      },
      "execution_count": 19,
      "outputs": [
        {
          "output_type": "stream",
          "name": "stdout",
          "text": [
            "-5\n",
            "['Kinshuk', [45, 34, 21], True, (6+5j)]\n"
          ]
        }
      ]
    },
    {
      "cell_type": "markdown",
      "source": [
        "**List Slicing**"
      ],
      "metadata": {
        "id": "O0HTKfmpBAbw"
      }
    },
    {
      "cell_type": "code",
      "source": [
        "print(l[0:5:1])\n",
        "print(l[0:])\n",
        "print(l[:])\n",
        "print(l[0:7])"
      ],
      "metadata": {
        "id": "8ZCf0jIsBHAH",
        "colab": {
          "base_uri": "https://localhost:8080/"
        },
        "outputId": "6b93014c-2d59-4034-b451-bcc2c436ce46"
      },
      "execution_count": 20,
      "outputs": [
        {
          "output_type": "stream",
          "name": "stdout",
          "text": [
            "[20, 14, 10, -5, 'Kinshuk']\n",
            "[20, 14, 10, -5, 'Kinshuk', [45, 34, 21], True, (6+5j), 3.67]\n",
            "[20, 14, 10, -5, 'Kinshuk', [45, 34, 21], True, (6+5j), 3.67]\n",
            "[20, 14, 10, -5, 'Kinshuk', [45, 34, 21], True]\n"
          ]
        }
      ]
    },
    {
      "cell_type": "markdown",
      "source": [
        "*Print a list in reverse-order*"
      ],
      "metadata": {
        "id": "hcNl7v3_Bkjn"
      }
    },
    {
      "cell_type": "code",
      "source": [
        "print(l[::-1])"
      ],
      "metadata": {
        "id": "xNY1h5w5BsZn",
        "colab": {
          "base_uri": "https://localhost:8080/"
        },
        "outputId": "3c4627f8-7114-4bd3-d247-f66b65d0a6e3"
      },
      "execution_count": 21,
      "outputs": [
        {
          "output_type": "stream",
          "name": "stdout",
          "text": [
            "[3.67, (6+5j), True, [45, 34, 21], 'Kinshuk', -5, 10, 14, 20]\n"
          ]
        }
      ]
    },
    {
      "cell_type": "markdown",
      "source": [
        "*Copying List elements*"
      ],
      "metadata": {
        "id": "mwA3D9AHE9KQ"
      }
    },
    {
      "cell_type": "code",
      "source": [
        "#Shallow Copy\n",
        "xl = [45,34,78,31,55]\n",
        "yl = xl\n",
        "yl.append(455)\n",
        "print('Original list :',xl)\n",
        "print('Copied new list :',yl)"
      ],
      "metadata": {
        "id": "JssYKIugFPwm",
        "colab": {
          "base_uri": "https://localhost:8080/"
        },
        "outputId": "e38aad28-9b72-4939-a369-8ef46d6b6b19"
      },
      "execution_count": 22,
      "outputs": [
        {
          "output_type": "stream",
          "name": "stdout",
          "text": [
            "Original list : [45, 34, 78, 31, 55, 455]\n",
            "Copied new list : [45, 34, 78, 31, 55, 455]\n"
          ]
        }
      ]
    },
    {
      "cell_type": "code",
      "source": [
        "#Deep Copy Method 1\n",
        "xl = [45,34,78,31,55]\n",
        "yl = xl.copy()\n",
        "yl.append(455)\n",
        "print('Original list :',xl)\n",
        "print('Copied new list :',yl)"
      ],
      "metadata": {
        "id": "1phCwGXGGHid",
        "colab": {
          "base_uri": "https://localhost:8080/"
        },
        "outputId": "fe41643f-2417-4646-d382-2d896dd97a95"
      },
      "execution_count": 23,
      "outputs": [
        {
          "output_type": "stream",
          "name": "stdout",
          "text": [
            "Original list : [45, 34, 78, 31, 55]\n",
            "Copied new list : [45, 34, 78, 31, 55, 455]\n"
          ]
        }
      ]
    },
    {
      "cell_type": "code",
      "source": [
        "#Deep Copy Method 2\n",
        "xl = [45,34,78,31,55]\n",
        "yl = xl[:]\n",
        "yl.append(455)\n",
        "print('Original list :',xl)\n",
        "print('Copied new :',yl)"
      ],
      "metadata": {
        "id": "ODxKYLvOGH56",
        "colab": {
          "base_uri": "https://localhost:8080/"
        },
        "outputId": "b4c90e0c-2922-47e3-8278-07d2ee43b56e"
      },
      "execution_count": 24,
      "outputs": [
        {
          "output_type": "stream",
          "name": "stdout",
          "text": [
            "Original list : [45, 34, 78, 31, 55]\n",
            "Copied new : [45, 34, 78, 31, 55, 455]\n"
          ]
        }
      ]
    },
    {
      "cell_type": "markdown",
      "source": [
        "**WAP to copy elements of a list into another list without using shallow or deep copy**"
      ],
      "metadata": {
        "id": "7A_IGBKVkJ6u"
      }
    },
    {
      "cell_type": "code",
      "source": [
        "lst1 = [51,98,34,75,79,35,14]\n",
        "lst2 = []\n",
        "for k in lst1:\n",
        "  lst2.append(k)\n",
        "print(\"new copied list :\",lst2)"
      ],
      "metadata": {
        "id": "NVVrFpxmk1Qo",
        "colab": {
          "base_uri": "https://localhost:8080/"
        },
        "outputId": "7f1a6179-4afa-4c85-82fb-85cba0351cf4"
      },
      "execution_count": 25,
      "outputs": [
        {
          "output_type": "stream",
          "name": "stdout",
          "text": [
            "new copied list : [51, 98, 34, 75, 79, 35, 14]\n"
          ]
        }
      ]
    },
    {
      "cell_type": "markdown",
      "source": [
        "**WAP to copy square of elements of a list into another list without using shallow or deep copy**"
      ],
      "metadata": {
        "id": "Q1Q6qkZJnNiq"
      }
    },
    {
      "cell_type": "code",
      "source": [
        "lst1 = [51,98,34,75,79,35,14]\n",
        "lst2 = []\n",
        "for k in lst1:\n",
        "  lst2.append(k**2)\n",
        "print(\"new copied list :\",lst2)"
      ],
      "metadata": {
        "id": "kugbjqDLl4FL",
        "colab": {
          "base_uri": "https://localhost:8080/"
        },
        "outputId": "04ee4240-3577-4ae5-be9b-f8df4d2ee7c9"
      },
      "execution_count": 26,
      "outputs": [
        {
          "output_type": "stream",
          "name": "stdout",
          "text": [
            "new copied list : [2601, 9604, 1156, 5625, 6241, 1225, 196]\n"
          ]
        }
      ]
    },
    {
      "cell_type": "markdown",
      "source": [
        "**WAP to copy square of elements which are greater than 2 and if less than two than 2 then copy the elemnent itself of a list into another list without using shallow or deep copy**"
      ],
      "metadata": {
        "id": "k7vAfyYOnOc2"
      }
    },
    {
      "cell_type": "code",
      "source": [
        "lst1 = [-1,-6,8,96,45,1]\n",
        "lst2 = []\n",
        "for k in lst1:\n",
        "  if k>2:\n",
        "    lst2.append(k**2)\n",
        "  else :\n",
        "    lst2.append(k)\n",
        "print(\"new copied list :\",lst2)"
      ],
      "metadata": {
        "id": "6w7-a-8_mJ42",
        "colab": {
          "base_uri": "https://localhost:8080/"
        },
        "outputId": "aa988dda-f0c0-4053-ac4f-caeb552e5688"
      },
      "execution_count": 27,
      "outputs": [
        {
          "output_type": "stream",
          "name": "stdout",
          "text": [
            "new copied list : [-1, -6, 64, 9216, 2025, 1]\n"
          ]
        }
      ]
    },
    {
      "cell_type": "markdown",
      "source": [
        "*WAP to copy elements of a list into another list if elements is divisible by 2 and 5*"
      ],
      "metadata": {
        "id": "_g1kN31KoFQa"
      }
    },
    {
      "cell_type": "code",
      "source": [
        "lst1 = [-1,-10,8,90,60,1]\n",
        "lst2 = []\n",
        "for k in lst1:\n",
        "  if k % 2 == 0 and k % 5 == 0 :\n",
        "    lst2.append(k**2)\n",
        "print(\"new copied list :\",lst2)"
      ],
      "metadata": {
        "id": "XKLdJEiboYOu",
        "colab": {
          "base_uri": "https://localhost:8080/"
        },
        "outputId": "94e12c06-1002-4e83-8c76-26e726dab119"
      },
      "execution_count": 28,
      "outputs": [
        {
          "output_type": "stream",
          "name": "stdout",
          "text": [
            "new copied list : [100, 8100, 3600]\n"
          ]
        }
      ]
    },
    {
      "cell_type": "markdown",
      "source": [
        "***Microsoft Interview Question***"
      ],
      "metadata": {
        "id": "Jy8eqrJtoxp6"
      }
    },
    {
      "cell_type": "markdown",
      "source": [
        "*WAP to find missing values in existing list and append them in new list*"
      ],
      "metadata": {
        "id": "-2NngIPRo79T"
      }
    },
    {
      "cell_type": "code",
      "source": [
        "lst1 = [61,63,65,67,68,70]\n",
        "lst2 = []\n",
        "for k in range(lst1[0],lst1[-1]):\n",
        "  if k not in lst1:\n",
        "    lst2.append(k)\n",
        "print(\"new copied list :\",lst2)"
      ],
      "metadata": {
        "id": "8SRlJ0j2pHBp",
        "colab": {
          "base_uri": "https://localhost:8080/"
        },
        "outputId": "21eb6c4a-bb7e-4039-b884-5fcab2031ba2"
      },
      "execution_count": 29,
      "outputs": [
        {
          "output_type": "stream",
          "name": "stdout",
          "text": [
            "new copied list : [62, 64, 66, 69]\n"
          ]
        }
      ]
    },
    {
      "cell_type": "markdown",
      "source": [
        "# List Comprehension"
      ],
      "metadata": {
        "id": "v3Pd_Xp6kGI_"
      }
    },
    {
      "cell_type": "code",
      "source": [
        "lst1 = [54,44,64,16,77,21]\n",
        "lst2 = [j for j in lst1]\n",
        "print(\"lst2 :\",lst2)"
      ],
      "metadata": {
        "id": "Gcg_XXPrq5AB",
        "colab": {
          "base_uri": "https://localhost:8080/"
        },
        "outputId": "1e3ee6d5-cdb3-48a9-acd7-a8c8c8b73fcc"
      },
      "execution_count": 30,
      "outputs": [
        {
          "output_type": "stream",
          "name": "stdout",
          "text": [
            "lst2 : [54, 44, 64, 16, 77, 21]\n"
          ]
        }
      ]
    },
    {
      "cell_type": "code",
      "source": [
        "lst1 = [54,44,64,16,77,21]\n",
        "lst2 = [j**2 for j in lst1]\n",
        "print(\"lst2 :\",lst2)"
      ],
      "metadata": {
        "id": "dTCEImSTsEGX",
        "colab": {
          "base_uri": "https://localhost:8080/"
        },
        "outputId": "2e37d3d2-47e6-457d-cc3b-802a0f068a86"
      },
      "execution_count": 31,
      "outputs": [
        {
          "output_type": "stream",
          "name": "stdout",
          "text": [
            "lst2 : [2916, 1936, 4096, 256, 5929, 441]\n"
          ]
        }
      ]
    },
    {
      "cell_type": "code",
      "source": [
        "lst1 = [-1,-10,8,90,60,1]\n",
        "lst2 = [k for k in lst1 if k % 2 == 0 and k % 5 == 0]\n",
        "print(\"list 2 :\",lst2)"
      ],
      "metadata": {
        "id": "elrU88uFsLs6",
        "colab": {
          "base_uri": "https://localhost:8080/"
        },
        "outputId": "42967f4d-9ef8-4d43-a413-77aa6992d1e0"
      },
      "execution_count": 32,
      "outputs": [
        {
          "output_type": "stream",
          "name": "stdout",
          "text": [
            "list 2 : [-10, 90, 60]\n"
          ]
        }
      ]
    },
    {
      "cell_type": "code",
      "source": [
        "lst1 = [-1,-6,8,96,45,1]\n",
        "lst2 = [k**2 if k>2 else k for k in lst1]\n",
        "print(\"list 2 :\",lst2)"
      ],
      "metadata": {
        "id": "q9TemBvXuwCY",
        "colab": {
          "base_uri": "https://localhost:8080/"
        },
        "outputId": "d80ead8a-1c13-4929-8749-c74092d15f36"
      },
      "execution_count": 33,
      "outputs": [
        {
          "output_type": "stream",
          "name": "stdout",
          "text": [
            "list 2 : [-1, -6, 64, 9216, 2025, 1]\n"
          ]
        }
      ]
    },
    {
      "cell_type": "markdown",
      "source": [
        "***Deletion from a list***"
      ],
      "metadata": {
        "id": "iaQ5ABP-v2Qg"
      }
    },
    {
      "cell_type": "code",
      "source": [
        "fac = ['Rachel','Jack','Jane','Baichung','Joseph','Robert']\n",
        "print(\"Initially list is :\",fac)\n",
        "fac.pop()\n",
        "print(\"list is after deletion :\",fac)"
      ],
      "metadata": {
        "id": "l_l72b6qv1HO",
        "colab": {
          "base_uri": "https://localhost:8080/"
        },
        "outputId": "39322dbe-9e75-437e-f619-34f9f2e2ab7a"
      },
      "execution_count": 34,
      "outputs": [
        {
          "output_type": "stream",
          "name": "stdout",
          "text": [
            "Initially list is : ['Rachel', 'Jack', 'Jane', 'Baichung', 'Joseph', 'Robert']\n",
            "list is after deletion : ['Rachel', 'Jack', 'Jane', 'Baichung', 'Joseph']\n"
          ]
        }
      ]
    },
    {
      "cell_type": "code",
      "source": [
        "fac.pop(4)\n",
        "print(fac)"
      ],
      "metadata": {
        "id": "JGz2eILPxXyU",
        "colab": {
          "base_uri": "https://localhost:8080/"
        },
        "outputId": "e556b9ab-13e9-4ea6-f4d9-07b3b6168cc4"
      },
      "execution_count": 35,
      "outputs": [
        {
          "output_type": "stream",
          "name": "stdout",
          "text": [
            "['Rachel', 'Jack', 'Jane', 'Baichung']\n"
          ]
        }
      ]
    },
    {
      "cell_type": "code",
      "source": [
        "fac.remove('Jane')\n",
        "print(fac)"
      ],
      "metadata": {
        "id": "Tp6VAcaWx7-p",
        "colab": {
          "base_uri": "https://localhost:8080/"
        },
        "outputId": "67bed74e-afd6-4a25-d99f-51e6f1aec0b8"
      },
      "execution_count": 36,
      "outputs": [
        {
          "output_type": "stream",
          "name": "stdout",
          "text": [
            "['Rachel', 'Jack', 'Baichung']\n"
          ]
        }
      ]
    },
    {
      "cell_type": "code",
      "source": [
        "fac.clear()\n",
        "print(fac)"
      ],
      "metadata": {
        "id": "UYVf-_QZyMF-",
        "colab": {
          "base_uri": "https://localhost:8080/"
        },
        "outputId": "51495ee8-7ee9-4acc-803a-962425221fea"
      },
      "execution_count": 37,
      "outputs": [
        {
          "output_type": "stream",
          "name": "stdout",
          "text": [
            "[]\n"
          ]
        }
      ]
    },
    {
      "cell_type": "code",
      "source": [
        "fac = ['Rachel', 'Jack', 'Jane', 'Baichung', 'Joseph', 'Robert']\n",
        "del fac # deletes the entire structure of list\n",
        "print(fac)"
      ],
      "metadata": {
        "id": "C69yzz8SyVNb",
        "colab": {
          "base_uri": "https://localhost:8080/",
          "height": 200
        },
        "outputId": "e11f02ec-f38a-431c-beed-a42c301c6f66"
      },
      "execution_count": 38,
      "outputs": [
        {
          "output_type": "error",
          "ename": "NameError",
          "evalue": "ignored",
          "traceback": [
            "\u001b[0;31m---------------------------------------------------------------------------\u001b[0m",
            "\u001b[0;31mNameError\u001b[0m                                 Traceback (most recent call last)",
            "\u001b[0;32m<ipython-input-38-55fb51bae424>\u001b[0m in \u001b[0;36m<module>\u001b[0;34m()\u001b[0m\n\u001b[1;32m      1\u001b[0m \u001b[0mfac\u001b[0m \u001b[0;34m=\u001b[0m \u001b[0;34m[\u001b[0m\u001b[0;34m'Rachel'\u001b[0m\u001b[0;34m,\u001b[0m \u001b[0;34m'Jack'\u001b[0m\u001b[0;34m,\u001b[0m \u001b[0;34m'Jane'\u001b[0m\u001b[0;34m,\u001b[0m \u001b[0;34m'Baichung'\u001b[0m\u001b[0;34m,\u001b[0m \u001b[0;34m'Joseph'\u001b[0m\u001b[0;34m,\u001b[0m \u001b[0;34m'Robert'\u001b[0m\u001b[0;34m]\u001b[0m\u001b[0;34m\u001b[0m\u001b[0;34m\u001b[0m\u001b[0m\n\u001b[1;32m      2\u001b[0m \u001b[0;32mdel\u001b[0m \u001b[0mfac\u001b[0m \u001b[0;31m# deletes the entire structure of list\u001b[0m\u001b[0;34m\u001b[0m\u001b[0;34m\u001b[0m\u001b[0m\n\u001b[0;32m----> 3\u001b[0;31m \u001b[0mprint\u001b[0m\u001b[0;34m(\u001b[0m\u001b[0mfac\u001b[0m\u001b[0;34m)\u001b[0m\u001b[0;34m\u001b[0m\u001b[0;34m\u001b[0m\u001b[0m\n\u001b[0m",
            "\u001b[0;31mNameError\u001b[0m: name 'fac' is not defined"
          ]
        }
      ]
    },
    {
      "cell_type": "code",
      "source": [
        "mylist = [20, 14, 10, -5, 'Kinshuk', [45, 34, 21], True, (6+5j), 3.67]\n",
        "print(mylist[5][2])"
      ],
      "metadata": {
        "id": "-sjaB23oylNR",
        "colab": {
          "base_uri": "https://localhost:8080/"
        },
        "outputId": "e72830a2-7ca8-436a-ab24-a091384c2ba6"
      },
      "execution_count": 39,
      "outputs": [
        {
          "output_type": "stream",
          "name": "stdout",
          "text": [
            "21\n"
          ]
        }
      ]
    },
    {
      "cell_type": "markdown",
      "source": [
        "***WAP to add digits of a number***"
      ],
      "metadata": {
        "id": "7J08PoxS0isK"
      }
    },
    {
      "cell_type": "code",
      "source": [
        "num = int(input(\"Enter a number : \"))\n",
        "dig_sum = 0\n",
        "temp = num\n",
        "while num != 0 :\n",
        "  rem = num % 10\n",
        "  dig_sum += rem\n",
        "  num //= 10\n",
        "print(\"Sum of digits of number\",temp,\"is\",dig_sum)"
      ],
      "metadata": {
        "id": "0DOxqgKL0tLE",
        "colab": {
          "base_uri": "https://localhost:8080/"
        },
        "outputId": "87ed4097-1a11-478d-8fd4-f7459c6fff59"
      },
      "execution_count": 40,
      "outputs": [
        {
          "output_type": "stream",
          "name": "stdout",
          "text": [
            "Enter a number : 11\n",
            "Sum of digits of number 11 is 2\n"
          ]
        }
      ]
    }
  ]
}