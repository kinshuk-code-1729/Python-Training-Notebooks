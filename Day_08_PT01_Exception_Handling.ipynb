{
  "cells": [
    {
      "cell_type": "markdown",
      "metadata": {
        "id": "view-in-github",
        "colab_type": "text"
      },
      "source": [
        "<a href=\"https://colab.research.google.com/github/kinshuk-code-1729/Python-Training-Notebooks/blob/main/Day_08_PT01_Exception_Handling.ipynb\" target=\"_parent\"><img src=\"https://colab.research.google.com/assets/colab-badge.svg\" alt=\"Open In Colab\"/></a>"
      ]
    },
    {
      "cell_type": "markdown",
      "source": [
        "# **Day 4 Notebook 1**\n",
        "## ***Exception Handling***"
      ],
      "metadata": {
        "id": "iebowtUIol7J"
      },
      "id": "iebowtUIol7J"
    },
    {
      "cell_type": "code",
      "execution_count": 1,
      "id": "acda504e",
      "metadata": {
        "colab": {
          "base_uri": "https://localhost:8080/",
          "height": 217
        },
        "id": "acda504e",
        "outputId": "d73448fd-02d2-4280-f002-722daf081b27"
      },
      "outputs": [
        {
          "output_type": "error",
          "ename": "ZeroDivisionError",
          "evalue": "ignored",
          "traceback": [
            "\u001b[0;31m---------------------------------------------------------------------------\u001b[0m",
            "\u001b[0;31mZeroDivisionError\u001b[0m                         Traceback (most recent call last)",
            "\u001b[0;32m<ipython-input-1-19987bb515ae>\u001b[0m in \u001b[0;36m<module>\u001b[0;34m()\u001b[0m\n\u001b[1;32m      1\u001b[0m \u001b[0mn1\u001b[0m \u001b[0;34m=\u001b[0m \u001b[0;36m8\u001b[0m\u001b[0;34m\u001b[0m\u001b[0;34m\u001b[0m\u001b[0m\n\u001b[1;32m      2\u001b[0m \u001b[0mn2\u001b[0m \u001b[0;34m=\u001b[0m \u001b[0;36m0\u001b[0m\u001b[0;34m\u001b[0m\u001b[0;34m\u001b[0m\u001b[0m\n\u001b[0;32m----> 3\u001b[0;31m \u001b[0mprint\u001b[0m\u001b[0;34m(\u001b[0m\u001b[0mn1\u001b[0m\u001b[0;34m/\u001b[0m\u001b[0mn2\u001b[0m\u001b[0;34m)\u001b[0m\u001b[0;34m\u001b[0m\u001b[0;34m\u001b[0m\u001b[0m\n\u001b[0m\u001b[1;32m      4\u001b[0m \u001b[0mprint\u001b[0m\u001b[0;34m(\u001b[0m\u001b[0;34m\"Well Done!!!!\"\u001b[0m\u001b[0;34m)\u001b[0m\u001b[0;34m\u001b[0m\u001b[0;34m\u001b[0m\u001b[0m\n",
            "\u001b[0;31mZeroDivisionError\u001b[0m: division by zero"
          ]
        }
      ],
      "source": [
        "n1 = 8\n",
        "n2 = 0\n",
        "print(n1/n2)\n",
        "print(\"Well Done!!!!\")"
      ]
    },
    {
      "cell_type": "markdown",
      "id": "a45a7953",
      "metadata": {
        "id": "a45a7953"
      },
      "source": [
        "**Try Except Block**"
      ]
    },
    {
      "cell_type": "code",
      "execution_count": 2,
      "id": "ad3b39a8",
      "metadata": {
        "colab": {
          "base_uri": "https://localhost:8080/"
        },
        "id": "ad3b39a8",
        "outputId": "6443e788-074a-4b14-ea2e-a240ee8b1f99"
      },
      "outputs": [
        {
          "output_type": "stream",
          "name": "stdout",
          "text": [
            "Sorry Division by zero is not possible !!!!!\n",
            "Good Job!!!!\n"
          ]
        }
      ],
      "source": [
        "x = 3\n",
        "y = 0\n",
        "try:\n",
        "    print(x/y)\n",
        "except Exception:\n",
        "    print(\"Sorry Division by zero is not possible !!!!!\")\n",
        "    \n",
        "print(\"Good Job!!!!\")"
      ]
    },
    {
      "cell_type": "code",
      "execution_count": 3,
      "id": "bc1e821f",
      "metadata": {
        "colab": {
          "base_uri": "https://localhost:8080/"
        },
        "id": "bc1e821f",
        "outputId": "7e09a272-2daa-4d57-b64a-748ac558956f"
      },
      "outputs": [
        {
          "output_type": "stream",
          "name": "stdout",
          "text": [
            "1.5\n",
            "Good Job!!!!\n"
          ]
        }
      ],
      "source": [
        "x = 3\n",
        "y = 2\n",
        "try:\n",
        "    print(x/y)\n",
        "except Exception:\n",
        "    print(\"Sorry Division by zero is not possible !!!!!\")\n",
        "    \n",
        "print(\"Good Job!!!!\")"
      ]
    },
    {
      "cell_type": "code",
      "execution_count": 4,
      "id": "a44c1b58",
      "metadata": {
        "colab": {
          "base_uri": "https://localhost:8080/"
        },
        "id": "a44c1b58",
        "outputId": "1cf265ef-1a76-44c6-a337-0ac0dd50f24f"
      },
      "outputs": [
        {
          "output_type": "stream",
          "name": "stdout",
          "text": [
            "The error is... division by zero\n",
            "Good Job!!!!\n"
          ]
        }
      ],
      "source": [
        "x = 3\n",
        "y = 0\n",
        "try:\n",
        "    print(x/y)\n",
        "except Exception as e:\n",
        "    print(\"The error is...\",e) # zero division error is a pre-defined error in python\n",
        "    \n",
        "print(\"Good Job!!!!\")"
      ]
    },
    {
      "cell_type": "code",
      "execution_count": 6,
      "id": "453250b2",
      "metadata": {
        "colab": {
          "base_uri": "https://localhost:8080/"
        },
        "id": "453250b2",
        "outputId": "dc777923-37e7-4650-b7af-be8de4592bda"
      },
      "outputs": [
        {
          "output_type": "stream",
          "name": "stdout",
          "text": [
            "Enter a number :Java\n",
            "The error is... invalid literal for int() with base 10: 'Java'\n",
            "Good Job!!!!\n"
          ]
        }
      ],
      "source": [
        "try:\n",
        "    x = int(input(\"Enter a number :\"))\n",
        "    print(x)\n",
        "except Exception as e: # 'e' is an alias name\n",
        "    print(\"The error is...\",e)\n",
        "    \n",
        "print(\"Good Job!!!!\")"
      ]
    },
    {
      "cell_type": "code",
      "execution_count": 10,
      "id": "e1ad928a",
      "metadata": {
        "colab": {
          "base_uri": "https://localhost:8080/"
        },
        "id": "e1ad928a",
        "outputId": "8653f083-af4c-4307-88fe-2fc878943305"
      },
      "outputs": [
        {
          "output_type": "stream",
          "name": "stdout",
          "text": [
            "Enter a number :6544\n",
            "6544\n",
            "The error is... division by zero\n",
            "Good Job!!!!\n"
          ]
        }
      ],
      "source": [
        "p, q = 12, 0\n",
        "try:\n",
        "    x = int(input(\"Enter a number :\"))\n",
        "    print(x)\n",
        "    print(p/q)\n",
        "except ZeroDivisionError as e:\n",
        "    print(\"The error is...\",e)\n",
        "except ValueError as e:\n",
        "    print(\"Input is not valid\")\n",
        "except Exception as e:\n",
        "    print(\"The error is...\",e)\n",
        "    \n",
        "print(\"Good Job!!!!\")"
      ]
    },
    {
      "cell_type": "code",
      "execution_count": 11,
      "id": "792f1545",
      "metadata": {
        "colab": {
          "base_uri": "https://localhost:8080/"
        },
        "id": "792f1545",
        "outputId": "8daaeb73-d496-415f-d8cb-820e3d70a7ae"
      },
      "outputs": [
        {
          "output_type": "stream",
          "name": "stdout",
          "text": [
            "Enter a number :664\n",
            "664\n",
            "The error is... division by zero\n",
            "Good Job!!!!\n"
          ]
        }
      ],
      "source": [
        "p, q = 12, 0\n",
        "try:\n",
        "    x = int(input(\"Enter a number :\"))\n",
        "    print(x)\n",
        "    print(p/q)\n",
        "except ZeroDivisionError as e:\n",
        "    print(\"The error is...\",e)\n",
        "except ValueError as e:\n",
        "    print(\"Input is not valid\")\n",
        "except Exception as e:\n",
        "    print(\"The error is...\",e)\n",
        "    \n",
        "print(\"Good Job!!!!\")"
      ]
    },
    {
      "cell_type": "code",
      "execution_count": 14,
      "id": "c23b0721",
      "metadata": {
        "colab": {
          "base_uri": "https://localhost:8080/"
        },
        "id": "c23b0721",
        "outputId": "2e2d181b-f328-48a7-fcfe-e4d7931c839c"
      },
      "outputs": [
        {
          "output_type": "stream",
          "name": "stdout",
          "text": [
            "Enter a number :464\n",
            "464\n",
            "The error is... division by zero\n",
            "Exception Handled !!!\n"
          ]
        }
      ],
      "source": [
        "p, q = 12, 0\n",
        "try:\n",
        "    x = int(input(\"Enter a number :\"))\n",
        "    print(x)\n",
        "    print(p/q)\n",
        "except ZeroDivisionError as e:\n",
        "    print(\"The error is...\",e)\n",
        "except ValueError as e:\n",
        "    print(\"Input is not valid\")\n",
        "except Exception as e:\n",
        "    print(\"The error is...\",e)\n",
        "\n",
        "finally:\n",
        "    print(\"Exception Handled !!!\")"
      ]
    },
    {
      "cell_type": "code",
      "execution_count": 15,
      "id": "01cdb03d",
      "metadata": {
        "colab": {
          "base_uri": "https://localhost:8080/"
        },
        "id": "01cdb03d",
        "outputId": "20e84099-5fd6-489a-84ba-c2729fc2fb2b"
      },
      "outputs": [
        {
          "output_type": "stream",
          "name": "stdout",
          "text": [
            "Enter a number :King\n",
            "Input is not valid\n",
            "Exception Handled !!!\n",
            "Enter a number :646\n",
            "646\n",
            "Exception Handled !!!\n"
          ]
        }
      ],
      "source": [
        "while True:\n",
        "    try:\n",
        "        x = int(input(\"Enter a number :\"))\n",
        "        print(x)\n",
        "        break\n",
        "    except ZeroDivisionError as e:\n",
        "        print(\"The error is...\",e)\n",
        "    except ValueError as e:\n",
        "        print(\"Input is not valid\")\n",
        "    except Exception as e:\n",
        "        print(\"The error is...\",e)\n",
        "\n",
        "    finally:\n",
        "        print(\"Exception Handled !!!\")"
      ]
    },
    {
      "cell_type": "code",
      "execution_count": 16,
      "id": "1e2531d9",
      "metadata": {
        "colab": {
          "base_uri": "https://localhost:8080/"
        },
        "id": "1e2531d9",
        "outputId": "ac2743e3-c9a6-46ea-d27b-4064bb66bcc4"
      },
      "outputs": [
        {
          "output_type": "stream",
          "name": "stdout",
          "text": [
            "u = 1\n",
            "u = 2\n",
            "u = 3\n",
            "u = 4\n",
            "u = 5\n",
            "u = 6\n",
            "u = 7\n",
            "u = 8\n",
            "u = 9\n",
            "u = 10\n"
          ]
        }
      ],
      "source": [
        "u = 0\n",
        "while u < 11:\n",
        "    try:\n",
        "        if(u != 0):\n",
        "            print('u = {0}'.format(u))\n",
        "    except:\n",
        "        continue\n",
        "    finally:\n",
        "        u += 1"
      ]
    },
    {
      "cell_type": "code",
      "execution_count": 17,
      "id": "8252285a",
      "metadata": {
        "colab": {
          "base_uri": "https://localhost:8080/",
          "height": 130
        },
        "id": "8252285a",
        "outputId": "7490363b-7db0-4c86-e7f1-d86faf295127"
      },
      "outputs": [
        {
          "output_type": "error",
          "ename": "SyntaxError",
          "evalue": "ignored",
          "traceback": [
            "\u001b[0;36m  File \u001b[0;32m\"<ipython-input-17-b26e81f518fc>\"\u001b[0;36m, line \u001b[0;32m7\u001b[0m\n\u001b[0;31m    continue\u001b[0m\n\u001b[0m    ^\u001b[0m\n\u001b[0;31mSyntaxError\u001b[0m\u001b[0;31m:\u001b[0m 'continue' not supported inside 'finally' clause\n"
          ]
        }
      ],
      "source": [
        "# 'continue' clause not supported in 'finally' block till python ver.3.7 \n",
        "def myfunc():\n",
        "    for k in range(5):\n",
        "        try:\n",
        "            print(k)\n",
        "        finally:\n",
        "            continue"
      ]
    }
  ],
  "metadata": {
    "kernelspec": {
      "display_name": "Python 3 (ipykernel)",
      "language": "python",
      "name": "python3"
    },
    "language_info": {
      "codemirror_mode": {
        "name": "ipython",
        "version": 3
      },
      "file_extension": ".py",
      "mimetype": "text/x-python",
      "name": "python",
      "nbconvert_exporter": "python",
      "pygments_lexer": "ipython3",
      "version": "3.10.0"
    },
    "colab": {
      "name": "Day_08_PT01-Exception-Handling.ipynb",
      "provenance": [],
      "include_colab_link": true
    }
  },
  "nbformat": 4,
  "nbformat_minor": 5
}