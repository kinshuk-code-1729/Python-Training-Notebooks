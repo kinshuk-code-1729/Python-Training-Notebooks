{
  "nbformat": 4,
  "nbformat_minor": 0,
  "metadata": {
    "colab": {
      "name": "Day_11_PT01-Important-Concepts.ipynb",
      "provenance": [],
      "collapsed_sections": [],
      "authorship_tag": "ABX9TyOXBG0kZP0602ZWODhUUjCj",
      "include_colab_link": true
    },
    "kernelspec": {
      "name": "python3",
      "display_name": "Python 3"
    },
    "language_info": {
      "name": "python"
    },
    "gpuClass": "standard"
  },
  "cells": [
    {
      "cell_type": "markdown",
      "metadata": {
        "id": "view-in-github",
        "colab_type": "text"
      },
      "source": [
        "<a href=\"https://colab.research.google.com/github/kinshuk-code-1729/Python-Training-Notebooks/blob/main/Day_11_PT01_Important_Concepts.ipynb\" target=\"_parent\"><img src=\"https://colab.research.google.com/assets/colab-badge.svg\" alt=\"Open In Colab\"/></a>"
      ]
    },
    {
      "cell_type": "markdown",
      "source": [
        "# ***Day 11 Notebook 1***\n",
        "## **Important Concepts**"
      ],
      "metadata": {
        "id": "hl0cYGFRy_s1"
      }
    },
    {
      "cell_type": "markdown",
      "source": [
        "***1. Duck Typing*** : Duck Typing means that an object is defined by what it can do, not by what it is."
      ],
      "metadata": {
        "id": "2_txIBJB094z"
      }
    },
    {
      "cell_type": "code",
      "execution_count": 1,
      "metadata": {
        "colab": {
          "base_uri": "https://localhost:8080/"
        },
        "id": "wnAHrvrpy6PX",
        "outputId": "f53e9ab1-e5f4-4574-8940-6e1744d10ad4"
      },
      "outputs": [
        {
          "output_type": "stream",
          "name": "stdout",
          "text": [
            "Interpreting\n",
            "Executing\n",
            "Code Completely Executed\n"
          ]
        }
      ],
      "source": [
        "# Duck Typing\n",
        "# Inheritance is not performed\n",
        "# this concept is similar to the concept of \"Interfacing\" in JAVA.\n",
        "class PyCharm:\n",
        "  def run(self):\n",
        "    print('Interpreting')\n",
        "    print('Executing')\n",
        "\n",
        "class VS_Code:\n",
        "  def run(self):\n",
        "    print('Interpreting')\n",
        "    print('Executing')\n",
        "    print('Code Completely Executed')\n",
        "\n",
        "class Desktop:\n",
        "  def snippet(self,editor):\n",
        "    editor.run()\n",
        "\n",
        "Desk = Desktop()\n",
        "IDE = VS_Code()\n",
        "Desk.snippet(IDE)"
      ]
    },
    {
      "cell_type": "markdown",
      "source": [
        "***2. Monkey Patching :*** It's a **dynamic (run-time)** modification of a **class** or a **module**."
      ],
      "metadata": {
        "id": "jOCNI2xd5c2C"
      }
    },
    {
      "cell_type": "code",
      "source": [
        "class Test:\n",
        "  def __init__(self,x):\n",
        "    self.a = x\n",
        "  def data_ext(self):\n",
        "    print(\"Fetching data from DB\")\n",
        "  def myfun1(self):\n",
        "    self.data_ext()\n",
        "  def myfun2(self):\n",
        "    self.data_ext()\n",
        "\n",
        "obj = Test(6)\n",
        "obj.myfun1()\n",
        "obj.myfun2()"
      ],
      "metadata": {
        "colab": {
          "base_uri": "https://localhost:8080/"
        },
        "id": "GQzDWpu30WjW",
        "outputId": "1355c460-5424-48d7-f53f-42e4de6d9175"
      },
      "execution_count": 2,
      "outputs": [
        {
          "output_type": "stream",
          "name": "stdout",
          "text": [
            "Fetching data from DB\n",
            "Fetching data from DB\n"
          ]
        }
      ]
    },
    {
      "cell_type": "code",
      "source": [
        "# Monkey Patching\n",
        "class Test:\n",
        "  def __init__(self,x):\n",
        "    self.a = x\n",
        "  def data_ext(self):\n",
        "    print(\"Fetching data from DB\")\n",
        "  def myfun1(self):\n",
        "    self.data_ext()\n",
        "  def myfun2(self):\n",
        "    self.data_ext()\n",
        "\n",
        "obj = Test(6)\n",
        "print(\"Before Monkey Patching.........\")\n",
        "obj.myfun1()\n",
        "obj.myfun2()\n",
        "def new_dataset(self):  # We're Modifying the function at runtime\n",
        "  print('Extracting data from Hard-Disk')\n",
        "Test.data_ext = new_dataset\n",
        "print(\"After Monkey Patching..........\")\n",
        "obj.myfun1()\n",
        "obj.myfun2()"
      ],
      "metadata": {
        "colab": {
          "base_uri": "https://localhost:8080/"
        },
        "id": "OYNyljZY3Id4",
        "outputId": "ea6990e3-d10a-4cf9-bc02-f9cbb324de6f"
      },
      "execution_count": 3,
      "outputs": [
        {
          "output_type": "stream",
          "name": "stdout",
          "text": [
            "Before Monkey Patching.........\n",
            "Fetching data from DB\n",
            "Fetching data from DB\n",
            "After Monkey Patching..........\n",
            "Extracting data from Hard-Disk\n",
            "Extracting data from Hard-Disk\n"
          ]
        }
      ]
    }
  ]
}