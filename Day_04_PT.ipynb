{
  "nbformat": 4,
  "nbformat_minor": 0,
  "metadata": {
    "colab": {
      "name": "Day_04_PT.ipynb",
      "provenance": [],
      "collapsed_sections": [],
      "authorship_tag": "ABX9TyOzi6ERvao+5ZANdbUyt5wz",
      "include_colab_link": true
    },
    "kernelspec": {
      "name": "python3",
      "display_name": "Python 3"
    },
    "language_info": {
      "name": "python"
    }
  },
  "cells": [
    {
      "cell_type": "markdown",
      "metadata": {
        "id": "view-in-github",
        "colab_type": "text"
      },
      "source": [
        "<a href=\"https://colab.research.google.com/github/kinshuk-code-1729/Python-Training-Notebooks/blob/main/Day_04_PT.ipynb\" target=\"_parent\"><img src=\"https://colab.research.google.com/assets/colab-badge.svg\" alt=\"Open In Colab\"/></a>"
      ]
    },
    {
      "cell_type": "markdown",
      "source": [
        "# **Day 4 Notebook**"
      ],
      "metadata": {
        "id": "eF0brKY2DOPo"
      }
    },
    {
      "cell_type": "markdown",
      "source": [
        "**Program to copy common elements of two lists into an empty list.**"
      ],
      "metadata": {
        "id": "zgI0z563DW0O"
      }
    },
    {
      "cell_type": "code",
      "source": [
        "lst1 = [11,25,45,36]\n",
        "lst2 = [45,36,11,53,69,71]\n",
        "lst3 =[]\n",
        "for k in lst1 :\n",
        "  if k in lst2 :\n",
        "    lst3.append(k)\n",
        "print(lst3)"
      ],
      "metadata": {
        "colab": {
          "base_uri": "https://localhost:8080/"
        },
        "id": "OkLuQPT2lTIx",
        "outputId": "3d40183c-7a84-4a6b-c8b2-17b9b211c74a"
      },
      "execution_count": 28,
      "outputs": [
        {
          "output_type": "stream",
          "name": "stdout",
          "text": [
            "[11, 45, 36]\n"
          ]
        }
      ]
    },
    {
      "cell_type": "markdown",
      "source": [
        "\n",
        "# List Attributes"
      ],
      "metadata": {
        "id": "pRo8QFYhDyoF"
      }
    },
    {
      "cell_type": "code",
      "source": [
        "lst = [45,36,11,53,69,71]\n",
        "print(\"Sum of elements =\",sum(lst)) # gives the sum of all elements of an integer list\n",
        "print(\"Length of list =\",len(lst)) # gives the length of the list or total number of elements present in the list\n",
        "print(\"Maximum Element :\",max(lst)) # returns max value from a list\n",
        "print(\"Minimum Element :\",min(lst)) # returns min value from a list"
      ],
      "metadata": {
        "colab": {
          "base_uri": "https://localhost:8080/"
        },
        "id": "gTzcQArJFMYJ",
        "outputId": "af1a9b6e-692c-4fb3-8e2c-c046120b7af3"
      },
      "execution_count": 29,
      "outputs": [
        {
          "output_type": "stream",
          "name": "stdout",
          "text": [
            "Sum of elements = 285\n",
            "Length of list = 6\n",
            "Maximum Element : 71\n",
            "Minimum Element : 11\n"
          ]
        }
      ]
    },
    {
      "cell_type": "code",
      "source": [
        "# Finding Average of list elements \n",
        "avgf = sum(lst) / len(lst)\n",
        "avgi = sum(lst) // len(lst)\n",
        "print(\"Average of elements :\",avgf)\n",
        "print(\"Average of elements :\",avgi)"
      ],
      "metadata": {
        "colab": {
          "base_uri": "https://localhost:8080/"
        },
        "id": "SWpJ4PfTA3Fa",
        "outputId": "589ac51f-3dad-4327-b1a5-35d0319841c1"
      },
      "execution_count": 30,
      "outputs": [
        {
          "output_type": "stream",
          "name": "stdout",
          "text": [
            "Average of elements : 47.5\n",
            "Average of elements : 47\n"
          ]
        }
      ]
    },
    {
      "cell_type": "code",
      "source": [
        "# Finding Occurrence of specified element\n",
        "lst2 = [44,21,21,85,98,21,36,21]\n",
        "print(\"Number of occurences of element 21 :\",lst2.count(21)) # tells how many occurences of element '21' in list"
      ],
      "metadata": {
        "colab": {
          "base_uri": "https://localhost:8080/"
        },
        "id": "6-5uuhFDFWZ7",
        "outputId": "d92c0943-bfab-47ef-9a99-7eabb656e50f"
      },
      "execution_count": 31,
      "outputs": [
        {
          "output_type": "stream",
          "name": "stdout",
          "text": [
            "Number of occurences of element 21 : 4\n"
          ]
        }
      ]
    },
    {
      "cell_type": "markdown",
      "source": [
        "**Finding index of an element of a list using *index( )* method**"
      ],
      "metadata": {
        "id": "mXumeJKXGdlV"
      }
    },
    {
      "cell_type": "code",
      "source": [
        "# CASE(1): Finding index of unique elements\n",
        "print(\"Index of 98 :\",lst2.index(98)) # returns index of first occurence of element if redundant element present"
      ],
      "metadata": {
        "colab": {
          "base_uri": "https://localhost:8080/"
        },
        "id": "d4pvu09NGJ31",
        "outputId": "3c7bb89f-1b7f-40e8-8923-8824f40a43bd"
      },
      "execution_count": 32,
      "outputs": [
        {
          "output_type": "stream",
          "name": "stdout",
          "text": [
            "Index of 98 : 4\n"
          ]
        }
      ]
    },
    {
      "cell_type": "markdown",
      "source": [
        "*Program to print the values along with their index position of a list.*"
      ],
      "metadata": {
        "id": "xMS8XasQK1ZH"
      }
    },
    {
      "cell_type": "code",
      "source": [
        "# CASE(2): Finding indices of all elements (redundant elements included)\n",
        "for k in range(len(lst2)) :\n",
        "  print(\"Element\",k,\":\",lst2[k])"
      ],
      "metadata": {
        "colab": {
          "base_uri": "https://localhost:8080/"
        },
        "id": "x35-vEDwHXd-",
        "outputId": "3518da54-dc18-47c6-ae35-0e0e6b5bd66b"
      },
      "execution_count": 33,
      "outputs": [
        {
          "output_type": "stream",
          "name": "stdout",
          "text": [
            "Element 0 : 44\n",
            "Element 1 : 21\n",
            "Element 2 : 21\n",
            "Element 3 : 85\n",
            "Element 4 : 98\n",
            "Element 5 : 21\n",
            "Element 6 : 36\n",
            "Element 7 : 21\n"
          ]
        }
      ]
    },
    {
      "cell_type": "markdown",
      "source": [
        "*Enumerate Function*"
      ],
      "metadata": {
        "id": "5rM8f9ckJ2mN"
      }
    },
    {
      "cell_type": "code",
      "source": [
        "# CASE (3): Finding indices of redundant elements using 'enumerate()' function.\n",
        "for l,m in enumerate(lst2) :\n",
        "  print(\"Value at index\",l,\":\",m)"
      ],
      "metadata": {
        "colab": {
          "base_uri": "https://localhost:8080/"
        },
        "id": "VmTnlnpDJgKT",
        "outputId": "8691b7fd-82da-4ef9-fce5-8f3b9016a7da"
      },
      "execution_count": 34,
      "outputs": [
        {
          "output_type": "stream",
          "name": "stdout",
          "text": [
            "Value at index 0 : 44\n",
            "Value at index 1 : 21\n",
            "Value at index 2 : 21\n",
            "Value at index 3 : 85\n",
            "Value at index 4 : 98\n",
            "Value at index 5 : 21\n",
            "Value at index 6 : 36\n",
            "Value at index 7 : 21\n"
          ]
        }
      ]
    },
    {
      "cell_type": "code",
      "source": [
        "for m,l in enumerate(lst2) : # changing positions of 'l' and 'm'\n",
        "  print(\"value =\",l,\"at index\",m)"
      ],
      "metadata": {
        "colab": {
          "base_uri": "https://localhost:8080/"
        },
        "outputId": "0cd28bab-5952-4694-ee96-6b5c00ead521",
        "id": "45SJV92NMUKg"
      },
      "execution_count": 35,
      "outputs": [
        {
          "output_type": "stream",
          "name": "stdout",
          "text": [
            "value = 44 at index 0\n",
            "value = 21 at index 1\n",
            "value = 21 at index 2\n",
            "value = 85 at index 3\n",
            "value = 98 at index 4\n",
            "value = 21 at index 5\n",
            "value = 36 at index 6\n",
            "value = 21 at index 7\n"
          ]
        }
      ]
    },
    {
      "cell_type": "markdown",
      "source": [
        "**Using *enumerate* function we can start the indices from any number of our choice.**"
      ],
      "metadata": {
        "id": "CQIpxTpnIl8M"
      }
    },
    {
      "cell_type": "code",
      "source": [
        "for l,m in enumerate (lst2,250) : # indices have become now serial numbers  and so will start from '250'\n",
        "  print(l,\"--->\",m)"
      ],
      "metadata": {
        "colab": {
          "base_uri": "https://localhost:8080/"
        },
        "id": "yLLcxdHGI4Aa",
        "outputId": "b00e5be3-8a8a-4189-e87d-f2a0142044b9"
      },
      "execution_count": 36,
      "outputs": [
        {
          "output_type": "stream",
          "name": "stdout",
          "text": [
            "250 ---> 44\n",
            "251 ---> 21\n",
            "252 ---> 21\n",
            "253 ---> 85\n",
            "254 ---> 98\n",
            "255 ---> 21\n",
            "256 ---> 36\n",
            "257 ---> 21\n"
          ]
        }
      ]
    },
    {
      "cell_type": "markdown",
      "source": [
        "### Facebook Interview Question"
      ],
      "metadata": {
        "id": "VhWlyOjRKa4L"
      }
    },
    {
      "cell_type": "markdown",
      "source": [
        "**Find all elements present in list 1 (all occurences) which are also present in list 2 and append their indices in the third list.**"
      ],
      "metadata": {
        "id": "trCDGEKpK47U"
      }
    },
    {
      "cell_type": "code",
      "source": [
        "l1 = [55,24,36,14,95,36]\n",
        "l2 = [95,36]\n",
        "l3 = []\n",
        "for j in range(len(l1)) :\n",
        "  if l1[j] in l2 :\n",
        "    l3.append(j)\n",
        "print(\"New list :\",l3)"
      ],
      "metadata": {
        "colab": {
          "base_uri": "https://localhost:8080/"
        },
        "id": "BDQWZRPNKadA",
        "outputId": "ab96ae16-2ee3-4212-8fc3-889cad993126"
      },
      "execution_count": 37,
      "outputs": [
        {
          "output_type": "stream",
          "name": "stdout",
          "text": [
            "New list : [2, 4, 5]\n"
          ]
        }
      ]
    },
    {
      "cell_type": "markdown",
      "source": [
        "**Copy all the redundant elements of a list into another list using count( ) method.**"
      ],
      "metadata": {
        "id": "Z3f8iCzJNm9W"
      }
    },
    {
      "cell_type": "code",
      "source": [
        "x = [5, 2, 3, 4, 5, 6, 2, 3, 6]\n",
        "y = []\n",
        "for k in range(len(x)) :\n",
        "  if x.count(k) > 1 :\n",
        "    y.append(k)\n",
        "print(\"New List:\",y)"
      ],
      "metadata": {
        "colab": {
          "base_uri": "https://localhost:8080/"
        },
        "id": "RpwQYiMjNmje",
        "outputId": "2e34101f-0403-467e-b816-7462ac50f346"
      },
      "execution_count": 38,
      "outputs": [
        {
          "output_type": "stream",
          "name": "stdout",
          "text": [
            "New List: [2, 3, 5, 6]\n"
          ]
        }
      ]
    },
    {
      "cell_type": "markdown",
      "source": [
        "**Find average of list elements using *list comprehension*. Input values should be *user-defined* & space separated.**"
      ],
      "metadata": {
        "id": "M5hMmKhvm8bw"
      }
    },
    {
      "cell_type": "code",
      "execution_count": 40,
      "metadata": {
        "colab": {
          "base_uri": "https://localhost:8080/"
        },
        "id": "1jBb1mNZklvF",
        "outputId": "66a500a5-0d87-47dc-836e-e240d598580d"
      },
      "outputs": [
        {
          "output_type": "stream",
          "name": "stdout",
          "text": [
            "How many subjects :3\n",
            "Enter the Subject marks space separated :\n",
            "12,15,17\n",
            "Average Marks =  14.666666666666666\n"
          ]
        }
      ],
      "source": [
        "# LOGIC - 1\n",
        "ts = int(input('How many subjects :'))\n",
        "print(\"Enter the Subject marks space separated :\")\n",
        "m = [int(j) for j in input().split(',')]\n",
        "avg = sum(m)/ts\n",
        "if len(m) == ts:\n",
        "  print(\"Average Marks = \",avg)\n",
        "elif len(m) > ts :\n",
        "  print(\"More than required subjects....\")\n",
        "else:\n",
        "  print(\"You've skipped one or more subjects.....\")"
      ]
    },
    {
      "cell_type": "code",
      "source": [
        "# LOGIC - 2\n",
        "ts = int(input('How many subjects :'))\n",
        "print(\"Enter the Subject marks space separated :\")\n",
        "m = [int(j) for j in input().split(',')[:ts]]\n",
        "avg = sum(m)/ts\n",
        "print(\"Average Marks = \",avg)"
      ],
      "metadata": {
        "colab": {
          "base_uri": "https://localhost:8080/"
        },
        "id": "CS0SYmXJvNqk",
        "outputId": "a4e4f949-ee98-4a8f-b6e1-20cdbc7a6220"
      },
      "execution_count": 41,
      "outputs": [
        {
          "output_type": "stream",
          "name": "stdout",
          "text": [
            "How many subjects :5\n",
            "Enter the Subject marks space separated :\n",
            "12,14,17,19,15\n",
            "Average Marks =  15.4\n"
          ]
        }
      ]
    },
    {
      "cell_type": "markdown",
      "source": [
        "# String Attributes"
      ],
      "metadata": {
        "id": "hE1xh2PdQ6t-"
      }
    },
    {
      "cell_type": "code",
      "source": [
        "# Formatting of Strings\n",
        "mystr = 'JavaScript'\n",
        "mystr2 = 'HTML'\n",
        "print('{} is tough'.format(mystr))\n",
        "print('{0} is tough but {1} is easy'.format(mystr,mystr2)) \n",
        "print(f'{mystr2} is easy') \n",
        "# '{}' is a place holder"
      ],
      "metadata": {
        "id": "-vAxBv3HmcKJ",
        "colab": {
          "base_uri": "https://localhost:8080/"
        },
        "outputId": "efce6ae8-9f42-45b7-c698-ea76a2dbea46"
      },
      "execution_count": 42,
      "outputs": [
        {
          "output_type": "stream",
          "name": "stdout",
          "text": [
            "JavaScript is tough\n",
            "JavaScript is tough but HTML is easy\n",
            "HTML is easy\n"
          ]
        }
      ]
    },
    {
      "cell_type": "markdown",
      "source": [
        "**Some string functions returning boolean values ('True' & 'False')**"
      ],
      "metadata": {
        "id": "kGtlzOyyU-yB"
      }
    },
    {
      "cell_type": "code",
      "source": [
        "str3 = 'JAVA'\n",
        "str4 = 'C++ is very difficult'\n",
        "print(str4.startswith('C++')) # checks for first word in given string\n",
        "print(str4.endswith('difficult')) # checks for last word in given string"
      ],
      "metadata": {
        "id": "unUjuaPumf1X",
        "colab": {
          "base_uri": "https://localhost:8080/"
        },
        "outputId": "ef0ba7ab-767f-4cf7-c94b-e1e968cb6644"
      },
      "execution_count": 43,
      "outputs": [
        {
          "output_type": "stream",
          "name": "stdout",
          "text": [
            "True\n",
            "True\n"
          ]
        }
      ]
    },
    {
      "cell_type": "code",
      "source": [
        "print(str4.isalnum()) # checks whether alphanumeric charaters present in string"
      ],
      "metadata": {
        "colab": {
          "base_uri": "https://localhost:8080/"
        },
        "id": "62huSf_lVLIk",
        "outputId": "7eabef05-3e0c-4231-fe0a-58a3d7f3f98e"
      },
      "execution_count": 44,
      "outputs": [
        {
          "output_type": "stream",
          "name": "stdout",
          "text": [
            "False\n"
          ]
        }
      ]
    },
    {
      "cell_type": "code",
      "source": [
        "# 'isalpha()' checks for alphabets present or not\n",
        "print(str3.isalpha()) # true as no spaces present\n",
        "print(str4.isalpha()) # false because spaces present in between"
      ],
      "metadata": {
        "colab": {
          "base_uri": "https://localhost:8080/"
        },
        "id": "lWPEMUgHVZpX",
        "outputId": "e3ad2472-89d6-44e3-f363-e776bb1f0b15"
      },
      "execution_count": 45,
      "outputs": [
        {
          "output_type": "stream",
          "name": "stdout",
          "text": [
            "True\n",
            "False\n"
          ]
        }
      ]
    },
    {
      "cell_type": "code",
      "source": [
        "print(str4.isdigit()) # checks for numbers present or not"
      ],
      "metadata": {
        "colab": {
          "base_uri": "https://localhost:8080/"
        },
        "id": "TbraD8ieVhzx",
        "outputId": "3e245277-57c1-4017-d9ef-7768dc9087c2"
      },
      "execution_count": 46,
      "outputs": [
        {
          "output_type": "stream",
          "name": "stdout",
          "text": [
            "False\n"
          ]
        }
      ]
    },
    {
      "cell_type": "code",
      "source": [
        "s1 = '6299'\n",
        "print(s1.isdigit())"
      ],
      "metadata": {
        "colab": {
          "base_uri": "https://localhost:8080/"
        },
        "id": "8pf26rNeVqV8",
        "outputId": "f927a6fc-e073-4ea1-96a7-1348024f5c49"
      },
      "execution_count": 47,
      "outputs": [
        {
          "output_type": "stream",
          "name": "stdout",
          "text": [
            "True\n"
          ]
        }
      ]
    },
    {
      "cell_type": "code",
      "source": [
        "s1 = 6299\n",
        "print(s1.isdigit())"
      ],
      "metadata": {
        "colab": {
          "base_uri": "https://localhost:8080/",
          "height": 183
        },
        "id": "_IXdt8ghV2-d",
        "outputId": "ba151349-5b4a-4b95-9128-8ef5e7bcdde5"
      },
      "execution_count": 48,
      "outputs": [
        {
          "output_type": "error",
          "ename": "AttributeError",
          "evalue": "ignored",
          "traceback": [
            "\u001b[0;31m---------------------------------------------------------------------------\u001b[0m",
            "\u001b[0;31mAttributeError\u001b[0m                            Traceback (most recent call last)",
            "\u001b[0;32m<ipython-input-48-e15bf840714a>\u001b[0m in \u001b[0;36m<module>\u001b[0;34m()\u001b[0m\n\u001b[1;32m      1\u001b[0m \u001b[0ms1\u001b[0m \u001b[0;34m=\u001b[0m \u001b[0;36m6299\u001b[0m\u001b[0;34m\u001b[0m\u001b[0;34m\u001b[0m\u001b[0m\n\u001b[0;32m----> 2\u001b[0;31m \u001b[0mprint\u001b[0m\u001b[0;34m(\u001b[0m\u001b[0ms1\u001b[0m\u001b[0;34m.\u001b[0m\u001b[0misdigit\u001b[0m\u001b[0;34m(\u001b[0m\u001b[0;34m)\u001b[0m\u001b[0;34m)\u001b[0m\u001b[0;34m\u001b[0m\u001b[0;34m\u001b[0m\u001b[0m\n\u001b[0m",
            "\u001b[0;31mAttributeError\u001b[0m: 'int' object has no attribute 'isdigit'"
          ]
        }
      ]
    },
    {
      "cell_type": "markdown",
      "source": [
        "**Some Strip Operations in strings**"
      ],
      "metadata": {
        "id": "2PKOYJfJWFRn"
      }
    },
    {
      "cell_type": "code",
      "source": [
        "s1 = '  Java  '\n",
        "print(s1.strip()) # removes spaces from both sides\n",
        "s2 = 'C++  '\n",
        "print (s2.rstrip()) # removes spaces from right side\n",
        "s3 = '  Python'\n",
        "print(s3.lstrip()) # removes spaces from left side"
      ],
      "metadata": {
        "id": "6ELO2BWwmlZt",
        "colab": {
          "base_uri": "https://localhost:8080/"
        },
        "outputId": "1b55135d-5105-410d-e9fe-86729e926aee"
      },
      "execution_count": 49,
      "outputs": [
        {
          "output_type": "stream",
          "name": "stdout",
          "text": [
            "Java\n",
            "C++\n",
            "Python\n"
          ]
        }
      ]
    }
  ]
}