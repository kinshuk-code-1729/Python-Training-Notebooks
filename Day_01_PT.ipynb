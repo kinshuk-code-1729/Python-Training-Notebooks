{
  "nbformat": 4,
  "nbformat_minor": 0,
  "metadata": {
    "colab": {
      "name": "Day_01_PT.ipynb",
      "provenance": [],
      "collapsed_sections": [],
      "authorship_tag": "ABX9TyPC3ReozKj+wwg4qUFlSD6e",
      "include_colab_link": true
    },
    "kernelspec": {
      "name": "python3",
      "display_name": "Python 3"
    },
    "language_info": {
      "name": "python"
    },
    "gpuClass": "standard"
  },
  "cells": [
    {
      "cell_type": "markdown",
      "metadata": {
        "id": "view-in-github",
        "colab_type": "text"
      },
      "source": [
        "<a href=\"https://colab.research.google.com/github/kinshuk-code-1729/Python-Training-Notebooks/blob/main/Day_01_PT.ipynb\" target=\"_parent\"><img src=\"https://colab.research.google.com/assets/colab-badge.svg\" alt=\"Open In Colab\"/></a>"
      ]
    },
    {
      "cell_type": "markdown",
      "source": [
        "# ***Day 1 Notebook***"
      ],
      "metadata": {
        "id": "Wae5nbBGsdqv"
      }
    },
    {
      "cell_type": "markdown",
      "source": [
        "**Checking installed version**"
      ],
      "metadata": {
        "id": "PAwFT3D6t8C2"
      }
    },
    {
      "cell_type": "code",
      "execution_count": 1,
      "metadata": {
        "id": "DoyupW1Co7tM",
        "colab": {
          "base_uri": "https://localhost:8080/"
        },
        "outputId": "ad4fc69d-71a5-4e38-968b-c1e62f45277b"
      },
      "outputs": [
        {
          "output_type": "stream",
          "name": "stdout",
          "text": [
            "3.7.13\n"
          ]
        }
      ],
      "source": [
        "from platform import python_version as ver\n",
        "print(ver())"
      ]
    },
    {
      "cell_type": "code",
      "source": [
        "m = 420\n",
        "print(\"m =\",m)"
      ],
      "metadata": {
        "id": "47yZmmo_qR1l",
        "colab": {
          "base_uri": "https://localhost:8080/"
        },
        "outputId": "1ebc56c8-33c7-417c-fb98-a40f3c6bf54f"
      },
      "execution_count": 2,
      "outputs": [
        {
          "output_type": "stream",
          "name": "stdout",
          "text": [
            "m = 420\n"
          ]
        }
      ]
    },
    {
      "cell_type": "markdown",
      "source": [
        "**Checking address of variable in memory**"
      ],
      "metadata": {
        "id": "G07VOjBKuKWl"
      }
    },
    {
      "cell_type": "code",
      "source": [
        "print(\"Address of m : \",id(m))"
      ],
      "metadata": {
        "id": "SAScoaK9qqGo",
        "colab": {
          "base_uri": "https://localhost:8080/"
        },
        "outputId": "3dfc70af-aba8-47ae-cede-e8816092db26"
      },
      "execution_count": 3,
      "outputs": [
        {
          "output_type": "stream",
          "name": "stdout",
          "text": [
            "Address of m :  140092535128688\n"
          ]
        }
      ]
    },
    {
      "cell_type": "markdown",
      "source": [
        "**Same values have same address**"
      ],
      "metadata": {
        "id": "xpixu4v3ubs1"
      }
    },
    {
      "cell_type": "code",
      "source": [
        "x = 45\n",
        "y = 37 + 8 \n",
        "print(\"address of x : \",id(x))\n",
        "print(\"address of y : \",id(y))"
      ],
      "metadata": {
        "id": "2uTY_fyerXfk",
        "colab": {
          "base_uri": "https://localhost:8080/"
        },
        "outputId": "819f3aff-7c4d-4e49-b6f7-0198eeb23692"
      },
      "execution_count": 4,
      "outputs": [
        {
          "output_type": "stream",
          "name": "stdout",
          "text": [
            "address of x :  11257472\n",
            "address of y :  11257472\n"
          ]
        }
      ]
    },
    {
      "cell_type": "code",
      "source": [
        "p = 112\n",
        "q = 109 + 2\n",
        "print(\"address of p : \",id(p))\n",
        "print(\"address of q : \",id(q))"
      ],
      "metadata": {
        "id": "AEtmGzDor5Km",
        "colab": {
          "base_uri": "https://localhost:8080/"
        },
        "outputId": "0cbeddce-333e-487d-b286-96d4ed6cee12"
      },
      "execution_count": 5,
      "outputs": [
        {
          "output_type": "stream",
          "name": "stdout",
          "text": [
            "address of p :  11259616\n",
            "address of q :  11259584\n"
          ]
        }
      ]
    },
    {
      "cell_type": "code",
      "source": [
        "u = 257\n",
        "v = 248 + 9 #upto 256 is true in ver. 3.7  \n",
        "print(\"address of x : \",id(u))\n",
        "print(\"address of y : \",id(v))\n",
        "print(u == v) # '==' is equality operator\n",
        "print(u is v) # 'is' acts as equality operator but is relational"
      ],
      "metadata": {
        "id": "wh6Xh6mJsLgl",
        "colab": {
          "base_uri": "https://localhost:8080/"
        },
        "outputId": "39b5ada6-d08f-4226-8762-5e2b1503f366"
      },
      "execution_count": 6,
      "outputs": [
        {
          "output_type": "stream",
          "name": "stdout",
          "text": [
            "address of x :  140092535181808\n",
            "address of y :  140092535182544\n",
            "True\n",
            "False\n"
          ]
        }
      ]
    },
    {
      "cell_type": "markdown",
      "source": [
        "**Orphan Object**"
      ],
      "metadata": {
        "id": "zwCMIrQ6tXm2"
      }
    },
    {
      "cell_type": "code",
      "source": [
        "k = 154\n",
        "print(\"Firstly k =\",k)\n",
        "k = 646\n",
        "print(\"Now k =\",k) #Now 'k' points to 646 and previous value 154 is an orphan object"
      ],
      "metadata": {
        "id": "uXO49vJlteD1",
        "colab": {
          "base_uri": "https://localhost:8080/"
        },
        "outputId": "6554c3cd-03b6-4183-8878-3406c0aa7a05"
      },
      "execution_count": 7,
      "outputs": [
        {
          "output_type": "stream",
          "name": "stdout",
          "text": [
            "Firstly k = 154\n",
            "Now k = 646\n"
          ]
        }
      ]
    },
    {
      "cell_type": "markdown",
      "source": [
        "*Taking input from user*"
      ],
      "metadata": {
        "id": "GMm0pBTYvXEV"
      }
    },
    {
      "cell_type": "code",
      "source": [
        "h = int(input(\"Enter a num : \"))\n",
        "print(\"h = \",h)\n",
        "f = 120 #This is hard-code\n",
        "print(\"val of f is = \",f)\n"
      ],
      "metadata": {
        "id": "EVgIPRrOvbok",
        "colab": {
          "base_uri": "https://localhost:8080/"
        },
        "outputId": "7b6e64d9-6495-4e4e-a45f-d8841e029cbb"
      },
      "execution_count": 8,
      "outputs": [
        {
          "output_type": "stream",
          "name": "stdout",
          "text": [
            "Enter a num : 5\n",
            "h =  5\n",
            "val of f is =  120\n"
          ]
        }
      ]
    },
    {
      "cell_type": "markdown",
      "source": [
        "##Multiplication Code"
      ],
      "metadata": {
        "id": "weJg4hR5wlvL"
      }
    },
    {
      "cell_type": "code",
      "source": [
        "num1 = int(input(\"Enter val1 : \")) \n",
        "num2 = int(input(\"Enter val2 : \"))\n",
        "print(\"Product =\",num1*num2) "
      ],
      "metadata": {
        "id": "5aqgpbSewkUN",
        "colab": {
          "base_uri": "https://localhost:8080/"
        },
        "outputId": "5a38350c-d8e1-4ade-9535-cf2cabc128ef"
      },
      "execution_count": 9,
      "outputs": [
        {
          "output_type": "stream",
          "name": "stdout",
          "text": [
            "Enter val1 : 5\n",
            "Enter val2 : 4\n",
            "Product = 20\n"
          ]
        }
      ]
    },
    {
      "cell_type": "markdown",
      "source": [
        "###If 'int' not specified in 'input' then by default input behaves as string"
      ],
      "metadata": {
        "id": "vMCNxTlaxcKL"
      }
    },
    {
      "cell_type": "code",
      "source": [
        "name = \"Kinshuk\"\n",
        "mssg = input(\"Enter Greeting Message... : \")\n",
        "print(mssg + name,\"!!!!!\")"
      ],
      "metadata": {
        "id": "viw0RIpMx3jB",
        "colab": {
          "base_uri": "https://localhost:8080/"
        },
        "outputId": "e9386619-284d-49f8-ea4e-ea5682a386ee"
      },
      "execution_count": 10,
      "outputs": [
        {
          "output_type": "stream",
          "name": "stdout",
          "text": [
            "Enter Greeting Message... : Bbye \n",
            "Bbye Kinshuk !!!!!\n"
          ]
        }
      ]
    },
    {
      "cell_type": "markdown",
      "source": [
        "**Declare & Assign Multiple variables in single-line**"
      ],
      "metadata": {
        "id": "9SiFU2J4yYTF"
      }
    },
    {
      "cell_type": "code",
      "source": [
        "x,y,z = 15,65,68\n",
        "print(\"x =\",x,\"y =\",y,\"z =\",z)"
      ],
      "metadata": {
        "id": "5Cvo9Dzsyl4y",
        "colab": {
          "base_uri": "https://localhost:8080/"
        },
        "outputId": "508a4fd0-b039-43a5-928a-760759549bae"
      },
      "execution_count": 11,
      "outputs": [
        {
          "output_type": "stream",
          "name": "stdout",
          "text": [
            "x = 15 y = 65 z = 68\n"
          ]
        }
      ]
    },
    {
      "cell_type": "markdown",
      "source": [
        "*We use underscore in place of empty variable*"
      ],
      "metadata": {
        "id": "6SF6Hxb5zD9T"
      }
    },
    {
      "cell_type": "code",
      "source": [
        "p,q,_ = 45,47,55\n",
        "print(\"p =\",p,\"q =\",q,\"last =\",_)"
      ],
      "metadata": {
        "id": "3ocu_oapzbAJ",
        "colab": {
          "base_uri": "https://localhost:8080/"
        },
        "outputId": "b412d4c4-0ca5-4300-fc5c-2092bc5f1ada"
      },
      "execution_count": 12,
      "outputs": [
        {
          "output_type": "stream",
          "name": "stdout",
          "text": [
            "p = 45 q = 47 last = 55\n"
          ]
        }
      ]
    },
    {
      "cell_type": "markdown",
      "source": [
        "using asterisk(*) we can assign multiple vals to a variable"
      ],
      "metadata": {
        "id": "_-6jgo7O0Arc"
      }
    },
    {
      "cell_type": "code",
      "source": [
        "d,*e = 41,36,44,98,76\n",
        "print(d,e)"
      ],
      "metadata": {
        "id": "DEjm1e4M0hpd",
        "colab": {
          "base_uri": "https://localhost:8080/"
        },
        "outputId": "f558bf97-1f35-44fc-dc6b-845f488900a9"
      },
      "execution_count": 13,
      "outputs": [
        {
          "output_type": "stream",
          "name": "stdout",
          "text": [
            "41 [36, 44, 98, 76]\n"
          ]
        }
      ]
    },
    {
      "cell_type": "markdown",
      "source": [
        "**Taking input using separator**"
      ],
      "metadata": {
        "id": "9zqWC8xk02xG"
      }
    },
    {
      "cell_type": "code",
      "source": [
        "r,k,rs= input().split() # 'split' takes an argument by default as a single space\n",
        "print(r,k,rs)\n",
        "# we can also add split value using single quote string values"
      ],
      "metadata": {
        "id": "CNKbVLBS1Bcr",
        "colab": {
          "base_uri": "https://localhost:8080/"
        },
        "outputId": "0230f393-e500-4807-c141-42254f3964c9"
      },
      "execution_count": 16,
      "outputs": [
        {
          "output_type": "stream",
          "name": "stdout",
          "text": [
            "Steve Thor Hulk\n",
            "Steve Thor Hulk\n"
          ]
        }
      ]
    },
    {
      "cell_type": "markdown",
      "source": [
        "**Finding greater value among two vals**"
      ],
      "metadata": {
        "id": "HNoKF7Ep4USY"
      }
    },
    {
      "cell_type": "code",
      "source": [
        "x = int(input(\"Enter num 1 : \"))\n",
        "y = int(input(\"Enter num 2 : \"))\n",
        "if x>y :\n",
        "  print(\"Larger value is \",x)\n",
        "else :\n",
        "  print(\"Larger value is \",y)"
      ],
      "metadata": {
        "id": "ZSE4IjJ74ZfR",
        "colab": {
          "base_uri": "https://localhost:8080/"
        },
        "outputId": "a1c19fd9-9ba4-43fc-f225-c0df4d065796"
      },
      "execution_count": 17,
      "outputs": [
        {
          "output_type": "stream",
          "name": "stdout",
          "text": [
            "Enter num 1 : 5\n",
            "Enter num 2 : 6\n",
            "Larger value is  6\n"
          ]
        }
      ]
    },
    {
      "cell_type": "markdown",
      "source": [
        "**elif** statement b/w **if** & **else** blocks"
      ],
      "metadata": {
        "id": "3v4wiTvt8kZT"
      }
    },
    {
      "cell_type": "code",
      "source": [
        "m = int(input(\"Enter num 1 : \"))\n",
        "n = int(input(\"Enter num 2 : \"))\n",
        "if m>n :\n",
        "  print(\"Larger value is \",m)\n",
        "elif m==n:\n",
        "  print(\"Both numbers are equal\")  # elif is short-form of 'else-if' statements\n",
        "else :\n",
        "  print(\"Larger value is \",n)"
      ],
      "metadata": {
        "id": "q981LkRi8Nqt",
        "colab": {
          "base_uri": "https://localhost:8080/"
        },
        "outputId": "82eabd9c-ab41-4559-e9a1-f9449785a165"
      },
      "execution_count": 18,
      "outputs": [
        {
          "output_type": "stream",
          "name": "stdout",
          "text": [
            "Enter num 1 : 25\n",
            "Enter num 2 : 25\n",
            "Both numbers are equal\n"
          ]
        }
      ]
    },
    {
      "cell_type": "markdown",
      "source": [
        "2# Swapping two values based after checking a condition"
      ],
      "metadata": {
        "id": "xxCzxTsBVTmv"
      }
    },
    {
      "cell_type": "code",
      "source": [
        "n1 = int(input(\"Enter val 1 : \"))\n",
        "n2 = int(input(\"Enter val 2 : \"))\n",
        "if n1>n2 :\n",
        "  n1,n2 = n2,n1\n",
        "  print(\"Swapped values are n1 =\",n1,\"and n2 =\",n2)\n",
        "else:\n",
        "  print(\"Unswapped values are n1 =\",n1,\"and n2 =\",n2)"
      ],
      "metadata": {
        "id": "bzQ0MGFdTyfx",
        "colab": {
          "base_uri": "https://localhost:8080/"
        },
        "outputId": "4e82248e-691b-4067-a8fa-042342c708ee"
      },
      "execution_count": 19,
      "outputs": [
        {
          "output_type": "stream",
          "name": "stdout",
          "text": [
            "Enter val 1 : 25\n",
            "Enter val 2 : 14\n",
            "Swapped values are n1 = 14 and n2 = 25\n"
          ]
        }
      ]
    },
    {
      "cell_type": "code",
      "source": [
        "n1 = int(input(\"Enter val 1 : \"))\n",
        "n2 = int(input(\"Enter val 2 : \"))\n",
        "if n1>n2 :\n",
        "  if n1> 15 :   #nested if-else block\n",
        "    n1,n2 = n2,n1\n",
        "    print(\"Swapped values are n1 =\",n1,\"and n2 =\",n2)\n",
        "  else:\n",
        "    print(\"Unswapped values are n1 =\",n1,\"and n2 =\",n2)\n",
        "else:\n",
        "  print(\"Unswapped values are n1 =\",n1,\"and n2 =\",n2)"
      ],
      "metadata": {
        "id": "vUMRN0ZdWA5d",
        "colab": {
          "base_uri": "https://localhost:8080/"
        },
        "outputId": "4163adcd-1297-46e1-ef90-09a708182802"
      },
      "execution_count": 20,
      "outputs": [
        {
          "output_type": "stream",
          "name": "stdout",
          "text": [
            "Enter val 1 : 26\n",
            "Enter val 2 : 51\n",
            "Unswapped values are n1 = 26 and n2 = 51\n"
          ]
        }
      ]
    },
    {
      "cell_type": "code",
      "source": [
        "n1 = int(input(\"Enter val 1 : \"))\n",
        "n2 = int(input(\"Enter val 2 : \"))\n",
        "if n1>n2 and n1>10 :\n",
        "  n1,n2 = n2,n1\n",
        "  print(\"Swapped values are n1 =\",n1,\"and n2 =\",n2)\n",
        "else:\n",
        "  print(\"Unswapped values are n1 =\",n1,\"and n2 =\",n2)"
      ],
      "metadata": {
        "id": "pA-9ru-AWX8P",
        "colab": {
          "base_uri": "https://localhost:8080/"
        },
        "outputId": "7aa19f0c-e856-4c89-da77-0671f15d7026"
      },
      "execution_count": 21,
      "outputs": [
        {
          "output_type": "stream",
          "name": "stdout",
          "text": [
            "Enter val 1 : 25\n",
            "Enter val 2 : 14\n",
            "Swapped values are n1 = 14 and n2 = 25\n"
          ]
        }
      ]
    },
    {
      "cell_type": "markdown",
      "source": [
        "**Leap Year or not**"
      ],
      "metadata": {
        "id": "4pazrLk2Ye7Q"
      }
    },
    {
      "cell_type": "code",
      "source": [
        "y = int(input(\"Enter an year : \"))\n",
        "if ((y % 4 == 0 and y % 100 != 0) or (y % 400 == 0)) : \n",
        "    print(y,\"is a leap year\")\n",
        "else :\n",
        "  print(y,\"is not a leap year\")"
      ],
      "metadata": {
        "id": "9s4nNhTtYnZf",
        "colab": {
          "base_uri": "https://localhost:8080/"
        },
        "outputId": "1728aadf-2506-497e-ac16-6dcd91911bae"
      },
      "execution_count": 22,
      "outputs": [
        {
          "output_type": "stream",
          "name": "stdout",
          "text": [
            "Enter an year : 2100\n",
            "2100 is not a leap year\n"
          ]
        }
      ]
    },
    {
      "cell_type": "markdown",
      "source": [
        "#Loops in Python"
      ],
      "metadata": {
        "id": "tJ9XdD8Ka0Xs"
      }
    },
    {
      "cell_type": "markdown",
      "source": [
        "**For loop**"
      ],
      "metadata": {
        "id": "MDwQJoVqa8IF"
      }
    },
    {
      "cell_type": "code",
      "source": [
        "''' for <variable> in range (start , stop , step) :\n",
        "1. start val is included\n",
        "2. stop val is not included\n",
        "3. step is optional if its +1 '''\n",
        "for i in range(5):\n",
        "  print(i)\n",
        "\n",
        "x = int(input(\"Enter a val. ---> \"))\n",
        "for j in range(1,x):\n",
        "  print(j)\n",
        "\n",
        "y = int(input(\"Enter another val .......  \"))\n",
        "for k in range(3,y,4):\n",
        "  print(k)"
      ],
      "metadata": {
        "id": "Ce5zmTcrbLJt",
        "colab": {
          "base_uri": "https://localhost:8080/"
        },
        "outputId": "103bde54-3ab8-4df2-868f-448a3f182afd"
      },
      "execution_count": 23,
      "outputs": [
        {
          "output_type": "stream",
          "name": "stdout",
          "text": [
            "0\n",
            "1\n",
            "2\n",
            "3\n",
            "4\n",
            "Enter a val. ---> 5\n",
            "1\n",
            "2\n",
            "3\n",
            "4\n",
            "Enter another val .......  7\n",
            "3\n"
          ]
        }
      ]
    },
    {
      "cell_type": "markdown",
      "source": [
        "**Factorial of a number**"
      ],
      "metadata": {
        "id": "sT8VGTiehk-5"
      }
    },
    {
      "cell_type": "code",
      "source": [
        "num = int(input(\"Enter any number : \"))\n",
        "fact = 1\n",
        "if num < 0:\n",
        "  print(\"Sorry !!!, factorial for -ve values do not exist....\")\n",
        "  print(\"Try again with positive value.....\")\n",
        "else :\n",
        "  for i in range(1,num+1):\n",
        "    fact *= i  # short-cut operator for 'fact = fact*i'\n",
        "    print(\"for i =\",i,\"fact =\",fact)\n",
        "  print(\"Finally\",num,\"! =\",fact)"
      ],
      "metadata": {
        "id": "xkJFjmYOdZdd",
        "colab": {
          "base_uri": "https://localhost:8080/"
        },
        "outputId": "284ebab2-24a4-4502-962c-453a1291435d"
      },
      "execution_count": 24,
      "outputs": [
        {
          "output_type": "stream",
          "name": "stdout",
          "text": [
            "Enter any number : 10\n",
            "for i = 1 fact = 1\n",
            "for i = 2 fact = 2\n",
            "for i = 3 fact = 6\n",
            "for i = 4 fact = 24\n",
            "for i = 5 fact = 120\n",
            "for i = 6 fact = 720\n",
            "for i = 7 fact = 5040\n",
            "for i = 8 fact = 40320\n",
            "for i = 9 fact = 362880\n",
            "for i = 10 fact = 3628800\n",
            "Finally 10 ! = 3628800\n"
          ]
        }
      ]
    },
    {
      "cell_type": "markdown",
      "source": [
        "**Prime no. or not**"
      ],
      "metadata": {
        "id": "9M2DpW_8hpoD"
      }
    },
    {
      "cell_type": "code",
      "source": [
        "# Logic 1\n",
        "n = int(input(\"Enter a number : \"))\n",
        "for i in range(2,n) :\n",
        "  if n % i == 0 :\n",
        "    print(n,\"is not prime\")\n",
        "    break\n",
        "else :\n",
        "  print(n,\"is prime\")"
      ],
      "metadata": {
        "id": "sY0QU2ffkU3P",
        "colab": {
          "base_uri": "https://localhost:8080/"
        },
        "outputId": "a6ce5c75-8914-4a5d-fc1c-d1a63910ac61"
      },
      "execution_count": 25,
      "outputs": [
        {
          "output_type": "stream",
          "name": "stdout",
          "text": [
            "Enter a number : 97\n",
            "97 is prime\n"
          ]
        }
      ]
    },
    {
      "cell_type": "code",
      "source": [
        "# Logic 2\n",
        "n = int(input(\"Enter a number : \"))\n",
        "k = 0\n",
        "m = n//2\n",
        "for i in range(2,m+1) :\n",
        "  if n % i == 0 :\n",
        "    k = 1\n",
        "\n",
        "if k == 1 :\n",
        "  print(n,\"is not prime\")\n",
        "else :\n",
        "  print(n,\"is prime\")"
      ],
      "metadata": {
        "id": "FFghsZvlhwBn",
        "colab": {
          "base_uri": "https://localhost:8080/"
        },
        "outputId": "dd02d5cd-66dd-482b-8e65-959e1ec85c57"
      },
      "execution_count": 26,
      "outputs": [
        {
          "output_type": "stream",
          "name": "stdout",
          "text": [
            "Enter a number : 101\n",
            "101 is prime\n"
          ]
        }
      ]
    },
    {
      "cell_type": "markdown",
      "source": [
        "**Installing a library in jupyter via internet**"
      ],
      "metadata": {
        "id": "w23zWxjZ0dFH"
      }
    },
    {
      "cell_type": "code",
      "source": [
        "!pip install abhiprime # we use 'pip' command to install any library in python \n",
        "# '!' is used to run the statement as a cmd command in jupyter notebook"
      ],
      "metadata": {
        "id": "2XEO00SeoXHL",
        "colab": {
          "base_uri": "https://localhost:8080/"
        },
        "outputId": "d3e3427b-73ce-44ca-8855-ec9378476b1b"
      },
      "execution_count": 27,
      "outputs": [
        {
          "output_type": "stream",
          "name": "stdout",
          "text": [
            "Looking in indexes: https://pypi.org/simple, https://us-python.pkg.dev/colab-wheels/public/simple/\n",
            "Collecting abhiprime\n",
            "  Downloading abhiprime-6.0.0-py3-none-any.whl (3.7 kB)\n",
            "Installing collected packages: abhiprime\n",
            "Successfully installed abhiprime-6.0.0\n"
          ]
        }
      ]
    },
    {
      "cell_type": "code",
      "source": [
        "from abhiprime import *\n",
        "num = int(input(\"Enter a number : \"))\n",
        "chk = test_prime(n)\n",
        "if chk :\n",
        "  print(num,\"is prime\")\n",
        "else :\n",
        "  print(num,\"is not prime\")"
      ],
      "metadata": {
        "id": "fz2KCS0ios6T",
        "colab": {
          "base_uri": "https://localhost:8080/"
        },
        "outputId": "d09c7014-eefe-40b4-a545-a331b7e3a3a3"
      },
      "execution_count": 29,
      "outputs": [
        {
          "output_type": "stream",
          "name": "stdout",
          "text": [
            "Enter a number : 17\n",
            "17 is prime\n"
          ]
        }
      ]
    },
    {
      "cell_type": "code",
      "source": [
        "prev_prime(100)"
      ],
      "metadata": {
        "id": "BHZnreQuo2eK",
        "colab": {
          "base_uri": "https://localhost:8080/"
        },
        "outputId": "34deea61-a620-49ce-8a1e-b77f4a0f6d78"
      },
      "execution_count": 30,
      "outputs": [
        {
          "output_type": "execute_result",
          "data": {
            "text/plain": [
              "97"
            ]
          },
          "metadata": {},
          "execution_count": 30
        }
      ]
    },
    {
      "cell_type": "code",
      "source": [
        "next_prime(100)"
      ],
      "metadata": {
        "id": "0uF_gmNRqz1q",
        "colab": {
          "base_uri": "https://localhost:8080/"
        },
        "outputId": "87862f74-9681-4655-f596-0fc55ba481e9"
      },
      "execution_count": 31,
      "outputs": [
        {
          "output_type": "execute_result",
          "data": {
            "text/plain": [
              "101"
            ]
          },
          "metadata": {},
          "execution_count": 31
        }
      ]
    },
    {
      "cell_type": "code",
      "source": [
        "range_prime(10,100)"
      ],
      "metadata": {
        "id": "EtrmfUcKq2QC",
        "colab": {
          "base_uri": "https://localhost:8080/"
        },
        "outputId": "c25945bd-9aff-48ca-d344-a8b603723eea"
      },
      "execution_count": 32,
      "outputs": [
        {
          "output_type": "stream",
          "name": "stdout",
          "text": [
            "11 13 17 19 23 29 31 37 41 43 47 53 59 61 67 71 73 79 83 89 97 \n"
          ]
        }
      ]
    },
    {
      "cell_type": "code",
      "source": [
        "fib_prime(17)"
      ],
      "metadata": {
        "id": "W5DIHV8gq5iS",
        "colab": {
          "base_uri": "https://localhost:8080/"
        },
        "outputId": "70a2efb5-c50f-4471-f61b-7e03fc935b40"
      },
      "execution_count": 33,
      "outputs": [
        {
          "output_type": "stream",
          "name": "stdout",
          "text": [
            "2 3 5 13 "
          ]
        }
      ]
    },
    {
      "cell_type": "code",
      "source": [
        "sqrt(400)"
      ],
      "metadata": {
        "id": "8bCJUb15rFZi",
        "colab": {
          "base_uri": "https://localhost:8080/"
        },
        "outputId": "0f332504-6a44-4323-97ae-17af82e53317"
      },
      "execution_count": 34,
      "outputs": [
        {
          "output_type": "execute_result",
          "data": {
            "text/plain": [
              "20.0"
            ]
          },
          "metadata": {},
          "execution_count": 34
        }
      ]
    },
    {
      "cell_type": "code",
      "source": [
        "prime_factor(56)"
      ],
      "metadata": {
        "id": "dW3yKjCXsDF0",
        "colab": {
          "base_uri": "https://localhost:8080/"
        },
        "outputId": "f1635471-261a-4a92-da2d-c87b286957c3"
      },
      "execution_count": 35,
      "outputs": [
        {
          "output_type": "execute_result",
          "data": {
            "text/plain": [
              "[2, 2, 2, 7]"
            ]
          },
          "metadata": {},
          "execution_count": 35
        }
      ]
    },
    {
      "cell_type": "code",
      "source": [
        "prime_upto(12)"
      ],
      "metadata": {
        "id": "NIkgphjes2oC",
        "colab": {
          "base_uri": "https://localhost:8080/"
        },
        "outputId": "e0360932-2315-43c3-f131-1b073b3c49e1"
      },
      "execution_count": 36,
      "outputs": [
        {
          "output_type": "execute_result",
          "data": {
            "text/plain": [
              "[2, 3, 5, 7, 11]"
            ]
          },
          "metadata": {},
          "execution_count": 36
        }
      ]
    },
    {
      "cell_type": "markdown",
      "source": [
        "**Program to print the following**\n",
        "\n",
        "*5 X 4 = 20*\n",
        "\n",
        "*4 X 3 = 12*\n",
        "\n",
        "*3 X 2 = 6*\n",
        "\n",
        "*2 X 1 = 1*"
      ],
      "metadata": {
        "id": "_UrIcN83tBLh"
      }
    },
    {
      "cell_type": "code",
      "source": [
        "val1  = int(input(\"Enter 1st value : \"))\n",
        "val2  = int(input(\"Enter 2nd value : \"))\n",
        "while (val1 and val2) != 0:\n",
        "  val3 = val1 * val2\n",
        "  print(val1,'X',val2,'=',val3)\n",
        "  val1 -= 1\n",
        "  val2 -= 1"
      ],
      "metadata": {
        "id": "xdTnIjCftZeZ",
        "colab": {
          "base_uri": "https://localhost:8080/"
        },
        "outputId": "cd9925b0-c711-498e-fe28-87fee82b75f7"
      },
      "execution_count": 37,
      "outputs": [
        {
          "output_type": "stream",
          "name": "stdout",
          "text": [
            "Enter 1st value : 5\n",
            "Enter 2nd value : 4\n",
            "5 X 4 = 20\n",
            "4 X 3 = 12\n",
            "3 X 2 = 6\n",
            "2 X 1 = 2\n"
          ]
        }
      ]
    }
  ]
}