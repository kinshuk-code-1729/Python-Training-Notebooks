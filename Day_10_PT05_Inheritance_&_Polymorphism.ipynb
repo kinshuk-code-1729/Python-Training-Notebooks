{
  "nbformat": 4,
  "nbformat_minor": 0,
  "metadata": {
    "colab": {
      "name": "Day_10_PT05-Inheritance-&-Polymorphism.ipynb",
      "provenance": [],
      "collapsed_sections": [],
      "authorship_tag": "ABX9TyMMYxHKuLuIvmc3RytK3PBV",
      "include_colab_link": true
    },
    "kernelspec": {
      "name": "python3",
      "display_name": "Python 3"
    },
    "language_info": {
      "name": "python"
    },
    "accelerator": "TPU",
    "gpuClass": "standard"
  },
  "cells": [
    {
      "cell_type": "markdown",
      "metadata": {
        "id": "view-in-github",
        "colab_type": "text"
      },
      "source": [
        "<a href=\"https://colab.research.google.com/github/kinshuk-code-1729/Python-Training-Notebooks/blob/main/Day_10_PT05_Inheritance_%26_Polymorphism.ipynb\" target=\"_parent\"><img src=\"https://colab.research.google.com/assets/colab-badge.svg\" alt=\"Open In Colab\"/></a>"
      ]
    },
    {
      "cell_type": "markdown",
      "source": [
        "# **Day 10 Notebook 5**\n",
        "## ***Method Overloading, Overriding, Multiple Inheritance and MRO.***"
      ],
      "metadata": {
        "id": "y3VACfl5oKrl"
      }
    },
    {
      "cell_type": "markdown",
      "source": [
        "### **Polymorphism**"
      ],
      "metadata": {
        "id": "ChEIsw1RvpyQ"
      }
    },
    {
      "cell_type": "code",
      "execution_count": 1,
      "metadata": {
        "colab": {
          "base_uri": "https://localhost:8080/"
        },
        "id": "qRJ8NjYLop5P",
        "outputId": "a1556eed-c69b-47b9-90b5-424b1ccc63c6"
      },
      "outputs": [
        {
          "output_type": "execute_result",
          "data": {
            "text/plain": [
              "161"
            ]
          },
          "metadata": {},
          "execution_count": 1
        }
      ],
      "source": [
        "class Student :\n",
        "  def __init__(self,roll1,roll2):\n",
        "    self.roll1 = roll1\n",
        "    self.roll2 = roll2\n",
        "\n",
        "  def my_sum(self,x,y):\n",
        "    z = x + y\n",
        "    return z\n",
        "\n",
        "r = Student(54,45)\n",
        "r.my_sum(65,96)"
      ]
    },
    {
      "cell_type": "code",
      "source": [
        "# Python Don't Support Method Overloading.\n",
        "class Student :\n",
        "  def __init__(self,roll1,roll2):\n",
        "    self.roll1 = roll1\n",
        "    self.roll2 = roll2\n",
        "\n",
        "  def my_sum(self,x,y):\n",
        "    z = x + y\n",
        "    return z\n",
        "\n",
        "  def my_sum(self,x,y,t):\n",
        "    z = x + y + t\n",
        "    return z\n",
        "\n",
        "r = Student(54,45)\n",
        "r.my_sum(65,96) # doesn't accepts two arguments"
      ],
      "metadata": {
        "colab": {
          "base_uri": "https://localhost:8080/",
          "height": 200
        },
        "id": "cvZcgn0Fp3mr",
        "outputId": "cc801b92-4e6b-4156-968d-25e0f56c8d7b"
      },
      "execution_count": 3,
      "outputs": [
        {
          "output_type": "error",
          "ename": "TypeError",
          "evalue": "ignored",
          "traceback": [
            "\u001b[0;31m---------------------------------------------------------------------------\u001b[0m",
            "\u001b[0;31mTypeError\u001b[0m                                 Traceback (most recent call last)",
            "\u001b[0;32m<ipython-input-3-2f123cfe3a5c>\u001b[0m in \u001b[0;36m<module>\u001b[0;34m()\u001b[0m\n\u001b[1;32m     14\u001b[0m \u001b[0;34m\u001b[0m\u001b[0m\n\u001b[1;32m     15\u001b[0m \u001b[0mr\u001b[0m \u001b[0;34m=\u001b[0m \u001b[0mStudent\u001b[0m\u001b[0;34m(\u001b[0m\u001b[0;36m54\u001b[0m\u001b[0;34m,\u001b[0m\u001b[0;36m45\u001b[0m\u001b[0;34m)\u001b[0m\u001b[0;34m\u001b[0m\u001b[0;34m\u001b[0m\u001b[0m\n\u001b[0;32m---> 16\u001b[0;31m \u001b[0mr\u001b[0m\u001b[0;34m.\u001b[0m\u001b[0mmy_sum\u001b[0m\u001b[0;34m(\u001b[0m\u001b[0;36m65\u001b[0m\u001b[0;34m,\u001b[0m\u001b[0;36m96\u001b[0m\u001b[0;34m)\u001b[0m\u001b[0;34m\u001b[0m\u001b[0;34m\u001b[0m\u001b[0m\n\u001b[0m",
            "\u001b[0;31mTypeError\u001b[0m: my_sum() missing 1 required positional argument: 't'"
          ]
        }
      ]
    },
    {
      "cell_type": "code",
      "source": [
        "class Student :\n",
        "  def __init__(self,roll1,roll2):\n",
        "    self.roll1 = roll1\n",
        "    self.roll2 = roll2\n",
        "\n",
        "  def my_sum(self,x,y):\n",
        "    z = x + y\n",
        "    return z\n",
        "\n",
        "  def my_sum(self,x,y,t):\n",
        "    z = x + y + t\n",
        "    return z\n",
        "\n",
        "r = Student(54,45)\n",
        "r.my_sum(65,96,66) # works well with three arguments"
      ],
      "metadata": {
        "colab": {
          "base_uri": "https://localhost:8080/"
        },
        "id": "KJQViWeRqcmx",
        "outputId": "09ff24da-feee-4d85-f8c2-af988ab95347"
      },
      "execution_count": 4,
      "outputs": [
        {
          "output_type": "execute_result",
          "data": {
            "text/plain": [
              "227"
            ]
          },
          "metadata": {},
          "execution_count": 4
        }
      ]
    },
    {
      "cell_type": "code",
      "source": [
        "class Student :\n",
        "  def __init__(self,roll1,roll2):\n",
        "    self.roll1 = roll1\n",
        "    self.roll2 = roll2\n",
        "\n",
        "  def my_sum(self,x,y,t=45): # default argumentation\n",
        "    z = x + y + t\n",
        "    return z\n",
        "\n",
        "r = Student(54,45)\n",
        "r.my_sum(65,96)"
      ],
      "metadata": {
        "colab": {
          "base_uri": "https://localhost:8080/"
        },
        "id": "V2ta5Z4Fqrec",
        "outputId": "0530842b-a076-4312-d03d-86325ea4a6d0"
      },
      "execution_count": 5,
      "outputs": [
        {
          "output_type": "execute_result",
          "data": {
            "text/plain": [
              "206"
            ]
          },
          "metadata": {},
          "execution_count": 5
        }
      ]
    },
    {
      "cell_type": "markdown",
      "source": [
        "### ***Inheritance***"
      ],
      "metadata": {
        "id": "q8Q2dwwJ2_8D"
      }
    },
    {
      "cell_type": "code",
      "source": [
        "# Single Inheritance\n",
        "class water_animal: # parent class\n",
        "  def water(self):\n",
        "    print('frog lives in water')\n",
        "\n",
        "class land_animal: # parent class\n",
        "  def land(self):\n",
        "    print('frog lives on land')\n",
        "\n",
        "class land_and_water(land_animal): # this class inherits 'land_animal' class and so it's a child class\n",
        "  def land_water(self):\n",
        "    print('frog lives on land and in water') # body present so it will be printed\n",
        "\n",
        "law = land_and_water() # instance of third class\n",
        "law.land_water()"
      ],
      "metadata": {
        "colab": {
          "base_uri": "https://localhost:8080/"
        },
        "id": "IzR_64nfrK-i",
        "outputId": "45eb155e-0d19-4fea-874e-2a58c90d5d2e"
      },
      "execution_count": 6,
      "outputs": [
        {
          "output_type": "stream",
          "name": "stdout",
          "text": [
            "frog lives on land and in water\n"
          ]
        }
      ]
    },
    {
      "cell_type": "code",
      "source": [
        "# Method Overriding\n",
        "class water_animal: # base class\n",
        "  def land_water(self):\n",
        "    print('frog lives in water')\n",
        "\n",
        "class land_animal: # base class\n",
        "  def land_water(self): # function overriden\n",
        "    print('frog lives on land')\n",
        "\n",
        "class land_and_water(land_animal): # 'land_animal' inherited in child class\n",
        "  def land_water(self): # function overriden\n",
        "    print('frog lives on land and in water')\n",
        "\n",
        "law = land_and_water()\n",
        "law.land_water()"
      ],
      "metadata": {
        "colab": {
          "base_uri": "https://localhost:8080/"
        },
        "id": "155F6f8urTD1",
        "outputId": "e02f819c-3c91-41d1-9d3c-17ec48379b56"
      },
      "execution_count": 7,
      "outputs": [
        {
          "output_type": "stream",
          "name": "stdout",
          "text": [
            "frog lives on land and in water\n"
          ]
        }
      ]
    },
    {
      "cell_type": "code",
      "source": [
        "# Multiple Inheritance\n",
        "class water_animal: # parent class 1\n",
        "  def land_water(self):\n",
        "    print('frog lives in water')\n",
        "\n",
        "class land_animal: # parent class 2\n",
        "  def land_water(self): # method overriden\n",
        "    print('frog lives on land')\n",
        "\n",
        "class land_and_water(water_animal, land_animal): # both parent classes inherited in child class\n",
        "  def land_water(self): # method overriden\n",
        "    print('frog lives on land and in water')\n",
        "\n",
        "law = land_and_water()\n",
        "law.land_water()"
      ],
      "metadata": {
        "colab": {
          "base_uri": "https://localhost:8080/"
        },
        "id": "N31gx__XrfLG",
        "outputId": "1f960817-69d3-4ae2-dc95-8f3259352fa1"
      },
      "execution_count": 8,
      "outputs": [
        {
          "output_type": "stream",
          "name": "stdout",
          "text": [
            "frog lives on land and in water\n"
          ]
        }
      ]
    },
    {
      "cell_type": "code",
      "source": [
        "class water_animal: # parent class\n",
        "  def land_water(self):\n",
        "    print('frog lives in water')\n",
        "\n",
        "class land_animal(water_animal): # derived class 1 inheriting base class\n",
        "  def land_water(self): # method overriden\n",
        "    print('frog lives on land')\n",
        "\n",
        "class air_animal(water_animal): # derived class 2 inheriting base class\n",
        "  def land_water(self): # method overriden\n",
        "    print('Duck can swim and fly')\n",
        "\n",
        "class land_and_water(air_animal, water_animal): # derived class 3 inheriting one base class and one sub class\n",
        "    pass # empty body\n",
        "\n",
        "law = land_and_water() # derives 'air_animal' first and so its body get executed.\n",
        "law.land_water()"
      ],
      "metadata": {
        "colab": {
          "base_uri": "https://localhost:8080/"
        },
        "id": "wNfHF8CGrjv7",
        "outputId": "e70bfddf-fb2e-424e-856a-e2bb4e7d11e1"
      },
      "execution_count": 9,
      "outputs": [
        {
          "output_type": "stream",
          "name": "stdout",
          "text": [
            "Duck can swim and fly\n"
          ]
        }
      ]
    },
    {
      "cell_type": "code",
      "source": [
        "print(land_and_water.mro()) # mro -----> Method Resolution Order"
      ],
      "metadata": {
        "colab": {
          "base_uri": "https://localhost:8080/"
        },
        "id": "XKmass27sSgB",
        "outputId": "c576c751-1a0c-4d62-a365-fa42e73bbf07"
      },
      "execution_count": 10,
      "outputs": [
        {
          "output_type": "stream",
          "name": "stdout",
          "text": [
            "[<class '__main__.land_and_water'>, <class '__main__.air_animal'>, <class '__main__.water_animal'>, <class 'object'>]\n"
          ]
        }
      ]
    },
    {
      "cell_type": "code",
      "source": [
        "# Multiple Inheritance\n",
        "class One:\n",
        "  def k(self):\n",
        "    print(\"Inside 1\")\n",
        "\n",
        "class Two(One):\n",
        "  def k(self):\n",
        "    print(\"Inside 2\")\n",
        "\n",
        "class Three(One):\n",
        "  def k(self):\n",
        "    print(\"Inside 3\")\n",
        "\n",
        "class Four(Two,Three):\n",
        "  pass\n",
        "\n",
        "o = Four()\n",
        "o.k()"
      ],
      "metadata": {
        "id": "ccNJFFltwcW8",
        "colab": {
          "base_uri": "https://localhost:8080/"
        },
        "outputId": "1ac1dbef-8d98-4a63-dd4e-8a2fa844ce33"
      },
      "execution_count": 11,
      "outputs": [
        {
          "output_type": "stream",
          "name": "stdout",
          "text": [
            "Inside 2\n"
          ]
        }
      ]
    },
    {
      "cell_type": "code",
      "source": [
        "print(Four.mro()) # mro -----> Method Resolution Order"
      ],
      "metadata": {
        "colab": {
          "base_uri": "https://localhost:8080/"
        },
        "id": "QCLgf20h0gZH",
        "outputId": "a329a239-7aa3-47cb-8ccc-cdb4572835ab"
      },
      "execution_count": 12,
      "outputs": [
        {
          "output_type": "stream",
          "name": "stdout",
          "text": [
            "[<class '__main__.Four'>, <class '__main__.Two'>, <class '__main__.Three'>, <class '__main__.One'>, <class 'object'>]\n"
          ]
        }
      ]
    }
  ]
}