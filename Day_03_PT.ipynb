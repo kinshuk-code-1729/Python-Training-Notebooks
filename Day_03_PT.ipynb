{
  "nbformat": 4,
  "nbformat_minor": 0,
  "metadata": {
    "colab": {
      "name": "Day_03_PT.ipynb",
      "provenance": [],
      "collapsed_sections": [],
      "authorship_tag": "ABX9TyNlu7wsE1tIop9sFWhp0xhZ",
      "include_colab_link": true
    },
    "kernelspec": {
      "name": "python3",
      "display_name": "Python 3"
    },
    "language_info": {
      "name": "python"
    },
    "gpuClass": "standard"
  },
  "cells": [
    {
      "cell_type": "markdown",
      "metadata": {
        "id": "view-in-github",
        "colab_type": "text"
      },
      "source": [
        "<a href=\"https://colab.research.google.com/github/kinshuk-code-1729/Python-Training-Notebooks/blob/main/Day_03_PT.ipynb\" target=\"_parent\"><img src=\"https://colab.research.google.com/assets/colab-badge.svg\" alt=\"Open In Colab\"/></a>"
      ]
    },
    {
      "cell_type": "markdown",
      "source": [
        "# ***DAY 3 Notebook***"
      ],
      "metadata": {
        "id": "wmpBVIAT175g"
      }
    },
    {
      "cell_type": "markdown",
      "source": [
        "***Strings in Python***"
      ],
      "metadata": {
        "id": "G1Rd7FIt2G0K"
      }
    },
    {
      "cell_type": "code",
      "source": [
        "str1 = 'Pearl' # A string encoded in single-quotes\n",
        "print(str1)\n",
        "print(type(str1))"
      ],
      "metadata": {
        "id": "zTDr2XhbYz7k",
        "colab": {
          "base_uri": "https://localhost:8080/"
        },
        "outputId": "11fb0abb-fa48-4d86-ac2d-a05a3f08fbec"
      },
      "execution_count": 1,
      "outputs": [
        {
          "output_type": "stream",
          "name": "stdout",
          "text": [
            "Pearl\n",
            "<class 'str'>\n"
          ]
        }
      ]
    },
    {
      "cell_type": "code",
      "source": [
        "str1 = \"Pearl\" # A string encoded in double-quotes\n",
        "print(str1)\n",
        "print(type(str1))"
      ],
      "metadata": {
        "id": "y4l9baYxY_jD",
        "colab": {
          "base_uri": "https://localhost:8080/"
        },
        "outputId": "9c8ab466-9f32-40a5-9451-cfd6924a1521"
      },
      "execution_count": 2,
      "outputs": [
        {
          "output_type": "stream",
          "name": "stdout",
          "text": [
            "Pearl\n",
            "<class 'str'>\n"
          ]
        }
      ]
    },
    {
      "cell_type": "code",
      "source": [
        "str1 = '''Pearl''' # A string encoded in triple-quotes\n",
        "print(str1)\n",
        "print(type(str1))"
      ],
      "metadata": {
        "id": "zcTamEVwZdtX",
        "colab": {
          "base_uri": "https://localhost:8080/"
        },
        "outputId": "fc495992-575b-4c04-9693-3796c2bebf1c"
      },
      "execution_count": 3,
      "outputs": [
        {
          "output_type": "stream",
          "name": "stdout",
          "text": [
            "Pearl\n",
            "<class 'str'>\n"
          ]
        }
      ]
    },
    {
      "cell_type": "code",
      "source": [
        "str1 = \"\"\"Pearl\"\"\" # A string encoded in multiple double-quotes\n",
        "print(str1)\n",
        "print(type(str1))"
      ],
      "metadata": {
        "id": "7LkD7w8cZUMH",
        "colab": {
          "base_uri": "https://localhost:8080/"
        },
        "outputId": "812d4ba6-0126-4322-8146-89ed22bb7273"
      },
      "execution_count": 4,
      "outputs": [
        {
          "output_type": "stream",
          "name": "stdout",
          "text": [
            "Pearl\n",
            "<class 'str'>\n"
          ]
        }
      ]
    },
    {
      "cell_type": "code",
      "source": [
        "mystr = \"My Favourite language is Python\"\n",
        "print(mystr)"
      ],
      "metadata": {
        "id": "2AC-Q-4_ZoCj",
        "colab": {
          "base_uri": "https://localhost:8080/"
        },
        "outputId": "3c7ca651-bd14-4b61-cf2f-cd5d5a0a832b"
      },
      "execution_count": 5,
      "outputs": [
        {
          "output_type": "stream",
          "name": "stdout",
          "text": [
            "My Favourite language is Python\n"
          ]
        }
      ]
    },
    {
      "cell_type": "code",
      "source": [
        "mystr = '''\"My Favourite language is Python\"'''\n",
        "print(mystr)"
      ],
      "metadata": {
        "id": "a5DVC6dpZ9Tu",
        "colab": {
          "base_uri": "https://localhost:8080/"
        },
        "outputId": "84e87cce-217f-4bcf-e5a1-4a19e775e147"
      },
      "execution_count": 6,
      "outputs": [
        {
          "output_type": "stream",
          "name": "stdout",
          "text": [
            "\"My Favourite language is Python\"\n"
          ]
        }
      ]
    },
    {
      "cell_type": "markdown",
      "source": [
        "**Traversing a String in Python**"
      ],
      "metadata": {
        "id": "idfe_Kvh6hOj"
      }
    },
    {
      "cell_type": "code",
      "source": [
        "mystr2 = 'Spyder'\n",
        "for k in mystr2 : # Each element of string is printed on separate line\n",
        "  print(k)"
      ],
      "metadata": {
        "id": "sujjWZUraGkr",
        "colab": {
          "base_uri": "https://localhost:8080/"
        },
        "outputId": "aebf5f23-9d06-4f28-8a12-ebf7537033da"
      },
      "execution_count": 7,
      "outputs": [
        {
          "output_type": "stream",
          "name": "stdout",
          "text": [
            "S\n",
            "p\n",
            "y\n",
            "d\n",
            "e\n",
            "r\n"
          ]
        }
      ]
    },
    {
      "cell_type": "code",
      "source": [
        "mystr3 = 'Jupyter'\n",
        "print(mystr3[0])  # Accessing a specific String Element through indexing"
      ],
      "metadata": {
        "id": "ZxwwWzkMaPcL",
        "colab": {
          "base_uri": "https://localhost:8080/"
        },
        "outputId": "b4cd6cd3-57ad-4ed6-9c14-8800eaa5289d"
      },
      "execution_count": 8,
      "outputs": [
        {
          "output_type": "stream",
          "name": "stdout",
          "text": [
            "J\n"
          ]
        }
      ]
    },
    {
      "cell_type": "markdown",
      "source": [
        "*Omit the comma at the last iteration on finding factorial of a number.*"
      ],
      "metadata": {
        "id": "EGxXrnVL4Uhu"
      }
    },
    {
      "cell_type": "code",
      "execution_count": 9,
      "metadata": {
        "id": "Uw9yaNmT12td",
        "colab": {
          "base_uri": "https://localhost:8080/"
        },
        "outputId": "e917ba9d-fc86-491f-a8a2-38a1f1c4e876"
      },
      "outputs": [
        {
          "output_type": "stream",
          "name": "stdout",
          "text": [
            "Enter any number : 10\n",
            "1,2,6,24,120,720,5040,40320,362880,3628800"
          ]
        }
      ],
      "source": [
        "num = int(input(\"Enter any number : \"))\n",
        "fact = 1\n",
        "for i in range(1,num+1):\n",
        "    fact *= i\n",
        "    if i != num :\n",
        "      print(fact,end=',')\n",
        "    else :\n",
        "      print(fact,end='')"
      ]
    },
    {
      "cell_type": "markdown",
      "source": [
        "*Fibonacci Series from any two user defined numbers*"
      ],
      "metadata": {
        "id": "WUnUAZlG7Miy"
      }
    },
    {
      "cell_type": "code",
      "source": [
        "t1 = int(input(\"Enter first term : \"))\n",
        "t2 = int(input(\"Enter second term : \"))\n",
        "nt = int(input(\"Enter number upto which Fibonacci Series is to be find : \"))\n",
        "print(\"The generated Fibonacci Series is............\")\n",
        "for j in range(1,nt+1):\n",
        "  t1,t2 = t2,t1+t2\n",
        "  print(t1,end=' ')"
      ],
      "metadata": {
        "id": "bEid201s5SWZ",
        "colab": {
          "base_uri": "https://localhost:8080/"
        },
        "outputId": "ea897dd8-689b-490c-e9e9-385f5acd71b6"
      },
      "execution_count": 11,
      "outputs": [
        {
          "output_type": "stream",
          "name": "stdout",
          "text": [
            "Enter first term : 10\n",
            "Enter second term : 50\n",
            "Enter number upto which Fibonacci Series is to be find : 15\n",
            "The generated Fibonacci Series is............\n",
            "50 60 110 170 280 450 730 1180 1910 3090 5000 8090 13090 21180 34270 "
          ]
        }
      ]
    },
    {
      "cell_type": "markdown",
      "source": [
        "**Creating a list of strings**"
      ],
      "metadata": {
        "id": "sak_LWRM8kVi"
      }
    },
    {
      "cell_type": "code",
      "source": [
        "lst = 'Anaconda'\n",
        "print(\"List is :\",list(lst))"
      ],
      "metadata": {
        "id": "8_R4W7mk788a",
        "colab": {
          "base_uri": "https://localhost:8080/"
        },
        "outputId": "8b80adac-cc66-4dcd-db4d-16147f0a9c5e"
      },
      "execution_count": 12,
      "outputs": [
        {
          "output_type": "stream",
          "name": "stdout",
          "text": [
            "List is : ['A', 'n', 'a', 'c', 'o', 'n', 'd', 'a']\n"
          ]
        }
      ]
    },
    {
      "cell_type": "markdown",
      "source": [
        "# *Various String-Manipulation Methods (String Attributes)*"
      ],
      "metadata": {
        "id": "TFNULJML9yuY"
      }
    },
    {
      "cell_type": "markdown",
      "source": [
        "✴ *Setting attributes follows series connection*"
      ],
      "metadata": {
        "id": "uh1GLruNaoTj"
      }
    },
    {
      "cell_type": "code",
      "source": [
        "# UPPER-CASE\n",
        "str1 = 'python is my programming language'\n",
        "print(str1.upper())"
      ],
      "metadata": {
        "id": "fVH7T7vS80pt",
        "colab": {
          "base_uri": "https://localhost:8080/"
        },
        "outputId": "e16c16e7-1b91-4005-dfe8-1ac508ae49ee"
      },
      "execution_count": 13,
      "outputs": [
        {
          "output_type": "stream",
          "name": "stdout",
          "text": [
            "PYTHON IS MY PROGRAMMING LANGUAGE\n"
          ]
        }
      ]
    },
    {
      "cell_type": "code",
      "source": [
        "# LOWER-CASE\n",
        "str1 = 'PYTHON IS MY PROGRAMMING LANGUAGE'\n",
        "print(str1.lower())"
      ],
      "metadata": {
        "id": "LKljkiwx9Xt0",
        "colab": {
          "base_uri": "https://localhost:8080/"
        },
        "outputId": "e03efd8f-e787-49cc-bff6-3200b4303438"
      },
      "execution_count": 14,
      "outputs": [
        {
          "output_type": "stream",
          "name": "stdout",
          "text": [
            "python is my programming language\n"
          ]
        }
      ]
    },
    {
      "cell_type": "code",
      "source": [
        "# TITLE-CASE\n",
        "str1 = 'python is my programming language'\n",
        "print(str1.title()) #changes 1st letter of each word with uppercase value"
      ],
      "metadata": {
        "id": "SXeRX_1H-QNE",
        "colab": {
          "base_uri": "https://localhost:8080/"
        },
        "outputId": "a5a5e6b5-6f02-4db1-d620-bf62c1a07bea"
      },
      "execution_count": 15,
      "outputs": [
        {
          "output_type": "stream",
          "name": "stdout",
          "text": [
            "Python Is My Programming Language\n"
          ]
        }
      ]
    },
    {
      "cell_type": "code",
      "source": [
        "# SENTENCE-CASE\n",
        "str1 = 'python is my programming language'\n",
        "print(str1.capitalize()) #changes 1st letter of 1st word with uppercase value"
      ],
      "metadata": {
        "id": "z4uSwJuq9YBe",
        "colab": {
          "base_uri": "https://localhost:8080/"
        },
        "outputId": "238900a2-1cd6-4f5b-c57e-a1546dd4cc2a"
      },
      "execution_count": 16,
      "outputs": [
        {
          "output_type": "stream",
          "name": "stdout",
          "text": [
            "Python is my programming language\n"
          ]
        }
      ]
    },
    {
      "cell_type": "code",
      "source": [
        "# SWAP-CASE\n",
        "str1 = 'pYtHoN iS My pRoGraMmiNg LaNgUaGe'\n",
        "print(str1.swapcase()) #changes uppercase letters to lowercase & vice-versa"
      ],
      "metadata": {
        "id": "uXySmP2u9YV_",
        "colab": {
          "base_uri": "https://localhost:8080/"
        },
        "outputId": "3ca82d3b-d266-4725-b135-97ab0eb71566"
      },
      "execution_count": 17,
      "outputs": [
        {
          "output_type": "stream",
          "name": "stdout",
          "text": [
            "PyThOn Is mY PrOgRAmMInG lAnGuAgE\n"
          ]
        }
      ]
    },
    {
      "cell_type": "code",
      "source": [
        "# Combined use of both 'upper()' and 'title()' attribute\n",
        "str1 = 'python is my programming language'\n",
        "print(str1.title().upper())"
      ],
      "metadata": {
        "id": "vrx8oikiavAv",
        "colab": {
          "base_uri": "https://localhost:8080/"
        },
        "outputId": "f0b2ed36-b483-46d5-f475-a571d053f4b0"
      },
      "execution_count": 18,
      "outputs": [
        {
          "output_type": "stream",
          "name": "stdout",
          "text": [
            "PYTHON IS MY PROGRAMMING LANGUAGE\n"
          ]
        }
      ]
    },
    {
      "cell_type": "code",
      "source": [
        "# Updating a existing portion of string with some another string value\n",
        "str1 = 'python is my programming language'\n",
        "print(str1.replace('python','C++')) # 'replace' method updates the sub-string with new sub-string"
      ],
      "metadata": {
        "id": "kO9QiyDYbDwy",
        "colab": {
          "base_uri": "https://localhost:8080/"
        },
        "outputId": "3dcdf88d-21c8-4a26-9e54-e15ee9201bf6"
      },
      "execution_count": 19,
      "outputs": [
        {
          "output_type": "stream",
          "name": "stdout",
          "text": [
            "C++ is my programming language\n"
          ]
        }
      ]
    },
    {
      "cell_type": "markdown",
      "source": [
        "**Program to check whether input string is a *Palindrome* string or not**"
      ],
      "metadata": {
        "id": "D1VUYFGqC8vg"
      }
    },
    {
      "cell_type": "code",
      "source": [
        "# PALINDROME CODE\n",
        "string = input(\"Enter your string :\")\n",
        "string = string.upper() # we can also use 'lower()' function.\n",
        "strrev = reversed(string)\n",
        "if list(string) == list(strrev):\n",
        "  print(string,\"is a palindrome\")\n",
        "else:\n",
        "  print(string,\"is not a palindrome\")"
      ],
      "metadata": {
        "id": "DLRbOY2pArgp",
        "colab": {
          "base_uri": "https://localhost:8080/"
        },
        "outputId": "d2a56a89-1684-42a1-ba43-04f577965875"
      },
      "execution_count": 20,
      "outputs": [
        {
          "output_type": "stream",
          "name": "stdout",
          "text": [
            "Enter your string :MalaYaLam\n",
            "MALAYALAM is a palindrome\n"
          ]
        }
      ]
    },
    {
      "cell_type": "markdown",
      "source": [
        "**Program to store the sum of digits of all elements of a list as elements in another empty-list**"
      ],
      "metadata": {
        "id": "c54RcbmX7J2u"
      }
    },
    {
      "cell_type": "code",
      "source": [
        "# Logic-1 :---> For 2-digit values\n",
        "mylst = [23,56,48,62,37]\n",
        "ds_lst = []\n",
        "for k in mylst :\n",
        "  s = str(k)\n",
        "  ds = int(s[0])+int(s[1])\n",
        "  ds_lst.append(ds)\n",
        "print(ds_lst)"
      ],
      "metadata": {
        "id": "gph38z5HCm0m",
        "colab": {
          "base_uri": "https://localhost:8080/"
        },
        "outputId": "9c6799ae-7535-4824-ade0-c91052317522"
      },
      "execution_count": 21,
      "outputs": [
        {
          "output_type": "stream",
          "name": "stdout",
          "text": [
            "[5, 11, 12, 8, 10]\n"
          ]
        }
      ]
    },
    {
      "cell_type": "code",
      "source": [
        "# Logic-2 :---> For any digit number (Generalised-Form)\n",
        "mylst = [23,5,451518,62,37]\n",
        "ds_lst = []\n",
        "for k in mylst :\n",
        "  s = 0\n",
        "  for dig in str(k):\n",
        "    s += int(dig)\n",
        "  ds_lst.append(s)\n",
        "print(ds_lst)"
      ],
      "metadata": {
        "id": "PwgRy_3hJPnJ",
        "colab": {
          "base_uri": "https://localhost:8080/"
        },
        "outputId": "04dd539a-6e60-41f7-a1f5-12e3b6532472"
      },
      "execution_count": 22,
      "outputs": [
        {
          "output_type": "stream",
          "name": "stdout",
          "text": [
            "[5, 5, 24, 8, 10]\n"
          ]
        }
      ]
    },
    {
      "cell_type": "markdown",
      "source": [
        "**Program to remove duplicate elements from a list and insert unique elements in the new list.**"
      ],
      "metadata": {
        "id": "ZnRBgMc--RH1"
      }
    },
    {
      "cell_type": "code",
      "source": [
        "# List with distinct-elements\n",
        "mylist2 = [12,65,78,65,35,65,12]\n",
        "dist_list = []\n",
        "for j in mylist2 :\n",
        "  if j not in dist_list :\n",
        "    dist_list.append(j)\n",
        "print(dist_list)"
      ],
      "metadata": {
        "id": "rzaKBThnEcOh",
        "colab": {
          "base_uri": "https://localhost:8080/"
        },
        "outputId": "c0ab0027-65ab-4a1a-bebe-6abadb34268e"
      },
      "execution_count": 23,
      "outputs": [
        {
          "output_type": "stream",
          "name": "stdout",
          "text": [
            "[12, 65, 78, 35]\n"
          ]
        }
      ]
    },
    {
      "cell_type": "markdown",
      "source": [
        "**Program to find the sum of digits of a number until we get a single-digit number at last.**\n",
        "\n",
        "For example if user inputs **7868** then answer will be .............................................................\n",
        "\n",
        "*   *7 + 8 + 6 + 8 = 29*\n",
        "*   *2 + 9 = 11*\n",
        "*   *1 + 1 = 2*\n",
        "\n",
        "**Final Sum = 2**"
      ],
      "metadata": {
        "id": "IMFmDFkr_7s0"
      }
    },
    {
      "cell_type": "code",
      "source": [
        "# Logic-1\n",
        "num = int(input(\"Enter a number : \"))\n",
        "while num // 10 != 0 : # Check until sum is single digit\n",
        "  sum = 0\n",
        "  while num != 0 : # Finding sum of digits until last digit is reached\n",
        "    rem = num % 10\n",
        "    sum += rem\n",
        "    num //= 10\n",
        "  print(\"Sum =\",sum)\n",
        "  num = sum\n",
        "print(\"Final Sum =\",sum)"
      ],
      "metadata": {
        "id": "zwBp51NGLnXm",
        "colab": {
          "base_uri": "https://localhost:8080/"
        },
        "outputId": "afa1790f-6e10-4ca0-b3a1-21d9b678d906"
      },
      "execution_count": 26,
      "outputs": [
        {
          "output_type": "stream",
          "name": "stdout",
          "text": [
            "Enter a number : 8678\n",
            "Sum = 29\n",
            "Sum = 11\n",
            "Sum = 2\n",
            "Final Sum = 2\n"
          ]
        }
      ]
    },
    {
      "cell_type": "code",
      "source": [
        "# Logic 2\n",
        "num = int(input(\"Enter a number : \"))\n",
        "ds = 0\n",
        "while num != 0:\n",
        "  rem = num % 10\n",
        "  ds += rem\n",
        "  num //= 10\n",
        "if ds == 0:\n",
        "  print(\"Sum of Digits = 0\")\n",
        "if ds % 9 == 0:\n",
        "  print(\"Sum of Digits = 9\") \n",
        "else:\n",
        "  ds %= 9\n",
        "print(\"Sum of Digits =\",ds)"
      ],
      "metadata": {
        "id": "btiYkgetQ0BW",
        "colab": {
          "base_uri": "https://localhost:8080/"
        },
        "outputId": "e96c74bf-2395-4b4f-f0e0-0d8ca94ce337"
      },
      "execution_count": 27,
      "outputs": [
        {
          "output_type": "stream",
          "name": "stdout",
          "text": [
            "Enter a number : 5578\n",
            "Sum of Digits = 7\n"
          ]
        }
      ]
    }
  ]
}