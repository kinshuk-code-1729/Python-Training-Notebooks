{
  "cells": [
    {
      "cell_type": "markdown",
      "metadata": {
        "id": "view-in-github",
        "colab_type": "text"
      },
      "source": [
        "<a href=\"https://colab.research.google.com/github/kinshuk-code-1729/Python-Training-Notebooks/blob/main/Day_08_PT02_Generators.ipynb\" target=\"_parent\"><img src=\"https://colab.research.google.com/assets/colab-badge.svg\" alt=\"Open In Colab\"/></a>"
      ]
    },
    {
      "cell_type": "markdown",
      "id": "1865e9c0",
      "metadata": {
        "id": "1865e9c0"
      },
      "source": [
        "# **Day 4 Notebook 2**\n",
        "## ***Generators***"
      ]
    },
    {
      "cell_type": "markdown",
      "id": "5fec0a23",
      "metadata": {
        "id": "5fec0a23"
      },
      "source": [
        "#### A generator function is a function which returns the *generator-iterator* with the help of *yield operator.*"
      ]
    },
    {
      "cell_type": "code",
      "execution_count": 1,
      "id": "13f8695c",
      "metadata": {
        "colab": {
          "base_uri": "https://localhost:8080/"
        },
        "id": "13f8695c",
        "outputId": "bd0945d9-50fc-479f-efb2-687bcb1e69d4"
      },
      "outputs": [
        {
          "output_type": "stream",
          "name": "stdout",
          "text": [
            "<generator object <genexpr> at 0x7f95be5b2b50>\n"
          ]
        }
      ],
      "source": [
        "tup = (3,5,7,8,6)\n",
        "tg = (i*i for i in tup)\n",
        "print(tg)"
      ]
    },
    {
      "cell_type": "code",
      "execution_count": 2,
      "id": "a96d1781",
      "metadata": {
        "colab": {
          "base_uri": "https://localhost:8080/"
        },
        "id": "a96d1781",
        "outputId": "c198d834-ada9-4850-8f13-baa15bdad2c6"
      },
      "outputs": [
        {
          "output_type": "stream",
          "name": "stdout",
          "text": [
            "[36, 49, 64, 4]\n"
          ]
        }
      ],
      "source": [
        "def n_square(mylst):\n",
        "    r = []\n",
        "    for j in mylst:\n",
        "        r.append(j*j)\n",
        "    return r\n",
        "mylst = [6,7,8,2]\n",
        "print(n_square(mylst))"
      ]
    },
    {
      "cell_type": "code",
      "execution_count": 3,
      "id": "717d1f54",
      "metadata": {
        "colab": {
          "base_uri": "https://localhost:8080/"
        },
        "id": "717d1f54",
        "outputId": "a557a609-e9f3-443f-ddc4-7e7d011e15f1"
      },
      "outputs": [
        {
          "output_type": "stream",
          "name": "stdout",
          "text": [
            "36\n",
            "49\n",
            "64\n"
          ]
        }
      ],
      "source": [
        "# For Memory-Management we use iterators\n",
        "def n_square(mylst):\n",
        "    r = []\n",
        "    for j in mylst:\n",
        "        yield(j*j)\n",
        "        \n",
        "mylst = n_square([6,7,8,2])\n",
        "print(next(mylst))\n",
        "print(next(mylst))\n",
        "print(next(mylst))\n",
        "# print(next(mylst))"
      ]
    },
    {
      "cell_type": "code",
      "execution_count": 4,
      "id": "12618bc9",
      "metadata": {
        "colab": {
          "base_uri": "https://localhost:8080/"
        },
        "id": "12618bc9",
        "outputId": "e8e32b14-6544-49bb-e054-6536d76003b9"
      },
      "outputs": [
        {
          "output_type": "stream",
          "name": "stdout",
          "text": [
            "36--->49--->64--->4--->"
          ]
        }
      ],
      "source": [
        "def n_square(mylst):\n",
        "    r = []\n",
        "    for j in mylst:\n",
        "        yield(j*j)\n",
        "        \n",
        "mylst = n_square([6,7,8,2])\n",
        "for y in mylst:\n",
        "    print(y, end = '--->')"
      ]
    },
    {
      "cell_type": "code",
      "execution_count": 5,
      "id": "697feeff",
      "metadata": {
        "colab": {
          "base_uri": "https://localhost:8080/"
        },
        "id": "697feeff",
        "outputId": "e9ed41a0-4f61-4ecc-c0c1-d8589fc1a5b1"
      },
      "outputs": [
        {
          "output_type": "stream",
          "name": "stdout",
          "text": [
            "81--*--9--*--49--*--25--*--4--*--"
          ]
        }
      ],
      "source": [
        "mytup = (9,3,7,5,2)\n",
        "tupcom = (k*k for k in mytup)\n",
        "for x in tupcom:\n",
        "    print(x,end='--*--')"
      ]
    },
    {
      "cell_type": "code",
      "execution_count": 6,
      "id": "ee6ee19a",
      "metadata": {
        "colab": {
          "base_uri": "https://localhost:8080/"
        },
        "id": "ee6ee19a",
        "outputId": "076d0886-ad07-4323-d8af-24736afd3236"
      },
      "outputs": [
        {
          "output_type": "stream",
          "name": "stdout",
          "text": [
            "[81, 9, 49, 25, 4]\n"
          ]
        }
      ],
      "source": [
        "mytup = (9,3,7,5,2)\n",
        "tupcom = (k*k for k in mytup)\n",
        "print(list(tupcom))"
      ]
    },
    {
      "cell_type": "markdown",
      "id": "198a5792",
      "metadata": {
        "id": "198a5792"
      },
      "source": [
        "***Fibonacci Series* using generators**"
      ]
    },
    {
      "cell_type": "code",
      "execution_count": 7,
      "id": "dc8d9249",
      "metadata": {
        "colab": {
          "base_uri": "https://localhost:8080/"
        },
        "id": "dc8d9249",
        "outputId": "affcae9d-8c59-40c5-f730-e95d0a8e9154"
      },
      "outputs": [
        {
          "output_type": "stream",
          "name": "stdout",
          "text": [
            "1\n",
            "1\n",
            "2\n",
            "3\n"
          ]
        }
      ],
      "source": [
        "def Fibo(n):\n",
        "    a,b = 1,0\n",
        "    while True:\n",
        "        c = a + b\n",
        "        if c < n:\n",
        "            yield c # its used only to get single element as a output using next function (it stops for loop execution)\n",
        "            a, b = b, c\n",
        "        else:\n",
        "            break\n",
        "            \n",
        "create_fibo = Fibo(10)\n",
        "print(next(create_fibo))\n",
        "print(next(create_fibo))\n",
        "print(next(create_fibo))\n",
        "print(next(create_fibo))"
      ]
    }
  ],
  "metadata": {
    "kernelspec": {
      "display_name": "Python 3 (ipykernel)",
      "language": "python",
      "name": "python3"
    },
    "language_info": {
      "codemirror_mode": {
        "name": "ipython",
        "version": 3
      },
      "file_extension": ".py",
      "mimetype": "text/x-python",
      "name": "python",
      "nbconvert_exporter": "python",
      "pygments_lexer": "ipython3",
      "version": "3.10.0"
    },
    "colab": {
      "name": "Day_08_PT02-Generators.ipynb",
      "provenance": [],
      "include_colab_link": true
    }
  },
  "nbformat": 4,
  "nbformat_minor": 5
}