{
  "nbformat": 4,
  "nbformat_minor": 0,
  "metadata": {
    "colab": {
      "name": "Day_02_PT.ipynb",
      "private_outputs": true,
      "provenance": [],
      "authorship_tag": "ABX9TyPdgN+a1UM74Yd1RnS5Ig+8",
      "include_colab_link": true
    },
    "kernelspec": {
      "name": "python3",
      "display_name": "Python 3"
    },
    "language_info": {
      "name": "python"
    }
  },
  "cells": [
    {
      "cell_type": "markdown",
      "metadata": {
        "id": "view-in-github",
        "colab_type": "text"
      },
      "source": [
        "<a href=\"https://colab.research.google.com/github/kinshuk-code-1729/Python-Training-Notebooks/blob/main/Day_02_PT.ipynb\" target=\"_parent\"><img src=\"https://colab.research.google.com/assets/colab-badge.svg\" alt=\"Open In Colab\"/></a>"
      ]
    },
    {
      "cell_type": "markdown",
      "source": [
        "# **Day 2 Notebook**"
      ],
      "metadata": {
        "id": "cJFGQIFurQXF"
      }
    },
    {
      "cell_type": "markdown",
      "source": [
        "**Find LCM of two numbers**"
      ],
      "metadata": {
        "id": "LtOA1L0PsOBl"
      }
    },
    {
      "cell_type": "code",
      "execution_count": null,
      "metadata": {
        "id": "8dErortIqkVQ"
      },
      "outputs": [],
      "source": [
        "x = int(input(\"Enter 1st number : \"))\n",
        "y = int(input(\"Enter 2nd number : \"))\n",
        "if y > x :\n",
        "  y,x = x,y\n",
        "for k in range(y, 1+(y*x),y) :\n",
        "  if k % x == 0:\n",
        "    print(\"LCM of\",x,\"and\",y,\"is :\",k)\n",
        "    break"
      ]
    },
    {
      "cell_type": "markdown",
      "source": [
        "**Find HCF of two numbers**"
      ],
      "metadata": {
        "id": "nOgHzQFMyP5e"
      }
    },
    {
      "cell_type": "code",
      "source": [
        "p = int(input(\"Enter 1st num : \"))\n",
        "q = int(input(\"Enter 2nd num : \"))\n",
        "j = 1\n",
        "while (j <= p and j <= q) :\n",
        "  if q % j == 0 and p % j == 0 :\n",
        "    GCD = j\n",
        "  j +=1\n",
        "print(\"HCF of\",p,\"and\",q,\"is :\",GCD)"
      ],
      "metadata": {
        "id": "83s9ptQNyVmq"
      },
      "execution_count": null,
      "outputs": []
    },
    {
      "cell_type": "markdown",
      "source": [
        "**Nested-Loop Patterns**"
      ],
      "metadata": {
        "id": "bQtT5KGd6lQh"
      }
    },
    {
      "cell_type": "code",
      "source": [
        "for i in range(10):\n",
        "  print(1729)"
      ],
      "metadata": {
        "id": "GbMR-jDh1_Dr"
      },
      "execution_count": null,
      "outputs": []
    },
    {
      "cell_type": "code",
      "source": [
        "for i in range(10):\n",
        "  print(1729,end=' ')"
      ],
      "metadata": {
        "id": "TeXIZ6lI2SVI"
      },
      "execution_count": null,
      "outputs": []
    },
    {
      "cell_type": "code",
      "source": [
        "for j in range(10):\n",
        "  for i in range(10):\n",
        "    print(1729,end=' ')\n",
        "  print()"
      ],
      "metadata": {
        "id": "iJ8_N5Dn2dJy"
      },
      "execution_count": null,
      "outputs": []
    },
    {
      "cell_type": "code",
      "source": [
        "# Square-Pattern\n",
        "num = int(input(\"Enter a num : \"))\n",
        "for j in range(num):\n",
        "  for i in range(num):\n",
        "    print('@',end=' ')\n",
        "  print()"
      ],
      "metadata": {
        "id": "2gDqu2fV5zEI"
      },
      "execution_count": null,
      "outputs": []
    },
    {
      "cell_type": "code",
      "source": [
        "# Triangle-Pattern\n",
        "num = int(input(\"Enter a num : \"))\n",
        "for j in range(num):\n",
        "  for i in range(num-j):\n",
        "    print('*',end=' ')\n",
        "  print()"
      ],
      "metadata": {
        "id": "Kd_2_XZz44EC"
      },
      "execution_count": null,
      "outputs": []
    },
    {
      "cell_type": "markdown",
      "source": [
        "# **Lists in Python**"
      ],
      "metadata": {
        "id": "fHfetT7I8NHv"
      }
    },
    {
      "cell_type": "code",
      "source": [
        "l = [] # lists are mutable i.e. values can be changed in place\n",
        "print(\"l =\",l)\n",
        "print(type(l))"
      ],
      "metadata": {
        "id": "IyR_7Y4G70fQ"
      },
      "execution_count": null,
      "outputs": []
    },
    {
      "cell_type": "markdown",
      "source": [
        "**Inserting into lists**"
      ],
      "metadata": {
        "id": "HXcvBdrpAWFY"
      }
    },
    {
      "cell_type": "code",
      "source": [
        "l.append(20) # append adds single value at the last position of the existing list\n",
        "print(\"l =\",l)"
      ],
      "metadata": {
        "id": "ZtEj83Or8o3i"
      },
      "execution_count": null,
      "outputs": []
    },
    {
      "cell_type": "code",
      "source": [
        "l.append(14)\n",
        "l.append(10)\n",
        "print(\"l =\",l)"
      ],
      "metadata": {
        "id": "nHAfs8dr9cdC"
      },
      "execution_count": null,
      "outputs": []
    },
    {
      "cell_type": "code",
      "source": [
        "l.append(-5)\n",
        "print(\"l =\",l)"
      ],
      "metadata": {
        "id": "y1Q4v0y49lYF"
      },
      "execution_count": null,
      "outputs": []
    },
    {
      "cell_type": "code",
      "source": [
        "l.append('Kinshuk')\n",
        "print(\"l =\",l)"
      ],
      "metadata": {
        "id": "gSh40OrH9tb8"
      },
      "execution_count": null,
      "outputs": []
    },
    {
      "cell_type": "code",
      "source": [
        "l.append([45,34,21])\n",
        "print(\"l =\",l)"
      ],
      "metadata": {
        "id": "hiBVGJIq-Apw"
      },
      "execution_count": null,
      "outputs": []
    },
    {
      "cell_type": "code",
      "source": [
        "l.append(True)\n",
        "print(\"l =\",l)"
      ],
      "metadata": {
        "id": "YjVkp_ov-NTN"
      },
      "execution_count": null,
      "outputs": []
    },
    {
      "cell_type": "code",
      "source": [
        "l.append(6+5j)\n",
        "print(\"l =\",l)"
      ],
      "metadata": {
        "id": "k_LeTymO-UQA"
      },
      "execution_count": null,
      "outputs": []
    },
    {
      "cell_type": "code",
      "source": [
        "l.append(3.67)\n",
        "print(\"l =\",l)"
      ],
      "metadata": {
        "id": "J9PcfXrT-eYT"
      },
      "execution_count": null,
      "outputs": []
    },
    {
      "cell_type": "code",
      "source": [
        "l2 = [34,78,14]\n",
        "l2.extend([31,98,33]) # extend adds a list at the last of existing list and doesn't creates new list\n",
        "print(\"l2 =\",l2)"
      ],
      "metadata": {
        "id": "qCdFw5jV-sAh"
      },
      "execution_count": null,
      "outputs": []
    },
    {
      "cell_type": "code",
      "source": [
        "l2.insert(3,None) # add element at the specified index without overwriting existing element previously on that index\n",
        "print(\"l2 =\",l2)"
      ],
      "metadata": {
        "id": "xMQxn-MVEJXP"
      },
      "execution_count": null,
      "outputs": []
    },
    {
      "cell_type": "code",
      "source": [
        "print(l[3])\n",
        "print(l[4:8]) # List-Slicing"
      ],
      "metadata": {
        "id": "pBNq6DlK_ekY"
      },
      "execution_count": null,
      "outputs": []
    },
    {
      "cell_type": "markdown",
      "source": [
        "**List Slicing**"
      ],
      "metadata": {
        "id": "O0HTKfmpBAbw"
      }
    },
    {
      "cell_type": "code",
      "source": [
        "print(l[0:5:1])\n",
        "print(l[0:])\n",
        "print(l[:])\n",
        "print(l[0:7])"
      ],
      "metadata": {
        "id": "8ZCf0jIsBHAH"
      },
      "execution_count": null,
      "outputs": []
    },
    {
      "cell_type": "markdown",
      "source": [
        "*Print a list in reverse-order*"
      ],
      "metadata": {
        "id": "hcNl7v3_Bkjn"
      }
    },
    {
      "cell_type": "code",
      "source": [
        "print(l[::-1])"
      ],
      "metadata": {
        "id": "xNY1h5w5BsZn"
      },
      "execution_count": null,
      "outputs": []
    },
    {
      "cell_type": "markdown",
      "source": [
        "*Copying List elements*"
      ],
      "metadata": {
        "id": "mwA3D9AHE9KQ"
      }
    },
    {
      "cell_type": "code",
      "source": [
        "#Shallow Copy\n",
        "xl = [45,34,78,31,55]\n",
        "yl = xl\n",
        "yl.append(455)\n",
        "print('Original list :',xl)\n",
        "print('Copied new list :',yl)"
      ],
      "metadata": {
        "id": "JssYKIugFPwm"
      },
      "execution_count": null,
      "outputs": []
    },
    {
      "cell_type": "code",
      "source": [
        "#Deep Copy Method 1\n",
        "xl = [45,34,78,31,55]\n",
        "yl = xl.copy()\n",
        "yl.append(455)\n",
        "print('Original list :',xl)\n",
        "print('Copied new list :',yl)"
      ],
      "metadata": {
        "id": "1phCwGXGGHid"
      },
      "execution_count": null,
      "outputs": []
    },
    {
      "cell_type": "code",
      "source": [
        "#Deep Copy Method 2\n",
        "xl = [45,34,78,31,55]\n",
        "yl = xl[:]\n",
        "yl.append(455)\n",
        "print('Original list :',xl)\n",
        "print('Copied new :',yl)"
      ],
      "metadata": {
        "id": "ODxKYLvOGH56"
      },
      "execution_count": null,
      "outputs": []
    },
    {
      "cell_type": "markdown",
      "source": [
        "**WAP to copy elements of a list into another list without using shallow or deep copy**"
      ],
      "metadata": {
        "id": "7A_IGBKVkJ6u"
      }
    },
    {
      "cell_type": "code",
      "source": [
        "lst1 = [51,98,34,75,79,35,14]\n",
        "lst2 = []\n",
        "for k in lst1:\n",
        "  lst2.append(k)\n",
        "print(\"new copied list :\",lst2)"
      ],
      "metadata": {
        "id": "NVVrFpxmk1Qo"
      },
      "execution_count": null,
      "outputs": []
    },
    {
      "cell_type": "markdown",
      "source": [
        "**WAP to copy square of elements of a list into another list without using shallow or deep copy**"
      ],
      "metadata": {
        "id": "Q1Q6qkZJnNiq"
      }
    },
    {
      "cell_type": "code",
      "source": [
        "lst1 = [51,98,34,75,79,35,14]\n",
        "lst2 = []\n",
        "for k in lst1:\n",
        "  lst2.append(k**2)\n",
        "print(\"new copied list :\",lst2)"
      ],
      "metadata": {
        "id": "kugbjqDLl4FL"
      },
      "execution_count": null,
      "outputs": []
    },
    {
      "cell_type": "markdown",
      "source": [
        "**WAP to copy square of elements which are greater than 2 and if less than two than 2 then copy the elemnent itself of a list into another list without using shallow or deep copy**"
      ],
      "metadata": {
        "id": "k7vAfyYOnOc2"
      }
    },
    {
      "cell_type": "code",
      "source": [
        "lst1 = [-1,-6,8,96,45,1]\n",
        "lst2 = []\n",
        "for k in lst1:\n",
        "  if k>2:\n",
        "    lst2.append(k**2)\n",
        "  else :\n",
        "    lst2.append(k)\n",
        "print(\"new copied list :\",lst2)"
      ],
      "metadata": {
        "id": "6w7-a-8_mJ42"
      },
      "execution_count": null,
      "outputs": []
    },
    {
      "cell_type": "markdown",
      "source": [
        "*WAP to copy elements of a list into another list if elements is divisible by 2 and 5*"
      ],
      "metadata": {
        "id": "_g1kN31KoFQa"
      }
    },
    {
      "cell_type": "code",
      "source": [
        "lst1 = [-1,-10,8,90,60,1]\n",
        "lst2 = []\n",
        "for k in lst1:\n",
        "  if k % 2 == 0 and k % 5 == 0 :\n",
        "    lst2.append(k**2)\n",
        "print(\"new copied list :\",lst2)"
      ],
      "metadata": {
        "id": "XKLdJEiboYOu"
      },
      "execution_count": null,
      "outputs": []
    },
    {
      "cell_type": "markdown",
      "source": [
        "***Microsoft Interview Question***"
      ],
      "metadata": {
        "id": "Jy8eqrJtoxp6"
      }
    },
    {
      "cell_type": "markdown",
      "source": [
        "*WAP to find missing values in existing list and append them in new list*"
      ],
      "metadata": {
        "id": "-2NngIPRo79T"
      }
    },
    {
      "cell_type": "code",
      "source": [
        "lst1 = [61,63,65,67,68,70]\n",
        "lst2 = []\n",
        "for k in range(lst1[0],lst1[-1]):\n",
        "  if k not in lst1:\n",
        "    lst2.append(k)\n",
        "print(\"new copied list :\",lst2)"
      ],
      "metadata": {
        "id": "8SRlJ0j2pHBp"
      },
      "execution_count": null,
      "outputs": []
    },
    {
      "cell_type": "markdown",
      "source": [
        "# List Comprehension"
      ],
      "metadata": {
        "id": "v3Pd_Xp6kGI_"
      }
    },
    {
      "cell_type": "code",
      "source": [
        "lst1 = [54,44,64,16,77,21]\n",
        "lst2 = [j for j in lst1]\n",
        "print(\"lst2 :\",lst2)"
      ],
      "metadata": {
        "id": "Gcg_XXPrq5AB"
      },
      "execution_count": null,
      "outputs": []
    },
    {
      "cell_type": "code",
      "source": [
        "lst1 = [54,44,64,16,77,21]\n",
        "lst2 = [j**2 for j in lst1]\n",
        "print(\"lst2 :\",lst2)"
      ],
      "metadata": {
        "id": "dTCEImSTsEGX"
      },
      "execution_count": null,
      "outputs": []
    },
    {
      "cell_type": "code",
      "source": [
        "lst1 = [-1,-10,8,90,60,1]\n",
        "lst2 = [k for k in lst1 if k % 2 == 0 and k % 5 == 0]\n",
        "print(\"list 2 :\",lst2)"
      ],
      "metadata": {
        "id": "elrU88uFsLs6"
      },
      "execution_count": null,
      "outputs": []
    },
    {
      "cell_type": "code",
      "source": [
        "lst1 = [-1,-6,8,96,45,1]\n",
        "lst2 = [k**2 if k>2 else k for k in lst1]\n",
        "print(\"list 2 :\",lst2)"
      ],
      "metadata": {
        "id": "q9TemBvXuwCY"
      },
      "execution_count": null,
      "outputs": []
    },
    {
      "cell_type": "markdown",
      "source": [
        "***Deletion from a list***"
      ],
      "metadata": {
        "id": "iaQ5ABP-v2Qg"
      }
    },
    {
      "cell_type": "code",
      "source": [
        "fac = ['Rachel','Jack','Jane','Baichung','Joseph','Robert']\n",
        "print(\"Initially list is :\",fac)\n",
        "fac.pop()\n",
        "print(\"list is after deletion :\",fac)"
      ],
      "metadata": {
        "id": "l_l72b6qv1HO"
      },
      "execution_count": null,
      "outputs": []
    },
    {
      "cell_type": "code",
      "source": [
        "fac.pop(4)\n",
        "print(fac)"
      ],
      "metadata": {
        "id": "JGz2eILPxXyU"
      },
      "execution_count": null,
      "outputs": []
    },
    {
      "cell_type": "code",
      "source": [
        "fac.remove('Jane')\n",
        "print(fac)"
      ],
      "metadata": {
        "id": "Tp6VAcaWx7-p"
      },
      "execution_count": null,
      "outputs": []
    },
    {
      "cell_type": "code",
      "source": [
        "fac.clear()\n",
        "print(fac)"
      ],
      "metadata": {
        "id": "UYVf-_QZyMF-"
      },
      "execution_count": null,
      "outputs": []
    },
    {
      "cell_type": "code",
      "source": [
        "fac = ['Rachel', 'Jack', 'Jane', 'Baichung', 'Joseph', 'Robert']\n",
        "del fac # deletes the entire structure of list\n",
        "print(fac)"
      ],
      "metadata": {
        "id": "C69yzz8SyVNb"
      },
      "execution_count": null,
      "outputs": []
    },
    {
      "cell_type": "code",
      "source": [
        "mylist = [20, 14, 10, -5, 'Kinshuk', [45, 34, 21], True, (6+5j), 3.67]\n",
        "print(mylist[5][2])"
      ],
      "metadata": {
        "id": "-sjaB23oylNR"
      },
      "execution_count": null,
      "outputs": []
    },
    {
      "cell_type": "markdown",
      "source": [
        "***WAP to add digits of a number***"
      ],
      "metadata": {
        "id": "7J08PoxS0isK"
      }
    },
    {
      "cell_type": "code",
      "source": [
        "num = int(input(\"Enter a number : \"))\n",
        "dig_sum = 0\n",
        "temp = num\n",
        "while num != 0 :\n",
        "  rem = num % 10\n",
        "  dig_sum += rem\n",
        "  num //= 10\n",
        "print(\"Sum of digits of number\",temp,\"is\",dig_sum)"
      ],
      "metadata": {
        "id": "0DOxqgKL0tLE"
      },
      "execution_count": null,
      "outputs": []
    }
  ]
}