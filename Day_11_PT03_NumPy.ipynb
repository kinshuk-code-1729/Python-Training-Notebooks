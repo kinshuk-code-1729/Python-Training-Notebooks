{
  "nbformat": 4,
  "nbformat_minor": 0,
  "metadata": {
    "colab": {
      "name": "Day_11_PT03-NumPy.ipynb",
      "provenance": [],
      "collapsed_sections": [],
      "authorship_tag": "ABX9TyPl+yCN7g67t76HPwQYoJLL",
      "include_colab_link": true
    },
    "kernelspec": {
      "name": "python3",
      "display_name": "Python 3"
    },
    "language_info": {
      "name": "python"
    },
    "gpuClass": "standard"
  },
  "cells": [
    {
      "cell_type": "markdown",
      "metadata": {
        "id": "view-in-github",
        "colab_type": "text"
      },
      "source": [
        "<a href=\"https://colab.research.google.com/github/kinshuk-code-1729/Python-Training-Notebooks/blob/main/Day_11_PT03_NumPy.ipynb\" target=\"_parent\"><img src=\"https://colab.research.google.com/assets/colab-badge.svg\" alt=\"Open In Colab\"/></a>"
      ]
    },
    {
      "cell_type": "markdown",
      "source": [
        "# ***Day 11 Notebook 3***\n",
        "## **Numpy Module :** Numpy stands for \"Numeric Python\"."
      ],
      "metadata": {
        "id": "btyJOcbixF2f"
      }
    },
    {
      "cell_type": "code",
      "execution_count": 14,
      "metadata": {
        "colab": {
          "base_uri": "https://localhost:8080/"
        },
        "id": "tt6sPj4mw1io",
        "outputId": "a617481d-e5b3-4fa5-91fe-63ab9803cd1d"
      },
      "outputs": [
        {
          "output_type": "stream",
          "name": "stdout",
          "text": [
            "Array : [1 2 3 4 5 6 7 8 9]\n",
            "Array Size : 9\n",
            "Array Dimensions : (9,)\n",
            "Array type : <class 'numpy.ndarray'>\n"
          ]
        }
      ],
      "source": [
        "import numpy as np\n",
        "arr = np.array([1,2,3,4,5,6,7,8,9]) # creates a 1-D array\n",
        "print(\"Array :\",arr)\n",
        "print(\"Array Size :\",arr.size)\n",
        "print(\"Array Dimensions :\",arr.shape)\n",
        "print(\"Array type :\",type(arr))"
      ]
    },
    {
      "cell_type": "code",
      "source": [
        "arr1 = np.array([(1,2,3),(4,5,6),(7,8,9)]) # creates a 2-D Array\n",
        "print(\"Array :\",arr1)\n",
        "print(\"Array Size :\",arr1.size)\n",
        "print(\"Array Dimensions :\",arr1.shape)\n",
        "print(\"Array type :\",type(arr1))"
      ],
      "metadata": {
        "colab": {
          "base_uri": "https://localhost:8080/"
        },
        "id": "q5DU08-ix7gH",
        "outputId": "f65ddc66-9f69-493f-e713-2d6c26b34a4c"
      },
      "execution_count": 15,
      "outputs": [
        {
          "output_type": "stream",
          "name": "stdout",
          "text": [
            "Array : [[1 2 3]\n",
            " [4 5 6]\n",
            " [7 8 9]]\n",
            "Array Size : 9\n",
            "Array Dimensions : (3, 3)\n",
            "Array type : <class 'numpy.ndarray'>\n"
          ]
        }
      ]
    },
    {
      "cell_type": "code",
      "source": [
        "arr2 = np.array([1,2,3,4,5,6,7,8,9]).reshape(3,3) # converts 1-D array to passes \"n X m\" dimensional 2-D array\n",
        "print(\"Array :\",arr2)"
      ],
      "metadata": {
        "colab": {
          "base_uri": "https://localhost:8080/"
        },
        "id": "4apPikhSyIE3",
        "outputId": "847cde72-ff57-44d9-d8ff-853ee7291667"
      },
      "execution_count": 16,
      "outputs": [
        {
          "output_type": "stream",
          "name": "stdout",
          "text": [
            "Array : [[1 2 3]\n",
            " [4 5 6]\n",
            " [7 8 9]]\n"
          ]
        }
      ]
    },
    {
      "cell_type": "code",
      "source": [
        "arr2 = np.array([1,2,3,4,5,6,7,8,9]).reshape(3,3)\n",
        "print(\"Size of Elements in Bytes :\",arr2.itemsize) # gives size of elements in bytes"
      ],
      "metadata": {
        "colab": {
          "base_uri": "https://localhost:8080/"
        },
        "id": "syM7eTj9yjre",
        "outputId": "2a00f832-075e-4129-859d-2017d3ede27a"
      },
      "execution_count": 17,
      "outputs": [
        {
          "output_type": "stream",
          "name": "stdout",
          "text": [
            "Size of Elements in Bytes : 8\n"
          ]
        }
      ]
    },
    {
      "cell_type": "code",
      "source": [
        "# changing the dimensions of the existing array using \"reshape()\" method.\n",
        "x = np.array([(54,35,75,97),(15,67,15,14)])\n",
        "print(\"Before Reshaping.....\")\n",
        "print(\"Array :\",x)\n",
        "x = x.reshape(4,2)\n",
        "print(\"Before Reshaping.....\")\n",
        "print(\"Array :\",x)"
      ],
      "metadata": {
        "colab": {
          "base_uri": "https://localhost:8080/"
        },
        "id": "nBK-Bed_ywQH",
        "outputId": "d6401011-64d2-400f-b409-3418d9e3588b"
      },
      "execution_count": 18,
      "outputs": [
        {
          "output_type": "stream",
          "name": "stdout",
          "text": [
            "Before Reshaping.....\n",
            "Array : [[54 35 75 97]\n",
            " [15 67 15 14]]\n",
            "Before Reshaping.....\n",
            "Array : [[54 35]\n",
            " [75 97]\n",
            " [15 67]\n",
            " [15 14]]\n"
          ]
        }
      ]
    },
    {
      "cell_type": "code",
      "source": [
        "x = np.arange(10).reshape(5,2) # another way to write matrix\n",
        "print(\"array :\",x) # <row> , <col>"
      ],
      "metadata": {
        "colab": {
          "base_uri": "https://localhost:8080/"
        },
        "id": "SOccg6p41I6b",
        "outputId": "51a5fd7f-33ce-4b23-f537-878fe883d843"
      },
      "execution_count": 19,
      "outputs": [
        {
          "output_type": "stream",
          "name": "stdout",
          "text": [
            "array : [[0 1]\n",
            " [2 3]\n",
            " [4 5]\n",
            " [6 7]\n",
            " [8 9]]\n"
          ]
        }
      ]
    },
    {
      "cell_type": "code",
      "source": [
        "# array having less or more than passed dimensions will not be reshaped.\n",
        "x = np.arange(10).reshape(3,2) # another way to write matrix\n",
        "print(\"array :\",x) # <row> , <col>"
      ],
      "metadata": {
        "colab": {
          "base_uri": "https://localhost:8080/",
          "height": 182
        },
        "id": "TC-x3IC_13lf",
        "outputId": "88697c09-54cf-472d-b0bf-322bd8b9b018"
      },
      "execution_count": 20,
      "outputs": [
        {
          "output_type": "error",
          "ename": "ValueError",
          "evalue": "ignored",
          "traceback": [
            "\u001b[0;31m---------------------------------------------------------------------------\u001b[0m",
            "\u001b[0;31mValueError\u001b[0m                                Traceback (most recent call last)",
            "\u001b[0;32m<ipython-input-20-848cd9c069a7>\u001b[0m in \u001b[0;36m<module>\u001b[0;34m()\u001b[0m\n\u001b[0;32m----> 1\u001b[0;31m \u001b[0mx\u001b[0m \u001b[0;34m=\u001b[0m \u001b[0mnp\u001b[0m\u001b[0;34m.\u001b[0m\u001b[0marange\u001b[0m\u001b[0;34m(\u001b[0m\u001b[0;36m10\u001b[0m\u001b[0;34m)\u001b[0m\u001b[0;34m.\u001b[0m\u001b[0mreshape\u001b[0m\u001b[0;34m(\u001b[0m\u001b[0;36m3\u001b[0m\u001b[0;34m,\u001b[0m\u001b[0;36m2\u001b[0m\u001b[0;34m)\u001b[0m \u001b[0;31m# another way to write matrix\u001b[0m\u001b[0;34m\u001b[0m\u001b[0;34m\u001b[0m\u001b[0m\n\u001b[0m\u001b[1;32m      2\u001b[0m \u001b[0mprint\u001b[0m\u001b[0;34m(\u001b[0m\u001b[0;34m\"array :\"\u001b[0m\u001b[0;34m,\u001b[0m\u001b[0mx\u001b[0m\u001b[0;34m)\u001b[0m \u001b[0;31m# <row> , <col>\u001b[0m\u001b[0;34m\u001b[0m\u001b[0;34m\u001b[0m\u001b[0m\n",
            "\u001b[0;31mValueError\u001b[0m: cannot reshape array of size 10 into shape (3,2)"
          ]
        }
      ]
    },
    {
      "cell_type": "code",
      "source": [
        "p = np.zeros((2,3)) # a Matrix Filled with all elements zero\n",
        "print(\"Matrix :\",p) "
      ],
      "metadata": {
        "colab": {
          "base_uri": "https://localhost:8080/"
        },
        "id": "ZTCBAdA_2r4H",
        "outputId": "e5ffe536-8c29-49fa-c72e-b24a0efe6512"
      },
      "execution_count": 21,
      "outputs": [
        {
          "output_type": "stream",
          "name": "stdout",
          "text": [
            "Matrix : [[0. 0. 0.]\n",
            " [0. 0. 0.]]\n"
          ]
        }
      ]
    },
    {
      "cell_type": "code",
      "source": [
        "p = np.ones((2,3)) # a Matrix Filled with all elements zero\n",
        "print(\"Matrix :\",p)"
      ],
      "metadata": {
        "colab": {
          "base_uri": "https://localhost:8080/"
        },
        "id": "6UpYSISn27hW",
        "outputId": "544ada60-2cc8-4224-9366-38b3210a3053"
      },
      "execution_count": 22,
      "outputs": [
        {
          "output_type": "stream",
          "name": "stdout",
          "text": [
            "Matrix : [[1. 1. 1.]\n",
            " [1. 1. 1.]]\n"
          ]
        }
      ]
    },
    {
      "cell_type": "code",
      "source": [
        "p = np.eye(2,2) # creates an Identity matrix of \"N X N\" dimension\n",
        "print(\"Matrix :\",p)"
      ],
      "metadata": {
        "colab": {
          "base_uri": "https://localhost:8080/"
        },
        "id": "H30WsBl-3EeG",
        "outputId": "569da518-c0d1-4793-b69e-0f8e153f0450"
      },
      "execution_count": 23,
      "outputs": [
        {
          "output_type": "stream",
          "name": "stdout",
          "text": [
            "Matrix : [[1. 0.]\n",
            " [0. 1.]]\n"
          ]
        }
      ]
    },
    {
      "cell_type": "code",
      "source": [
        "p = np.diag([1,2,3]) # creates a diagonal matrix\n",
        "print(\"Matrix :\",p)"
      ],
      "metadata": {
        "colab": {
          "base_uri": "https://localhost:8080/"
        },
        "id": "MYmeyxi-3TCh",
        "outputId": "f67b934c-33c8-4bd5-cb10-77d662e75b92"
      },
      "execution_count": 24,
      "outputs": [
        {
          "output_type": "stream",
          "name": "stdout",
          "text": [
            "Matrix : [[1 0 0]\n",
            " [0 2 0]\n",
            " [0 0 3]]\n"
          ]
        }
      ]
    },
    {
      "cell_type": "code",
      "source": [
        "m = np.array([[54,44],[61,35]])\n",
        "det = np.linalg.det(m) # finds determinant of a matrix\n",
        "print(\"Determinant Value =\",det)"
      ],
      "metadata": {
        "colab": {
          "base_uri": "https://localhost:8080/"
        },
        "id": "PB4-XmPF4URG",
        "outputId": "95e54d99-640b-48b0-9b9e-6ef34d31092e"
      },
      "execution_count": null,
      "outputs": [
        {
          "output_type": "stream",
          "name": "stdout",
          "text": [
            "Determinant Value = -794.0000000000003\n"
          ]
        }
      ]
    },
    {
      "cell_type": "code",
      "source": [
        "m = np.array([[54,44],[61,35]])\n",
        "det = np.linalg.inv(m) # finds inverse of a matrix\n",
        "print(\"Inverse Value =\",det)"
      ],
      "metadata": {
        "colab": {
          "base_uri": "https://localhost:8080/"
        },
        "id": "oxCiDXwH5nG-",
        "outputId": "f5805735-d835-48a9-8ba9-bba1ca4ccc24"
      },
      "execution_count": null,
      "outputs": [
        {
          "output_type": "stream",
          "name": "stdout",
          "text": [
            "Inverse Value = [[-0.0440806   0.05541562]\n",
            " [ 0.0768262  -0.06801008]]\n"
          ]
        }
      ]
    },
    {
      "cell_type": "markdown",
      "source": [
        "***If an array has a very small or very large determinant, then a call to det may overflow or underflow. This routine is more robust against such issues, because it computes the logarithm of the determinant rather than the determinant itself.***\n",
        "\n"
      ],
      "metadata": {
        "id": "K8AjaFh-5aL2"
      }
    },
    {
      "cell_type": "code",
      "source": [
        "m = np.array([[54,44],[61,35]])\n",
        "(sign,lodget) = np.linalg.slogdet(m)\n",
        "print(sign,lodget)\n",
        "det = np.linalg.det(m) \n",
        "print(\"Determinant Value =\",det)"
      ],
      "metadata": {
        "colab": {
          "base_uri": "https://localhost:8080/"
        },
        "id": "275mt1L25uUl",
        "outputId": "23409923-60a2-437d-d899-cf6c0134a3b3"
      },
      "execution_count": 25,
      "outputs": [
        {
          "output_type": "stream",
          "name": "stdout",
          "text": [
            "-1.0 6.677083461247136\n",
            "Determinant Value = -794.0000000000003\n"
          ]
        }
      ]
    },
    {
      "cell_type": "markdown",
      "source": [
        "### **Most Important Concept Used in ML**"
      ],
      "metadata": {
        "id": "tKgUfYcS6z6k"
      }
    },
    {
      "cell_type": "code",
      "source": [
        "m = np.array([[8,4,3],[9,1,6],[2,7,4]])\n",
        "print(m.sum(axis=1)) # Adding elements row-wise"
      ],
      "metadata": {
        "colab": {
          "base_uri": "https://localhost:8080/"
        },
        "id": "yLOfq1Pb6O23",
        "outputId": "9cabfb86-8973-42df-e320-b25e0396e2b5"
      },
      "execution_count": 26,
      "outputs": [
        {
          "output_type": "stream",
          "name": "stdout",
          "text": [
            "[15 16 13]\n"
          ]
        }
      ]
    },
    {
      "cell_type": "code",
      "source": [
        "print(m.sum(axis=0)) # Adding elements column-wise"
      ],
      "metadata": {
        "colab": {
          "base_uri": "https://localhost:8080/"
        },
        "id": "gRmoRF8w6wqN",
        "outputId": "95a95083-47ac-45c5-f0f8-0afb14310453"
      },
      "execution_count": 27,
      "outputs": [
        {
          "output_type": "stream",
          "name": "stdout",
          "text": [
            "[19 12 13]\n"
          ]
        }
      ]
    },
    {
      "cell_type": "markdown",
      "source": [
        "### **Conversion of 'n' dimensional arrays into  single dimensional array.**\n",
        "* *flatten( )* method\n",
        "* *ravel( )* method"
      ],
      "metadata": {
        "id": "me2fon1G7UPe"
      }
    },
    {
      "cell_type": "code",
      "source": [
        "# flattening arrays\n",
        "x = np.array([[0,1],[2,3]])\n",
        "y = x.flatten()\n",
        "print(y)\n",
        "y[0] = 10\n",
        "print(\"Array 2 is :\",y)\n",
        "print(\"Array 1 is :\",x)"
      ],
      "metadata": {
        "colab": {
          "base_uri": "https://localhost:8080/"
        },
        "id": "qWBhFUx97Esp",
        "outputId": "dc781f65-dc42-45ac-8118-37328a31f7cf"
      },
      "execution_count": 28,
      "outputs": [
        {
          "output_type": "stream",
          "name": "stdout",
          "text": [
            "[0 1 2 3]\n",
            "Array 2 is : [10  1  2  3]\n",
            "Array 1 is : [[0 1]\n",
            " [2 3]]\n"
          ]
        }
      ]
    },
    {
      "cell_type": "code",
      "source": [
        "x = np.array([[0,1],[2,3]])\n",
        "y = x.ravel()\n",
        "print(y)\n",
        "y[0] = 10\n",
        "print(\"Array 2 is :\",y)\n",
        "print(\"Array 1 is :\",x)"
      ],
      "metadata": {
        "colab": {
          "base_uri": "https://localhost:8080/"
        },
        "id": "Ururt-wJ8VXI",
        "outputId": "7e49fd75-b670-458d-b43d-a3603a6e6984"
      },
      "execution_count": 29,
      "outputs": [
        {
          "output_type": "stream",
          "name": "stdout",
          "text": [
            "[0 1 2 3]\n",
            "Array 2 is : [10  1  2  3]\n",
            "Array 1 is : [[10  1]\n",
            " [ 2  3]]\n"
          ]
        }
      ]
    },
    {
      "cell_type": "markdown",
      "source": [
        "### Some Important Operations"
      ],
      "metadata": {
        "id": "DcxJVxtM8cYN"
      }
    },
    {
      "cell_type": "code",
      "source": [
        "x = np.array([4,5,6])\n",
        "y = np.array([7,8,9])\n",
        "print(\"Addition :\",x + y)"
      ],
      "metadata": {
        "colab": {
          "base_uri": "https://localhost:8080/"
        },
        "id": "3sIsym_H8YMG",
        "outputId": "1d39ae68-3cad-443c-e416-bb06f110e12c"
      },
      "execution_count": 30,
      "outputs": [
        {
          "output_type": "stream",
          "name": "stdout",
          "text": [
            "Addition : [11 13 15]\n"
          ]
        }
      ]
    },
    {
      "cell_type": "code",
      "source": [
        "x = np.array([4,5,6])\n",
        "y = np.array([7,8,9])\n",
        "print(\"Subtraction :\",x - y)"
      ],
      "metadata": {
        "colab": {
          "base_uri": "https://localhost:8080/"
        },
        "id": "Hz8_sYbs87FG",
        "outputId": "7897a745-5a09-4a9b-e90b-90828ec11234"
      },
      "execution_count": 31,
      "outputs": [
        {
          "output_type": "stream",
          "name": "stdout",
          "text": [
            "Subtraction : [-3 -3 -3]\n"
          ]
        }
      ]
    },
    {
      "cell_type": "code",
      "source": [
        "x = np.array([4,5,6])\n",
        "y = np.array([7,8,9])\n",
        "print(\"Multiplication :\",x * y)"
      ],
      "metadata": {
        "colab": {
          "base_uri": "https://localhost:8080/"
        },
        "id": "iOY7VLfs89oi",
        "outputId": "173b6979-756c-477c-8625-92c64f57937c"
      },
      "execution_count": 32,
      "outputs": [
        {
          "output_type": "stream",
          "name": "stdout",
          "text": [
            "Multiplication : [28 40 54]\n"
          ]
        }
      ]
    },
    {
      "cell_type": "code",
      "source": [
        "x = np.array([14,15,16])\n",
        "y = np.array([7,8,9])\n",
        "print(\"Integer Division :\",x // y)"
      ],
      "metadata": {
        "colab": {
          "base_uri": "https://localhost:8080/"
        },
        "id": "NCTlqLOO8-d9",
        "outputId": "1bf9e05f-8c47-45eb-efca-d21aa6b991dc"
      },
      "execution_count": 33,
      "outputs": [
        {
          "output_type": "stream",
          "name": "stdout",
          "text": [
            "Integer Division : [2 1 1]\n"
          ]
        }
      ]
    },
    {
      "cell_type": "code",
      "source": [
        "# Scalar Product not possible for different dimensional arrays.\n",
        "a = np.array([np.arange(0,3), np.arange(0,6)])\n",
        "b = np.array([np.arange(0,2), np.arange(2,4), np.arange(4,6)])\n",
        "print('Matrix a is:',a)\n",
        "print('Matrix b is:',b)\n",
        "print('Scalar Product is:', a * 2)\n",
        "print('Dot Product:', np.dot(a, b))"
      ],
      "metadata": {
        "id": "a4vQ7JLZ_LUg",
        "colab": {
          "base_uri": "https://localhost:8080/",
          "height": 376
        },
        "outputId": "2fd97f1e-467f-4f86-cbee-4294b58c30ea"
      },
      "execution_count": 34,
      "outputs": [
        {
          "output_type": "stream",
          "name": "stdout",
          "text": [
            "Matrix a is: [array([0, 1, 2]) array([0, 1, 2, 3, 4, 5])]\n",
            "Matrix b is: [[0 1]\n",
            " [2 3]\n",
            " [4 5]]\n",
            "Scalar Product is: [array([0, 2, 4]) array([ 0,  2,  4,  6,  8, 10])]\n"
          ]
        },
        {
          "output_type": "stream",
          "name": "stderr",
          "text": [
            "/usr/local/lib/python3.7/dist-packages/ipykernel_launcher.py:2: VisibleDeprecationWarning: Creating an ndarray from ragged nested sequences (which is a list-or-tuple of lists-or-tuples-or ndarrays with different lengths or shapes) is deprecated. If you meant to do this, you must specify 'dtype=object' when creating the ndarray.\n",
            "  \n"
          ]
        },
        {
          "output_type": "error",
          "ename": "ValueError",
          "evalue": "ignored",
          "traceback": [
            "\u001b[0;31m---------------------------------------------------------------------------\u001b[0m",
            "\u001b[0;31mValueError\u001b[0m                                Traceback (most recent call last)",
            "\u001b[0;32m<ipython-input-34-e77e844a34ab>\u001b[0m in \u001b[0;36m<module>\u001b[0;34m()\u001b[0m\n\u001b[1;32m      5\u001b[0m \u001b[0mprint\u001b[0m\u001b[0;34m(\u001b[0m\u001b[0;34m'Matrix b is:'\u001b[0m\u001b[0;34m,\u001b[0m\u001b[0mb\u001b[0m\u001b[0;34m)\u001b[0m\u001b[0;34m\u001b[0m\u001b[0;34m\u001b[0m\u001b[0m\n\u001b[1;32m      6\u001b[0m \u001b[0mprint\u001b[0m\u001b[0;34m(\u001b[0m\u001b[0;34m'Scalar Product is:'\u001b[0m\u001b[0;34m,\u001b[0m \u001b[0ma\u001b[0m \u001b[0;34m*\u001b[0m \u001b[0;36m2\u001b[0m\u001b[0;34m)\u001b[0m\u001b[0;34m\u001b[0m\u001b[0;34m\u001b[0m\u001b[0m\n\u001b[0;32m----> 7\u001b[0;31m \u001b[0mprint\u001b[0m\u001b[0;34m(\u001b[0m\u001b[0;34m'Dot Product:'\u001b[0m\u001b[0;34m,\u001b[0m \u001b[0mnp\u001b[0m\u001b[0;34m.\u001b[0m\u001b[0mdot\u001b[0m\u001b[0;34m(\u001b[0m\u001b[0ma\u001b[0m\u001b[0;34m,\u001b[0m \u001b[0mb\u001b[0m\u001b[0;34m)\u001b[0m\u001b[0;34m)\u001b[0m\u001b[0;34m\u001b[0m\u001b[0;34m\u001b[0m\u001b[0m\n\u001b[0m",
            "\u001b[0;32m<__array_function__ internals>\u001b[0m in \u001b[0;36mdot\u001b[0;34m(*args, **kwargs)\u001b[0m\n",
            "\u001b[0;31mValueError\u001b[0m: shapes (2,) and (3,2) not aligned: 2 (dim 0) != 3 (dim 0)"
          ]
        }
      ]
    },
    {
      "cell_type": "code",
      "source": [
        "# Addition of two arrays having different dimensions is not possible.\n",
        "a = np.array([1, 2, 3])\n",
        "b = np.array([4, 5, 6, 7])\n",
        "print(\"Sum =\",a + b)"
      ],
      "metadata": {
        "id": "VMqGCkPF9Mps",
        "colab": {
          "base_uri": "https://localhost:8080/",
          "height": 200
        },
        "outputId": "002e08eb-1ed1-4910-d06c-10621206621d"
      },
      "execution_count": 35,
      "outputs": [
        {
          "output_type": "error",
          "ename": "ValueError",
          "evalue": "ignored",
          "traceback": [
            "\u001b[0;31m---------------------------------------------------------------------------\u001b[0m",
            "\u001b[0;31mValueError\u001b[0m                                Traceback (most recent call last)",
            "\u001b[0;32m<ipython-input-35-6b58a53f2c4c>\u001b[0m in \u001b[0;36m<module>\u001b[0;34m()\u001b[0m\n\u001b[1;32m      2\u001b[0m \u001b[0ma\u001b[0m \u001b[0;34m=\u001b[0m \u001b[0mnp\u001b[0m\u001b[0;34m.\u001b[0m\u001b[0marray\u001b[0m\u001b[0;34m(\u001b[0m\u001b[0;34m[\u001b[0m\u001b[0;36m1\u001b[0m\u001b[0;34m,\u001b[0m \u001b[0;36m2\u001b[0m\u001b[0;34m,\u001b[0m \u001b[0;36m3\u001b[0m\u001b[0;34m]\u001b[0m\u001b[0;34m)\u001b[0m\u001b[0;34m\u001b[0m\u001b[0;34m\u001b[0m\u001b[0m\n\u001b[1;32m      3\u001b[0m \u001b[0mb\u001b[0m \u001b[0;34m=\u001b[0m \u001b[0mnp\u001b[0m\u001b[0;34m.\u001b[0m\u001b[0marray\u001b[0m\u001b[0;34m(\u001b[0m\u001b[0;34m[\u001b[0m\u001b[0;36m4\u001b[0m\u001b[0;34m,\u001b[0m \u001b[0;36m5\u001b[0m\u001b[0;34m,\u001b[0m \u001b[0;36m6\u001b[0m\u001b[0;34m,\u001b[0m \u001b[0;36m7\u001b[0m\u001b[0;34m]\u001b[0m\u001b[0;34m)\u001b[0m\u001b[0;34m\u001b[0m\u001b[0;34m\u001b[0m\u001b[0m\n\u001b[0;32m----> 4\u001b[0;31m \u001b[0mprint\u001b[0m\u001b[0;34m(\u001b[0m\u001b[0;34m\"Sum =\"\u001b[0m\u001b[0;34m,\u001b[0m\u001b[0ma\u001b[0m \u001b[0;34m+\u001b[0m \u001b[0mb\u001b[0m\u001b[0;34m)\u001b[0m\u001b[0;34m\u001b[0m\u001b[0;34m\u001b[0m\u001b[0m\n\u001b[0m",
            "\u001b[0;31mValueError\u001b[0m: operands could not be broadcast together with shapes (3,) (4,) "
          ]
        }
      ]
    },
    {
      "cell_type": "markdown",
      "source": [
        "### ***Broadcast***\n",
        "* size of each dimension should be same.\n",
        "* size of one of the dimension should be 1."
      ],
      "metadata": {
        "id": "Ui2BJ_PW_SPt"
      }
    },
    {
      "cell_type": "code",
      "source": [
        "x = np.array([[45,65],[74,34],[31,19]])\n",
        "print(\"Matrix 1 :\",x)\n",
        "y = np.array([37,25,85])\n",
        "z = np.array([34,24])\n",
        "print(\"shape of x :\",x.shape)\n",
        "print(\"shape of y :\",y.shape)\n",
        "print(\"shape of z :\",z.shape)\n",
        "print(\"Addition of x and z :\",x + z)"
      ],
      "metadata": {
        "colab": {
          "base_uri": "https://localhost:8080/"
        },
        "id": "LMp8TNL__QV2",
        "outputId": "df17138e-18fb-468b-d0a8-1c19fec498de"
      },
      "execution_count": 36,
      "outputs": [
        {
          "output_type": "stream",
          "name": "stdout",
          "text": [
            "Matrix 1 : [[45 65]\n",
            " [74 34]\n",
            " [31 19]]\n",
            "shape of x : (3, 2)\n",
            "shape of y : (3,)\n",
            "shape of z : (2,)\n",
            "Addition of x and z : [[ 79  89]\n",
            " [108  58]\n",
            " [ 65  43]]\n"
          ]
        }
      ]
    },
    {
      "cell_type": "code",
      "source": [
        "print(x + y)"
      ],
      "metadata": {
        "colab": {
          "base_uri": "https://localhost:8080/",
          "height": 165
        },
        "id": "TATDgIr5BCfH",
        "outputId": "843d83cf-d92d-4f0d-8704-322ef8d6478a"
      },
      "execution_count": 37,
      "outputs": [
        {
          "output_type": "error",
          "ename": "ValueError",
          "evalue": "ignored",
          "traceback": [
            "\u001b[0;31m---------------------------------------------------------------------------\u001b[0m",
            "\u001b[0;31mValueError\u001b[0m                                Traceback (most recent call last)",
            "\u001b[0;32m<ipython-input-37-f09a7b03ddbf>\u001b[0m in \u001b[0;36m<module>\u001b[0;34m()\u001b[0m\n\u001b[0;32m----> 1\u001b[0;31m \u001b[0mprint\u001b[0m\u001b[0;34m(\u001b[0m\u001b[0mx\u001b[0m \u001b[0;34m+\u001b[0m \u001b[0my\u001b[0m\u001b[0;34m)\u001b[0m\u001b[0;34m\u001b[0m\u001b[0;34m\u001b[0m\u001b[0m\n\u001b[0m",
            "\u001b[0;31mValueError\u001b[0m: operands could not be broadcast together with shapes (3,2) (3,) "
          ]
        }
      ]
    },
    {
      "cell_type": "markdown",
      "source": [
        "***Drawbacks of Numpy Module [See here](https://medium.com/@abhi16.2007/when-i-should-not-use-numpy-1e00aafb231b)***"
      ],
      "metadata": {
        "id": "WPtST53eDM-1"
      }
    }
  ]
}