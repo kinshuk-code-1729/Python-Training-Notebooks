{
  "nbformat": 4,
  "nbformat_minor": 0,
  "metadata": {
    "colab": {
      "name": "Day_10_PT02-Class-Attributes.ipynb",
      "provenance": [],
      "collapsed_sections": [],
      "authorship_tag": "ABX9TyNdgdxIBl6LBUoYwO0tfxgt",
      "include_colab_link": true
    },
    "kernelspec": {
      "name": "python3",
      "display_name": "Python 3"
    },
    "language_info": {
      "name": "python"
    },
    "gpuClass": "standard"
  },
  "cells": [
    {
      "cell_type": "markdown",
      "metadata": {
        "id": "view-in-github",
        "colab_type": "text"
      },
      "source": [
        "<a href=\"https://colab.research.google.com/github/kinshuk-code-1729/Python-Training-Notebooks/blob/main/Day_10_PT02_Class_Attributes.ipynb\" target=\"_parent\"><img src=\"https://colab.research.google.com/assets/colab-badge.svg\" alt=\"Open In Colab\"/></a>"
      ]
    },
    {
      "cell_type": "markdown",
      "source": [
        "# **Day 10 Notebook 2**\n",
        "## ***Class Attributes***"
      ],
      "metadata": {
        "id": "MDAAyPlnJJ1r"
      }
    },
    {
      "cell_type": "code",
      "execution_count": 1,
      "metadata": {
        "id": "9zTIiVTyJDuv"
      },
      "outputs": [],
      "source": [
        "class Myclass :\n",
        "  lang = 'Java' # class attribute\n",
        "  ver = 17.0 # class attribute"
      ]
    },
    {
      "cell_type": "code",
      "source": [
        "# Fetching class Attributes using 'getattr()' method.\n",
        "# getattr (object_symbol, 'attribute_name', 'optional_default')\n",
        "getattr(Myclass,'lang') # on passing the attribute of class it returns current value of that attribute"
      ],
      "metadata": {
        "colab": {
          "base_uri": "https://localhost:8080/",
          "height": 36
        },
        "id": "SVr6oUb5Klfc",
        "outputId": "9b3e5dc4-e15c-46f2-b942-dab66a78ca9f"
      },
      "execution_count": 2,
      "outputs": [
        {
          "output_type": "execute_result",
          "data": {
            "text/plain": [
              "'Java'"
            ],
            "application/vnd.google.colaboratory.intrinsic+json": {
              "type": "string"
            }
          },
          "metadata": {},
          "execution_count": 2
        }
      ]
    },
    {
      "cell_type": "code",
      "source": [
        "getattr(Myclass,'C++') # will give attribute error"
      ],
      "metadata": {
        "colab": {
          "base_uri": "https://localhost:8080/",
          "height": 165
        },
        "id": "swwh4g7pKx-z",
        "outputId": "f340653f-636f-424d-c745-c598777d0203"
      },
      "execution_count": 3,
      "outputs": [
        {
          "output_type": "error",
          "ename": "AttributeError",
          "evalue": "ignored",
          "traceback": [
            "\u001b[0;31m---------------------------------------------------------------------------\u001b[0m",
            "\u001b[0;31mAttributeError\u001b[0m                            Traceback (most recent call last)",
            "\u001b[0;32m<ipython-input-3-894341f057fa>\u001b[0m in \u001b[0;36m<module>\u001b[0;34m()\u001b[0m\n\u001b[0;32m----> 1\u001b[0;31m \u001b[0mgetattr\u001b[0m\u001b[0;34m(\u001b[0m\u001b[0mMyclass\u001b[0m\u001b[0;34m,\u001b[0m\u001b[0;34m'C++'\u001b[0m\u001b[0;34m)\u001b[0m \u001b[0;31m# will give attribute error\u001b[0m\u001b[0;34m\u001b[0m\u001b[0;34m\u001b[0m\u001b[0m\n\u001b[0m",
            "\u001b[0;31mAttributeError\u001b[0m: type object 'Myclass' has no attribute 'C++'"
          ]
        }
      ]
    },
    {
      "cell_type": "code",
      "source": [
        "getattr(Myclass,'Python','None') # using 'None' in place of <optional_default> removes the attribute error"
      ],
      "metadata": {
        "colab": {
          "base_uri": "https://localhost:8080/",
          "height": 36
        },
        "id": "EhW-ang6LHPq",
        "outputId": "1b0c1ae1-e21f-4d7c-8b92-688e8248f9b1"
      },
      "execution_count": 4,
      "outputs": [
        {
          "output_type": "execute_result",
          "data": {
            "text/plain": [
              "'None'"
            ],
            "application/vnd.google.colaboratory.intrinsic+json": {
              "type": "string"
            }
          },
          "metadata": {},
          "execution_count": 4
        }
      ]
    },
    {
      "cell_type": "code",
      "source": [
        "# Dot Notation\n",
        "Myclass.lang # Using dot notation no default option is available"
      ],
      "metadata": {
        "colab": {
          "base_uri": "https://localhost:8080/",
          "height": 36
        },
        "id": "OADWyD0yLZhV",
        "outputId": "42823663-8564-4937-c98f-39456a019080"
      },
      "execution_count": 5,
      "outputs": [
        {
          "output_type": "execute_result",
          "data": {
            "text/plain": [
              "'Java'"
            ],
            "application/vnd.google.colaboratory.intrinsic+json": {
              "type": "string"
            }
          },
          "metadata": {},
          "execution_count": 5
        }
      ]
    },
    {
      "cell_type": "code",
      "source": [
        "# Setting Attribute Values using 'setattr()' method.\n",
        "# setattr (object_symbol, 'attribute_name', 'attribute_value')\n",
        "setattr(Myclass,'ver','16.8') # updates the attribute with new value\n",
        "getattr(Myclass,'ver')"
      ],
      "metadata": {
        "colab": {
          "base_uri": "https://localhost:8080/",
          "height": 36
        },
        "id": "ZBrX-OkbLyd3",
        "outputId": "e923afe3-5897-470b-a250-4d7585c1d692"
      },
      "execution_count": 6,
      "outputs": [
        {
          "output_type": "execute_result",
          "data": {
            "text/plain": [
              "'16.8'"
            ],
            "application/vnd.google.colaboratory.intrinsic+json": {
              "type": "string"
            }
          },
          "metadata": {},
          "execution_count": 6
        }
      ]
    },
    {
      "cell_type": "code",
      "source": [
        "Myclass.ver = '16.5' # this is same as 'setattr()'\n",
        "getattr(Myclass,'ver') # Class attribute has been mutated."
      ],
      "metadata": {
        "colab": {
          "base_uri": "https://localhost:8080/",
          "height": 36
        },
        "id": "ryVaMkeLNRa6",
        "outputId": "21f88365-3f27-473e-d0ff-4e2c89d8bd46"
      },
      "execution_count": 7,
      "outputs": [
        {
          "output_type": "execute_result",
          "data": {
            "text/plain": [
              "'16.5'"
            ],
            "application/vnd.google.colaboratory.intrinsic+json": {
              "type": "string"
            }
          },
          "metadata": {},
          "execution_count": 7
        }
      ]
    },
    {
      "cell_type": "code",
      "source": [
        "# Setting a New Attribute using 'setattr()' method.\n",
        "setattr(Myclass,'C++','20')\n",
        "getattr(Myclass,'C++')"
      ],
      "metadata": {
        "colab": {
          "base_uri": "https://localhost:8080/",
          "height": 36
        },
        "id": "_BPhOyNSNd6G",
        "outputId": "4b18fef1-d160-445e-a16a-cd6a447a0de4"
      },
      "execution_count": 8,
      "outputs": [
        {
          "output_type": "execute_result",
          "data": {
            "text/plain": [
              "'20'"
            ],
            "application/vnd.google.colaboratory.intrinsic+json": {
              "type": "string"
            }
          },
          "metadata": {},
          "execution_count": 8
        }
      ]
    },
    {
      "cell_type": "code",
      "source": [
        "Myclass.__dict__ # class namespace"
      ],
      "metadata": {
        "colab": {
          "base_uri": "https://localhost:8080/"
        },
        "id": "0jR7I4AEOGk_",
        "outputId": "9d18454b-4716-44ce-d66e-8bb7c6cd8433"
      },
      "execution_count": 9,
      "outputs": [
        {
          "output_type": "execute_result",
          "data": {
            "text/plain": [
              "mappingproxy({'C++': '20',\n",
              "              '__dict__': <attribute '__dict__' of 'Myclass' objects>,\n",
              "              '__doc__': None,\n",
              "              '__module__': '__main__',\n",
              "              '__weakref__': <attribute '__weakref__' of 'Myclass' objects>,\n",
              "              'lang': 'Java',\n",
              "              'ver': '16.5'})"
            ]
          },
          "metadata": {},
          "execution_count": 9
        }
      ]
    },
    {
      "cell_type": "code",
      "source": [
        "# Mutating Attributes\n",
        "setattr(Myclass,'MySQL','5.5')\n",
        "Myclass.__dict__"
      ],
      "metadata": {
        "colab": {
          "base_uri": "https://localhost:8080/"
        },
        "id": "2953nXPRU9nd",
        "outputId": "d661dafd-9d9c-4772-a658-5e37eabec700"
      },
      "execution_count": 10,
      "outputs": [
        {
          "output_type": "execute_result",
          "data": {
            "text/plain": [
              "mappingproxy({'C++': '20',\n",
              "              'MySQL': '5.5',\n",
              "              '__dict__': <attribute '__dict__' of 'Myclass' objects>,\n",
              "              '__doc__': None,\n",
              "              '__module__': '__main__',\n",
              "              '__weakref__': <attribute '__weakref__' of 'Myclass' objects>,\n",
              "              'lang': 'Java',\n",
              "              'ver': '16.5'})"
            ]
          },
          "metadata": {},
          "execution_count": 10
        }
      ]
    },
    {
      "cell_type": "code",
      "source": [
        "# Deleting attributes in a class using 'delattr()' method.\n",
        "# delattr (obj_symbol, attribute_name) or del keyword\n",
        "delattr(Myclass,'MySQL')\n",
        "Myclass.__dict__ # __dict__ attribute returns mappingproxy object"
      ],
      "metadata": {
        "colab": {
          "base_uri": "https://localhost:8080/"
        },
        "id": "rXDO4oa6Vbd-",
        "outputId": "47a8a363-2d2f-4d64-c62b-0e8137c91ee6"
      },
      "execution_count": 11,
      "outputs": [
        {
          "output_type": "execute_result",
          "data": {
            "text/plain": [
              "mappingproxy({'C++': '20',\n",
              "              '__dict__': <attribute '__dict__' of 'Myclass' objects>,\n",
              "              '__doc__': None,\n",
              "              '__module__': '__main__',\n",
              "              '__weakref__': <attribute '__weakref__' of 'Myclass' objects>,\n",
              "              'lang': 'Java',\n",
              "              'ver': '16.5'})"
            ]
          },
          "metadata": {},
          "execution_count": 11
        }
      ]
    },
    {
      "cell_type": "code",
      "source": [
        "# Creating a list of tuple-pairs of attributes\n",
        "list(Myclass.__dict__.items())"
      ],
      "metadata": {
        "colab": {
          "base_uri": "https://localhost:8080/"
        },
        "id": "2FHp--viV_jX",
        "outputId": "65016178-98bb-436f-fa4c-e986169f513c"
      },
      "execution_count": 14,
      "outputs": [
        {
          "output_type": "execute_result",
          "data": {
            "text/plain": [
              "[('__module__', '__main__'),\n",
              " ('lang', 'Java'),\n",
              " ('ver', '16.5'),\n",
              " ('__dict__', <attribute '__dict__' of 'Myclass' objects>),\n",
              " ('__weakref__', <attribute '__weakref__' of 'Myclass' objects>),\n",
              " ('__doc__', None),\n",
              " ('C++', '20')]"
            ]
          },
          "metadata": {},
          "execution_count": 14
        }
      ]
    },
    {
      "cell_type": "code",
      "source": [
        "# Accesssing the namespace directly\n",
        "# We use the methods : dot(.) operator , getattr() method\n",
        "print(Myclass.lang) # Method 1\n",
        "getattr(Myclass,'ver') # Method 2"
      ],
      "metadata": {
        "colab": {
          "base_uri": "https://localhost:8080/",
          "height": 53
        },
        "id": "Okt-8LVcWap3",
        "outputId": "238473ab-77e9-42c1-b4a9-546e499771be"
      },
      "execution_count": 16,
      "outputs": [
        {
          "output_type": "stream",
          "name": "stdout",
          "text": [
            "Java\n"
          ]
        },
        {
          "output_type": "execute_result",
          "data": {
            "text/plain": [
              "'16.5'"
            ],
            "application/vnd.google.colaboratory.intrinsic+json": {
              "type": "string"
            }
          },
          "metadata": {},
          "execution_count": 16
        }
      ]
    },
    {
      "cell_type": "code",
      "source": [
        "# We do not prefer this method.\n",
        "Myclass.__dict__['lang']"
      ],
      "metadata": {
        "colab": {
          "base_uri": "https://localhost:8080/",
          "height": 36
        },
        "id": "6eBYTec4XW8G",
        "outputId": "07997028-fa7c-430c-d35a-68d0993e813e"
      },
      "execution_count": 17,
      "outputs": [
        {
          "output_type": "execute_result",
          "data": {
            "text/plain": [
              "'Java'"
            ],
            "application/vnd.google.colaboratory.intrinsic+json": {
              "type": "string"
            }
          },
          "metadata": {},
          "execution_count": 17
        }
      ]
    }
  ]
}