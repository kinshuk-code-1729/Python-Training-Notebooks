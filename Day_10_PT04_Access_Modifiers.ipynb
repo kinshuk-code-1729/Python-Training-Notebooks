{
  "nbformat": 4,
  "nbformat_minor": 0,
  "metadata": {
    "colab": {
      "name": "Day_10_PT04-Access-Modifiers.ipynb",
      "provenance": [],
      "collapsed_sections": [],
      "authorship_tag": "ABX9TyPmjz/wh2NkCPqt/06KlslT",
      "include_colab_link": true
    },
    "kernelspec": {
      "name": "python3",
      "display_name": "Python 3"
    },
    "language_info": {
      "name": "python"
    },
    "gpuClass": "standard"
  },
  "cells": [
    {
      "cell_type": "markdown",
      "metadata": {
        "id": "view-in-github",
        "colab_type": "text"
      },
      "source": [
        "<a href=\"https://colab.research.google.com/github/kinshuk-code-1729/Python-Training-Notebooks/blob/main/Day_10_PT04_Access_Modifiers.ipynb\" target=\"_parent\"><img src=\"https://colab.research.google.com/assets/colab-badge.svg\" alt=\"Open In Colab\"/></a>"
      ]
    },
    {
      "cell_type": "markdown",
      "source": [
        "# **Day 10 Notebook 4**\n",
        "## ***Access Specifiers in Class Attributes***"
      ],
      "metadata": {
        "id": "FmkbdDMOjpZm"
      }
    },
    {
      "cell_type": "code",
      "execution_count": 1,
      "metadata": {
        "colab": {
          "base_uri": "https://localhost:8080/"
        },
        "id": "yl4BuCK8fUWW",
        "outputId": "6975edfd-124b-4d61-f788-a60e928627a4"
      },
      "outputs": [
        {
          "output_type": "stream",
          "name": "stdout",
          "text": [
            "770056660\n"
          ]
        }
      ],
      "source": [
        "# Public Access Modifier\n",
        "class Employee :\n",
        "  def __init__(self,name,sal):\n",
        "    self.name = name # by default public specified attribute\n",
        "    self.salary = sal\n",
        "\n",
        "Emp = Employee('Raja',770056660)\n",
        "print(Emp.salary) # public attribute"
      ]
    },
    {
      "cell_type": "code",
      "source": [
        "# Private Access Modifier\n",
        "class Employee :\n",
        "  def __init__(self,name,sal):\n",
        "    self.name = name\n",
        "    self.__salary = sal # double underscore turns the attribute to a private one.\n",
        "\n",
        "Emp = Employee('Raja',77000)\n",
        "print(Emp.name)\n",
        "print(Emp.salary) # private attribute"
      ],
      "metadata": {
        "colab": {
          "base_uri": "https://localhost:8080/",
          "height": 217
        },
        "id": "yfX9Q4qZgDKl",
        "outputId": "2add7d39-fb03-4ec0-d4df-648bb8938221"
      },
      "execution_count": 2,
      "outputs": [
        {
          "output_type": "stream",
          "name": "stdout",
          "text": [
            "Raja\n"
          ]
        },
        {
          "output_type": "error",
          "ename": "AttributeError",
          "evalue": "ignored",
          "traceback": [
            "\u001b[0;31m---------------------------------------------------------------------------\u001b[0m",
            "\u001b[0;31mAttributeError\u001b[0m                            Traceback (most recent call last)",
            "\u001b[0;32m<ipython-input-2-0ced4e9f8f5e>\u001b[0m in \u001b[0;36m<module>\u001b[0;34m()\u001b[0m\n\u001b[1;32m      7\u001b[0m \u001b[0mEmp\u001b[0m \u001b[0;34m=\u001b[0m \u001b[0mEmployee\u001b[0m\u001b[0;34m(\u001b[0m\u001b[0;34m'Raja'\u001b[0m\u001b[0;34m,\u001b[0m\u001b[0;36m77000\u001b[0m\u001b[0;34m)\u001b[0m\u001b[0;34m\u001b[0m\u001b[0;34m\u001b[0m\u001b[0m\n\u001b[1;32m      8\u001b[0m \u001b[0mprint\u001b[0m\u001b[0;34m(\u001b[0m\u001b[0mEmp\u001b[0m\u001b[0;34m.\u001b[0m\u001b[0mname\u001b[0m\u001b[0;34m)\u001b[0m\u001b[0;34m\u001b[0m\u001b[0;34m\u001b[0m\u001b[0m\n\u001b[0;32m----> 9\u001b[0;31m \u001b[0mprint\u001b[0m\u001b[0;34m(\u001b[0m\u001b[0mEmp\u001b[0m\u001b[0;34m.\u001b[0m\u001b[0msalary\u001b[0m\u001b[0;34m)\u001b[0m \u001b[0;31m# private attribute\u001b[0m\u001b[0;34m\u001b[0m\u001b[0;34m\u001b[0m\u001b[0m\n\u001b[0m",
            "\u001b[0;31mAttributeError\u001b[0m: 'Employee' object has no attribute 'salary'"
          ]
        }
      ]
    },
    {
      "cell_type": "code",
      "source": [
        "# ENCAPSULATION\n",
        "class Employee :\n",
        "  def __init__(self,name,sal):\n",
        "    self.name = name\n",
        "    self.__salary = sal # double underscore turns the attribute to a private one.\n",
        "\n",
        "Emp = Employee('Raj',77000)\n",
        "print(Emp.name)\n",
        "print(Emp._Employee__salary) # private attribute encoded internally by interpreter\n",
        "# internal encoding format : <obj-name>._<Class-name>__<Private-Attribute>\n",
        "# This type of encoding is called \"Named Mangling\""
      ],
      "metadata": {
        "colab": {
          "base_uri": "https://localhost:8080/"
        },
        "id": "y1wTJwgtgTJa",
        "outputId": "5f46a8b4-9ac8-473a-d4fd-6949d45f4d31"
      },
      "execution_count": 4,
      "outputs": [
        {
          "output_type": "stream",
          "name": "stdout",
          "text": [
            "Raj\n",
            "77000\n"
          ]
        }
      ]
    },
    {
      "cell_type": "code",
      "source": [
        "# Private Access Modifier\n",
        "class Employee :\n",
        "  def __init__(self,name,sal):\n",
        "    self.name = name\n",
        "    self._salary = sal # single underscore turns the attribute to a protected one.\n",
        "\n",
        "Emp = Employee('Raja',77000)\n",
        "print(Emp.name)\n",
        "print(Emp._salary) # protected attribute"
      ],
      "metadata": {
        "colab": {
          "base_uri": "https://localhost:8080/"
        },
        "id": "3XjHsSmhiDty",
        "outputId": "a5592cb4-59ac-4bec-9e83-ba6d4a8d8d4c"
      },
      "execution_count": 5,
      "outputs": [
        {
          "output_type": "stream",
          "name": "stdout",
          "text": [
            "Raja\n",
            "77000\n"
          ]
        }
      ]
    }
  ]
}