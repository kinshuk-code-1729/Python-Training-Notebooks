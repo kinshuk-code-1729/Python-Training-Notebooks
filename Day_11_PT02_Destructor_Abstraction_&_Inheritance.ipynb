{
  "nbformat": 4,
  "nbformat_minor": 0,
  "metadata": {
    "colab": {
      "name": "Day_11_PT02-Destructor-Abstraction-&-Inheritance.ipynb",
      "provenance": [],
      "collapsed_sections": [],
      "authorship_tag": "ABX9TyNKizrd1yAJ7qYn8MsIs+VQ",
      "include_colab_link": true
    },
    "kernelspec": {
      "name": "python3",
      "display_name": "Python 3"
    },
    "language_info": {
      "name": "python"
    },
    "accelerator": "GPU",
    "gpuClass": "standard"
  },
  "cells": [
    {
      "cell_type": "markdown",
      "metadata": {
        "id": "view-in-github",
        "colab_type": "text"
      },
      "source": [
        "<a href=\"https://colab.research.google.com/github/kinshuk-code-1729/Python-Training-Notebooks/blob/main/Day_11_PT02_Destructor_Abstraction_%26_Inheritance.ipynb\" target=\"_parent\"><img src=\"https://colab.research.google.com/assets/colab-badge.svg\" alt=\"Open In Colab\"/></a>"
      ]
    },
    {
      "cell_type": "markdown",
      "source": [
        "# ***Day 11 Notebook 2***\n",
        "## **Constructor & Destructor , Inheritance , Abstraction and Various Methods in Python**"
      ],
      "metadata": {
        "id": "h44cO1h-7UYL"
      }
    },
    {
      "cell_type": "code",
      "execution_count": 1,
      "metadata": {
        "colab": {
          "base_uri": "https://localhost:8080/"
        },
        "id": "K1lBMBim7Efl",
        "outputId": "5d24a3fa-da6c-4799-c686-25da912d4e1e"
      },
      "outputs": [
        {
          "output_type": "stream",
          "name": "stdout",
          "text": [
            "Constructor called here...\n",
            "Method show called here...\n"
          ]
        }
      ],
      "source": [
        "class Cons_Des:\n",
        "  def __init__(self):\n",
        "    print(\"Constructor called here...\")\n",
        "\n",
        "  def __show__(self):\n",
        "    print(\"Method show called here...\")\n",
        "\n",
        "  def __del__(self): # destructor \n",
        "    print(\"Destructor called here...\")\n",
        "\n",
        "cd = Cons_Des()\n",
        "cd.__show__()"
      ]
    },
    {
      "cell_type": "markdown",
      "source": [
        "***How to modify Existing private attribute.***"
      ],
      "metadata": {
        "id": "yp_Ue_7TATxK"
      }
    },
    {
      "cell_type": "code",
      "source": [
        "class velocity :\n",
        "  def __init__(self):\n",
        "    self.vel = 18\n",
        "  def velo_get(self):\n",
        "    return self.vel\n",
        "    \n",
        "V = velocity()\n",
        "V.velo_get()"
      ],
      "metadata": {
        "colab": {
          "base_uri": "https://localhost:8080/"
        },
        "id": "1OEiXRjM8kG2",
        "outputId": "0a572a6d-3f6a-4595-f52c-dc650591da7b"
      },
      "execution_count": 2,
      "outputs": [
        {
          "output_type": "execute_result",
          "data": {
            "text/plain": [
              "18"
            ]
          },
          "metadata": {},
          "execution_count": 2
        }
      ]
    },
    {
      "cell_type": "code",
      "source": [
        "class velocity :\n",
        "  def __init__(self):\n",
        "    self.vel = 18\n",
        "  def velo_get(self):\n",
        "    return self.vel\n",
        "    \n",
        "V = velocity()\n",
        "V.vel = 54\n",
        "V.velo_get()"
      ],
      "metadata": {
        "colab": {
          "base_uri": "https://localhost:8080/"
        },
        "id": "qhrZAWP-93Rj",
        "outputId": "aa5772f1-0f39-4a51-b1e6-c870b813d30f"
      },
      "execution_count": 3,
      "outputs": [
        {
          "output_type": "execute_result",
          "data": {
            "text/plain": [
              "54"
            ]
          },
          "metadata": {},
          "execution_count": 3
        }
      ]
    },
    {
      "cell_type": "code",
      "source": [
        "class velocity :\n",
        "  def __init__(self):\n",
        "    self.vel = 18\n",
        "    self.__veloset = 41 # setting private attribute\n",
        "\n",
        "  def velo_get(self):\n",
        "    return self.vel # fetching the value\n",
        "\n",
        "  def velo_set(self):\n",
        "    return self.__veloset \n",
        "    \n",
        "V = velocity()\n",
        "V.vel = 546\n",
        "V.velo_set() ,V.velo_get() # private attribute changed"
      ],
      "metadata": {
        "colab": {
          "base_uri": "https://localhost:8080/"
        },
        "id": "7lzZfsA1_zPk",
        "outputId": "e11db83e-d23d-434f-ae88-8972e425716b"
      },
      "execution_count": 4,
      "outputs": [
        {
          "output_type": "execute_result",
          "data": {
            "text/plain": [
              "(41, 546)"
            ]
          },
          "metadata": {},
          "execution_count": 4
        }
      ]
    },
    {
      "cell_type": "code",
      "source": [
        "class velocity :\n",
        "  def __init__(self):\n",
        "    self.vel = 18\n",
        "    self.__veloset = 41\n",
        "\n",
        "  def velo_get(self):\n",
        "    return self.vel\n",
        "\n",
        "  def velo_set(self):\n",
        "    return self.__veloset\n",
        "    \n",
        "  def set_lim(self,new_velo):\n",
        "    self.__veloset = new_velo # changing the value of private attribute using new variable\n",
        "    \n",
        "V = velocity()\n",
        "V.vel = 546\n",
        "V.set_lim(255)\n",
        "V.velo_set() ,V.velo_get()"
      ],
      "metadata": {
        "colab": {
          "base_uri": "https://localhost:8080/"
        },
        "id": "xCOKUzc39_KS",
        "outputId": "b338f6b0-36ac-4ff8-8a89-fe7393a3bf69"
      },
      "execution_count": 5,
      "outputs": [
        {
          "output_type": "execute_result",
          "data": {
            "text/plain": [
              "(255, 546)"
            ]
          },
          "metadata": {},
          "execution_count": 5
        }
      ]
    },
    {
      "cell_type": "markdown",
      "source": [
        "***Concept of Abstraction and Abstract Classes / Methods***"
      ],
      "metadata": {
        "id": "iqOvI4B5A548"
      }
    },
    {
      "cell_type": "code",
      "source": [
        "from abc import ABC , abstractmethod\n",
        "class fauna(ABC):\n",
        "  @abstractmethod # can't be used in this class because class is abstract one.\n",
        "  def tiger(self):\n",
        "    pass\n",
        "\n",
        "class wild(fauna):\n",
        "  pass\n",
        "\n",
        "wa = wild()\n",
        "wa.tiger()"
      ],
      "metadata": {
        "colab": {
          "base_uri": "https://localhost:8080/",
          "height": 217
        },
        "id": "f79pxFPTAqzq",
        "outputId": "3c421347-a8f3-42ba-e069-a1c0a53b8c5a"
      },
      "execution_count": 6,
      "outputs": [
        {
          "output_type": "error",
          "ename": "TypeError",
          "evalue": "ignored",
          "traceback": [
            "\u001b[0;31m---------------------------------------------------------------------------\u001b[0m",
            "\u001b[0;31mTypeError\u001b[0m                                 Traceback (most recent call last)",
            "\u001b[0;32m<ipython-input-6-34887be9f520>\u001b[0m in \u001b[0;36m<module>\u001b[0;34m()\u001b[0m\n\u001b[1;32m      8\u001b[0m   \u001b[0;32mpass\u001b[0m\u001b[0;34m\u001b[0m\u001b[0;34m\u001b[0m\u001b[0m\n\u001b[1;32m      9\u001b[0m \u001b[0;34m\u001b[0m\u001b[0m\n\u001b[0;32m---> 10\u001b[0;31m \u001b[0mwa\u001b[0m \u001b[0;34m=\u001b[0m \u001b[0mwild\u001b[0m\u001b[0;34m(\u001b[0m\u001b[0;34m)\u001b[0m\u001b[0;34m\u001b[0m\u001b[0;34m\u001b[0m\u001b[0m\n\u001b[0m\u001b[1;32m     11\u001b[0m \u001b[0mwa\u001b[0m\u001b[0;34m.\u001b[0m\u001b[0mtiger\u001b[0m\u001b[0;34m(\u001b[0m\u001b[0;34m)\u001b[0m\u001b[0;34m\u001b[0m\u001b[0;34m\u001b[0m\u001b[0m\n",
            "\u001b[0;31mTypeError\u001b[0m: Can't instantiate abstract class wild with abstract methods tiger"
          ]
        }
      ]
    },
    {
      "cell_type": "code",
      "source": [
        "from abc import ABC , abstractmethod\n",
        "class fauna(ABC):\n",
        "  @abstractmethod\n",
        "  def tiger(self): # can't be used in this class because class is abstract one.\n",
        "    pass # declared but not defined\n",
        "\n",
        "class wild(fauna):\n",
        "  def tiger(self): # abstract method can be used outside the abstract class\n",
        "    print('Found in Sunderban Delta')\n",
        "\n",
        "wa = wild()\n",
        "wa.tiger()"
      ],
      "metadata": {
        "colab": {
          "base_uri": "https://localhost:8080/"
        },
        "id": "JVsDkbUzBs4K",
        "outputId": "10597b48-1edf-44a5-8b5b-5565358973d7"
      },
      "execution_count": 7,
      "outputs": [
        {
          "output_type": "stream",
          "name": "stdout",
          "text": [
            "Found in Sunderban Delta\n"
          ]
        }
      ]
    },
    {
      "cell_type": "markdown",
      "source": [
        "***Inheritance***"
      ],
      "metadata": {
        "id": "w-Ix13EOIHfZ"
      }
    },
    {
      "cell_type": "code",
      "source": [
        "class Emp:\n",
        "  inc = 1.22\n",
        "  def __init__(self,fname,lname,sal):\n",
        "    self.fname = fname\n",
        "    self.lname = lname\n",
        "    self.sal = sal\n",
        "\n",
        "  def fullname(self):\n",
        "    return '{} {}'.format(self.fname,self.lname)\n",
        "\n",
        "  def sal_rise(self):\n",
        "    self.sal = int(self.sal * self.inc)\n",
        "\n",
        "e1 = Emp('Steve','Smith',1250000)\n",
        "e2 = Emp('Glenn','Maxwell',950000)\n",
        "print('Previous salary')\n",
        "print(e1.fullname())\n",
        "print(\"Salary =\",e1.sal)\n",
        "print(e2.fullname())\n",
        "print(\"Salary =\",e2.sal)\n",
        "\n",
        "e1.sal_rise() # function call\n",
        "e2.sal_rise() # function call\n",
        "\n",
        "print('Salary After Increment')\n",
        "print(e1.fullname())\n",
        "print(\"Salary =\",e1.sal)\n",
        "e1.sal_rise()\n",
        "print(e2.fullname())\n",
        "print(\"Salary =\",e2.sal)"
      ],
      "metadata": {
        "colab": {
          "base_uri": "https://localhost:8080/"
        },
        "id": "G6x63gkJD3oi",
        "outputId": "e15fe279-0274-4e73-b9b6-c736e6fe9c84"
      },
      "execution_count": 8,
      "outputs": [
        {
          "output_type": "stream",
          "name": "stdout",
          "text": [
            "Previous salary\n",
            "Steve Smith\n",
            "Salary = 1250000\n",
            "Glenn Maxwell\n",
            "Salary = 950000\n",
            "Salary After Increment\n",
            "Steve Smith\n",
            "Salary = 1525000\n",
            "Glenn Maxwell\n",
            "Salary = 1159000\n"
          ]
        }
      ]
    },
    {
      "cell_type": "code",
      "source": [
        "class DEV(Emp): # 'DVP' class inherits 'Emp' class \n",
        "  pass\n",
        "\n",
        "e1 = DEV('Steve','Smith',1250000)\n",
        "e2 = DEV('Glenn','Maxwell',950000)\n",
        "print('Previous salary')\n",
        "print(e1.fullname())\n",
        "print(\"Salary =\",e1.sal)\n",
        "print(e2.fullname())\n",
        "print(\"Salary =\",e2.sal)\n",
        "\n",
        "e1.sal_rise() # function call\n",
        "e2.sal_rise() # function call\n",
        "\n",
        "print('Salary After Increment')\n",
        "print(e1.fullname())\n",
        "print(\"Salary =\",e1.sal)\n",
        "e1.sal_rise()\n",
        "print(e2.fullname())\n",
        "print(\"Salary =\",e2.sal)"
      ],
      "metadata": {
        "colab": {
          "base_uri": "https://localhost:8080/"
        },
        "id": "A2QWwFdpF-eB",
        "outputId": "63c796eb-9bb5-4814-ac4b-3578a582f5b3"
      },
      "execution_count": 9,
      "outputs": [
        {
          "output_type": "stream",
          "name": "stdout",
          "text": [
            "Previous salary\n",
            "Steve Smith\n",
            "Salary = 1250000\n",
            "Glenn Maxwell\n",
            "Salary = 950000\n",
            "Salary After Increment\n",
            "Steve Smith\n",
            "Salary = 1525000\n",
            "Glenn Maxwell\n",
            "Salary = 1159000\n"
          ]
        }
      ]
    },
    {
      "cell_type": "code",
      "source": [
        "class DEV(Emp):\n",
        "  inc = 2.08 # everything will be same due to inheritance but new attribute value will be taken\n",
        "\n",
        "e1 = DEV('Steve','Smith',1250000)\n",
        "e2 = DEV('Glenn','Maxwell',950000)\n",
        "print('Previous salary')\n",
        "print(e1.fullname())\n",
        "print(\"Salary =\",e1.sal)\n",
        "print(e2.fullname())\n",
        "print(\"Salary =\",e2.sal)\n",
        "\n",
        "e1.sal_rise() # function call\n",
        "e2.sal_rise() # function call\n",
        "\n",
        "print('Salary After Increment')\n",
        "print(e1.fullname())\n",
        "print(\"Salary =\",e1.sal)\n",
        "e1.sal_rise()\n",
        "print(e2.fullname())\n",
        "print(\"Salary =\",e2.sal)"
      ],
      "metadata": {
        "colab": {
          "base_uri": "https://localhost:8080/"
        },
        "id": "MCj6PxVPHPIT",
        "outputId": "765fb809-7206-41c4-b154-16862543e97d"
      },
      "execution_count": 10,
      "outputs": [
        {
          "output_type": "stream",
          "name": "stdout",
          "text": [
            "Previous salary\n",
            "Steve Smith\n",
            "Salary = 1250000\n",
            "Glenn Maxwell\n",
            "Salary = 950000\n",
            "Salary After Increment\n",
            "Steve Smith\n",
            "Salary = 2600000\n",
            "Glenn Maxwell\n",
            "Salary = 1976000\n"
          ]
        }
      ]
    },
    {
      "cell_type": "code",
      "source": [
        "class DEV(Emp):\n",
        "  inc = 2.31\n",
        "  def __init__(self,fname,lname,sal,PL):\n",
        "    Emp.__init__(self,fname,lname,sal)\n",
        "    self.PL = PL\n",
        "\n",
        "e1 = DEV('Steve','Smith',1250000,'C++')\n",
        "e2 = DEV('Glenn','Maxwell',950000,'Java')\n",
        "print('Previous salary')\n",
        "print(e1.fullname())\n",
        "print(\"Salary =\",e1.sal)\n",
        "print(e2.fullname())\n",
        "print(\"Salary =\",e2.sal)\n",
        "\n",
        "e1.sal_rise() # function call\n",
        "e2.sal_rise() # function call\n",
        "\n",
        "print('Salary After Increment')\n",
        "print(e1.fullname())\n",
        "print(\"Salary =\",e1.sal)\n",
        "e1.sal_rise()\n",
        "print(e2.fullname())\n",
        "print(\"Salary =\",e2.sal)"
      ],
      "metadata": {
        "colab": {
          "base_uri": "https://localhost:8080/"
        },
        "id": "UXvkl7boHwBp",
        "outputId": "ad5387b7-7f44-438e-b649-580ed41a8162"
      },
      "execution_count": 11,
      "outputs": [
        {
          "output_type": "stream",
          "name": "stdout",
          "text": [
            "Previous salary\n",
            "Steve Smith\n",
            "Salary = 1250000\n",
            "Glenn Maxwell\n",
            "Salary = 950000\n",
            "Salary After Increment\n",
            "Steve Smith\n",
            "Salary = 2887500\n",
            "Glenn Maxwell\n",
            "Salary = 2194500\n"
          ]
        }
      ]
    },
    {
      "cell_type": "code",
      "source": [
        "class DEV(Emp):\n",
        "  inc = 2.31\n",
        "  def __init__(self,fname,lname,sal,PL):\n",
        "    super().__init__(fname,lname,sal)  # using \"super class()\"\n",
        "    self.PL = PL\n",
        "\n",
        "e1 = DEV('Steve','Smith',1250000,'C++')\n",
        "e2 = DEV('Glenn','Maxwell',950000,'Java')\n",
        "print('Previous salary')\n",
        "print(e1.fullname())\n",
        "print(\"Salary =\",e1.sal)\n",
        "print(e2.fullname())\n",
        "print(\"Salary =\",e2.sal)\n",
        "\n",
        "e1.sal_rise() # function call\n",
        "e2.sal_rise() # function call\n",
        "\n",
        "print('Salary After Increment')\n",
        "print(e1.fullname())\n",
        "print(\"Salary =\",e1.sal)\n",
        "e1.sal_rise()\n",
        "print(e2.fullname())\n",
        "print(\"Salary =\",e2.sal)"
      ],
      "metadata": {
        "colab": {
          "base_uri": "https://localhost:8080/"
        },
        "id": "r83Bi5CsLAkS",
        "outputId": "45de2d78-a4c2-417d-8730-05be33e3124e"
      },
      "execution_count": 12,
      "outputs": [
        {
          "output_type": "stream",
          "name": "stdout",
          "text": [
            "Previous salary\n",
            "Steve Smith\n",
            "Salary = 1250000\n",
            "Glenn Maxwell\n",
            "Salary = 950000\n",
            "Salary After Increment\n",
            "Steve Smith\n",
            "Salary = 2887500\n",
            "Glenn Maxwell\n",
            "Salary = 2194500\n"
          ]
        }
      ]
    },
    {
      "cell_type": "code",
      "source": [
        "class Managers(Emp):\n",
        "  def __init__(self,fname,lname,sal,Empl = None):\n",
        "    super().__init__(fname,lname,sal)\n",
        "    if Empl is None :\n",
        "      self.Empl = []\n",
        "    else:\n",
        "      self.Empl = Empl\n",
        "  \n",
        "  def Emp_Add(self,emp):\n",
        "    if emp not in self.Empl:\n",
        "      self.Empl.append(emp)\n",
        "\n",
        "  def Emp_Del(self,emp):\n",
        "    if emp in self.Empl:\n",
        "      self.Empl.remove(emp)\n",
        "\n",
        "  def Emp_Show(self):\n",
        "    for emp in self.Empl:\n",
        "      print('---->',emp.fname)\n",
        "\n",
        "e1 = DEV('Steve','Smith',1250000,'C++')\n",
        "e2 = DEV('Glenn','Maxwell',950000,'Java')\n",
        "mngr = Managers('Shane','Watson',469666000,[e1])\n",
        "print(mngr.sal)\n",
        "print(\"List of Employees after adding all employees ..........\")\n",
        "mngr.Emp_Add(e2)\n",
        "mngr.Emp_Show()\n",
        "print(\"List of Employees after deleting any employees ..........\")\n",
        "mngr.Emp_Del(e1)\n",
        "mngr.Emp_Show()"
      ],
      "metadata": {
        "colab": {
          "base_uri": "https://localhost:8080/"
        },
        "id": "e0MgdHxDV99g",
        "outputId": "26218677-97f2-4590-ed59-0bb97b90876a"
      },
      "execution_count": 13,
      "outputs": [
        {
          "output_type": "stream",
          "name": "stdout",
          "text": [
            "469666000\n",
            "List of Employees after adding all employees ..........\n",
            "----> Steve\n",
            "----> Glenn\n",
            "List of Employees after deleting any employees ..........\n",
            "----> Glenn\n"
          ]
        }
      ]
    },
    {
      "cell_type": "code",
      "source": [
        "def ADD_EMP(emp,emplst = []):\n",
        "  emplst.append(emp)\n",
        "  print(emplst)\n",
        "\n",
        "emplst = ['Ramesh','Suresh']\n",
        "ADD_EMP('Brijesh')\n",
        "ADD_EMP('Rajesh')\n",
        "ADD_EMP('Kamlesh')\n",
        "print(emplst)"
      ],
      "metadata": {
        "colab": {
          "base_uri": "https://localhost:8080/"
        },
        "id": "vrCB2gOcZLAO",
        "outputId": "31ad45c3-a4f7-4d5b-f645-036c3c45da8c"
      },
      "execution_count": 14,
      "outputs": [
        {
          "output_type": "stream",
          "name": "stdout",
          "text": [
            "['Brijesh']\n",
            "['Brijesh', 'Rajesh']\n",
            "['Brijesh', 'Rajesh', 'Kamlesh']\n",
            "['Ramesh', 'Suresh']\n"
          ]
        }
      ]
    },
    {
      "cell_type": "code",
      "source": [
        "def ADD_EMP(emp,emplst = None):\n",
        "  if emplst is None : # cheking for None value\n",
        "    emplst = [] # defining an empty list\n",
        "  emplst.append(emp)\n",
        "  print(emplst)\n",
        "\n",
        "emplst = ['Ramesh','Suresh']\n",
        "ADD_EMP('Brijesh')\n",
        "ADD_EMP('Rajesh')\n",
        "ADD_EMP('Kamlesh')\n",
        "print(emplst)"
      ],
      "metadata": {
        "colab": {
          "base_uri": "https://localhost:8080/"
        },
        "id": "9KHQSquMboRY",
        "outputId": "22aa7f0a-af61-48db-f0b3-584fafbc659f"
      },
      "execution_count": 15,
      "outputs": [
        {
          "output_type": "stream",
          "name": "stdout",
          "text": [
            "['Brijesh']\n",
            "['Rajesh']\n",
            "['Kamlesh']\n",
            "['Ramesh', 'Suresh']\n"
          ]
        }
      ]
    },
    {
      "cell_type": "markdown",
      "source": [
        "***repr* and *str* methods.**"
      ],
      "metadata": {
        "id": "R80emwFvcuFE"
      }
    },
    {
      "cell_type": "code",
      "source": [
        "# \"__repr__\" & \"__str__\" both produce textual representation of object.\n",
        "class Emp:\n",
        "  inc = 1.22\n",
        "  def __init__(self,fname,lname,sal):\n",
        "    self.fname = fname\n",
        "    self.lname = lname\n",
        "    self.sal = sal\n",
        "\n",
        "  def fullname(self):\n",
        "    return '{} {}'.format(self.fname,self.lname)\n",
        "\n",
        "  def sal_rise(self):\n",
        "    self.sal = int(self.sal * self.inc)\n",
        "  \n",
        "# if both 'repr' and 'str' are used in a code then 'str' takes precedence.\n",
        "  def __repr__(self): # used for debugging purposes by the developers\n",
        "    return '{} {}'.format(self.fname,self.lname)\n",
        "\n",
        "  def __str__(self): # used generally by users\n",
        "    return '{}---> {}'.format(self.fullname(),self.sal)\n",
        "\n",
        "e1 = Emp('Steve','Smith',1250000)\n",
        "e2 = Emp('Glenn','Maxwell',950000)\n",
        "print(e1)"
      ],
      "metadata": {
        "colab": {
          "base_uri": "https://localhost:8080/"
        },
        "id": "IoTsejL0cG02",
        "outputId": "9c032288-a420-4a33-d0f6-08480efa173a"
      },
      "execution_count": 16,
      "outputs": [
        {
          "output_type": "stream",
          "name": "stdout",
          "text": [
            "Steve Smith---> 1250000\n"
          ]
        }
      ]
    },
    {
      "cell_type": "markdown",
      "source": [
        "### ***Different Methods in OOPS.***"
      ],
      "metadata": {
        "id": "O9tqfeH_gDyd"
      }
    },
    {
      "cell_type": "code",
      "source": [
        "class M_class:\n",
        "  def method(self):\n",
        "    return 'Instance Method Called',self\n",
        "\n",
        "  @classmethod\n",
        "  def cls_method(cls):\n",
        "    return 'Class Method Called',cls\n",
        "\n",
        "  @staticmethod\n",
        "  def st_method():\n",
        "    return 'Static Method Called'\n",
        "\n",
        "O = M_class()\n",
        "print(O.method())\n",
        "print(O.cls_method())\n",
        "print(O.st_method())"
      ],
      "metadata": {
        "colab": {
          "base_uri": "https://localhost:8080/"
        },
        "id": "oB09cSvWfyvd",
        "outputId": "81bcab9d-67a8-48d1-9e63-448e347900fc"
      },
      "execution_count": 17,
      "outputs": [
        {
          "output_type": "stream",
          "name": "stdout",
          "text": [
            "('Instance Method Called', <__main__.M_class object at 0x7fa6a2d60e10>)\n",
            "('Class Method Called', <class '__main__.M_class'>)\n",
            "Static Method Called\n"
          ]
        }
      ]
    },
    {
      "cell_type": "code",
      "source": [
        "class Noodles:\n",
        "  def __init__(self, ingt):\n",
        "    self.ingt = ingt\n",
        "\n",
        "  def __repr__(self):\n",
        "    return f'Noodles({self.ingt})'\n",
        "\n",
        "  @classmethod\n",
        "  def __hakkanoodles__(cls,self):\n",
        "    self.type = type\n",
        "\n",
        "  def noodles_variant(self, types):\n",
        "    return types\n",
        "\n",
        "  @classmethod\n",
        "  def MakeNoodles(cls):\n",
        "    return cls(['Cabbage','Chilli-Sauce','Noodles','Chicken-flakes'])\n",
        "\n",
        "CN = Noodles('Chicken Fried Noodles')\n",
        "VN = Noodles('Veg Fried Noodles')\n",
        "print(CN.noodles_variant('Chicken Fried Noodles'))\n",
        "print(VN.noodles_variant('Veg Fried Noodles'))"
      ],
      "metadata": {
        "colab": {
          "base_uri": "https://localhost:8080/"
        },
        "id": "Ay0sKHaDiA2n",
        "outputId": "32572970-a65b-4a90-be61-12d6d2face4d"
      },
      "execution_count": 18,
      "outputs": [
        {
          "output_type": "stream",
          "name": "stdout",
          "text": [
            "Chicken Fried Noodles\n",
            "Veg Fried Noodles\n"
          ]
        }
      ]
    },
    {
      "cell_type": "code",
      "source": [
        "from math import pi\n",
        "class Donut:\n",
        "  def __init__(self,rad,ing):\n",
        "    self.rad = rad\n",
        "    self.ing = ing\n",
        "\n",
        "  def area(self):\n",
        "    return self.Donut_area(self.rad)\n",
        "\n",
        "  @staticmethod\n",
        "  def Donut_area(r):\n",
        "    return (4/3)*pi*r**3\n",
        "\n",
        "D = Donut(10,['Cream','Chocolate'])\n",
        "print(\"Area of spherical Donut =\",D.area(),\"sq. units\")"
      ],
      "metadata": {
        "colab": {
          "base_uri": "https://localhost:8080/"
        },
        "id": "EEiBK8tYnN4u",
        "outputId": "3012e075-b451-4fbf-d3d0-490c39e973b0"
      },
      "execution_count": 19,
      "outputs": [
        {
          "output_type": "stream",
          "name": "stdout",
          "text": [
            "Area of spherical Donut = 4188.790204786391 sq. units\n"
          ]
        }
      ]
    }
  ]
}