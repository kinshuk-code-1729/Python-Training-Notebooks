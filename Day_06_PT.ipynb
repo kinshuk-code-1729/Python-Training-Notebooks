{
  "nbformat": 4,
  "nbformat_minor": 0,
  "metadata": {
    "colab": {
      "name": "Day_06_PT.ipynb",
      "provenance": [],
      "collapsed_sections": [],
      "authorship_tag": "ABX9TyPWjBmyvzrmbag6qllUFHqC",
      "include_colab_link": true
    },
    "kernelspec": {
      "name": "python3",
      "display_name": "Python 3"
    },
    "language_info": {
      "name": "python"
    },
    "gpuClass": "standard"
  },
  "cells": [
    {
      "cell_type": "markdown",
      "metadata": {
        "id": "view-in-github",
        "colab_type": "text"
      },
      "source": [
        "<a href=\"https://colab.research.google.com/github/kinshuk-code-1729/Python-Training-Notebooks/blob/main/Day_06_PT.ipynb\" target=\"_parent\"><img src=\"https://colab.research.google.com/assets/colab-badge.svg\" alt=\"Open In Colab\"/></a>"
      ]
    },
    {
      "cell_type": "markdown",
      "source": [
        "# **Day 6 Notebook**\n",
        "## ***Sets in Python***"
      ],
      "metadata": {
        "id": "jUYLXpgW1tgr"
      }
    },
    {
      "cell_type": "markdown",
      "source": [
        "*Set is an **unordered** collection of elements which are **unique**. Sets are  mutable.*\n",
        "*   **unordered** means indexing is not possible in sets.\n",
        "*   **unique** means repeated elements are not there in sets."
      ],
      "metadata": {
        "id": "yhl4ALm657MM"
      }
    },
    {
      "cell_type": "code",
      "execution_count": 1,
      "metadata": {
        "id": "2qt7FYEGmbYa",
        "colab": {
          "base_uri": "https://localhost:8080/"
        },
        "outputId": "1cc23ef2-0e64-43f8-ed6b-527af543cb8d"
      },
      "outputs": [
        {
          "output_type": "stream",
          "name": "stdout",
          "text": [
            "Set : {'Dhoni', 'Jadeja', 'Kohli'}\n",
            "<class 'set'>\n"
          ]
        }
      ],
      "source": [
        "player_name = {'Dhoni','Jadeja','Kohli'}\n",
        "print(\"Set :\",player_name)\n",
        "print(type(player_name))"
      ]
    },
    {
      "cell_type": "markdown",
      "source": [
        "***Empty Sets***"
      ],
      "metadata": {
        "id": "ulH-Nr9i7a-H"
      }
    },
    {
      "cell_type": "code",
      "source": [
        "s = {} # this will create an empty dictionary not an empty set\n",
        "print(type(s))"
      ],
      "metadata": {
        "colab": {
          "base_uri": "https://localhost:8080/"
        },
        "id": "np0xqVeL7C18",
        "outputId": "179cfd92-dc70-4fde-9843-81e5fd758edc"
      },
      "execution_count": 2,
      "outputs": [
        {
          "output_type": "stream",
          "name": "stdout",
          "text": [
            "<class 'dict'>\n"
          ]
        }
      ]
    },
    {
      "cell_type": "code",
      "source": [
        "s = set() # we use 'set' keyword to create an empty set\n",
        "print(type(s))"
      ],
      "metadata": {
        "colab": {
          "base_uri": "https://localhost:8080/"
        },
        "id": "HFpJoy-u73P-",
        "outputId": "391e8a00-28bf-4427-c5eb-6a300eb60a91"
      },
      "execution_count": 3,
      "outputs": [
        {
          "output_type": "stream",
          "name": "stdout",
          "text": [
            "<class 'set'>\n"
          ]
        }
      ]
    },
    {
      "cell_type": "markdown",
      "source": [
        "## ***Converting a list into a set.***"
      ],
      "metadata": {
        "id": "KmGwFfkO8JN1"
      }
    },
    {
      "cell_type": "code",
      "source": [
        "player_name = ['Dhoni','Jadeja','Kohli']\n",
        "print(\"List :\",player_name)\n",
        "print(type(player_name))"
      ],
      "metadata": {
        "colab": {
          "base_uri": "https://localhost:8080/"
        },
        "id": "iA0-Ovdx8BJG",
        "outputId": "1c93ca8d-9f1e-448f-b044-398cbbf6055a"
      },
      "execution_count": 4,
      "outputs": [
        {
          "output_type": "stream",
          "name": "stdout",
          "text": [
            "List : ['Dhoni', 'Jadeja', 'Kohli']\n",
            "<class 'list'>\n"
          ]
        }
      ]
    },
    {
      "cell_type": "code",
      "source": [
        "player_name = ['Dhoni','Jadeja','Kohli']\n",
        "st = set(player_name) # making a set from a list\n",
        "print(\"Set is :\",st)\n",
        "print(type(st))"
      ],
      "metadata": {
        "colab": {
          "base_uri": "https://localhost:8080/"
        },
        "id": "jJOHxi0e8rmL",
        "outputId": "92ec87d6-d2f1-444e-fe42-ee884767d873"
      },
      "execution_count": 5,
      "outputs": [
        {
          "output_type": "stream",
          "name": "stdout",
          "text": [
            "Set is : {'Dhoni', 'Jadeja', 'Kohli'}\n",
            "<class 'set'>\n"
          ]
        }
      ]
    },
    {
      "cell_type": "markdown",
      "source": [
        "*Set is unordered so we can't perform indexing here.*"
      ],
      "metadata": {
        "id": "bdGj9wNo-vyr"
      }
    },
    {
      "cell_type": "code",
      "source": [
        "player_name = 'Dhoni','Jadeja','Kohli'\n",
        "st = set(player_name)\n",
        "print(\"Set is :\",st) # prints the set in random order\n",
        "print(type(st))"
      ],
      "metadata": {
        "colab": {
          "base_uri": "https://localhost:8080/"
        },
        "id": "EmSJIf6e9FvI",
        "outputId": "266c1f0a-b0f1-429a-835c-6728276cdd32"
      },
      "execution_count": 6,
      "outputs": [
        {
          "output_type": "stream",
          "name": "stdout",
          "text": [
            "Set is : {'Dhoni', 'Jadeja', 'Kohli'}\n",
            "<class 'set'>\n"
          ]
        }
      ]
    },
    {
      "cell_type": "code",
      "source": [
        "player_name = 'Dhoni','Jadeja','Kohli'\n",
        "set(player_name) # order is being changed from previous output"
      ],
      "metadata": {
        "colab": {
          "base_uri": "https://localhost:8080/"
        },
        "id": "h9k75R1K9tt2",
        "outputId": "8db2f579-7dad-48d0-a904-c3294409181b"
      },
      "execution_count": 7,
      "outputs": [
        {
          "output_type": "execute_result",
          "data": {
            "text/plain": [
              "{'Dhoni', 'Jadeja', 'Kohli'}"
            ]
          },
          "metadata": {},
          "execution_count": 7
        }
      ]
    },
    {
      "cell_type": "markdown",
      "source": [
        "*Unique elements inside a set.*"
      ],
      "metadata": {
        "id": "x3Tl_h7F9cjm"
      }
    },
    {
      "cell_type": "code",
      "source": [
        "player_name = 'Dhoni','Jadeja','Kohli','Jadeja'\n",
        "set(player_name) # prints unique elements and leaves redundant elements"
      ],
      "metadata": {
        "colab": {
          "base_uri": "https://localhost:8080/"
        },
        "id": "_J9tuKgh93Q_",
        "outputId": "efdbe17b-7c08-4cc1-9e99-30b982d1b173"
      },
      "execution_count": 8,
      "outputs": [
        {
          "output_type": "execute_result",
          "data": {
            "text/plain": [
              "{'Dhoni', 'Jadeja', 'Kohli'}"
            ]
          },
          "metadata": {},
          "execution_count": 8
        }
      ]
    },
    {
      "cell_type": "markdown",
      "source": [
        "## *Operations on Sets.*"
      ],
      "metadata": {
        "id": "dsmgN92F_LIS"
      }
    },
    {
      "cell_type": "code",
      "source": [
        "# 1. Length of a set\n",
        "player_name = {'Dhoni','Jadeja','Kohli'}\n",
        "print(\"Length =\",len(player_name)) # 'len()' function gives length of a set."
      ],
      "metadata": {
        "colab": {
          "base_uri": "https://localhost:8080/"
        },
        "id": "wlhXEvA1_HkN",
        "outputId": "ade1987f-394c-4ea4-b8df-25f8ccb1d8a3"
      },
      "execution_count": 9,
      "outputs": [
        {
          "output_type": "stream",
          "name": "stdout",
          "text": [
            "Length = 3\n"
          ]
        }
      ]
    },
    {
      "cell_type": "code",
      "source": [
        "# 2. Membership using 'in' and 'not in'\n",
        "'Jadeja' in player_name # returns boolean value"
      ],
      "metadata": {
        "colab": {
          "base_uri": "https://localhost:8080/"
        },
        "id": "mtgxIghS_zdN",
        "outputId": "ed4468bc-1165-43c3-f794-b1fe271c961d"
      },
      "execution_count": 10,
      "outputs": [
        {
          "output_type": "execute_result",
          "data": {
            "text/plain": [
              "True"
            ]
          },
          "metadata": {},
          "execution_count": 10
        }
      ]
    },
    {
      "cell_type": "code",
      "source": [
        "'Maxwell' in player_name"
      ],
      "metadata": {
        "colab": {
          "base_uri": "https://localhost:8080/"
        },
        "id": "mFVEf_OLAPmq",
        "outputId": "6ab0fd96-4666-4b6a-d33d-ce035ee6a8a0"
      },
      "execution_count": 11,
      "outputs": [
        {
          "output_type": "execute_result",
          "data": {
            "text/plain": [
              "False"
            ]
          },
          "metadata": {},
          "execution_count": 11
        }
      ]
    },
    {
      "cell_type": "code",
      "source": [
        "'Maxwell' not in player_name"
      ],
      "metadata": {
        "colab": {
          "base_uri": "https://localhost:8080/"
        },
        "id": "sCMZgAKmAdNd",
        "outputId": "40bc0deb-557a-47c0-b1ac-8cc218030884"
      },
      "execution_count": 12,
      "outputs": [
        {
          "output_type": "execute_result",
          "data": {
            "text/plain": [
              "True"
            ]
          },
          "metadata": {},
          "execution_count": 12
        }
      ]
    },
    {
      "cell_type": "markdown",
      "source": [
        "## **Set Features :**\n",
        "1. *union*\n",
        "2. *intersection*\n",
        "3. *difference*\n",
        "4. *issubset*\n",
        "5. *issuperset*\n",
        "6. *isdisjoint*\n",
        "7. *Symmetric-Difference*\n"
      ],
      "metadata": {
        "id": "3gmmw4hsAxBU"
      }
    },
    {
      "cell_type": "markdown",
      "source": [
        "#### **1. Union in sets :** *Union* means joining all elements together. "
      ],
      "metadata": {
        "id": "fIWeYxqCKml8"
      }
    },
    {
      "cell_type": "code",
      "source": [
        "# Method-1 : Union using 'pipe(|)' operator.\n",
        "cricketers = {'Dhoni','Jadeja','Kohli'}\n",
        "footballers = {'Messi','Ronaldo','Neymar'}\n",
        "print(\"Union :\",cricketers | footballers) "
      ],
      "metadata": {
        "colab": {
          "base_uri": "https://localhost:8080/"
        },
        "id": "IdeP5lKiAore",
        "outputId": "0165fbd9-e379-415a-93c7-e9eb7ab39e11"
      },
      "execution_count": 13,
      "outputs": [
        {
          "output_type": "stream",
          "name": "stdout",
          "text": [
            "Union : {'Dhoni', 'Ronaldo', 'Jadeja', 'Neymar', 'Kohli', 'Messi'}\n"
          ]
        }
      ]
    },
    {
      "cell_type": "code",
      "source": [
        "# Method-2 : Union using 'union()' method.\n",
        "print(\"Union :\",cricketers.union(footballers))"
      ],
      "metadata": {
        "colab": {
          "base_uri": "https://localhost:8080/"
        },
        "id": "yTcJ7vQbMBbZ",
        "outputId": "605c8165-78a6-40b3-ed46-bc84a8b68e9c"
      },
      "execution_count": 14,
      "outputs": [
        {
          "output_type": "stream",
          "name": "stdout",
          "text": [
            "Union : {'Dhoni', 'Ronaldo', 'Jadeja', 'Neymar', 'Kohli', 'Messi'}\n"
          ]
        }
      ]
    },
    {
      "cell_type": "markdown",
      "source": [
        "**Is there any difference between *union( )* method and *pipe*( | ) operator ??**"
      ],
      "metadata": {
        "id": "BmTUHw8RNCwH"
      }
    },
    {
      "cell_type": "code",
      "source": [
        "print(cricketers | ('Messi','Ronaldo','Neymar'))"
      ],
      "metadata": {
        "colab": {
          "base_uri": "https://localhost:8080/",
          "height": 165
        },
        "id": "hDT0ZYxSM1C4",
        "outputId": "47a21928-b574-4874-f6c9-9941d15addd0"
      },
      "execution_count": 15,
      "outputs": [
        {
          "output_type": "error",
          "ename": "TypeError",
          "evalue": "ignored",
          "traceback": [
            "\u001b[0;31m---------------------------------------------------------------------------\u001b[0m",
            "\u001b[0;31mTypeError\u001b[0m                                 Traceback (most recent call last)",
            "\u001b[0;32m<ipython-input-15-3fd7375427f5>\u001b[0m in \u001b[0;36m<module>\u001b[0;34m()\u001b[0m\n\u001b[0;32m----> 1\u001b[0;31m \u001b[0mprint\u001b[0m\u001b[0;34m(\u001b[0m\u001b[0mcricketers\u001b[0m \u001b[0;34m|\u001b[0m \u001b[0;34m(\u001b[0m\u001b[0;34m'Messi'\u001b[0m\u001b[0;34m,\u001b[0m\u001b[0;34m'Ronaldo'\u001b[0m\u001b[0;34m,\u001b[0m\u001b[0;34m'Neymar'\u001b[0m\u001b[0;34m)\u001b[0m\u001b[0;34m)\u001b[0m\u001b[0;34m\u001b[0m\u001b[0;34m\u001b[0m\u001b[0m\n\u001b[0m",
            "\u001b[0;31mTypeError\u001b[0m: unsupported operand type(s) for |: 'set' and 'tuple'"
          ]
        }
      ]
    },
    {
      "cell_type": "code",
      "source": [
        "# 'union()' converts the passed tuple into a set at the backend. \n",
        "print(cricketers.union(('Messi','Ronaldo','Neymar')))"
      ],
      "metadata": {
        "colab": {
          "base_uri": "https://localhost:8080/"
        },
        "id": "Z5JWaYwgNzkz",
        "outputId": "cf6b6f50-f387-4c8a-cef6-bab9c710a799"
      },
      "execution_count": 16,
      "outputs": [
        {
          "output_type": "stream",
          "name": "stdout",
          "text": [
            "{'Jadeja', 'Kohli', 'Dhoni', 'Ronaldo', 'Neymar', 'Messi'}\n"
          ]
        }
      ]
    },
    {
      "cell_type": "markdown",
      "source": [
        "***union( )*** method can perform union operation on either **two-sets** or **one set** and **one non set element** , whereas **pipe( | )** operator takes **two set elements only** for performing union otherwise throws an error."
      ],
      "metadata": {
        "id": "fCEmg2ThO32j"
      }
    },
    {
      "cell_type": "markdown",
      "source": [
        "####**2. Intersection in sets :** *Intersection* means listing common elements together."
      ],
      "metadata": {
        "id": "DEkz6T1o1dUM"
      }
    },
    {
      "cell_type": "code",
      "source": [
        "# Method-1 : Intersection using 'ampersand(&)' operator.\n",
        "cricketers = {'Dhoni','Jadeja','Kohli'}\n",
        "footballers = {'Messi','Ronaldo','Neymar'}\n",
        "print(\"Intersection :\",cricketers & footballers) # intersection ---> returns common values if present otherwise returns empty set."
      ],
      "metadata": {
        "id": "K-k8_aNNOQ-I",
        "colab": {
          "base_uri": "https://localhost:8080/"
        },
        "outputId": "b3aa11dd-8b9b-44d9-dfdc-cac257ea4e6c"
      },
      "execution_count": 17,
      "outputs": [
        {
          "output_type": "stream",
          "name": "stdout",
          "text": [
            "Intersection : set()\n"
          ]
        }
      ]
    },
    {
      "cell_type": "code",
      "source": [
        "cricketers = {'Dhoni','Jadeja','Kohli'}\n",
        "footballers = {'Messi','Ronaldo','Neymar','Jadeja'}\n",
        "print(\"Intersection :\",cricketers & footballers) "
      ],
      "metadata": {
        "colab": {
          "base_uri": "https://localhost:8080/"
        },
        "id": "cVokla1z2lhC",
        "outputId": "3ff090f6-198d-4ab1-c235-a940d44ed404"
      },
      "execution_count": 18,
      "outputs": [
        {
          "output_type": "stream",
          "name": "stdout",
          "text": [
            "Intersection : {'Jadeja'}\n"
          ]
        }
      ]
    },
    {
      "cell_type": "code",
      "source": [
        "# Method-2 : Intersection using 'intersection()' method.\n",
        "print(\"Intersection :\",cricketers.intersection(footballers))"
      ],
      "metadata": {
        "colab": {
          "base_uri": "https://localhost:8080/"
        },
        "id": "ni4nTROh3LWS",
        "outputId": "1c81ef5f-13cc-432c-dc35-2e9c4a47fc13"
      },
      "execution_count": 19,
      "outputs": [
        {
          "output_type": "stream",
          "name": "stdout",
          "text": [
            "Intersection : {'Jadeja'}\n"
          ]
        }
      ]
    },
    {
      "cell_type": "markdown",
      "source": [
        "***intersection( )*** method can perform intersection operation on either **two-sets** or **one set** and **one non set element** , whereas **ampersand( & )** operator takes **two set elements only** for performing intersection otherwise throws an error."
      ],
      "metadata": {
        "id": "2oK1fVxQ4Nly"
      }
    },
    {
      "cell_type": "markdown",
      "source": [
        "#### **3. Difference in sets :** *Difference* returns the values which are present **in one set** but **not in another set**."
      ],
      "metadata": {
        "id": "VjvU_DSk5HpW"
      }
    },
    {
      "cell_type": "code",
      "source": [
        "# Elements present in \"cricketers\" but not in \"footballers\".\n",
        "cricketers = {'Dhoni','Jadeja','Kohli'}\n",
        "footballers = {'Messi','Ronaldo','Neymar','Jadeja'}\n",
        "print(\"Difference :\",cricketers - footballers) # the elements of set written first will be checked in both sets (order matters)"
      ],
      "metadata": {
        "colab": {
          "base_uri": "https://localhost:8080/"
        },
        "id": "_uOgdfuI30nM",
        "outputId": "8cd082df-33db-4807-fe43-b1d60059444a"
      },
      "execution_count": 20,
      "outputs": [
        {
          "output_type": "stream",
          "name": "stdout",
          "text": [
            "Difference : {'Dhoni', 'Kohli'}\n"
          ]
        }
      ]
    },
    {
      "cell_type": "code",
      "source": [
        "# Elements present in \"footballers\" but not in \"cricketers\".\n",
        "cricketers = {'Dhoni','Jadeja','Kohli'}\n",
        "footballers = {'Messi','Ronaldo','Neymar','Jadeja'}\n",
        "print(\"Difference :\",footballers - cricketers) # the elements of set written first will be checked in both sets (order matters)"
      ],
      "metadata": {
        "colab": {
          "base_uri": "https://localhost:8080/"
        },
        "id": "YKY-P3eZ5l8k",
        "outputId": "1a2eaa4f-5fbf-4aff-cd47-cf3e2fdadf70"
      },
      "execution_count": 21,
      "outputs": [
        {
          "output_type": "stream",
          "name": "stdout",
          "text": [
            "Difference : {'Ronaldo', 'Neymar', 'Messi'}\n"
          ]
        }
      ]
    },
    {
      "cell_type": "markdown",
      "source": [
        "#### **4. issubset( ) in sets :** all elements of one set are also present in another set."
      ],
      "metadata": {
        "id": "zTAwncFl8tK5"
      }
    },
    {
      "cell_type": "code",
      "source": [
        "cricketers = {'Dhoni','Jadeja','Kohli'}\n",
        "footballers = {'Messi','Ronaldo','Neymar','Jadeja'}\n",
        "print(footballers <= cricketers) # \"<=\" operator is used for issubset."
      ],
      "metadata": {
        "colab": {
          "base_uri": "https://localhost:8080/"
        },
        "id": "t9j5wPm47Mx9",
        "outputId": "eeff1a16-7e7d-42de-e102-572bdd1ee4cb"
      },
      "execution_count": 22,
      "outputs": [
        {
          "output_type": "stream",
          "name": "stdout",
          "text": [
            "False\n"
          ]
        }
      ]
    },
    {
      "cell_type": "code",
      "source": [
        "print(cricketers <= footballers) # returns true if set 1 is subset of set 2."
      ],
      "metadata": {
        "colab": {
          "base_uri": "https://localhost:8080/"
        },
        "id": "_DSoXLle9QJk",
        "outputId": "96e6ecd0-22a3-48e2-da3a-8c5cedaf4656"
      },
      "execution_count": 23,
      "outputs": [
        {
          "output_type": "stream",
          "name": "stdout",
          "text": [
            "False\n"
          ]
        }
      ]
    },
    {
      "cell_type": "code",
      "source": [
        "countries_1 = {'India','Sri Lanka'}\n",
        "countries_2 = {'India','Sri Lanka','Nepal','China'}\n",
        "print(countries_1 <= countries_2)"
      ],
      "metadata": {
        "colab": {
          "base_uri": "https://localhost:8080/"
        },
        "id": "YyqneO5c9esQ",
        "outputId": "bd8d32dc-11cc-45e4-a6e9-6416ec670fc8"
      },
      "execution_count": 24,
      "outputs": [
        {
          "output_type": "stream",
          "name": "stdout",
          "text": [
            "True\n"
          ]
        }
      ]
    },
    {
      "cell_type": "code",
      "source": [
        "print(countries_2 <= countries_1)"
      ],
      "metadata": {
        "colab": {
          "base_uri": "https://localhost:8080/"
        },
        "id": "RwiDs_IM-J7j",
        "outputId": "e3be4a20-3b2e-4dca-aafa-a12323475d75"
      },
      "execution_count": 25,
      "outputs": [
        {
          "output_type": "stream",
          "name": "stdout",
          "text": [
            "False\n"
          ]
        }
      ]
    },
    {
      "cell_type": "markdown",
      "source": [
        "#### **5. issuperset( ) in sets :** if a set contains all the elements of another set."
      ],
      "metadata": {
        "id": "PxQudnqN_vvE"
      }
    },
    {
      "cell_type": "code",
      "source": [
        "print(countries_1 >= countries_2) # \">=\" operator is used for issuperset."
      ],
      "metadata": {
        "colab": {
          "base_uri": "https://localhost:8080/"
        },
        "id": "0zYvDgEh-XGr",
        "outputId": "a6a06f4f-cad6-4e62-87f5-01d57362aaf6"
      },
      "execution_count": 26,
      "outputs": [
        {
          "output_type": "stream",
          "name": "stdout",
          "text": [
            "False\n"
          ]
        }
      ]
    },
    {
      "cell_type": "code",
      "source": [
        "print(countries_2 >= countries_1) # returns true if set 1 is superset of set 2."
      ],
      "metadata": {
        "colab": {
          "base_uri": "https://localhost:8080/"
        },
        "id": "sSQb493vAGNd",
        "outputId": "fcb89af7-ab32-46c4-9f67-74162f98efa7"
      },
      "execution_count": 27,
      "outputs": [
        {
          "output_type": "stream",
          "name": "stdout",
          "text": [
            "True\n"
          ]
        }
      ]
    },
    {
      "cell_type": "markdown",
      "source": [
        "#### **6. isdisjoint( ) in sets :** checks whether two sets are having any elements in common or not."
      ],
      "metadata": {
        "id": "nZk8LctmB5mO"
      }
    },
    {
      "cell_type": "code",
      "source": [
        "countries_1 = {'India','Sri Lanka'}\n",
        "countries_2 = {'India','Sri Lanka','Nepal','China'}\n",
        "print(countries_1.isdisjoint(countries_2)) # returns 'False' as common elements present"
      ],
      "metadata": {
        "colab": {
          "base_uri": "https://localhost:8080/"
        },
        "id": "b0FgqZtwB5Nn",
        "outputId": "4159e507-8d0a-494c-91a5-fc35c0124865"
      },
      "execution_count": 28,
      "outputs": [
        {
          "output_type": "stream",
          "name": "stdout",
          "text": [
            "False\n"
          ]
        }
      ]
    },
    {
      "cell_type": "code",
      "source": [
        "print(countries_2.isdisjoint(countries_1)) # returns 'False' as common elements present"
      ],
      "metadata": {
        "colab": {
          "base_uri": "https://localhost:8080/"
        },
        "id": "D-9mGwxPCtn_",
        "outputId": "4e441c03-a1a9-473c-b492-2e3e536717e7"
      },
      "execution_count": 29,
      "outputs": [
        {
          "output_type": "stream",
          "name": "stdout",
          "text": [
            "False\n"
          ]
        }
      ]
    },
    {
      "cell_type": "code",
      "source": [
        "countries_1 = {'India','Sri Lanka'}\n",
        "countries_2 = {'Nepal','China'}\n",
        "print(countries_1.isdisjoint(countries_2)) # returns 'True' as no common element present"
      ],
      "metadata": {
        "colab": {
          "base_uri": "https://localhost:8080/"
        },
        "id": "mm6bFRSSCypK",
        "outputId": "de740110-0e06-4d1b-a2f2-cb9055804904"
      },
      "execution_count": 30,
      "outputs": [
        {
          "output_type": "stream",
          "name": "stdout",
          "text": [
            "True\n"
          ]
        }
      ]
    },
    {
      "cell_type": "code",
      "source": [
        "print(countries_2.isdisjoint(countries_1)) # returns 'True' as no common element present"
      ],
      "metadata": {
        "colab": {
          "base_uri": "https://localhost:8080/"
        },
        "id": "HfD6X8kDDJ-M",
        "outputId": "6eb5aa0e-f9d2-4740-c203-0a72fbef66e0"
      },
      "execution_count": 31,
      "outputs": [
        {
          "output_type": "stream",
          "name": "stdout",
          "text": [
            "True\n"
          ]
        }
      ]
    },
    {
      "cell_type": "markdown",
      "source": [
        "#### **7. Symmetric Difference in sets :** It returns all those values which are present in either first set or second set but not in both the sets."
      ],
      "metadata": {
        "id": "fdmF23ayELow"
      }
    },
    {
      "cell_type": "code",
      "source": [
        "# Generates a set having elements which are not common in either 1st set or 2nd set.\n",
        "cricketers = {'Dhoni','Jadeja','Kohli'}\n",
        "footballers = {'Messi','Ronaldo','Neymar','Jadeja'}\n",
        "print(cricketers.symmetric_difference(footballers)) # it is an opposite of intersection"
      ],
      "metadata": {
        "colab": {
          "base_uri": "https://localhost:8080/"
        },
        "id": "urmYte-fDQ2Z",
        "outputId": "46b75f45-183e-485a-91e5-e8d869b045f1"
      },
      "execution_count": 32,
      "outputs": [
        {
          "output_type": "stream",
          "name": "stdout",
          "text": [
            "{'Kohli', 'Dhoni', 'Ronaldo', 'Neymar', 'Messi'}\n"
          ]
        }
      ]
    },
    {
      "cell_type": "code",
      "source": [
        "print(cricketers ^ footballers) # 'carat(^)' denotes symmetric difference"
      ],
      "metadata": {
        "colab": {
          "base_uri": "https://localhost:8080/"
        },
        "id": "zunk9t_3Ey89",
        "outputId": "21fd32c3-e0a0-4deb-c26a-2f35b9f6a70e"
      },
      "execution_count": 33,
      "outputs": [
        {
          "output_type": "stream",
          "name": "stdout",
          "text": [
            "{'Kohli', 'Dhoni', 'Ronaldo', 'Neymar', 'Messi'}\n"
          ]
        }
      ]
    },
    {
      "cell_type": "markdown",
      "source": [
        "### ***Adding Elements in a set.***\n",
        "We use *add( )* method to accomplish this task . *add( )* takes those elements to be passed as an argument which are of immutable type like strings, tuples,etc."
      ],
      "metadata": {
        "id": "cNfk_Egj0qV1"
      }
    },
    {
      "cell_type": "code",
      "source": [
        "cricketers = {'Dhoni','Jadeja','Kohli'}\n",
        "cricketers.add('Rohit') # 'add()' takes exactly one argument\n",
        "cricketers"
      ],
      "metadata": {
        "colab": {
          "base_uri": "https://localhost:8080/"
        },
        "id": "tqTPQntX06JP",
        "outputId": "b7d7e6b4-abb6-4bc7-d85d-9ca1550f07a4"
      },
      "execution_count": 34,
      "outputs": [
        {
          "output_type": "execute_result",
          "data": {
            "text/plain": [
              "{'Dhoni', 'Jadeja', 'Kohli', 'Rohit'}"
            ]
          },
          "metadata": {},
          "execution_count": 34
        }
      ]
    },
    {
      "cell_type": "code",
      "source": [
        "cricketers.add('Pujara','Shikhar') # 'add()' takes exactly one argument\n",
        "cricketers"
      ],
      "metadata": {
        "colab": {
          "base_uri": "https://localhost:8080/",
          "height": 182
        },
        "id": "suqheSOV1SxH",
        "outputId": "0f1ddc0f-51ec-447c-8968-5e159c34d9b3"
      },
      "execution_count": 35,
      "outputs": [
        {
          "output_type": "error",
          "ename": "TypeError",
          "evalue": "ignored",
          "traceback": [
            "\u001b[0;31m---------------------------------------------------------------------------\u001b[0m",
            "\u001b[0;31mTypeError\u001b[0m                                 Traceback (most recent call last)",
            "\u001b[0;32m<ipython-input-35-64d04fec4aad>\u001b[0m in \u001b[0;36m<module>\u001b[0;34m()\u001b[0m\n\u001b[0;32m----> 1\u001b[0;31m \u001b[0mcricketers\u001b[0m\u001b[0;34m.\u001b[0m\u001b[0madd\u001b[0m\u001b[0;34m(\u001b[0m\u001b[0;34m'Pujara'\u001b[0m\u001b[0;34m,\u001b[0m\u001b[0;34m'Shikhar'\u001b[0m\u001b[0;34m)\u001b[0m \u001b[0;31m# 'add()' takes exactly one argument\u001b[0m\u001b[0;34m\u001b[0m\u001b[0;34m\u001b[0m\u001b[0m\n\u001b[0m\u001b[1;32m      2\u001b[0m \u001b[0mcricketers\u001b[0m\u001b[0;34m\u001b[0m\u001b[0;34m\u001b[0m\u001b[0m\n",
            "\u001b[0;31mTypeError\u001b[0m: add() takes exactly one argument (2 given)"
          ]
        }
      ]
    },
    {
      "cell_type": "code",
      "source": [
        "cricketers.add(['Pujara','Shikhar']) # 'add()' doesn't accepts list as an argument\n",
        "cricketers"
      ],
      "metadata": {
        "colab": {
          "base_uri": "https://localhost:8080/",
          "height": 182
        },
        "id": "PwThh6pI3oXP",
        "outputId": "59c88f15-8e5d-4736-8f6c-f2985f428926"
      },
      "execution_count": 36,
      "outputs": [
        {
          "output_type": "error",
          "ename": "TypeError",
          "evalue": "ignored",
          "traceback": [
            "\u001b[0;31m---------------------------------------------------------------------------\u001b[0m",
            "\u001b[0;31mTypeError\u001b[0m                                 Traceback (most recent call last)",
            "\u001b[0;32m<ipython-input-36-905c3cc6908c>\u001b[0m in \u001b[0;36m<module>\u001b[0;34m()\u001b[0m\n\u001b[0;32m----> 1\u001b[0;31m \u001b[0mcricketers\u001b[0m\u001b[0;34m.\u001b[0m\u001b[0madd\u001b[0m\u001b[0;34m(\u001b[0m\u001b[0;34m[\u001b[0m\u001b[0;34m'Pujara'\u001b[0m\u001b[0;34m,\u001b[0m\u001b[0;34m'Shikhar'\u001b[0m\u001b[0;34m]\u001b[0m\u001b[0;34m)\u001b[0m \u001b[0;31m# 'add()' doesn't accepts list as an argument\u001b[0m\u001b[0;34m\u001b[0m\u001b[0;34m\u001b[0m\u001b[0m\n\u001b[0m\u001b[1;32m      2\u001b[0m \u001b[0mcricketers\u001b[0m\u001b[0;34m\u001b[0m\u001b[0;34m\u001b[0m\u001b[0m\n",
            "\u001b[0;31mTypeError\u001b[0m: unhashable type: 'list'"
          ]
        }
      ]
    },
    {
      "cell_type": "code",
      "source": [
        "cricketers.add({'Pujara','Shikhar'}) # 'add()' doesn't accepts set as an argument\n",
        "cricketers"
      ],
      "metadata": {
        "colab": {
          "base_uri": "https://localhost:8080/",
          "height": 182
        },
        "id": "oFBE6_7U4NTY",
        "outputId": "dab2257a-8d3a-4a48-bd79-3cac013ad0df"
      },
      "execution_count": 37,
      "outputs": [
        {
          "output_type": "error",
          "ename": "TypeError",
          "evalue": "ignored",
          "traceback": [
            "\u001b[0;31m---------------------------------------------------------------------------\u001b[0m",
            "\u001b[0;31mTypeError\u001b[0m                                 Traceback (most recent call last)",
            "\u001b[0;32m<ipython-input-37-fb87d949bfb6>\u001b[0m in \u001b[0;36m<module>\u001b[0;34m()\u001b[0m\n\u001b[0;32m----> 1\u001b[0;31m \u001b[0mcricketers\u001b[0m\u001b[0;34m.\u001b[0m\u001b[0madd\u001b[0m\u001b[0;34m(\u001b[0m\u001b[0;34m{\u001b[0m\u001b[0;34m'Pujara'\u001b[0m\u001b[0;34m,\u001b[0m\u001b[0;34m'Shikhar'\u001b[0m\u001b[0;34m}\u001b[0m\u001b[0;34m)\u001b[0m \u001b[0;31m# 'add()' doesn't accepts set as an argument\u001b[0m\u001b[0;34m\u001b[0m\u001b[0;34m\u001b[0m\u001b[0m\n\u001b[0m\u001b[1;32m      2\u001b[0m \u001b[0mcricketers\u001b[0m\u001b[0;34m\u001b[0m\u001b[0;34m\u001b[0m\u001b[0m\n",
            "\u001b[0;31mTypeError\u001b[0m: unhashable type: 'set'"
          ]
        }
      ]
    },
    {
      "cell_type": "code",
      "source": [
        "# Entire tuple will be passed as a single argument in 'add()' method \n",
        "cricketers.add(('Pujara','Shikhar')) # 'add()' accepts tuple as a valid argument\n",
        "cricketers"
      ],
      "metadata": {
        "colab": {
          "base_uri": "https://localhost:8080/"
        },
        "id": "H8tdv4M64jLc",
        "outputId": "f8d535c0-a37f-4f23-f784-8cde0b029862"
      },
      "execution_count": 38,
      "outputs": [
        {
          "output_type": "execute_result",
          "data": {
            "text/plain": [
              "{('Pujara', 'Shikhar'), 'Dhoni', 'Jadeja', 'Kohli', 'Rohit'}"
            ]
          },
          "metadata": {},
          "execution_count": 38
        }
      ]
    },
    {
      "cell_type": "markdown",
      "source": [
        "### *Removing Elements from a Set.*"
      ],
      "metadata": {
        "id": "RYYgCOsq6nOc"
      }
    },
    {
      "cell_type": "code",
      "source": [
        "# Method 1 : Using 'remove()' function.\n",
        "cric = {'Dhoni', 'Jadeja', 'Kohli', 'Rohit'}\n",
        "cric.remove('Kohli')\n",
        "cric"
      ],
      "metadata": {
        "colab": {
          "base_uri": "https://localhost:8080/"
        },
        "id": "U24gLyFU65if",
        "outputId": "7ca8bf33-b7a4-4e02-fae0-b7b4d128680d"
      },
      "execution_count": 39,
      "outputs": [
        {
          "output_type": "execute_result",
          "data": {
            "text/plain": [
              "{'Dhoni', 'Jadeja', 'Rohit'}"
            ]
          },
          "metadata": {},
          "execution_count": 39
        }
      ]
    },
    {
      "cell_type": "code",
      "source": [
        "# Method 2 : Using 'discard()' function.\n",
        "cric = {'Dhoni', 'Jadeja', 'Kohli', 'Rohit'}\n",
        "cric.discard('Kohli')\n",
        "cric"
      ],
      "metadata": {
        "colab": {
          "base_uri": "https://localhost:8080/"
        },
        "id": "Qe7bQ9wu7ioE",
        "outputId": "710a682c-f325-4f02-a193-b4f249b945f0"
      },
      "execution_count": 40,
      "outputs": [
        {
          "output_type": "execute_result",
          "data": {
            "text/plain": [
              "{'Dhoni', 'Jadeja', 'Rohit'}"
            ]
          },
          "metadata": {},
          "execution_count": 40
        }
      ]
    },
    {
      "cell_type": "code",
      "source": [
        "cric = {'Dhoni', 'Jadeja', 'Rohit'}\n",
        "cric.remove('Kohli') # throws key error as key is not present\n",
        "cric"
      ],
      "metadata": {
        "colab": {
          "base_uri": "https://localhost:8080/",
          "height": 200
        },
        "id": "HisKa03M72vk",
        "outputId": "21fa6bf8-ab47-4bbb-9209-03b687659fa6"
      },
      "execution_count": 41,
      "outputs": [
        {
          "output_type": "error",
          "ename": "KeyError",
          "evalue": "ignored",
          "traceback": [
            "\u001b[0;31m---------------------------------------------------------------------------\u001b[0m",
            "\u001b[0;31mKeyError\u001b[0m                                  Traceback (most recent call last)",
            "\u001b[0;32m<ipython-input-41-8e0bd9ffdff3>\u001b[0m in \u001b[0;36m<module>\u001b[0;34m()\u001b[0m\n\u001b[1;32m      1\u001b[0m \u001b[0mcric\u001b[0m \u001b[0;34m=\u001b[0m \u001b[0;34m{\u001b[0m\u001b[0;34m'Dhoni'\u001b[0m\u001b[0;34m,\u001b[0m \u001b[0;34m'Jadeja'\u001b[0m\u001b[0;34m,\u001b[0m \u001b[0;34m'Rohit'\u001b[0m\u001b[0;34m}\u001b[0m\u001b[0;34m\u001b[0m\u001b[0;34m\u001b[0m\u001b[0m\n\u001b[0;32m----> 2\u001b[0;31m \u001b[0mcric\u001b[0m\u001b[0;34m.\u001b[0m\u001b[0mremove\u001b[0m\u001b[0;34m(\u001b[0m\u001b[0;34m'Kohli'\u001b[0m\u001b[0;34m)\u001b[0m \u001b[0;31m# throws key error as key is not present\u001b[0m\u001b[0;34m\u001b[0m\u001b[0;34m\u001b[0m\u001b[0m\n\u001b[0m\u001b[1;32m      3\u001b[0m \u001b[0mcric\u001b[0m\u001b[0;34m\u001b[0m\u001b[0;34m\u001b[0m\u001b[0m\n",
            "\u001b[0;31mKeyError\u001b[0m: 'Kohli'"
          ]
        }
      ]
    },
    {
      "cell_type": "code",
      "source": [
        "cric = {'Dhoni', 'Jadeja', 'Rohit'}\n",
        "cric.discard('Kohli') # doesn't throws any key error if the element is not present in set\n",
        "cric"
      ],
      "metadata": {
        "colab": {
          "base_uri": "https://localhost:8080/"
        },
        "id": "jc-AmixD8Y2O",
        "outputId": "04a92327-16aa-437c-cff0-ef7f7d13083f"
      },
      "execution_count": 42,
      "outputs": [
        {
          "output_type": "execute_result",
          "data": {
            "text/plain": [
              "{'Dhoni', 'Jadeja', 'Rohit'}"
            ]
          },
          "metadata": {},
          "execution_count": 42
        }
      ]
    },
    {
      "cell_type": "code",
      "source": [
        "# Method 3 : 'pop()'\n",
        "cric.pop() # it will remove element randomly as set doesn't has any specified order\n",
        "cric"
      ],
      "metadata": {
        "colab": {
          "base_uri": "https://localhost:8080/"
        },
        "id": "FTlb8nK-8dXT",
        "outputId": "e04925fb-60bd-4813-dd0a-939f75f35484"
      },
      "execution_count": 43,
      "outputs": [
        {
          "output_type": "execute_result",
          "data": {
            "text/plain": [
              "{'Jadeja', 'Rohit'}"
            ]
          },
          "metadata": {},
          "execution_count": 43
        }
      ]
    },
    {
      "cell_type": "code",
      "source": [
        "cric.pop()\n",
        "cric"
      ],
      "metadata": {
        "colab": {
          "base_uri": "https://localhost:8080/"
        },
        "id": "pBbfXD-q-HXz",
        "outputId": "eab55d4d-d317-4de7-c53a-d554b4d7f59a"
      },
      "execution_count": 44,
      "outputs": [
        {
          "output_type": "execute_result",
          "data": {
            "text/plain": [
              "{'Jadeja'}"
            ]
          },
          "metadata": {},
          "execution_count": 44
        }
      ]
    },
    {
      "cell_type": "code",
      "source": [
        "cric.pop()\n",
        "cric"
      ],
      "metadata": {
        "colab": {
          "base_uri": "https://localhost:8080/"
        },
        "id": "kMGkq8ey-egK",
        "outputId": "42152a71-f61e-4644-deb6-d647708de066"
      },
      "execution_count": 45,
      "outputs": [
        {
          "output_type": "execute_result",
          "data": {
            "text/plain": [
              "set()"
            ]
          },
          "metadata": {},
          "execution_count": 45
        }
      ]
    },
    {
      "cell_type": "code",
      "source": [
        "cric.pop() # throws an error if the set is empty\n",
        "cric"
      ],
      "metadata": {
        "colab": {
          "base_uri": "https://localhost:8080/",
          "height": 182
        },
        "id": "JQvq93F5-m3b",
        "outputId": "6a415139-3e37-4397-d1bf-8880f0149777"
      },
      "execution_count": 46,
      "outputs": [
        {
          "output_type": "error",
          "ename": "KeyError",
          "evalue": "ignored",
          "traceback": [
            "\u001b[0;31m---------------------------------------------------------------------------\u001b[0m",
            "\u001b[0;31mKeyError\u001b[0m                                  Traceback (most recent call last)",
            "\u001b[0;32m<ipython-input-46-2cd6b2a17ac1>\u001b[0m in \u001b[0;36m<module>\u001b[0;34m()\u001b[0m\n\u001b[0;32m----> 1\u001b[0;31m \u001b[0mcric\u001b[0m\u001b[0;34m.\u001b[0m\u001b[0mpop\u001b[0m\u001b[0;34m(\u001b[0m\u001b[0;34m)\u001b[0m \u001b[0;31m# throws an error if the set is empty\u001b[0m\u001b[0;34m\u001b[0m\u001b[0;34m\u001b[0m\u001b[0m\n\u001b[0m\u001b[1;32m      2\u001b[0m \u001b[0mcric\u001b[0m\u001b[0;34m\u001b[0m\u001b[0;34m\u001b[0m\u001b[0m\n",
            "\u001b[0;31mKeyError\u001b[0m: 'pop from an empty set'"
          ]
        }
      ]
    },
    {
      "cell_type": "code",
      "source": [
        "# Method 4 : 'clear()' ---> deletes all the elements of the set\n",
        "cric = {'Dhoni', 'Jadeja', 'Rohit'}\n",
        "cric.clear()\n",
        "cric"
      ],
      "metadata": {
        "colab": {
          "base_uri": "https://localhost:8080/"
        },
        "id": "brldKb8I-qoa",
        "outputId": "f9c13052-4659-4778-af49-3b4f9f6350fa"
      },
      "execution_count": 47,
      "outputs": [
        {
          "output_type": "execute_result",
          "data": {
            "text/plain": [
              "set()"
            ]
          },
          "metadata": {},
          "execution_count": 47
        }
      ]
    },
    {
      "cell_type": "code",
      "source": [
        "cric = {'Dhoni', 'Jadeja', 'Rohit'}\n",
        "cric.pop('Jadeja') # pop() takes no arguments\n",
        "cric"
      ],
      "metadata": {
        "colab": {
          "base_uri": "https://localhost:8080/",
          "height": 200
        },
        "id": "dpfsDZAw_S2z",
        "outputId": "a02e3fa2-1a2a-4337-b260-6f59f3d74c8b"
      },
      "execution_count": 48,
      "outputs": [
        {
          "output_type": "error",
          "ename": "TypeError",
          "evalue": "ignored",
          "traceback": [
            "\u001b[0;31m---------------------------------------------------------------------------\u001b[0m",
            "\u001b[0;31mTypeError\u001b[0m                                 Traceback (most recent call last)",
            "\u001b[0;32m<ipython-input-48-3a83c059b870>\u001b[0m in \u001b[0;36m<module>\u001b[0;34m()\u001b[0m\n\u001b[1;32m      1\u001b[0m \u001b[0mcric\u001b[0m \u001b[0;34m=\u001b[0m \u001b[0;34m{\u001b[0m\u001b[0;34m'Dhoni'\u001b[0m\u001b[0;34m,\u001b[0m \u001b[0;34m'Jadeja'\u001b[0m\u001b[0;34m,\u001b[0m \u001b[0;34m'Rohit'\u001b[0m\u001b[0;34m}\u001b[0m\u001b[0;34m\u001b[0m\u001b[0;34m\u001b[0m\u001b[0m\n\u001b[0;32m----> 2\u001b[0;31m \u001b[0mcric\u001b[0m\u001b[0;34m.\u001b[0m\u001b[0mpop\u001b[0m\u001b[0;34m(\u001b[0m\u001b[0;34m'Jadeja'\u001b[0m\u001b[0;34m)\u001b[0m \u001b[0;31m# pop() takes no arguments\u001b[0m\u001b[0;34m\u001b[0m\u001b[0;34m\u001b[0m\u001b[0m\n\u001b[0m\u001b[1;32m      3\u001b[0m \u001b[0mcric\u001b[0m\u001b[0;34m\u001b[0m\u001b[0;34m\u001b[0m\u001b[0m\n",
            "\u001b[0;31mTypeError\u001b[0m: pop() takes no arguments (1 given)"
          ]
        }
      ]
    },
    {
      "cell_type": "markdown",
      "source": [
        "### *Augmented Assignment Operator.*"
      ],
      "metadata": {
        "id": "1NEWN7F7_6ub"
      }
    },
    {
      "cell_type": "code",
      "source": [
        "# x = x + y\n",
        "# x += y"
      ],
      "metadata": {
        "id": "32kRhZ-y_lXy"
      },
      "execution_count": 49,
      "outputs": []
    },
    {
      "cell_type": "code",
      "source": [
        "# p = p | q\n",
        "# p |= q"
      ],
      "metadata": {
        "id": "FRu2paNNBnpL"
      },
      "execution_count": 50,
      "outputs": []
    },
    {
      "cell_type": "code",
      "source": [
        "# m.union(n) --> m.union_update(n)\n",
        "# m.intersection(n) --> m.intersection_update(n)"
      ],
      "metadata": {
        "id": "nAgxiBHhBrk6"
      },
      "execution_count": 51,
      "outputs": []
    },
    {
      "cell_type": "markdown",
      "source": [
        "### **Frozen Sets** : We're making the sets immutable."
      ],
      "metadata": {
        "id": "aUI55B2XC08x"
      }
    },
    {
      "cell_type": "code",
      "source": [
        "cric = frozenset(['Dhoni', 'Jadeja', 'Rohit'])\n",
        "print(cric)\n",
        "print(type(cric))"
      ],
      "metadata": {
        "colab": {
          "base_uri": "https://localhost:8080/"
        },
        "id": "C65whrD8CGgC",
        "outputId": "f5239697-ffc7-4b4e-d769-6cee6491cf66"
      },
      "execution_count": 52,
      "outputs": [
        {
          "output_type": "stream",
          "name": "stdout",
          "text": [
            "frozenset({'Dhoni', 'Rohit', 'Jadeja'})\n",
            "<class 'frozenset'>\n"
          ]
        }
      ]
    },
    {
      "cell_type": "code",
      "source": [
        "cric.pop()\n",
        "cric"
      ],
      "metadata": {
        "colab": {
          "base_uri": "https://localhost:8080/",
          "height": 182
        },
        "id": "eB0R6YJWEgzF",
        "outputId": "34bafad5-cca3-4271-886a-be5c26fe5c02"
      },
      "execution_count": 53,
      "outputs": [
        {
          "output_type": "error",
          "ename": "AttributeError",
          "evalue": "ignored",
          "traceback": [
            "\u001b[0;31m---------------------------------------------------------------------------\u001b[0m",
            "\u001b[0;31mAttributeError\u001b[0m                            Traceback (most recent call last)",
            "\u001b[0;32m<ipython-input-53-6dc33055de2b>\u001b[0m in \u001b[0;36m<module>\u001b[0;34m()\u001b[0m\n\u001b[0;32m----> 1\u001b[0;31m \u001b[0mcric\u001b[0m\u001b[0;34m.\u001b[0m\u001b[0mpop\u001b[0m\u001b[0;34m(\u001b[0m\u001b[0;34m)\u001b[0m\u001b[0;34m\u001b[0m\u001b[0;34m\u001b[0m\u001b[0m\n\u001b[0m\u001b[1;32m      2\u001b[0m \u001b[0mcric\u001b[0m\u001b[0;34m\u001b[0m\u001b[0;34m\u001b[0m\u001b[0m\n",
            "\u001b[0;31mAttributeError\u001b[0m: 'frozenset' object has no attribute 'pop'"
          ]
        }
      ]
    },
    {
      "cell_type": "code",
      "source": [
        "cric.clear()\n",
        "cric"
      ],
      "metadata": {
        "colab": {
          "base_uri": "https://localhost:8080/",
          "height": 182
        },
        "id": "3DB-3m1jEuPR",
        "outputId": "e84f4710-0110-43f2-be96-9d54baafa20e"
      },
      "execution_count": 54,
      "outputs": [
        {
          "output_type": "error",
          "ename": "AttributeError",
          "evalue": "ignored",
          "traceback": [
            "\u001b[0;31m---------------------------------------------------------------------------\u001b[0m",
            "\u001b[0;31mAttributeError\u001b[0m                            Traceback (most recent call last)",
            "\u001b[0;32m<ipython-input-54-b89a22b4b687>\u001b[0m in \u001b[0;36m<module>\u001b[0;34m()\u001b[0m\n\u001b[0;32m----> 1\u001b[0;31m \u001b[0mcric\u001b[0m\u001b[0;34m.\u001b[0m\u001b[0mclear\u001b[0m\u001b[0;34m(\u001b[0m\u001b[0;34m)\u001b[0m\u001b[0;34m\u001b[0m\u001b[0;34m\u001b[0m\u001b[0m\n\u001b[0m\u001b[1;32m      2\u001b[0m \u001b[0mcric\u001b[0m\u001b[0;34m\u001b[0m\u001b[0;34m\u001b[0m\u001b[0m\n",
            "\u001b[0;31mAttributeError\u001b[0m: 'frozenset' object has no attribute 'clear'"
          ]
        }
      ]
    },
    {
      "cell_type": "code",
      "source": [
        "cric.add('Murali')\n",
        "cric"
      ],
      "metadata": {
        "colab": {
          "base_uri": "https://localhost:8080/",
          "height": 182
        },
        "id": "G_JKhL7OE1tZ",
        "outputId": "31491654-56e2-4ec4-f66d-3c6168317531"
      },
      "execution_count": 55,
      "outputs": [
        {
          "output_type": "error",
          "ename": "AttributeError",
          "evalue": "ignored",
          "traceback": [
            "\u001b[0;31m---------------------------------------------------------------------------\u001b[0m",
            "\u001b[0;31mAttributeError\u001b[0m                            Traceback (most recent call last)",
            "\u001b[0;32m<ipython-input-55-331e6d25cf09>\u001b[0m in \u001b[0;36m<module>\u001b[0;34m()\u001b[0m\n\u001b[0;32m----> 1\u001b[0;31m \u001b[0mcric\u001b[0m\u001b[0;34m.\u001b[0m\u001b[0madd\u001b[0m\u001b[0;34m(\u001b[0m\u001b[0;34m'Murali'\u001b[0m\u001b[0;34m)\u001b[0m\u001b[0;34m\u001b[0m\u001b[0;34m\u001b[0m\u001b[0m\n\u001b[0m\u001b[1;32m      2\u001b[0m \u001b[0mcric\u001b[0m\u001b[0;34m\u001b[0m\u001b[0;34m\u001b[0m\u001b[0m\n",
            "\u001b[0;31mAttributeError\u001b[0m: 'frozenset' object has no attribute 'add'"
          ]
        }
      ]
    },
    {
      "cell_type": "code",
      "source": [
        "cric = frozenset(['Dhoni', 'Jadeja', 'Rohit'])\n",
        "print(cric) # frozenset at some location\n",
        "t20_cric = {'Bravo','Hetmeyer','Pollard'}\n",
        "cric |= t20_cric # cric.union(t20_cric) --> cric.union_update(t20_cric)\n",
        "print(cric) # after union new set at new location"
      ],
      "metadata": {
        "colab": {
          "base_uri": "https://localhost:8080/"
        },
        "id": "HsUTYpZzE9uh",
        "outputId": "c023b09a-4883-4476-fd03-aadc76c7b936"
      },
      "execution_count": 56,
      "outputs": [
        {
          "output_type": "stream",
          "name": "stdout",
          "text": [
            "frozenset({'Dhoni', 'Rohit', 'Jadeja'})\n",
            "frozenset({'Dhoni', 'Pollard', 'Jadeja', 'Rohit', 'Bravo', 'Hetmeyer'})\n"
          ]
        }
      ]
    },
    {
      "cell_type": "code",
      "source": [
        "cric = frozenset(['Dhoni', 'Jadeja', 'Rohit'])\n",
        "print(id(cric)) # address of set \"cric\"\n",
        "t20_cric = {'Bravo','Hetmeyer','Pollard'}\n",
        "cric |= t20_cric # cric.union(t20_cric) --> cric.union_update(t20_cric)\n",
        "print(id(cric)) # different address of \"cric\" ---> new memory location"
      ],
      "metadata": {
        "colab": {
          "base_uri": "https://localhost:8080/"
        },
        "id": "i6HyziIxGw0J",
        "outputId": "f9facd30-daa7-43d6-9812-bd3a9f1632b8"
      },
      "execution_count": 57,
      "outputs": [
        {
          "output_type": "stream",
          "name": "stdout",
          "text": [
            "140659147266480\n",
            "140659147267440\n"
          ]
        }
      ]
    },
    {
      "cell_type": "markdown",
      "source": [
        "### ***Set Comprehension***"
      ],
      "metadata": {
        "id": "O4nwbfPCIEBZ"
      }
    },
    {
      "cell_type": "code",
      "source": [
        "lst = [8,6,1,4,6,4,7,9,3,8]\n",
        "myset = {k for k in lst}\n",
        "print(myset) # redundant elements get removed and unique elements get stored in set"
      ],
      "metadata": {
        "colab": {
          "base_uri": "https://localhost:8080/"
        },
        "id": "GQIQ8lbeHF7z",
        "outputId": "4f8a0d8b-ff03-4a63-eb76-ea1c372f004c"
      },
      "execution_count": 58,
      "outputs": [
        {
          "output_type": "stream",
          "name": "stdout",
          "text": [
            "{1, 3, 4, 6, 7, 8, 9}\n"
          ]
        }
      ]
    }
  ]
}