{
  "cells": [
    {
      "cell_type": "markdown",
      "metadata": {
        "id": "view-in-github",
        "colab_type": "text"
      },
      "source": [
        "<a href=\"https://colab.research.google.com/github/kinshuk-code-1729/Python-Training-Notebooks/blob/main/Day_09_PT01_Programs.ipynb\" target=\"_parent\"><img src=\"https://colab.research.google.com/assets/colab-badge.svg\" alt=\"Open In Colab\"/></a>"
      ]
    },
    {
      "cell_type": "markdown",
      "source": [
        "# ***Day 9 Notebook 1***"
      ],
      "metadata": {
        "id": "Hv11yBb_faQg"
      },
      "id": "Hv11yBb_faQg"
    },
    {
      "cell_type": "markdown",
      "source": [
        "## Some Frequently asked programs in Python Interviews / written exams."
      ],
      "metadata": {
        "id": "9pGEq0k2frXX"
      },
      "id": "9pGEq0k2frXX"
    },
    {
      "cell_type": "markdown",
      "id": "965ccf94",
      "metadata": {
        "id": "965ccf94"
      },
      "source": [
        "**1. Find the largest element from a list without using max( ) function.**"
      ]
    },
    {
      "cell_type": "code",
      "execution_count": 1,
      "id": "d8c1e921",
      "metadata": {
        "colab": {
          "base_uri": "https://localhost:8080/"
        },
        "id": "d8c1e921",
        "outputId": "17371b7d-1032-4718-c642-f3620991823e"
      },
      "outputs": [
        {
          "output_type": "stream",
          "name": "stdout",
          "text": [
            "Largest Value: 98\n"
          ]
        }
      ],
      "source": [
        "lst = [65,78,31,98,84,71,26]\n",
        "max1 = lst[0]\n",
        "for j in range(1,len(lst)): # '0' is assigned & so we traverse from '1' upto  length of list\n",
        "    if lst[j] > max1 :\n",
        "        max1 = lst[j]\n",
        "print(\"Largest Value:\",max1)"
      ]
    },
    {
      "cell_type": "markdown",
      "id": "46861f02",
      "metadata": {
        "id": "46861f02"
      },
      "source": [
        "**2. Find the index position of any given value in the list without using index() function.**"
      ]
    },
    {
      "cell_type": "code",
      "execution_count": 2,
      "id": "b26c3937",
      "metadata": {
        "colab": {
          "base_uri": "https://localhost:8080/"
        },
        "id": "b26c3937",
        "outputId": "edd8e55e-8acd-40fa-e801-5921cf3ca949"
      },
      "outputs": [
        {
          "output_type": "stream",
          "name": "stdout",
          "text": [
            "Enter search element :94\n",
            "Element present at index 4\n"
          ]
        }
      ],
      "source": [
        "mylst = [66,74,36,18,94,14,81]\n",
        "find_ind = int(input(\"Enter search element :\"))\n",
        "ind_found = False # Initially flag is set to 'False' \n",
        "for k in range(len(mylst)):\n",
        "    ind_found = mylst[k] == find_ind\n",
        "    if ind_found :\n",
        "        break\n",
        "        \n",
        "if ind_found:\n",
        "    print('Element present at index',k)\n",
        "else:\n",
        "    print('Element not found in list!!!!')"
      ]
    },
    {
      "cell_type": "markdown",
      "id": "9b855166",
      "metadata": {
        "id": "9b855166"
      },
      "source": [
        "**3. Find the middle value of a list.**"
      ]
    },
    {
      "cell_type": "code",
      "execution_count": 3,
      "id": "3cceb6f3",
      "metadata": {
        "colab": {
          "base_uri": "https://localhost:8080/"
        },
        "id": "3cceb6f3",
        "outputId": "9a32136b-11ee-49b7-c4be-06cfaa3fd9da"
      },
      "outputs": [
        {
          "output_type": "stream",
          "name": "stdout",
          "text": [
            "Middle elements : 94 , 18\n"
          ]
        }
      ],
      "source": [
        "# Case of even number of elements in the list.\n",
        "mylst = [66,74,36,18,94,14,81,45]\n",
        "if len(mylst)%2 == 0:\n",
        "    j = len(mylst)//2\n",
        "    k = len(mylst)//2 - 1\n",
        "    print(\"Middle elements :\",mylst[j],\",\",mylst[k])\n",
        "else:\n",
        "    j = len(mylst)//2\n",
        "    print(\"Middle element :\",mylst[j])"
      ]
    },
    {
      "cell_type": "code",
      "execution_count": 4,
      "id": "50fd0d4f",
      "metadata": {
        "colab": {
          "base_uri": "https://localhost:8080/"
        },
        "id": "50fd0d4f",
        "outputId": "8ef65f20-24e5-441c-849f-7ca170a14823"
      },
      "outputs": [
        {
          "output_type": "stream",
          "name": "stdout",
          "text": [
            "Middle element : 18\n"
          ]
        }
      ],
      "source": [
        "# Case of odd number of elements in the list.\n",
        "mylst = [66,74,36,18,94,14,45]\n",
        "if len(mylst)%2 == 0:\n",
        "    j = len(mylst)//2\n",
        "    k = len(mylst)//2 - 1\n",
        "    print(\"Middle elements :\",mylst[j],\",\",mylst[k])\n",
        "else:\n",
        "    j = len(mylst)//2\n",
        "    print(\"Middle element :\",mylst[j])"
      ]
    },
    {
      "cell_type": "markdown",
      "id": "9ff203cd",
      "metadata": {
        "id": "9ff203cd"
      },
      "source": [
        "**4. Program to find the first repeated element/word from a given string.**"
      ]
    },
    {
      "cell_type": "code",
      "execution_count": 5,
      "id": "4b0b9b3f",
      "metadata": {
        "colab": {
          "base_uri": "https://localhost:8080/"
        },
        "id": "4b0b9b3f",
        "outputId": "55d229f1-bce6-409f-ba04-4a52e3a8ed93"
      },
      "outputs": [
        {
          "output_type": "stream",
          "name": "stdout",
          "text": [
            "Enter any string :chandan\n",
            "First repeated element : a\n"
          ]
        }
      ],
      "source": [
        "def repeat(n):\n",
        "    c = {}\n",
        "    for k in n: # if first element is in string 'n' , loops is used because element already present\n",
        "        if k in c: # if it is also in 'c'\n",
        "            return k\n",
        "        c[k] = 1\n",
        "    return None\n",
        "\n",
        "mystr = input(\"Enter any string :\")\n",
        "print(\"First repeated element :\",repeat(mystr))"
      ]
    },
    {
      "cell_type": "markdown",
      "id": "d57970e7",
      "metadata": {
        "id": "d57970e7"
      },
      "source": [
        "**5. Given an array of string words , return the words that can be typed using letters of the alphabet on only one row of *American Keyboard*.**\n",
        "\n",
        "***In the American Keyboard :***\n",
        "- 1st row consists of characters : \" *qwertyuiop* \"\n",
        "- 2nd row consists of characters : \" *asdfghjkl* \"\n",
        "- 3rd row consists of characters : \" *zxcvbnm* \""
      ]
    },
    {
      "cell_type": "code",
      "execution_count": 6,
      "id": "77589b43",
      "metadata": {
        "colab": {
          "base_uri": "https://localhost:8080/"
        },
        "id": "77589b43",
        "outputId": "194ab5e4-5f80-484c-d873-ecfe82d90376"
      },
      "outputs": [
        {
          "output_type": "stream",
          "name": "stdout",
          "text": [
            "['asd', 'hjkl', 'qwerty']\n"
          ]
        }
      ],
      "source": [
        "def findwords(lst):\n",
        "    qwer = set(\"qwertyuiop\")\n",
        "    asdf = set(\"asdfghjkl\")\n",
        "    zxcv = set(\"zxcvbnm\")\n",
        "    rlst = []\n",
        "    \n",
        "    for j in lst:\n",
        "        w = set(j.lower())\n",
        "        if w <= qwer or w <= asdf or w <= zxcv:\n",
        "            rlst.append(j)\n",
        "    return rlst\n",
        "\n",
        "mylst = ['asd','fog','hjkl','qwerty']\n",
        "print(findwords(mylst))"
      ]
    },
    {
      "cell_type": "markdown",
      "id": "905b4114",
      "metadata": {
        "id": "905b4114"
      },
      "source": [
        "**6. Program to convert integers into Roman Numbers.**"
      ]
    },
    {
      "cell_type": "code",
      "execution_count": 7,
      "id": "c2187f02",
      "metadata": {
        "colab": {
          "base_uri": "https://localhost:8080/"
        },
        "id": "c2187f02",
        "outputId": "43001098-7e0e-42f8-b63d-97badd9417de"
      },
      "outputs": [
        {
          "output_type": "stream",
          "name": "stdout",
          "text": [
            "Enter an integer :605\n",
            "Roman value of 605 is DCV\n"
          ]
        }
      ],
      "source": [
        "charset = [(1000,'M'),(900,'CM'),(500,'D'),(400,'CD'),\n",
        "           (100,'C'),(90,'XC'),(50,'L'),(40,'XL'),(10,'X'),\n",
        "           (9,'IX'),(5,'V'),(4,'IV'),(1,'I')]\n",
        "def to_roman(n):\n",
        "    rn = ''\n",
        "    while n > 0:\n",
        "        for k , m in charset:\n",
        "            while n >= k:\n",
        "                rn += m\n",
        "                n -= k\n",
        "        return rn\n",
        "\n",
        "num = int(input(\"Enter an integer :\"))\n",
        "print(\"Roman value of\",num,\"is\",to_roman(num))"
      ]
    },
    {
      "cell_type": "markdown",
      "id": "25ac3a3a",
      "metadata": {
        "id": "25ac3a3a"
      },
      "source": [
        "**7. Program to find LCM of 'n' numbers.**"
      ]
    },
    {
      "cell_type": "code",
      "execution_count": 8,
      "id": "c22f011d",
      "metadata": {
        "colab": {
          "base_uri": "https://localhost:8080/"
        },
        "id": "c22f011d",
        "outputId": "0d2e2f77-1bfd-4b14-ebc6-b6bfbbf5b70e"
      },
      "outputs": [
        {
          "output_type": "stream",
          "name": "stdout",
          "text": [
            "LCM is : 2520\n"
          ]
        }
      ],
      "source": [
        "def LCM_n(x,y):\n",
        "    if x > y:\n",
        "        lrgr = x\n",
        "    else :\n",
        "        lrgr = y\n",
        "        \n",
        "    while True :\n",
        "        if(lrgr % x == 0) and (lrgr % y == 0):\n",
        "            lcm = lrgr\n",
        "            break\n",
        "        lrgr += 1\n",
        "    return lcm\n",
        "\n",
        "lst = [5,7,8,3,9]\n",
        "p = lst[0]\n",
        "q = lst[1]\n",
        "LCM = LCM_n(p,q)\n",
        "for j in range(2,len(lst)):\n",
        "    LCM = LCM_n(LCM,lst[j])\n",
        "print(\"LCM is :\",LCM)"
      ]
    }
  ],
  "metadata": {
    "kernelspec": {
      "display_name": "Python 3 (ipykernel)",
      "language": "python",
      "name": "python3"
    },
    "language_info": {
      "codemirror_mode": {
        "name": "ipython",
        "version": 3
      },
      "file_extension": ".py",
      "mimetype": "text/x-python",
      "name": "python",
      "nbconvert_exporter": "python",
      "pygments_lexer": "ipython3",
      "version": "3.10.0"
    },
    "colab": {
      "name": "Day_09_PT01-Programs.ipynb",
      "provenance": [],
      "collapsed_sections": [],
      "include_colab_link": true
    }
  },
  "nbformat": 4,
  "nbformat_minor": 5
}