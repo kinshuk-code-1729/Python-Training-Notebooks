{
  "cells": [
    {
      "cell_type": "markdown",
      "metadata": {
        "id": "view-in-github",
        "colab_type": "text"
      },
      "source": [
        "<a href=\"https://colab.research.google.com/github/kinshuk-code-1729/Python-Training-Notebooks/blob/main/Day_08_PT03_Anonymous_Functions.ipynb\" target=\"_parent\"><img src=\"https://colab.research.google.com/assets/colab-badge.svg\" alt=\"Open In Colab\"/></a>"
      ]
    },
    {
      "cell_type": "markdown",
      "id": "2afc099b",
      "metadata": {
        "id": "2afc099b"
      },
      "source": [
        "# **Day 4 Notebook 3**\n",
        "## ***Anonymous Functions*** \n",
        "### Also called *lambda* functions.\n",
        "#### we use *lambda* keyword to declare this function rather than traditional *def* keyword."
      ]
    },
    {
      "cell_type": "code",
      "execution_count": 1,
      "id": "72128840",
      "metadata": {
        "colab": {
          "base_uri": "https://localhost:8080/"
        },
        "id": "72128840",
        "outputId": "2661003f-2250-42e9-a6f0-3aadaf878124"
      },
      "outputs": [
        {
          "output_type": "execute_result",
          "data": {
            "text/plain": [
              "27"
            ]
          },
          "metadata": {},
          "execution_count": 1
        }
      ],
      "source": [
        "def cube(x):\n",
        "    return x**3\n",
        "\n",
        "cube(3)"
      ]
    },
    {
      "cell_type": "code",
      "execution_count": 2,
      "id": "b2fa7f64",
      "metadata": {
        "colab": {
          "base_uri": "https://localhost:8080/"
        },
        "id": "b2fa7f64",
        "outputId": "8dc06ca9-87dc-475d-9845-b66cb4775eae"
      },
      "outputs": [
        {
          "output_type": "stream",
          "name": "stdout",
          "text": [
            "27\n"
          ]
        }
      ],
      "source": [
        "k = lambda x:x**3\n",
        "print(k(3))"
      ]
    },
    {
      "cell_type": "code",
      "execution_count": 3,
      "id": "b92e708b",
      "metadata": {
        "colab": {
          "base_uri": "https://localhost:8080/"
        },
        "id": "b92e708b",
        "outputId": "0eba3204-85f8-4f29-856f-bdbde5363608"
      },
      "outputs": [
        {
          "output_type": "execute_result",
          "data": {
            "text/plain": [
              "12"
            ]
          },
          "metadata": {},
          "execution_count": 3
        }
      ],
      "source": [
        "def max_num(p,q):\n",
        "    if p > q:\n",
        "        return p\n",
        "    else :\n",
        "        return q\n",
        "\n",
        "max_num(7,12)"
      ]
    },
    {
      "cell_type": "code",
      "execution_count": 4,
      "id": "5c2d52fc",
      "metadata": {
        "colab": {
          "base_uri": "https://localhost:8080/"
        },
        "id": "5c2d52fc",
        "outputId": "32a20410-4fcb-40b6-e0df-cbe3c35ca1ce"
      },
      "outputs": [
        {
          "output_type": "stream",
          "name": "stdout",
          "text": [
            "14\n"
          ]
        }
      ],
      "source": [
        "Max = lambda p,q :p if p > q else q\n",
        "print(Max(14,6))"
      ]
    },
    {
      "cell_type": "markdown",
      "id": "b9c3e3bc",
      "metadata": {
        "id": "b9c3e3bc"
      },
      "source": [
        "**Three different methods to use lambda function:**"
      ]
    },
    {
      "cell_type": "code",
      "execution_count": 5,
      "id": "ea2f8859",
      "metadata": {
        "colab": {
          "base_uri": "https://localhost:8080/"
        },
        "id": "ea2f8859",
        "outputId": "4bfd7dbe-db85-443c-cd19-13bd81af9fad"
      },
      "outputs": [
        {
          "output_type": "stream",
          "name": "stdout",
          "text": [
            "[125, 343, 27, 8]\n"
          ]
        }
      ],
      "source": [
        "def cube(y):\n",
        "    z = []\n",
        "    for j in y:\n",
        "        z.append(j*j*j)\n",
        "    return z\n",
        "\n",
        "lst = [5,7,3,2]\n",
        "print(cube(lst))"
      ]
    },
    {
      "cell_type": "code",
      "execution_count": 6,
      "id": "a2c1c5ef",
      "metadata": {
        "colab": {
          "base_uri": "https://localhost:8080/"
        },
        "id": "a2c1c5ef",
        "outputId": "992368d2-30eb-4bc4-a6d6-040beeb8a16b"
      },
      "outputs": [
        {
          "output_type": "execute_result",
          "data": {
            "text/plain": [
              "<map at 0x7f6f1eae9410>"
            ]
          },
          "metadata": {},
          "execution_count": 6
        }
      ],
      "source": [
        "lst = [5,7,3,2]\n",
        "(map(lambda j:j**3 , lst))"
      ]
    },
    {
      "cell_type": "code",
      "execution_count": 7,
      "id": "562e8dde",
      "metadata": {
        "colab": {
          "base_uri": "https://localhost:8080/"
        },
        "id": "562e8dde",
        "outputId": "3d920fd3-4811-4097-a3a4-f8314d47ee64"
      },
      "outputs": [
        {
          "output_type": "stream",
          "name": "stdout",
          "text": [
            "[125, 343, 27, 8]\n"
          ]
        }
      ],
      "source": [
        "lst = [5,7,3,2]\n",
        "print(list((map(lambda j:j**3 , lst))))"
      ]
    },
    {
      "cell_type": "code",
      "execution_count": 8,
      "id": "49264a46",
      "metadata": {
        "colab": {
          "base_uri": "https://localhost:8080/",
          "height": 321
        },
        "id": "49264a46",
        "outputId": "9b1f70a9-8adc-4364-fa63-c5df466c2af7"
      },
      "outputs": [
        {
          "output_type": "error",
          "ename": "TypeError",
          "evalue": "ignored",
          "traceback": [
            "\u001b[0;31m---------------------------------------------------------------------------\u001b[0m",
            "\u001b[0;31mTypeError\u001b[0m                                 Traceback (most recent call last)",
            "\u001b[0;32m<ipython-input-8-06ad4235a28a>\u001b[0m in \u001b[0;36m<module>\u001b[0;34m()\u001b[0m\n\u001b[1;32m      3\u001b[0m \u001b[0;34m\u001b[0m\u001b[0m\n\u001b[1;32m      4\u001b[0m \u001b[0mlst\u001b[0m \u001b[0;34m=\u001b[0m \u001b[0;34m[\u001b[0m\u001b[0;36m5\u001b[0m\u001b[0;34m,\u001b[0m\u001b[0;36m7\u001b[0m\u001b[0;34m,\u001b[0m\u001b[0;36m3\u001b[0m\u001b[0;34m,\u001b[0m\u001b[0;36m2\u001b[0m\u001b[0;34m]\u001b[0m\u001b[0;34m\u001b[0m\u001b[0;34m\u001b[0m\u001b[0m\n\u001b[0;32m----> 5\u001b[0;31m \u001b[0mcube\u001b[0m\u001b[0;34m(\u001b[0m\u001b[0mlst\u001b[0m\u001b[0;34m)\u001b[0m\u001b[0;34m\u001b[0m\u001b[0;34m\u001b[0m\u001b[0m\n\u001b[0m",
            "\u001b[0;32m<ipython-input-8-06ad4235a28a>\u001b[0m in \u001b[0;36mcube\u001b[0;34m(x)\u001b[0m\n\u001b[1;32m      1\u001b[0m \u001b[0;32mdef\u001b[0m \u001b[0mcube\u001b[0m\u001b[0;34m(\u001b[0m\u001b[0mx\u001b[0m\u001b[0;34m)\u001b[0m\u001b[0;34m:\u001b[0m\u001b[0;34m\u001b[0m\u001b[0;34m\u001b[0m\u001b[0m\n\u001b[0;32m----> 2\u001b[0;31m     \u001b[0;32mreturn\u001b[0m \u001b[0mx\u001b[0m\u001b[0;34m**\u001b[0m\u001b[0;36m3\u001b[0m\u001b[0;34m\u001b[0m\u001b[0;34m\u001b[0m\u001b[0m\n\u001b[0m\u001b[1;32m      3\u001b[0m \u001b[0;34m\u001b[0m\u001b[0m\n\u001b[1;32m      4\u001b[0m \u001b[0mlst\u001b[0m \u001b[0;34m=\u001b[0m \u001b[0;34m[\u001b[0m\u001b[0;36m5\u001b[0m\u001b[0;34m,\u001b[0m\u001b[0;36m7\u001b[0m\u001b[0;34m,\u001b[0m\u001b[0;36m3\u001b[0m\u001b[0;34m,\u001b[0m\u001b[0;36m2\u001b[0m\u001b[0;34m]\u001b[0m\u001b[0;34m\u001b[0m\u001b[0;34m\u001b[0m\u001b[0m\n\u001b[1;32m      5\u001b[0m \u001b[0mcube\u001b[0m\u001b[0;34m(\u001b[0m\u001b[0mlst\u001b[0m\u001b[0;34m)\u001b[0m\u001b[0;34m\u001b[0m\u001b[0;34m\u001b[0m\u001b[0m\n",
            "\u001b[0;31mTypeError\u001b[0m: unsupported operand type(s) for ** or pow(): 'list' and 'int'"
          ]
        }
      ],
      "source": [
        "def cube(x):\n",
        "    return x**3\n",
        "\n",
        "lst = [5,7,3,2]\n",
        "cube(lst)"
      ]
    },
    {
      "cell_type": "code",
      "execution_count": 9,
      "id": "6802bdf8",
      "metadata": {
        "colab": {
          "base_uri": "https://localhost:8080/"
        },
        "id": "6802bdf8",
        "outputId": "7abd2c72-1a56-4885-b0f8-5d23e8a1df89"
      },
      "outputs": [
        {
          "output_type": "execute_result",
          "data": {
            "text/plain": [
              "[5, 7, 3, 2, 5, 7, 3, 2, 5, 7, 3, 2]"
            ]
          },
          "metadata": {},
          "execution_count": 9
        }
      ],
      "source": [
        "def cube(x):\n",
        "    return x*3\n",
        "\n",
        "lst = [5,7,3,2]\n",
        "cube(lst)"
      ]
    },
    {
      "cell_type": "markdown",
      "id": "4b85efd8",
      "metadata": {
        "id": "4b85efd8"
      },
      "source": [
        "### My Own *map* function."
      ]
    },
    {
      "cell_type": "code",
      "execution_count": 10,
      "id": "f1406d7e",
      "metadata": {
        "colab": {
          "base_uri": "https://localhost:8080/"
        },
        "id": "f1406d7e",
        "outputId": "e2b16fe7-1025-4cc9-b284-1b006018144e"
      },
      "outputs": [
        {
          "output_type": "stream",
          "name": "stdout",
          "text": [
            "[125, 343, 27, 8]\n"
          ]
        }
      ],
      "source": [
        "def cube(x):\n",
        "    return x**3\n",
        "\n",
        "def mymap(myfunc,largs):\n",
        "    r = []\n",
        "    for j in largs:\n",
        "        r.append(myfunc(j))\n",
        "    return r\n",
        "\n",
        "lst = [5,7,3,2]\n",
        "cb = mymap(cube,lst)\n",
        "print(cb)"
      ]
    },
    {
      "cell_type": "code",
      "execution_count": 11,
      "id": "f9347b80",
      "metadata": {
        "colab": {
          "base_uri": "https://localhost:8080/"
        },
        "id": "f9347b80",
        "outputId": "5c0b90d5-5da9-4855-bed1-4b8ae9dfbc67"
      },
      "outputs": [
        {
          "output_type": "stream",
          "name": "stdout",
          "text": [
            "[5, 7]\n"
          ]
        }
      ],
      "source": [
        "def grt_thn_three(y):\n",
        "    z = []\n",
        "    for j in y:\n",
        "        if j > 3:\n",
        "            z.append(j)\n",
        "    return z\n",
        "\n",
        "lst = [5,7,3,2]\n",
        "print(grt_thn_three(lst))"
      ]
    },
    {
      "cell_type": "code",
      "execution_count": 12,
      "id": "8137c7b7",
      "metadata": {
        "colab": {
          "base_uri": "https://localhost:8080/"
        },
        "id": "8137c7b7",
        "outputId": "1d0b8c07-a9e6-4460-d4b3-84ab507cb243"
      },
      "outputs": [
        {
          "output_type": "stream",
          "name": "stdout",
          "text": [
            "[5, 7]\n"
          ]
        }
      ],
      "source": [
        "lst = [5,7,3,2]\n",
        "print(list(filter(lambda j:j>3,lst)))"
      ]
    },
    {
      "cell_type": "code",
      "execution_count": 13,
      "id": "ca15ffbe",
      "metadata": {
        "colab": {
          "base_uri": "https://localhost:8080/"
        },
        "id": "ca15ffbe",
        "outputId": "9c6a2cdb-ee77-48c5-d37e-ec0e85f4f37a"
      },
      "outputs": [
        {
          "output_type": "stream",
          "name": "stdout",
          "text": [
            "[True, True, False, False]\n"
          ]
        }
      ],
      "source": [
        "lst = [5,7,3,2]\n",
        "print(list(map(lambda j:j>3,lst)))"
      ]
    },
    {
      "cell_type": "code",
      "execution_count": 14,
      "id": "0b5f1fef",
      "metadata": {
        "colab": {
          "base_uri": "https://localhost:8080/"
        },
        "id": "0b5f1fef",
        "outputId": "24540924-1bc9-4aee-eacb-ff74f9d677d4"
      },
      "outputs": [
        {
          "output_type": "stream",
          "name": "stdout",
          "text": [
            "210\n"
          ]
        }
      ],
      "source": [
        "def mult_terms(n):\n",
        "    prod = n[0]\n",
        "    for m in range(1,len(n)):\n",
        "        prod *= n[m]\n",
        "    return prod\n",
        "\n",
        "lst = [5,7,3,2]\n",
        "print(mult_terms(lst))"
      ]
    },
    {
      "cell_type": "code",
      "execution_count": 15,
      "id": "8036b172",
      "metadata": {
        "colab": {
          "base_uri": "https://localhost:8080/"
        },
        "id": "8036b172",
        "outputId": "fe72a6bb-7d86-4669-9ec8-303f720d52f1"
      },
      "outputs": [
        {
          "output_type": "stream",
          "name": "stdout",
          "text": [
            "210\n"
          ]
        }
      ],
      "source": [
        "from functools import reduce\n",
        "lst = [5,7,3,2]\n",
        "print(reduce(lambda u, v: u * v,lst))"
      ]
    }
  ],
  "metadata": {
    "kernelspec": {
      "display_name": "Python 3 (ipykernel)",
      "language": "python",
      "name": "python3"
    },
    "language_info": {
      "codemirror_mode": {
        "name": "ipython",
        "version": 3
      },
      "file_extension": ".py",
      "mimetype": "text/x-python",
      "name": "python",
      "nbconvert_exporter": "python",
      "pygments_lexer": "ipython3",
      "version": "3.10.0"
    },
    "colab": {
      "name": "Day_08_PT03-Anonymous-Functions.ipynb",
      "provenance": [],
      "collapsed_sections": [],
      "include_colab_link": true
    }
  },
  "nbformat": 4,
  "nbformat_minor": 5
}